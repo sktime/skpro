{
 "cells": [
  {
   "attachments": {},
   "cell_type": "markdown",
   "metadata": {},
   "source": [
    "## skpro introduction notebook"
   ]
  },
  {
   "cell_type": "markdown",
   "metadata": {},
   "source": [
    "**Set-up instructions:** On binder, this should run out-of-the-box.\n",
    "\n",
    "To run this notebook as intended, ensure that `skpro` with basic dependency requirements is installed in your python environment."
   ]
  },
  {
   "cell_type": "markdown",
   "metadata": {},
   "source": [
    "`skpro` provides `scikit-learn`-like, `scikit-base` compatible interfaces to:\n",
    "\n",
    "* tabular **supervised regressors with probabilistic prediction modes** - interval, quantile and distribution predictions\n",
    "* **performance metrics to evaluate probabilistic predictions**, e.g., pinball loss, empirical coverage, CRPS\n",
    "* **reductions** to turn non-probabilistic, `scikit-learn` regressors into probabilistic `skpro` regressors, such as bootstrap or conformal\n",
    "* tools for building **pipelines and composite machine learning models**, including tuning via probabilistic performance metrics\n",
    "* symbolic an lazy **probability distributions** with a value domain of `pandas.DataFrame`-s and a `pandas`-like interface\n",
    "\n",
    "**Section 1** provides an overview of common **probabilistic supervised regression workflows** supported by `skpro`.\n",
    "\n",
    "**Section 2** gives an more detailed introduction to **prediction modes, performance metrics, and benchmarking tools**.\n",
    "\n",
    "**Section 3** discusses **advanced composition patterns**, including various ways to add probabilistic capability to any `sklearn` regressor, pipeline building, tuning, ensembling.\n",
    "\n",
    "**Section 4** gives an introduction to how to write **custom estimators** compliant with the `skpro` interface."
   ]
  },
  {
   "cell_type": "code",
   "execution_count": 1,
   "metadata": {},
   "outputs": [],
   "source": [
    "# hide warnings\n",
    "import warnings\n",
    "\n",
    "warnings.filterwarnings(\"ignore\")"
   ]
  },
  {
   "attachments": {},
   "cell_type": "markdown",
   "metadata": {},
   "source": [
    "## 1. Basic probabilistic supervised regression workflows <a class=\"anchor\" id=\"chapter1\"></a>"
   ]
  },
  {
   "cell_type": "markdown",
   "metadata": {},
   "source": [
    "`skpro` revolves around supervised probabilistic regressors:\n",
    "\n",
    "* `fit(X, y)` with tabular features `X`, labels `y`, same rows, both `pd.DataFrame`\n",
    "* `predict_interval(X_test)` for interval predictions of labels\n",
    "* `predict_quantiles(X_test)` for quantile predictions of labels\n",
    "* `predict_var(X_test)` for variance predictions of labels\n",
    "* `predict(X_test)` for mean predictions\n",
    "* `predict_proba(X_test)` for distributional prediction"
   ]
  },
  {
   "attachments": {},
   "cell_type": "markdown",
   "metadata": {},
   "source": [
    "### 1.1 basic deployment workflow"
   ]
  },
  {
   "cell_type": "markdown",
   "metadata": {},
   "source": [
    "`skpro` regressors are used via `fit` then `predict_proba` etc.\n",
    "\n",
    "Same as `sklearn` regressors - `X` and `y` should be `pd.DataFrame` (`numpy` is also ok but not recommended)"
   ]
  },
  {
   "cell_type": "code",
   "execution_count": 2,
   "metadata": {},
   "outputs": [],
   "source": [
    "from sklearn.datasets import load_diabetes\n",
    "from sklearn.ensemble import RandomForestRegressor\n",
    "from sklearn.linear_model import LinearRegression\n",
    "from sklearn.model_selection import train_test_split\n",
    "\n",
    "from skpro.regression.residual import ResidualDouble\n",
    "\n",
    "# step 1: data specification\n",
    "X, y = load_diabetes(return_X_y=True, as_frame=True)\n",
    "X_train, X_new, y_train, _ = train_test_split(X, y)\n",
    "\n",
    "# step 2: specifying the regressor\n",
    "# example - random forest for mean prediction\n",
    "# linear regression for variance prediction\n",
    "reg_mean = RandomForestRegressor()\n",
    "reg_resid = LinearRegression()\n",
    "reg_proba = ResidualDouble(reg_mean, reg_resid)\n",
    "\n",
    "# step 3: fitting the model to training data\n",
    "reg_proba.fit(X_train, y_train)\n",
    "\n",
    "# step 4: predicting labels on new data\n",
    "\n",
    "# probabilistic prediction modes - pick any or multiple\n",
    "# we show the return types in detail below\n",
    "\n",
    "# full distribution prediction\n",
    "y_pred_proba = reg_proba.predict_proba(X_new)\n",
    "\n",
    "# interval prediction\n",
    "y_pred_interval = reg_proba.predict_interval(X_new, coverage=0.9)\n",
    "\n",
    "# quantile prediction\n",
    "y_pred_quantiles = reg_proba.predict_quantiles(X_new, alpha=[0.05, 0.5, 0.95])\n",
    "\n",
    "# variance prediction\n",
    "y_pred_var = reg_proba.predict_var(X_new)\n",
    "\n",
    "# mean prediction is same as \"classical\" sklearn predict, also available\n",
    "y_pred_mean = reg_proba.predict(X_new)"
   ]
  },
  {
   "cell_type": "markdown",
   "metadata": {},
   "source": [
    "### 1.1.1 distribution predictions"
   ]
  },
  {
   "cell_type": "markdown",
   "metadata": {},
   "source": [
    "`y_pred_proba` is an `skpro` distribution - it has index and columns like `pd.DataFrame`\n",
    "\n",
    "\"we predict that true labels are distributed according to `y_pred_proba`\"\n",
    "\n",
    "(here: distribution marginal by row/columns)"
   ]
  },
  {
   "cell_type": "code",
   "execution_count": 3,
   "metadata": {},
   "outputs": [
    {
     "data": {
      "text/html": [
       "<style>#sk-6eb7e7f0-2b77-48d9-bf45-7c365e7ab1b4 {color: black;background-color: white;}#sk-6eb7e7f0-2b77-48d9-bf45-7c365e7ab1b4 pre{padding: 0;}#sk-6eb7e7f0-2b77-48d9-bf45-7c365e7ab1b4 div.sk-toggleable {background-color: white;}#sk-6eb7e7f0-2b77-48d9-bf45-7c365e7ab1b4 label.sk-toggleable__label {cursor: pointer;display: block;width: 100%;margin-bottom: 0;padding: 0.3em;box-sizing: border-box;text-align: center;}#sk-6eb7e7f0-2b77-48d9-bf45-7c365e7ab1b4 label.sk-toggleable__label-arrow:before {content: \"▸\";float: left;margin-right: 0.25em;color: #696969;}#sk-6eb7e7f0-2b77-48d9-bf45-7c365e7ab1b4 label.sk-toggleable__label-arrow:hover:before {color: black;}#sk-6eb7e7f0-2b77-48d9-bf45-7c365e7ab1b4 div.sk-estimator:hover label.sk-toggleable__label-arrow:before {color: black;}#sk-6eb7e7f0-2b77-48d9-bf45-7c365e7ab1b4 div.sk-toggleable__content {max-height: 0;max-width: 0;overflow: hidden;text-align: left;background-color: #f0f8ff;}#sk-6eb7e7f0-2b77-48d9-bf45-7c365e7ab1b4 div.sk-toggleable__content pre {margin: 0.2em;color: black;border-radius: 0.25em;background-color: #f0f8ff;}#sk-6eb7e7f0-2b77-48d9-bf45-7c365e7ab1b4 input.sk-toggleable__control:checked~div.sk-toggleable__content {max-height: 200px;max-width: 100%;overflow: auto;}#sk-6eb7e7f0-2b77-48d9-bf45-7c365e7ab1b4 input.sk-toggleable__control:checked~label.sk-toggleable__label-arrow:before {content: \"▾\";}#sk-6eb7e7f0-2b77-48d9-bf45-7c365e7ab1b4 div.sk-estimator input.sk-toggleable__control:checked~label.sk-toggleable__label {background-color: #d4ebff;}#sk-6eb7e7f0-2b77-48d9-bf45-7c365e7ab1b4 div.sk-label input.sk-toggleable__control:checked~label.sk-toggleable__label {background-color: #d4ebff;}#sk-6eb7e7f0-2b77-48d9-bf45-7c365e7ab1b4 input.sk-hidden--visually {border: 0;clip: rect(1px 1px 1px 1px);clip: rect(1px, 1px, 1px, 1px);height: 1px;margin: -1px;overflow: hidden;padding: 0;position: absolute;width: 1px;}#sk-6eb7e7f0-2b77-48d9-bf45-7c365e7ab1b4 div.sk-estimator {font-family: monospace;background-color: #f0f8ff;border: 1px dotted black;border-radius: 0.25em;box-sizing: border-box;margin-bottom: 0.5em;}#sk-6eb7e7f0-2b77-48d9-bf45-7c365e7ab1b4 div.sk-estimator:hover {background-color: #d4ebff;}#sk-6eb7e7f0-2b77-48d9-bf45-7c365e7ab1b4 div.sk-parallel-item::after {content: \"\";width: 100%;border-bottom: 1px solid gray;flex-grow: 1;}#sk-6eb7e7f0-2b77-48d9-bf45-7c365e7ab1b4 div.sk-label:hover label.sk-toggleable__label {background-color: #d4ebff;}#sk-6eb7e7f0-2b77-48d9-bf45-7c365e7ab1b4 div.sk-serial::before {content: \"\";position: absolute;border-left: 1px solid gray;box-sizing: border-box;top: 2em;bottom: 0;left: 50%;}#sk-6eb7e7f0-2b77-48d9-bf45-7c365e7ab1b4 div.sk-serial {display: flex;flex-direction: column;align-items: center;background-color: white;padding-right: 0.2em;padding-left: 0.2em;}#sk-6eb7e7f0-2b77-48d9-bf45-7c365e7ab1b4 div.sk-item {z-index: 1;}#sk-6eb7e7f0-2b77-48d9-bf45-7c365e7ab1b4 div.sk-parallel {display: flex;align-items: stretch;justify-content: center;background-color: white;}#sk-6eb7e7f0-2b77-48d9-bf45-7c365e7ab1b4 div.sk-parallel::before {content: \"\";position: absolute;border-left: 1px solid gray;box-sizing: border-box;top: 2em;bottom: 0;left: 50%;}#sk-6eb7e7f0-2b77-48d9-bf45-7c365e7ab1b4 div.sk-parallel-item {display: flex;flex-direction: column;position: relative;background-color: white;}#sk-6eb7e7f0-2b77-48d9-bf45-7c365e7ab1b4 div.sk-parallel-item:first-child::after {align-self: flex-end;width: 50%;}#sk-6eb7e7f0-2b77-48d9-bf45-7c365e7ab1b4 div.sk-parallel-item:last-child::after {align-self: flex-start;width: 50%;}#sk-6eb7e7f0-2b77-48d9-bf45-7c365e7ab1b4 div.sk-parallel-item:only-child::after {width: 0;}#sk-6eb7e7f0-2b77-48d9-bf45-7c365e7ab1b4 div.sk-dashed-wrapped {border: 1px dashed gray;margin: 0 0.4em 0.5em 0.4em;box-sizing: border-box;padding-bottom: 0.4em;background-color: white;position: relative;}#sk-6eb7e7f0-2b77-48d9-bf45-7c365e7ab1b4 div.sk-label label {font-family: monospace;font-weight: bold;background-color: white;display: inline-block;line-height: 1.2em;}#sk-6eb7e7f0-2b77-48d9-bf45-7c365e7ab1b4 div.sk-label-container {position: relative;z-index: 2;text-align: center;}#sk-6eb7e7f0-2b77-48d9-bf45-7c365e7ab1b4 div.sk-container {/* jupyter's `normalize.less` sets `[hidden] { display: none; }` but bootstrap.min.css set `[hidden] { display: none !important; }` so we also need the `!important` here to be able to override the default hidden behavior on the sphinx rendered scikit-learn.org. See: https://github.com/scikit-learn/scikit-learn/issues/21755 */display: inline-block !important;position: relative;}#sk-6eb7e7f0-2b77-48d9-bf45-7c365e7ab1b4 div.sk-text-repr-fallback {display: none;}</style><div id='sk-6eb7e7f0-2b77-48d9-bf45-7c365e7ab1b4' class=\"sk-top-container\"><div class=\"sk-text-repr-fallback\"><pre>Normal(columns=Index([&#x27;target&#x27;], dtype=&#x27;object&#x27;),\n",
       "       index=Index([381, 139,  99, 272,  56, 349, 420, 337, 199,  72,\n",
       "       ...\n",
       "       300, 236, 160, 227, 241, 268, 388, 127, 412, 283],\n",
       "      dtype=&#x27;int64&#x27;, length=111),\n",
       "       mu=array([[118.85],\n",
       "       [228.85],\n",
       "       [145.66],\n",
       "       [125.88],\n",
       "       [205.65],\n",
       "       [107.12],\n",
       "       [130.02],\n",
       "       [164.81],\n",
       "       [185.76],\n",
       "       [149.34],\n",
       "       [217.09],\n",
       "       [ 96.99],\n",
       "       [104.97],\n",
       "       [196.28],\n",
       "       [208.39],\n",
       "       [158.98],\n",
       "       [145.25],\n",
       "       [248.86],\n",
       "       [ 89.01],\n",
       "       [24...\n",
       "       [16.29396088],\n",
       "       [16.32129065],\n",
       "       [15.3176468 ],\n",
       "       [12.535319  ],\n",
       "       [13.1500054 ],\n",
       "       [27.31178894],\n",
       "       [22.36422301],\n",
       "       [21.83370339],\n",
       "       [15.32004588],\n",
       "       [18.12178421],\n",
       "       [11.38451594],\n",
       "       [11.4564265 ],\n",
       "       [14.77505789],\n",
       "       [12.47202459],\n",
       "       [15.8887364 ],\n",
       "       [20.78791316],\n",
       "       [19.85426535],\n",
       "       [19.96654621],\n",
       "       [12.92540335],\n",
       "       [11.64591954],\n",
       "       [15.35777574],\n",
       "       [23.883902  ],\n",
       "       [14.26127797],\n",
       "       [ 8.10192324],\n",
       "       [24.10078003],\n",
       "       [15.11159749]]))</pre><b>Please rerun this cell to show the HTML repr or trust the notebook.</b></div><div class=\"sk-container\" hidden><div class='sk-item'><div class=\"sk-estimator sk-toggleable\"><input class=\"sk-toggleable__control sk-hidden--visually\" id=UUID('21073d08-a64d-4402-a3d4-2915d0152d17') type=\"checkbox\" checked><label for=UUID('21073d08-a64d-4402-a3d4-2915d0152d17') class='sk-toggleable__label sk-toggleable__label-arrow'>Normal</label><div class=\"sk-toggleable__content\"><pre>Normal(columns=Index([&#x27;target&#x27;], dtype=&#x27;object&#x27;),\n",
       "       index=Index([381, 139,  99, 272,  56, 349, 420, 337, 199,  72,\n",
       "       ...\n",
       "       300, 236, 160, 227, 241, 268, 388, 127, 412, 283],\n",
       "      dtype=&#x27;int64&#x27;, length=111),\n",
       "       mu=array([[118.85],\n",
       "       [228.85],\n",
       "       [145.66],\n",
       "       [125.88],\n",
       "       [205.65],\n",
       "       [107.12],\n",
       "       [130.02],\n",
       "       [164.81],\n",
       "       [185.76],\n",
       "       [149.34],\n",
       "       [217.09],\n",
       "       [ 96.99],\n",
       "       [104.97],\n",
       "       [196.28],\n",
       "       [208.39],\n",
       "       [158.98],\n",
       "       [145.25],\n",
       "       [248.86],\n",
       "       [ 89.01],\n",
       "       [24...\n",
       "       [16.29396088],\n",
       "       [16.32129065],\n",
       "       [15.3176468 ],\n",
       "       [12.535319  ],\n",
       "       [13.1500054 ],\n",
       "       [27.31178894],\n",
       "       [22.36422301],\n",
       "       [21.83370339],\n",
       "       [15.32004588],\n",
       "       [18.12178421],\n",
       "       [11.38451594],\n",
       "       [11.4564265 ],\n",
       "       [14.77505789],\n",
       "       [12.47202459],\n",
       "       [15.8887364 ],\n",
       "       [20.78791316],\n",
       "       [19.85426535],\n",
       "       [19.96654621],\n",
       "       [12.92540335],\n",
       "       [11.64591954],\n",
       "       [15.35777574],\n",
       "       [23.883902  ],\n",
       "       [14.26127797],\n",
       "       [ 8.10192324],\n",
       "       [24.10078003],\n",
       "       [15.11159749]]))</pre></div></div></div></div></div>"
      ],
      "text/plain": [
       "Normal(columns=Index(['target'], dtype='object'),\n",
       "       index=Index([381, 139,  99, 272,  56, 349, 420, 337, 199,  72,\n",
       "       ...\n",
       "       300, 236, 160, 227, 241, 268, 388, 127, 412, 283],\n",
       "      dtype='int64', length=111),\n",
       "       mu=array([[118.85],\n",
       "       [228.85],\n",
       "       [145.66],\n",
       "       [125.88],\n",
       "       [205.65],\n",
       "       [107.12],\n",
       "       [130.02],\n",
       "       [164.81],\n",
       "       [185.76],\n",
       "       [149.34],\n",
       "       [217.09],\n",
       "       [ 96.99],\n",
       "       [104.97],\n",
       "       [196.28],\n",
       "       [208.39],\n",
       "       [158.98],\n",
       "       [145.25],\n",
       "       [248.86],\n",
       "       [ 89.01],\n",
       "       [24...\n",
       "       [16.29396088],\n",
       "       [16.32129065],\n",
       "       [15.3176468 ],\n",
       "       [12.535319  ],\n",
       "       [13.1500054 ],\n",
       "       [27.31178894],\n",
       "       [22.36422301],\n",
       "       [21.83370339],\n",
       "       [15.32004588],\n",
       "       [18.12178421],\n",
       "       [11.38451594],\n",
       "       [11.4564265 ],\n",
       "       [14.77505789],\n",
       "       [12.47202459],\n",
       "       [15.8887364 ],\n",
       "       [20.78791316],\n",
       "       [19.85426535],\n",
       "       [19.96654621],\n",
       "       [12.92540335],\n",
       "       [11.64591954],\n",
       "       [15.35777574],\n",
       "       [23.883902  ],\n",
       "       [14.26127797],\n",
       "       [ 8.10192324],\n",
       "       [24.10078003],\n",
       "       [15.11159749]]))"
      ]
     },
     "execution_count": 3,
     "metadata": {},
     "output_type": "execute_result"
    }
   ],
   "source": [
    "y_pred_proba = reg_proba.predict_proba(X_new)\n",
    "y_pred_proba"
   ]
  },
  {
   "cell_type": "markdown",
   "metadata": {},
   "source": [
    "`skpro` distribution objects are pandas-like"
   ]
  },
  {
   "cell_type": "code",
   "execution_count": 4,
   "metadata": {},
   "outputs": [
    {
     "data": {
      "text/plain": [
       "(111, 1)"
      ]
     },
     "execution_count": 4,
     "metadata": {},
     "output_type": "execute_result"
    }
   ],
   "source": [
    "y_pred_proba.shape"
   ]
  },
  {
   "cell_type": "code",
   "execution_count": 5,
   "metadata": {},
   "outputs": [
    {
     "data": {
      "text/plain": [
       "Index([381, 139,  99, 272,  56, 349, 420, 337, 199,  72,\n",
       "       ...\n",
       "       300, 236, 160, 227, 241, 268, 388, 127, 412, 283],\n",
       "      dtype='int64', length=111)"
      ]
     },
     "execution_count": 5,
     "metadata": {},
     "output_type": "execute_result"
    }
   ],
   "source": [
    "y_pred_proba.index  # same index as X_new"
   ]
  },
  {
   "cell_type": "code",
   "execution_count": 6,
   "metadata": {},
   "outputs": [
    {
     "data": {
      "text/plain": [
       "Index(['target'], dtype='object')"
      ]
     },
     "execution_count": 6,
     "metadata": {},
     "output_type": "execute_result"
    }
   ],
   "source": [
    "y_pred_proba.columns  # same columns as X_new"
   ]
  },
  {
   "cell_type": "markdown",
   "metadata": {},
   "source": [
    "distribution objects have `sample` and methods such as `mean`, `var`:"
   ]
  },
  {
   "cell_type": "code",
   "execution_count": 7,
   "metadata": {},
   "outputs": [
    {
     "data": {
      "text/html": [
       "<div>\n",
       "<style scoped>\n",
       "    .dataframe tbody tr th:only-of-type {\n",
       "        vertical-align: middle;\n",
       "    }\n",
       "\n",
       "    .dataframe tbody tr th {\n",
       "        vertical-align: top;\n",
       "    }\n",
       "\n",
       "    .dataframe thead th {\n",
       "        text-align: right;\n",
       "    }\n",
       "</style>\n",
       "<table border=\"1\" class=\"dataframe\">\n",
       "  <thead>\n",
       "    <tr style=\"text-align: right;\">\n",
       "      <th></th>\n",
       "      <th>target</th>\n",
       "    </tr>\n",
       "  </thead>\n",
       "  <tbody>\n",
       "    <tr>\n",
       "      <th>381</th>\n",
       "      <td>101.431079</td>\n",
       "    </tr>\n",
       "    <tr>\n",
       "      <th>139</th>\n",
       "      <td>209.907161</td>\n",
       "    </tr>\n",
       "    <tr>\n",
       "      <th>99</th>\n",
       "      <td>148.807803</td>\n",
       "    </tr>\n",
       "    <tr>\n",
       "      <th>272</th>\n",
       "      <td>151.779165</td>\n",
       "    </tr>\n",
       "    <tr>\n",
       "      <th>56</th>\n",
       "      <td>222.904201</td>\n",
       "    </tr>\n",
       "  </tbody>\n",
       "</table>\n",
       "</div>"
      ],
      "text/plain": [
       "         target\n",
       "381  101.431079\n",
       "139  209.907161\n",
       "99   148.807803\n",
       "272  151.779165\n",
       "56   222.904201"
      ]
     },
     "execution_count": 7,
     "metadata": {},
     "output_type": "execute_result"
    }
   ],
   "source": [
    "y_pred_proba.sample().head()"
   ]
  },
  {
   "cell_type": "code",
   "execution_count": 8,
   "metadata": {},
   "outputs": [
    {
     "data": {
      "text/html": [
       "<div>\n",
       "<style scoped>\n",
       "    .dataframe tbody tr th:only-of-type {\n",
       "        vertical-align: middle;\n",
       "    }\n",
       "\n",
       "    .dataframe tbody tr th {\n",
       "        vertical-align: top;\n",
       "    }\n",
       "\n",
       "    .dataframe thead th {\n",
       "        text-align: right;\n",
       "    }\n",
       "</style>\n",
       "<table border=\"1\" class=\"dataframe\">\n",
       "  <thead>\n",
       "    <tr style=\"text-align: right;\">\n",
       "      <th></th>\n",
       "      <th>target</th>\n",
       "    </tr>\n",
       "  </thead>\n",
       "  <tbody>\n",
       "    <tr>\n",
       "      <th>381</th>\n",
       "      <td>118.85</td>\n",
       "    </tr>\n",
       "    <tr>\n",
       "      <th>139</th>\n",
       "      <td>228.85</td>\n",
       "    </tr>\n",
       "    <tr>\n",
       "      <th>99</th>\n",
       "      <td>145.66</td>\n",
       "    </tr>\n",
       "    <tr>\n",
       "      <th>272</th>\n",
       "      <td>125.88</td>\n",
       "    </tr>\n",
       "    <tr>\n",
       "      <th>56</th>\n",
       "      <td>205.65</td>\n",
       "    </tr>\n",
       "  </tbody>\n",
       "</table>\n",
       "</div>"
      ],
      "text/plain": [
       "     target\n",
       "381  118.85\n",
       "139  228.85\n",
       "99   145.66\n",
       "272  125.88\n",
       "56   205.65"
      ]
     },
     "execution_count": 8,
     "metadata": {},
     "output_type": "execute_result"
    }
   ],
   "source": [
    "y_pred_proba.mean().head()"
   ]
  },
  {
   "cell_type": "code",
   "execution_count": 9,
   "metadata": {},
   "outputs": [
    {
     "data": {
      "text/html": [
       "<div>\n",
       "<style scoped>\n",
       "    .dataframe tbody tr th:only-of-type {\n",
       "        vertical-align: middle;\n",
       "    }\n",
       "\n",
       "    .dataframe tbody tr th {\n",
       "        vertical-align: top;\n",
       "    }\n",
       "\n",
       "    .dataframe thead th {\n",
       "        text-align: right;\n",
       "    }\n",
       "</style>\n",
       "<table border=\"1\" class=\"dataframe\">\n",
       "  <thead>\n",
       "    <tr style=\"text-align: right;\">\n",
       "      <th></th>\n",
       "      <th>target</th>\n",
       "    </tr>\n",
       "  </thead>\n",
       "  <tbody>\n",
       "    <tr>\n",
       "      <th>381</th>\n",
       "      <td>127.633421</td>\n",
       "    </tr>\n",
       "    <tr>\n",
       "      <th>139</th>\n",
       "      <td>472.467320</td>\n",
       "    </tr>\n",
       "    <tr>\n",
       "      <th>99</th>\n",
       "      <td>331.036284</td>\n",
       "    </tr>\n",
       "    <tr>\n",
       "      <th>272</th>\n",
       "      <td>233.990518</td>\n",
       "    </tr>\n",
       "    <tr>\n",
       "      <th>56</th>\n",
       "      <td>433.604575</td>\n",
       "    </tr>\n",
       "  </tbody>\n",
       "</table>\n",
       "</div>"
      ],
      "text/plain": [
       "         target\n",
       "381  127.633421\n",
       "139  472.467320\n",
       "99   331.036284\n",
       "272  233.990518\n",
       "56   433.604575"
      ]
     },
     "execution_count": 9,
     "metadata": {},
     "output_type": "execute_result"
    }
   ],
   "source": [
    "y_pred_proba.var().head()"
   ]
  },
  {
   "cell_type": "markdown",
   "metadata": {},
   "source": [
    "### 1.1.2 interval predictions"
   ]
  },
  {
   "cell_type": "markdown",
   "metadata": {},
   "source": [
    "interval prediction `y_pred_interval` is a `pd.DataFrame`:\n",
    "\n",
    "* rows are the same as `X_new`\n",
    "* columns indicate variables, nominal coverage, and bottom/upper bound\n",
    "\n",
    "\"we predict that value in row falls between bottom/upper with 90% chance\""
   ]
  },
  {
   "cell_type": "code",
   "execution_count": 10,
   "metadata": {},
   "outputs": [
    {
     "data": {
      "text/html": [
       "<div>\n",
       "<style scoped>\n",
       "    .dataframe tbody tr th:only-of-type {\n",
       "        vertical-align: middle;\n",
       "    }\n",
       "\n",
       "    .dataframe tbody tr th {\n",
       "        vertical-align: top;\n",
       "    }\n",
       "\n",
       "    .dataframe thead tr th {\n",
       "        text-align: left;\n",
       "    }\n",
       "</style>\n",
       "<table border=\"1\" class=\"dataframe\">\n",
       "  <thead>\n",
       "    <tr>\n",
       "      <th></th>\n",
       "      <th colspan=\"2\" halign=\"left\">target</th>\n",
       "    </tr>\n",
       "    <tr>\n",
       "      <th></th>\n",
       "      <th colspan=\"2\" halign=\"left\">0.9</th>\n",
       "    </tr>\n",
       "    <tr>\n",
       "      <th></th>\n",
       "      <th>lower</th>\n",
       "      <th>upper</th>\n",
       "    </tr>\n",
       "  </thead>\n",
       "  <tbody>\n",
       "    <tr>\n",
       "      <th>381</th>\n",
       "      <td>100.267272</td>\n",
       "      <td>137.432728</td>\n",
       "    </tr>\n",
       "    <tr>\n",
       "      <th>139</th>\n",
       "      <td>193.096946</td>\n",
       "      <td>264.603054</td>\n",
       "    </tr>\n",
       "    <tr>\n",
       "      <th>99</th>\n",
       "      <td>115.732871</td>\n",
       "      <td>175.587129</td>\n",
       "    </tr>\n",
       "    <tr>\n",
       "      <th>272</th>\n",
       "      <td>100.719088</td>\n",
       "      <td>151.040912</td>\n",
       "    </tr>\n",
       "    <tr>\n",
       "      <th>56</th>\n",
       "      <td>171.398927</td>\n",
       "      <td>239.901073</td>\n",
       "    </tr>\n",
       "  </tbody>\n",
       "</table>\n",
       "</div>"
      ],
      "text/plain": [
       "         target            \n",
       "            0.9            \n",
       "          lower       upper\n",
       "381  100.267272  137.432728\n",
       "139  193.096946  264.603054\n",
       "99   115.732871  175.587129\n",
       "272  100.719088  151.040912\n",
       "56   171.398927  239.901073"
      ]
     },
     "execution_count": 10,
     "metadata": {},
     "output_type": "execute_result"
    }
   ],
   "source": [
    "y_pred_interval = reg_proba.predict_interval(X_new, coverage=0.9)\n",
    "y_pred_interval.head()"
   ]
  },
  {
   "cell_type": "markdown",
   "metadata": {},
   "source": [
    "### 1.1.3 quantile predictions"
   ]
  },
  {
   "cell_type": "markdown",
   "metadata": {},
   "source": [
    "quantile prediction `y_pred_quantiles` is a `pd.DataFrame`:\n",
    "\n",
    "* rows are the same as `X_new`\n",
    "* columns indicate variables, quantile points\n",
    "\n",
    "\"we predict the 5%, 50%, 95% quantile points for the row to be here\""
   ]
  },
  {
   "cell_type": "code",
   "execution_count": 11,
   "metadata": {},
   "outputs": [
    {
     "data": {
      "text/html": [
       "<div>\n",
       "<style scoped>\n",
       "    .dataframe tbody tr th:only-of-type {\n",
       "        vertical-align: middle;\n",
       "    }\n",
       "\n",
       "    .dataframe tbody tr th {\n",
       "        vertical-align: top;\n",
       "    }\n",
       "\n",
       "    .dataframe thead tr th {\n",
       "        text-align: left;\n",
       "    }\n",
       "</style>\n",
       "<table border=\"1\" class=\"dataframe\">\n",
       "  <thead>\n",
       "    <tr>\n",
       "      <th></th>\n",
       "      <th colspan=\"3\" halign=\"left\">target</th>\n",
       "    </tr>\n",
       "    <tr>\n",
       "      <th></th>\n",
       "      <th>0.05</th>\n",
       "      <th>0.50</th>\n",
       "      <th>0.95</th>\n",
       "    </tr>\n",
       "  </thead>\n",
       "  <tbody>\n",
       "    <tr>\n",
       "      <th>381</th>\n",
       "      <td>100.267272</td>\n",
       "      <td>118.85</td>\n",
       "      <td>137.432728</td>\n",
       "    </tr>\n",
       "    <tr>\n",
       "      <th>139</th>\n",
       "      <td>193.096946</td>\n",
       "      <td>228.85</td>\n",
       "      <td>264.603054</td>\n",
       "    </tr>\n",
       "    <tr>\n",
       "      <th>99</th>\n",
       "      <td>115.732871</td>\n",
       "      <td>145.66</td>\n",
       "      <td>175.587129</td>\n",
       "    </tr>\n",
       "    <tr>\n",
       "      <th>272</th>\n",
       "      <td>100.719088</td>\n",
       "      <td>125.88</td>\n",
       "      <td>151.040912</td>\n",
       "    </tr>\n",
       "    <tr>\n",
       "      <th>56</th>\n",
       "      <td>171.398927</td>\n",
       "      <td>205.65</td>\n",
       "      <td>239.901073</td>\n",
       "    </tr>\n",
       "  </tbody>\n",
       "</table>\n",
       "</div>"
      ],
      "text/plain": [
       "         target                    \n",
       "           0.05    0.50        0.95\n",
       "381  100.267272  118.85  137.432728\n",
       "139  193.096946  228.85  264.603054\n",
       "99   115.732871  145.66  175.587129\n",
       "272  100.719088  125.88  151.040912\n",
       "56   171.398927  205.65  239.901073"
      ]
     },
     "execution_count": 11,
     "metadata": {},
     "output_type": "execute_result"
    }
   ],
   "source": [
    "y_pred_quantiles = reg_proba.predict_quantiles(X_new, alpha=[0.05, 0.5, 0.95])\n",
    "y_pred_quantiles.head()"
   ]
  },
  {
   "cell_type": "markdown",
   "metadata": {},
   "source": [
    "### 1.1.4 mean and variance predictions"
   ]
  },
  {
   "cell_type": "markdown",
   "metadata": {},
   "source": [
    "mean and variance predictions `y_pred_mean`, `y_pred_var` are `pd.DataFrame`-s:\n",
    "\n",
    "* rows are the same as `X_new`\n",
    "* columns are the same as `X_new`\n",
    "\n",
    "entries are predictive mean and variance in row/column"
   ]
  },
  {
   "cell_type": "code",
   "execution_count": 12,
   "metadata": {},
   "outputs": [],
   "source": [
    "y_pred_mean = reg_proba.predict(X_new)\n",
    "y_pred_var = reg_proba.predict_var(X_new)"
   ]
  },
  {
   "cell_type": "code",
   "execution_count": 13,
   "metadata": {},
   "outputs": [
    {
     "data": {
      "text/html": [
       "<div>\n",
       "<style scoped>\n",
       "    .dataframe tbody tr th:only-of-type {\n",
       "        vertical-align: middle;\n",
       "    }\n",
       "\n",
       "    .dataframe tbody tr th {\n",
       "        vertical-align: top;\n",
       "    }\n",
       "\n",
       "    .dataframe thead th {\n",
       "        text-align: right;\n",
       "    }\n",
       "</style>\n",
       "<table border=\"1\" class=\"dataframe\">\n",
       "  <thead>\n",
       "    <tr style=\"text-align: right;\">\n",
       "      <th></th>\n",
       "      <th>target</th>\n",
       "    </tr>\n",
       "  </thead>\n",
       "  <tbody>\n",
       "    <tr>\n",
       "      <th>381</th>\n",
       "      <td>118.85</td>\n",
       "    </tr>\n",
       "    <tr>\n",
       "      <th>139</th>\n",
       "      <td>228.85</td>\n",
       "    </tr>\n",
       "    <tr>\n",
       "      <th>99</th>\n",
       "      <td>145.66</td>\n",
       "    </tr>\n",
       "    <tr>\n",
       "      <th>272</th>\n",
       "      <td>125.88</td>\n",
       "    </tr>\n",
       "    <tr>\n",
       "      <th>56</th>\n",
       "      <td>205.65</td>\n",
       "    </tr>\n",
       "  </tbody>\n",
       "</table>\n",
       "</div>"
      ],
      "text/plain": [
       "     target\n",
       "381  118.85\n",
       "139  228.85\n",
       "99   145.66\n",
       "272  125.88\n",
       "56   205.65"
      ]
     },
     "execution_count": 13,
     "metadata": {},
     "output_type": "execute_result"
    }
   ],
   "source": [
    "y_pred_mean.head()"
   ]
  },
  {
   "cell_type": "code",
   "execution_count": 14,
   "metadata": {},
   "outputs": [
    {
     "data": {
      "text/html": [
       "<div>\n",
       "<style scoped>\n",
       "    .dataframe tbody tr th:only-of-type {\n",
       "        vertical-align: middle;\n",
       "    }\n",
       "\n",
       "    .dataframe tbody tr th {\n",
       "        vertical-align: top;\n",
       "    }\n",
       "\n",
       "    .dataframe thead th {\n",
       "        text-align: right;\n",
       "    }\n",
       "</style>\n",
       "<table border=\"1\" class=\"dataframe\">\n",
       "  <thead>\n",
       "    <tr style=\"text-align: right;\">\n",
       "      <th></th>\n",
       "      <th>target</th>\n",
       "    </tr>\n",
       "  </thead>\n",
       "  <tbody>\n",
       "    <tr>\n",
       "      <th>381</th>\n",
       "      <td>127.633421</td>\n",
       "    </tr>\n",
       "    <tr>\n",
       "      <th>139</th>\n",
       "      <td>472.467320</td>\n",
       "    </tr>\n",
       "    <tr>\n",
       "      <th>99</th>\n",
       "      <td>331.036284</td>\n",
       "    </tr>\n",
       "    <tr>\n",
       "      <th>272</th>\n",
       "      <td>233.990518</td>\n",
       "    </tr>\n",
       "    <tr>\n",
       "      <th>56</th>\n",
       "      <td>433.604575</td>\n",
       "    </tr>\n",
       "  </tbody>\n",
       "</table>\n",
       "</div>"
      ],
      "text/plain": [
       "         target\n",
       "381  127.633421\n",
       "139  472.467320\n",
       "99   331.036284\n",
       "272  233.990518\n",
       "56   433.604575"
      ]
     },
     "execution_count": 14,
     "metadata": {},
     "output_type": "execute_result"
    }
   ],
   "source": [
    "y_pred_var.head()"
   ]
  },
  {
   "cell_type": "markdown",
   "metadata": {},
   "source": [
    "this is the same as taking the distribution prediction and taking mean/variance\n",
    "\n",
    "(for distribution objects that estimate these precisely)"
   ]
  },
  {
   "cell_type": "code",
   "execution_count": 15,
   "metadata": {},
   "outputs": [
    {
     "data": {
      "text/html": [
       "<div>\n",
       "<style scoped>\n",
       "    .dataframe tbody tr th:only-of-type {\n",
       "        vertical-align: middle;\n",
       "    }\n",
       "\n",
       "    .dataframe tbody tr th {\n",
       "        vertical-align: top;\n",
       "    }\n",
       "\n",
       "    .dataframe thead th {\n",
       "        text-align: right;\n",
       "    }\n",
       "</style>\n",
       "<table border=\"1\" class=\"dataframe\">\n",
       "  <thead>\n",
       "    <tr style=\"text-align: right;\">\n",
       "      <th></th>\n",
       "      <th>target</th>\n",
       "    </tr>\n",
       "  </thead>\n",
       "  <tbody>\n",
       "    <tr>\n",
       "      <th>381</th>\n",
       "      <td>118.85</td>\n",
       "    </tr>\n",
       "    <tr>\n",
       "      <th>139</th>\n",
       "      <td>228.85</td>\n",
       "    </tr>\n",
       "    <tr>\n",
       "      <th>99</th>\n",
       "      <td>145.66</td>\n",
       "    </tr>\n",
       "    <tr>\n",
       "      <th>272</th>\n",
       "      <td>125.88</td>\n",
       "    </tr>\n",
       "    <tr>\n",
       "      <th>56</th>\n",
       "      <td>205.65</td>\n",
       "    </tr>\n",
       "  </tbody>\n",
       "</table>\n",
       "</div>"
      ],
      "text/plain": [
       "     target\n",
       "381  118.85\n",
       "139  228.85\n",
       "99   145.66\n",
       "272  125.88\n",
       "56   205.65"
      ]
     },
     "execution_count": 15,
     "metadata": {},
     "output_type": "execute_result"
    }
   ],
   "source": [
    "y_pred_proba.mean().head()"
   ]
  },
  {
   "cell_type": "code",
   "execution_count": 16,
   "metadata": {},
   "outputs": [
    {
     "data": {
      "text/html": [
       "<div>\n",
       "<style scoped>\n",
       "    .dataframe tbody tr th:only-of-type {\n",
       "        vertical-align: middle;\n",
       "    }\n",
       "\n",
       "    .dataframe tbody tr th {\n",
       "        vertical-align: top;\n",
       "    }\n",
       "\n",
       "    .dataframe thead th {\n",
       "        text-align: right;\n",
       "    }\n",
       "</style>\n",
       "<table border=\"1\" class=\"dataframe\">\n",
       "  <thead>\n",
       "    <tr style=\"text-align: right;\">\n",
       "      <th></th>\n",
       "      <th>target</th>\n",
       "    </tr>\n",
       "  </thead>\n",
       "  <tbody>\n",
       "    <tr>\n",
       "      <th>381</th>\n",
       "      <td>127.633421</td>\n",
       "    </tr>\n",
       "    <tr>\n",
       "      <th>139</th>\n",
       "      <td>472.467320</td>\n",
       "    </tr>\n",
       "    <tr>\n",
       "      <th>99</th>\n",
       "      <td>331.036284</td>\n",
       "    </tr>\n",
       "    <tr>\n",
       "      <th>272</th>\n",
       "      <td>233.990518</td>\n",
       "    </tr>\n",
       "    <tr>\n",
       "      <th>56</th>\n",
       "      <td>433.604575</td>\n",
       "    </tr>\n",
       "  </tbody>\n",
       "</table>\n",
       "</div>"
      ],
      "text/plain": [
       "         target\n",
       "381  127.633421\n",
       "139  472.467320\n",
       "99   331.036284\n",
       "272  233.990518\n",
       "56   433.604575"
      ]
     },
     "execution_count": 16,
     "metadata": {},
     "output_type": "execute_result"
    }
   ],
   "source": [
    "y_pred_proba.var().head()"
   ]
  },
  {
   "attachments": {},
   "cell_type": "markdown",
   "metadata": {},
   "source": [
    "## 1.2 simple evaluation workflow for probabilistic predictions"
   ]
  },
  {
   "cell_type": "markdown",
   "metadata": {},
   "source": [
    "for simple evaluation:\n",
    "\n",
    "1. split the data into train/test set\n",
    "2. make predictions of either type for test features\n",
    "3. compute metric on test set, comparing test predictions to hend out test labels\n",
    "\n",
    "Note:\n",
    "\n",
    "* metrics will compare tabular ground truth to probabilistic prediction\n",
    "* the metric will needs to be of a compatible type, e.g., for proba predictions"
   ]
  },
  {
   "cell_type": "code",
   "execution_count": 17,
   "metadata": {},
   "outputs": [
    {
     "data": {
      "text/plain": [
       "30.429848226043294"
      ]
     },
     "execution_count": 17,
     "metadata": {},
     "output_type": "execute_result"
    }
   ],
   "source": [
    "from sklearn.datasets import load_diabetes\n",
    "from sklearn.ensemble import RandomForestRegressor\n",
    "from sklearn.linear_model import LinearRegression\n",
    "from sklearn.model_selection import train_test_split\n",
    "\n",
    "from skpro.metrics import CRPS\n",
    "from skpro.regression.residual import ResidualDouble\n",
    "\n",
    "# step 1: data specification\n",
    "X, y = load_diabetes(return_X_y=True, as_frame=True)\n",
    "X_train, X_test, y_train, y_test = train_test_split(X, y)\n",
    "\n",
    "# step 2: specifying the regressor\n",
    "# example - linear regression for mean prediction\n",
    "# random forest for variance prediction\n",
    "reg_mean = LinearRegression()\n",
    "reg_resid = RandomForestRegressor()\n",
    "reg_proba = ResidualDouble(reg_mean, reg_resid)\n",
    "\n",
    "# step 3: fitting the model to training data\n",
    "reg_proba.fit(X_train, y_train)\n",
    "\n",
    "# step 4: predicting labels on new data\n",
    "y_pred_proba = reg_proba.predict_proba(X_test)\n",
    "\n",
    "# step 5: specifying evaluation metric\n",
    "metric = CRPS()\n",
    "\n",
    "# step 6: evaluat metric, compare predictions to actuals\n",
    "metric(y_test, y_pred_proba)"
   ]
  },
  {
   "cell_type": "markdown",
   "metadata": {},
   "source": [
    "how do we know that metric is of right type? Via `scitype:y_pred` tag"
   ]
  },
  {
   "cell_type": "code",
   "execution_count": 18,
   "metadata": {},
   "outputs": [
    {
     "data": {
      "text/plain": [
       "{'estimator_type': 'estimator',\n",
       " 'object_type': 'metric',\n",
       " 'reserved_params': ['multioutput', 'score_average'],\n",
       " 'scitype:y_pred': 'pred_proba',\n",
       " 'lower_is_better': True}"
      ]
     },
     "execution_count": 18,
     "metadata": {},
     "output_type": "execute_result"
    }
   ],
   "source": [
    "metric.get_tags()\n",
    "# scitype:y_pred is pred_proba - for proba predictions"
   ]
  },
  {
   "cell_type": "markdown",
   "metadata": {},
   "source": [
    "how do we find metrics for a prediction type?"
   ]
  },
  {
   "cell_type": "code",
   "execution_count": 19,
   "metadata": {},
   "outputs": [
    {
     "data": {
      "text/html": [
       "<div>\n",
       "<style scoped>\n",
       "    .dataframe tbody tr th:only-of-type {\n",
       "        vertical-align: middle;\n",
       "    }\n",
       "\n",
       "    .dataframe tbody tr th {\n",
       "        vertical-align: top;\n",
       "    }\n",
       "\n",
       "    .dataframe thead th {\n",
       "        text-align: right;\n",
       "    }\n",
       "</style>\n",
       "<table border=\"1\" class=\"dataframe\">\n",
       "  <thead>\n",
       "    <tr style=\"text-align: right;\">\n",
       "      <th></th>\n",
       "      <th>name</th>\n",
       "      <th>object</th>\n",
       "      <th>scitype:y_pred</th>\n",
       "    </tr>\n",
       "  </thead>\n",
       "  <tbody>\n",
       "    <tr>\n",
       "      <th>0</th>\n",
       "      <td>CRPS</td>\n",
       "      <td>&lt;class 'skpro.metrics._classes.CRPS'&gt;</td>\n",
       "      <td>pred_proba</td>\n",
       "    </tr>\n",
       "    <tr>\n",
       "      <th>1</th>\n",
       "      <td>ConstraintViolation</td>\n",
       "      <td>&lt;class 'skpro.metrics._classes.ConstraintViola...</td>\n",
       "      <td>pred_interval</td>\n",
       "    </tr>\n",
       "    <tr>\n",
       "      <th>2</th>\n",
       "      <td>EmpiricalCoverage</td>\n",
       "      <td>&lt;class 'skpro.metrics._classes.EmpiricalCovera...</td>\n",
       "      <td>pred_interval</td>\n",
       "    </tr>\n",
       "    <tr>\n",
       "      <th>3</th>\n",
       "      <td>LinearizedLogLoss</td>\n",
       "      <td>&lt;class 'skpro.metrics._classes.LinearizedLogLo...</td>\n",
       "      <td>pred_proba</td>\n",
       "    </tr>\n",
       "    <tr>\n",
       "      <th>4</th>\n",
       "      <td>LogLoss</td>\n",
       "      <td>&lt;class 'skpro.metrics._classes.LogLoss'&gt;</td>\n",
       "      <td>pred_proba</td>\n",
       "    </tr>\n",
       "    <tr>\n",
       "      <th>5</th>\n",
       "      <td>PinballLoss</td>\n",
       "      <td>&lt;class 'skpro.metrics._classes.PinballLoss'&gt;</td>\n",
       "      <td>pred_quantiles</td>\n",
       "    </tr>\n",
       "    <tr>\n",
       "      <th>6</th>\n",
       "      <td>SquaredDistrLoss</td>\n",
       "      <td>&lt;class 'skpro.metrics._classes.SquaredDistrLoss'&gt;</td>\n",
       "      <td>pred_proba</td>\n",
       "    </tr>\n",
       "  </tbody>\n",
       "</table>\n",
       "</div>"
      ],
      "text/plain": [
       "                  name                                             object  \\\n",
       "0                 CRPS              <class 'skpro.metrics._classes.CRPS'>   \n",
       "1  ConstraintViolation  <class 'skpro.metrics._classes.ConstraintViola...   \n",
       "2    EmpiricalCoverage  <class 'skpro.metrics._classes.EmpiricalCovera...   \n",
       "3    LinearizedLogLoss  <class 'skpro.metrics._classes.LinearizedLogLo...   \n",
       "4              LogLoss           <class 'skpro.metrics._classes.LogLoss'>   \n",
       "5          PinballLoss       <class 'skpro.metrics._classes.PinballLoss'>   \n",
       "6     SquaredDistrLoss  <class 'skpro.metrics._classes.SquaredDistrLoss'>   \n",
       "\n",
       "   scitype:y_pred  \n",
       "0      pred_proba  \n",
       "1   pred_interval  \n",
       "2   pred_interval  \n",
       "3      pred_proba  \n",
       "4      pred_proba  \n",
       "5  pred_quantiles  \n",
       "6      pred_proba  "
      ]
     },
     "execution_count": 19,
     "metadata": {},
     "output_type": "execute_result"
    }
   ],
   "source": [
    "from skpro.registry import all_objects\n",
    "\n",
    "all_objects(\"metric\", as_dataframe=True, return_tags=\"scitype:y_pred\")"
   ]
  },
  {
   "cell_type": "markdown",
   "metadata": {},
   "source": [
    "extra note: quantile metrics can be applied to interval predictions as well\n",
    "\n",
    "more details on metrics below"
   ]
  },
  {
   "cell_type": "markdown",
   "metadata": {},
   "source": [
    "## 1.3 diagnostic visualisations"
   ]
  },
  {
   "cell_type": "markdown",
   "metadata": {},
   "source": [
    "some useful diagnostic visualisations: variants of crossplots for probabilistic predictions"
   ]
  },
  {
   "cell_type": "markdown",
   "metadata": {},
   "source": [
    "A. crossplot ground truth vs prediction intervals.\n",
    "\n",
    "Works with both proba and interval predictions.\n",
    "\n",
    "What to look for: intervals shouhld cut through the x = y line (green points)"
   ]
  },
  {
   "cell_type": "code",
   "execution_count": 20,
   "metadata": {},
   "outputs": [
    {
     "data": {
      "text/plain": [
       "<Axes: xlabel='Correct label $y_i$', ylabel='Prediction interval $\\\\widehat{y}_i$'>"
      ]
     },
     "execution_count": 20,
     "metadata": {},
     "output_type": "execute_result"
    },
    {
     "data": {
      "image/png": "[encoded data removed]",
      "text/plain": [
       "<Figure size 640x480 with 1 Axes>"
      ]
     },
     "metadata": {},
     "output_type": "display_data"
    }
   ],
   "source": [
    "from skpro.utils.plotting import plot_crossplot_interval\n",
    "\n",
    "plot_crossplot_interval(y_test, y_pred_proba, coverage=0.9)"
   ]
  },
  {
   "cell_type": "code",
   "execution_count": 21,
   "metadata": {},
   "outputs": [
    {
     "data": {
      "text/plain": [
       "<Axes: xlabel='Correct label $y_i$', ylabel='Prediction interval $\\\\widehat{y}_i$'>"
      ]
     },
     "execution_count": 21,
     "metadata": {},
     "output_type": "execute_result"
    },
    {
     "data": {
      "image/png": "[encoded data removed]",
      "text/plain": [
       "<Figure size 640x480 with 1 Axes>"
      ]
     },
     "metadata": {},
     "output_type": "display_data"
    }
   ],
   "source": [
    "from skpro.utils.plotting import plot_crossplot_interval\n",
    "\n",
    "y_pred_interval = reg_proba.predict_interval(X_test, coverage=0.9)\n",
    "plot_crossplot_interval(y_test, y_pred_interval)"
   ]
  },
  {
   "cell_type": "markdown",
   "metadata": {},
   "source": [
    "B. crossplot residuals vs predictive standard deviation\n",
    "\n",
    "Works with both proba and variance predictions.\n",
    "\n",
    "What to look for: should be close to a line, high linear correlation"
   ]
  },
  {
   "cell_type": "code",
   "execution_count": 22,
   "metadata": {},
   "outputs": [
    {
     "data": {
      "text/plain": [
       "<Axes: xlabel='Absolute errors $|y_i - \\\\widehat{y}_i|$', ylabel='Predictive standard deviation of $\\\\widehat{y}_i$'>"
      ]
     },
     "execution_count": 22,
     "metadata": {},
     "output_type": "execute_result"
    },
    {
     "data": {
      "image/png": "[encoded data removed]",
      "text/plain": [
       "<Figure size 640x480 with 1 Axes>"
      ]
     },
     "metadata": {},
     "output_type": "display_data"
    }
   ],
   "source": [
    "from skpro.utils.plotting import plot_crossplot_std\n",
    "\n",
    "plot_crossplot_std(y_test, y_pred_proba)"
   ]
  },
  {
   "cell_type": "code",
   "execution_count": 23,
   "metadata": {},
   "outputs": [
    {
     "data": {
      "text/plain": [
       "<Axes: xlabel='Absolute errors $|y_i - \\\\widehat{y}_i|$', ylabel='Predictive standard deviation of $\\\\widehat{y}_i$'>"
      ]
     },
     "execution_count": 23,
     "metadata": {},
     "output_type": "execute_result"
    },
    {
     "data": {
      "image/png": "[encoded data removed]",
      "text/plain": [
       "<Figure size 640x480 with 1 Axes>"
      ]
     },
     "metadata": {},
     "output_type": "display_data"
    }
   ],
   "source": [
    "from skpro.utils.plotting import plot_crossplot_std\n",
    "\n",
    "y_pred_var = reg_proba.predict_var(X_test)\n",
    "plot_crossplot_std(y_test, y_pred_var)"
   ]
  },
  {
   "cell_type": "markdown",
   "metadata": {},
   "source": [
    "C. crossplot ground truth vs loss values\n",
    "\n",
    "Loss and prediction type should agree.\n",
    "\n",
    "What to look for: association between accuracy and ground truth value\n",
    "\n",
    "Diagnostic of which values we can predict more accurately,\n",
    "\n",
    "e.g., to inform modelling or identify unusual outliers"
   ]
  },
  {
   "cell_type": "code",
   "execution_count": 24,
   "metadata": {},
   "outputs": [
    {
     "data": {
      "text/plain": [
       "<Axes: title={'center': 'mean CRPS: 30.43 +/- 1.97 sterr of mean'}, xlabel='Correct label $y_i$', ylabel='CRPS($y_i$, $\\\\widehat{y}_i$)'>"
      ]
     },
     "execution_count": 24,
     "metadata": {},
     "output_type": "execute_result"
    },
    {
     "data": {
      "image/png": "[encoded data removed]",
      "text/plain": [
       "<Figure size 640x480 with 1 Axes>"
      ]
     },
     "metadata": {},
     "output_type": "display_data"
    }
   ],
   "source": [
    "from skpro.utils.plotting import plot_crossplot_loss\n",
    "\n",
    "crps_metric = CRPS()\n",
    "plot_crossplot_loss(y_test, y_pred_proba, crps_metric)"
   ]
  },
  {
   "cell_type": "markdown",
   "metadata": {},
   "source": [
    "### 1.4 `skpro` objects - `scikit-base` interface, searching for regressors and metrics"
   ]
  },
  {
   "cell_type": "markdown",
   "metadata": {},
   "source": [
    "### 1.4.1 primer on `skpro` object interface <a class=\"anchor\" id=\"section1_3_1\"></a>"
   ]
  },
  {
   "cell_type": "markdown",
   "metadata": {},
   "source": [
    "metrics and estimators are first-class citizens in `skpro`, with a `scikit-base` compatible interface"
   ]
  },
  {
   "cell_type": "code",
   "execution_count": 25,
   "metadata": {},
   "outputs": [],
   "source": [
    "# example object 1: CRPS metric\n",
    "from skpro.metrics import CRPS\n",
    "\n",
    "crps_metric = CRPS()\n",
    "\n",
    "# example object 2: ResidualDouble regressor\n",
    "from sklearn.ensemble import RandomForestRegressor\n",
    "from sklearn.linear_model import LinearRegression\n",
    "\n",
    "from skpro.regression.residual import ResidualDouble\n",
    "\n",
    "reg_mean = LinearRegression()\n",
    "reg_resid = RandomForestRegressor()\n",
    "reg_proba = ResidualDouble(reg_mean, reg_resid)"
   ]
  },
  {
   "cell_type": "markdown",
   "metadata": {},
   "source": [
    "e.g., all have `get_tags` interface"
   ]
  },
  {
   "cell_type": "code",
   "execution_count": 26,
   "metadata": {},
   "outputs": [
    {
     "data": {
      "text/plain": [
       "{'estimator_type': 'estimator',\n",
       " 'object_type': 'metric',\n",
       " 'reserved_params': ['multioutput', 'score_average'],\n",
       " 'scitype:y_pred': 'pred_proba',\n",
       " 'lower_is_better': True}"
      ]
     },
     "execution_count": 26,
     "metadata": {},
     "output_type": "execute_result"
    }
   ],
   "source": [
    "crps_metric.get_tags()"
   ]
  },
  {
   "cell_type": "code",
   "execution_count": 27,
   "metadata": {},
   "outputs": [
    {
     "data": {
      "text/plain": [
       "{'estimator_type': 'regressor_proba',\n",
       " 'object_type': 'regressor_proba',\n",
       " 'capability:multioutput': False,\n",
       " 'capability:missing': True}"
      ]
     },
     "execution_count": 27,
     "metadata": {},
     "output_type": "execute_result"
    }
   ],
   "source": [
    "reg_proba.get_tags()"
   ]
  },
  {
   "cell_type": "markdown",
   "metadata": {},
   "source": [
    "the tag `object_type` indicates the type of object, e.g., metric or proba regressor"
   ]
  },
  {
   "cell_type": "markdown",
   "metadata": {},
   "source": [
    "all objects also have the `get_params`/`set_params` interface known from `scikit-learn`\n",
    "\n",
    "= reading or setting hyper-parameters\n",
    "\n",
    "`get_params` returns `dict` `{paramname: paramvalue}`; `set_params` writes it"
   ]
  },
  {
   "cell_type": "code",
   "execution_count": 28,
   "metadata": {},
   "outputs": [
    {
     "data": {
      "text/plain": [
       "{'multioutput': 'uniform_average', 'multivariate': False}"
      ]
     },
     "execution_count": 28,
     "metadata": {},
     "output_type": "execute_result"
    }
   ],
   "source": [
    "crps_metric.get_params()"
   ]
  },
  {
   "cell_type": "markdown",
   "metadata": {},
   "source": [
    "composite objects have the nested param interface, keys `componentname__paramname`"
   ]
  },
  {
   "cell_type": "code",
   "execution_count": 29,
   "metadata": {},
   "outputs": [
    {
     "data": {
      "text/html": [
       "<style>#sk-40fb7b21-a212-46d0-b7fb-7ead2d772a22 {color: black;background-color: white;}#sk-40fb7b21-a212-46d0-b7fb-7ead2d772a22 pre{padding: 0;}#sk-40fb7b21-a212-46d0-b7fb-7ead2d772a22 div.sk-toggleable {background-color: white;}#sk-40fb7b21-a212-46d0-b7fb-7ead2d772a22 label.sk-toggleable__label {cursor: pointer;display: block;width: 100%;margin-bottom: 0;padding: 0.3em;box-sizing: border-box;text-align: center;}#sk-40fb7b21-a212-46d0-b7fb-7ead2d772a22 label.sk-toggleable__label-arrow:before {content: \"▸\";float: left;margin-right: 0.25em;color: #696969;}#sk-40fb7b21-a212-46d0-b7fb-7ead2d772a22 label.sk-toggleable__label-arrow:hover:before {color: black;}#sk-40fb7b21-a212-46d0-b7fb-7ead2d772a22 div.sk-estimator:hover label.sk-toggleable__label-arrow:before {color: black;}#sk-40fb7b21-a212-46d0-b7fb-7ead2d772a22 div.sk-toggleable__content {max-height: 0;max-width: 0;overflow: hidden;text-align: left;background-color: #f0f8ff;}#sk-40fb7b21-a212-46d0-b7fb-7ead2d772a22 div.sk-toggleable__content pre {margin: 0.2em;color: black;border-radius: 0.25em;background-color: #f0f8ff;}#sk-40fb7b21-a212-46d0-b7fb-7ead2d772a22 input.sk-toggleable__control:checked~div.sk-toggleable__content {max-height: 200px;max-width: 100%;overflow: auto;}#sk-40fb7b21-a212-46d0-b7fb-7ead2d772a22 input.sk-toggleable__control:checked~label.sk-toggleable__label-arrow:before {content: \"▾\";}#sk-40fb7b21-a212-46d0-b7fb-7ead2d772a22 div.sk-estimator input.sk-toggleable__control:checked~label.sk-toggleable__label {background-color: #d4ebff;}#sk-40fb7b21-a212-46d0-b7fb-7ead2d772a22 div.sk-label input.sk-toggleable__control:checked~label.sk-toggleable__label {background-color: #d4ebff;}#sk-40fb7b21-a212-46d0-b7fb-7ead2d772a22 input.sk-hidden--visually {border: 0;clip: rect(1px 1px 1px 1px);clip: rect(1px, 1px, 1px, 1px);height: 1px;margin: -1px;overflow: hidden;padding: 0;position: absolute;width: 1px;}#sk-40fb7b21-a212-46d0-b7fb-7ead2d772a22 div.sk-estimator {font-family: monospace;background-color: #f0f8ff;border: 1px dotted black;border-radius: 0.25em;box-sizing: border-box;margin-bottom: 0.5em;}#sk-40fb7b21-a212-46d0-b7fb-7ead2d772a22 div.sk-estimator:hover {background-color: #d4ebff;}#sk-40fb7b21-a212-46d0-b7fb-7ead2d772a22 div.sk-parallel-item::after {content: \"\";width: 100%;border-bottom: 1px solid gray;flex-grow: 1;}#sk-40fb7b21-a212-46d0-b7fb-7ead2d772a22 div.sk-label:hover label.sk-toggleable__label {background-color: #d4ebff;}#sk-40fb7b21-a212-46d0-b7fb-7ead2d772a22 div.sk-serial::before {content: \"\";position: absolute;border-left: 1px solid gray;box-sizing: border-box;top: 2em;bottom: 0;left: 50%;}#sk-40fb7b21-a212-46d0-b7fb-7ead2d772a22 div.sk-serial {display: flex;flex-direction: column;align-items: center;background-color: white;padding-right: 0.2em;padding-left: 0.2em;}#sk-40fb7b21-a212-46d0-b7fb-7ead2d772a22 div.sk-item {z-index: 1;}#sk-40fb7b21-a212-46d0-b7fb-7ead2d772a22 div.sk-parallel {display: flex;align-items: stretch;justify-content: center;background-color: white;}#sk-40fb7b21-a212-46d0-b7fb-7ead2d772a22 div.sk-parallel::before {content: \"\";position: absolute;border-left: 1px solid gray;box-sizing: border-box;top: 2em;bottom: 0;left: 50%;}#sk-40fb7b21-a212-46d0-b7fb-7ead2d772a22 div.sk-parallel-item {display: flex;flex-direction: column;position: relative;background-color: white;}#sk-40fb7b21-a212-46d0-b7fb-7ead2d772a22 div.sk-parallel-item:first-child::after {align-self: flex-end;width: 50%;}#sk-40fb7b21-a212-46d0-b7fb-7ead2d772a22 div.sk-parallel-item:last-child::after {align-self: flex-start;width: 50%;}#sk-40fb7b21-a212-46d0-b7fb-7ead2d772a22 div.sk-parallel-item:only-child::after {width: 0;}#sk-40fb7b21-a212-46d0-b7fb-7ead2d772a22 div.sk-dashed-wrapped {border: 1px dashed gray;margin: 0 0.4em 0.5em 0.4em;box-sizing: border-box;padding-bottom: 0.4em;background-color: white;position: relative;}#sk-40fb7b21-a212-46d0-b7fb-7ead2d772a22 div.sk-label label {font-family: monospace;font-weight: bold;background-color: white;display: inline-block;line-height: 1.2em;}#sk-40fb7b21-a212-46d0-b7fb-7ead2d772a22 div.sk-label-container {position: relative;z-index: 2;text-align: center;}#sk-40fb7b21-a212-46d0-b7fb-7ead2d772a22 div.sk-container {/* jupyter's `normalize.less` sets `[hidden] { display: none; }` but bootstrap.min.css set `[hidden] { display: none !important; }` so we also need the `!important` here to be able to override the default hidden behavior on the sphinx rendered scikit-learn.org. See: https://github.com/scikit-learn/scikit-learn/issues/21755 */display: inline-block !important;position: relative;}#sk-40fb7b21-a212-46d0-b7fb-7ead2d772a22 div.sk-text-repr-fallback {display: none;}</style><div id='sk-40fb7b21-a212-46d0-b7fb-7ead2d772a22' class=\"sk-top-container\"><div class=\"sk-text-repr-fallback\"><pre>ResidualDouble(estimator=LinearRegression(),\n",
       "               estimator_resid=RandomForestRegressor())</pre><b>Please rerun this cell to show the HTML repr or trust the notebook.</b></div><div class=\"sk-container\" hidden><div class=\"sk-item sk-dashed-wrapped\"><div class='sk-label-container'><div class=\"sk-label sk-toggleable\"><input class=\"sk-toggleable__control sk-hidden--visually\" id=UUID('3a533986-ef93-47b3-944c-dd6e409d3d25') type=\"checkbox\" ><label for=UUID('3a533986-ef93-47b3-944c-dd6e409d3d25') class='sk-toggleable__label sk-toggleable__label-arrow'>ResidualDouble</label><div class=\"sk-toggleable__content\"><pre>ResidualDouble(estimator=LinearRegression(),\n",
       "               estimator_resid=RandomForestRegressor())</pre></div></div></div><div class=\"sk-parallel\"><div class=\"sk-parallel-item\"><div class=\"sk-item\"><div class=\"sk-serial\"><div class='sk-item'><div class=\"sk-estimator sk-toggleable\"><input class=\"sk-toggleable__control sk-hidden--visually\" id=UUID('1ec7835c-08c6-4f7e-9fa4-4e05e520a5fc') type=\"checkbox\" ><label for=UUID('1ec7835c-08c6-4f7e-9fa4-4e05e520a5fc') class='sk-toggleable__label sk-toggleable__label-arrow'>LinearRegression</label><div class=\"sk-toggleable__content\"><pre>LinearRegression()</pre></div></div></div></div></div></div><div class=\"sk-parallel-item\"><div class=\"sk-item\"><div class=\"sk-serial\"><div class='sk-item'><div class=\"sk-estimator sk-toggleable\"><input class=\"sk-toggleable__control sk-hidden--visually\" id=UUID('b6f71c34-2499-4392-9786-2bd35957854d') type=\"checkbox\" ><label for=UUID('b6f71c34-2499-4392-9786-2bd35957854d') class='sk-toggleable__label sk-toggleable__label-arrow'>RandomForestRegressor</label><div class=\"sk-toggleable__content\"><pre>RandomForestRegressor()</pre></div></div></div></div></div></div></div></div></div></div>"
      ],
      "text/plain": [
       "ResidualDouble(estimator=LinearRegression(),\n",
       "               estimator_resid=RandomForestRegressor())"
      ]
     },
     "execution_count": 29,
     "metadata": {},
     "output_type": "execute_result"
    }
   ],
   "source": [
    "# note that reg_proba has components LinearRegression and RandomForestaregressor\n",
    "# each with their own parameters\n",
    "reg_proba"
   ]
  },
  {
   "cell_type": "markdown",
   "metadata": {},
   "source": [
    "so `reg_proba` will have parameters coming from itself and either component:"
   ]
  },
  {
   "cell_type": "code",
   "execution_count": 30,
   "metadata": {},
   "outputs": [
    {
     "data": {
      "text/plain": [
       "{'cv': None,\n",
       " 'distr_loc_scale_name': None,\n",
       " 'distr_params': None,\n",
       " 'distr_type': 'Normal',\n",
       " 'estimator': LinearRegression(),\n",
       " 'estimator_resid': RandomForestRegressor(),\n",
       " 'min_scale': 1e-10,\n",
       " 'residual_trafo': 'absolute',\n",
       " 'use_y_pred': False,\n",
       " 'estimator__copy_X': True,\n",
       " 'estimator__fit_intercept': True,\n",
       " 'estimator__n_jobs': None,\n",
       " 'estimator__normalize': 'deprecated',\n",
       " 'estimator__positive': False,\n",
       " 'estimator_resid__bootstrap': True,\n",
       " 'estimator_resid__ccp_alpha': 0.0,\n",
       " 'estimator_resid__criterion': 'squared_error',\n",
       " 'estimator_resid__max_depth': None,\n",
       " 'estimator_resid__max_features': 1.0,\n",
       " 'estimator_resid__max_leaf_nodes': None,\n",
       " 'estimator_resid__max_samples': None,\n",
       " 'estimator_resid__min_impurity_decrease': 0.0,\n",
       " 'estimator_resid__min_samples_leaf': 1,\n",
       " 'estimator_resid__min_samples_split': 2,\n",
       " 'estimator_resid__min_weight_fraction_leaf': 0.0,\n",
       " 'estimator_resid__n_estimators': 100,\n",
       " 'estimator_resid__n_jobs': None,\n",
       " 'estimator_resid__oob_score': False,\n",
       " 'estimator_resid__random_state': None,\n",
       " 'estimator_resid__verbose': 0,\n",
       " 'estimator_resid__warm_start': False}"
      ]
     },
     "execution_count": 30,
     "metadata": {},
     "output_type": "execute_result"
    }
   ],
   "source": [
    "reg_proba.get_params()"
   ]
  },
  {
   "cell_type": "markdown",
   "metadata": {},
   "source": [
    "further common interface points are `get_config`, `set_config`, and `get_fitted_params` (only fittable estimators)"
   ]
  },
  {
   "cell_type": "markdown",
   "metadata": {},
   "source": [
    "### 1.4.2 searching for regressors and metrics <a class=\"anchor\" id=\"section1_3_2\"></a>"
   ]
  },
  {
   "cell_type": "markdown",
   "metadata": {},
   "source": [
    "as first-class citizens, all objects in `skpro` are indexed via the `registry` utility `all_objects`.\n",
    "\n",
    "To find probabilistic supervised regressors, use `all_objects` with the type `regressor_proba`:"
   ]
  },
  {
   "cell_type": "code",
   "execution_count": 31,
   "metadata": {},
   "outputs": [
    {
     "data": {
      "text/html": [
       "<div>\n",
       "<style scoped>\n",
       "    .dataframe tbody tr th:only-of-type {\n",
       "        vertical-align: middle;\n",
       "    }\n",
       "\n",
       "    .dataframe tbody tr th {\n",
       "        vertical-align: top;\n",
       "    }\n",
       "\n",
       "    .dataframe thead th {\n",
       "        text-align: right;\n",
       "    }\n",
       "</style>\n",
       "<table border=\"1\" class=\"dataframe\">\n",
       "  <thead>\n",
       "    <tr style=\"text-align: right;\">\n",
       "      <th></th>\n",
       "      <th>name</th>\n",
       "      <th>object</th>\n",
       "    </tr>\n",
       "  </thead>\n",
       "  <tbody>\n",
       "    <tr>\n",
       "      <th>0</th>\n",
       "      <td>BaggingRegressor</td>\n",
       "      <td>&lt;class 'skpro.regression.ensemble.BaggingRegre...</td>\n",
       "    </tr>\n",
       "    <tr>\n",
       "      <th>1</th>\n",
       "      <td>BootstrapRegressor</td>\n",
       "      <td>&lt;class 'skpro.regression.bootstrap.BootstrapRe...</td>\n",
       "    </tr>\n",
       "    <tr>\n",
       "      <th>2</th>\n",
       "      <td>GridSearchCV</td>\n",
       "      <td>&lt;class 'skpro.model_selection._tuning.GridSear...</td>\n",
       "    </tr>\n",
       "    <tr>\n",
       "      <th>3</th>\n",
       "      <td>Pipeline</td>\n",
       "      <td>&lt;class 'skpro.regression.compose._pipeline.Pip...</td>\n",
       "    </tr>\n",
       "    <tr>\n",
       "      <th>4</th>\n",
       "      <td>RandomizedSearchCV</td>\n",
       "      <td>&lt;class 'skpro.model_selection._tuning.Randomiz...</td>\n",
       "    </tr>\n",
       "  </tbody>\n",
       "</table>\n",
       "</div>"
      ],
      "text/plain": [
       "                 name                                             object\n",
       "0    BaggingRegressor  <class 'skpro.regression.ensemble.BaggingRegre...\n",
       "1  BootstrapRegressor  <class 'skpro.regression.bootstrap.BootstrapRe...\n",
       "2        GridSearchCV  <class 'skpro.model_selection._tuning.GridSear...\n",
       "3            Pipeline  <class 'skpro.regression.compose._pipeline.Pip...\n",
       "4  RandomizedSearchCV  <class 'skpro.model_selection._tuning.Randomiz..."
      ]
     },
     "execution_count": 31,
     "metadata": {},
     "output_type": "execute_result"
    }
   ],
   "source": [
    "from skpro.registry import all_objects\n",
    "\n",
    "all_objects(\"regressor_proba\", as_dataframe=True).head()"
   ]
  },
  {
   "cell_type": "markdown",
   "metadata": {},
   "source": [
    "a full list can also be found in the online API reference."
   ]
  },
  {
   "cell_type": "markdown",
   "metadata": {},
   "source": [
    "for metrics, as seen above:"
   ]
  },
  {
   "cell_type": "code",
   "execution_count": 32,
   "metadata": {},
   "outputs": [
    {
     "data": {
      "text/html": [
       "<div>\n",
       "<style scoped>\n",
       "    .dataframe tbody tr th:only-of-type {\n",
       "        vertical-align: middle;\n",
       "    }\n",
       "\n",
       "    .dataframe tbody tr th {\n",
       "        vertical-align: top;\n",
       "    }\n",
       "\n",
       "    .dataframe thead th {\n",
       "        text-align: right;\n",
       "    }\n",
       "</style>\n",
       "<table border=\"1\" class=\"dataframe\">\n",
       "  <thead>\n",
       "    <tr style=\"text-align: right;\">\n",
       "      <th></th>\n",
       "      <th>name</th>\n",
       "      <th>object</th>\n",
       "      <th>scitype:y_pred</th>\n",
       "    </tr>\n",
       "  </thead>\n",
       "  <tbody>\n",
       "    <tr>\n",
       "      <th>0</th>\n",
       "      <td>CRPS</td>\n",
       "      <td>&lt;class 'skpro.metrics._classes.CRPS'&gt;</td>\n",
       "      <td>pred_proba</td>\n",
       "    </tr>\n",
       "    <tr>\n",
       "      <th>1</th>\n",
       "      <td>ConstraintViolation</td>\n",
       "      <td>&lt;class 'skpro.metrics._classes.ConstraintViola...</td>\n",
       "      <td>pred_interval</td>\n",
       "    </tr>\n",
       "    <tr>\n",
       "      <th>2</th>\n",
       "      <td>EmpiricalCoverage</td>\n",
       "      <td>&lt;class 'skpro.metrics._classes.EmpiricalCovera...</td>\n",
       "      <td>pred_interval</td>\n",
       "    </tr>\n",
       "    <tr>\n",
       "      <th>3</th>\n",
       "      <td>LinearizedLogLoss</td>\n",
       "      <td>&lt;class 'skpro.metrics._classes.LinearizedLogLo...</td>\n",
       "      <td>pred_proba</td>\n",
       "    </tr>\n",
       "    <tr>\n",
       "      <th>4</th>\n",
       "      <td>LogLoss</td>\n",
       "      <td>&lt;class 'skpro.metrics._classes.LogLoss'&gt;</td>\n",
       "      <td>pred_proba</td>\n",
       "    </tr>\n",
       "    <tr>\n",
       "      <th>5</th>\n",
       "      <td>PinballLoss</td>\n",
       "      <td>&lt;class 'skpro.metrics._classes.PinballLoss'&gt;</td>\n",
       "      <td>pred_quantiles</td>\n",
       "    </tr>\n",
       "    <tr>\n",
       "      <th>6</th>\n",
       "      <td>SquaredDistrLoss</td>\n",
       "      <td>&lt;class 'skpro.metrics._classes.SquaredDistrLoss'&gt;</td>\n",
       "      <td>pred_proba</td>\n",
       "    </tr>\n",
       "  </tbody>\n",
       "</table>\n",
       "</div>"
      ],
      "text/plain": [
       "                  name                                             object  \\\n",
       "0                 CRPS              <class 'skpro.metrics._classes.CRPS'>   \n",
       "1  ConstraintViolation  <class 'skpro.metrics._classes.ConstraintViola...   \n",
       "2    EmpiricalCoverage  <class 'skpro.metrics._classes.EmpiricalCovera...   \n",
       "3    LinearizedLogLoss  <class 'skpro.metrics._classes.LinearizedLogLo...   \n",
       "4              LogLoss           <class 'skpro.metrics._classes.LogLoss'>   \n",
       "5          PinballLoss       <class 'skpro.metrics._classes.PinballLoss'>   \n",
       "6     SquaredDistrLoss  <class 'skpro.metrics._classes.SquaredDistrLoss'>   \n",
       "\n",
       "   scitype:y_pred  \n",
       "0      pred_proba  \n",
       "1   pred_interval  \n",
       "2   pred_interval  \n",
       "3      pred_proba  \n",
       "4      pred_proba  \n",
       "5  pred_quantiles  \n",
       "6      pred_proba  "
      ]
     },
     "execution_count": 32,
     "metadata": {},
     "output_type": "execute_result"
    }
   ],
   "source": [
    "from skpro.registry import all_objects\n",
    "\n",
    "all_objects(\"metric\", as_dataframe=True, return_tags=\"scitype:y_pred\")"
   ]
  },
  {
   "cell_type": "markdown",
   "metadata": {},
   "source": [
    "all tags can be printed by the `all_tags` utility:"
   ]
  },
  {
   "cell_type": "code",
   "execution_count": 33,
   "metadata": {},
   "outputs": [
    {
     "data": {
      "text/html": [
       "<div>\n",
       "<style scoped>\n",
       "    .dataframe tbody tr th:only-of-type {\n",
       "        vertical-align: middle;\n",
       "    }\n",
       "\n",
       "    .dataframe tbody tr th {\n",
       "        vertical-align: top;\n",
       "    }\n",
       "\n",
       "    .dataframe thead th {\n",
       "        text-align: right;\n",
       "    }\n",
       "</style>\n",
       "<table border=\"1\" class=\"dataframe\">\n",
       "  <thead>\n",
       "    <tr style=\"text-align: right;\">\n",
       "      <th></th>\n",
       "      <th>name</th>\n",
       "      <th>scitype</th>\n",
       "      <th>type</th>\n",
       "      <th>description</th>\n",
       "    </tr>\n",
       "  </thead>\n",
       "  <tbody>\n",
       "    <tr>\n",
       "      <th>0</th>\n",
       "      <td>lower_is_better</td>\n",
       "      <td>metric</td>\n",
       "      <td>bool</td>\n",
       "      <td>whether lower (True) or higher (False) is better</td>\n",
       "    </tr>\n",
       "    <tr>\n",
       "      <th>1</th>\n",
       "      <td>scitype:y_pred</td>\n",
       "      <td>metric</td>\n",
       "      <td>str</td>\n",
       "      <td>expected input type for y_pred in performance ...</td>\n",
       "    </tr>\n",
       "  </tbody>\n",
       "</table>\n",
       "</div>"
      ],
      "text/plain": [
       "              name scitype  type  \\\n",
       "0  lower_is_better  metric  bool   \n",
       "1   scitype:y_pred  metric   str   \n",
       "\n",
       "                                         description  \n",
       "0   whether lower (True) or higher (False) is better  \n",
       "1  expected input type for y_pred in performance ...  "
      ]
     },
     "execution_count": 33,
     "metadata": {},
     "output_type": "execute_result"
    }
   ],
   "source": [
    "# all tags applicable to metrics\n",
    "from skpro.registry import all_tags\n",
    "\n",
    "all_tags(\"metric\", as_dataframe=True)"
   ]
  },
  {
   "cell_type": "code",
   "execution_count": 34,
   "metadata": {},
   "outputs": [
    {
     "data": {
      "text/html": [
       "<div>\n",
       "<style scoped>\n",
       "    .dataframe tbody tr th:only-of-type {\n",
       "        vertical-align: middle;\n",
       "    }\n",
       "\n",
       "    .dataframe tbody tr th {\n",
       "        vertical-align: top;\n",
       "    }\n",
       "\n",
       "    .dataframe thead th {\n",
       "        text-align: right;\n",
       "    }\n",
       "</style>\n",
       "<table border=\"1\" class=\"dataframe\">\n",
       "  <thead>\n",
       "    <tr style=\"text-align: right;\">\n",
       "      <th></th>\n",
       "      <th>name</th>\n",
       "      <th>scitype</th>\n",
       "      <th>type</th>\n",
       "      <th>description</th>\n",
       "    </tr>\n",
       "  </thead>\n",
       "  <tbody>\n",
       "    <tr>\n",
       "      <th>0</th>\n",
       "      <td>capability:missing</td>\n",
       "      <td>regressor_proba</td>\n",
       "      <td>bool</td>\n",
       "      <td>whether estimator supports missing values</td>\n",
       "    </tr>\n",
       "    <tr>\n",
       "      <th>1</th>\n",
       "      <td>capability:multioutput</td>\n",
       "      <td>regressor_proba</td>\n",
       "      <td>bool</td>\n",
       "      <td>whether estimator supports multioutput regression</td>\n",
       "    </tr>\n",
       "  </tbody>\n",
       "</table>\n",
       "</div>"
      ],
      "text/plain": [
       "                     name          scitype  type  \\\n",
       "0      capability:missing  regressor_proba  bool   \n",
       "1  capability:multioutput  regressor_proba  bool   \n",
       "\n",
       "                                         description  \n",
       "0          whether estimator supports missing values  \n",
       "1  whether estimator supports multioutput regression  "
      ]
     },
     "execution_count": 34,
     "metadata": {},
     "output_type": "execute_result"
    }
   ],
   "source": [
    "# all tags applicable to probabilistic regressors\n",
    "from skpro.registry import all_tags\n",
    "\n",
    "all_tags(\"regressor_proba\", as_dataframe=True)"
   ]
  },
  {
   "cell_type": "markdown",
   "metadata": {},
   "source": [
    "filtering in search can be done with the `filter_tags` argument in `all_objects`, see docstring:"
   ]
  },
  {
   "cell_type": "code",
   "execution_count": 35,
   "metadata": {},
   "outputs": [
    {
     "data": {
      "text/html": [
       "<div>\n",
       "<style scoped>\n",
       "    .dataframe tbody tr th:only-of-type {\n",
       "        vertical-align: middle;\n",
       "    }\n",
       "\n",
       "    .dataframe tbody tr th {\n",
       "        vertical-align: top;\n",
       "    }\n",
       "\n",
       "    .dataframe thead th {\n",
       "        text-align: right;\n",
       "    }\n",
       "</style>\n",
       "<table border=\"1\" class=\"dataframe\">\n",
       "  <thead>\n",
       "    <tr style=\"text-align: right;\">\n",
       "      <th></th>\n",
       "      <th>name</th>\n",
       "      <th>object</th>\n",
       "    </tr>\n",
       "  </thead>\n",
       "  <tbody>\n",
       "    <tr>\n",
       "      <th>0</th>\n",
       "      <td>CRPS</td>\n",
       "      <td>&lt;class 'skpro.metrics._classes.CRPS'&gt;</td>\n",
       "    </tr>\n",
       "    <tr>\n",
       "      <th>1</th>\n",
       "      <td>LinearizedLogLoss</td>\n",
       "      <td>&lt;class 'skpro.metrics._classes.LinearizedLogLo...</td>\n",
       "    </tr>\n",
       "    <tr>\n",
       "      <th>2</th>\n",
       "      <td>LogLoss</td>\n",
       "      <td>&lt;class 'skpro.metrics._classes.LogLoss'&gt;</td>\n",
       "    </tr>\n",
       "    <tr>\n",
       "      <th>3</th>\n",
       "      <td>SquaredDistrLoss</td>\n",
       "      <td>&lt;class 'skpro.metrics._classes.SquaredDistrLoss'&gt;</td>\n",
       "    </tr>\n",
       "  </tbody>\n",
       "</table>\n",
       "</div>"
      ],
      "text/plain": [
       "                name                                             object\n",
       "0               CRPS              <class 'skpro.metrics._classes.CRPS'>\n",
       "1  LinearizedLogLoss  <class 'skpro.metrics._classes.LinearizedLogLo...\n",
       "2            LogLoss           <class 'skpro.metrics._classes.LogLoss'>\n",
       "3   SquaredDistrLoss  <class 'skpro.metrics._classes.SquaredDistrLoss'>"
      ]
     },
     "execution_count": 35,
     "metadata": {},
     "output_type": "execute_result"
    }
   ],
   "source": [
    "from skpro.registry import all_objects\n",
    "\n",
    "# \"retrieve all genuinely probabilistic loss functions\"\n",
    "all_objects(\"metric\", as_dataframe=True, filter_tags={\"scitype:y_pred\": \"pred_proba\"})"
   ]
  },
  {
   "cell_type": "markdown",
   "metadata": {},
   "source": [
    "## 2. Prediction types, metrics, benchmarking <a class=\"anchor\" id=\"chapter2\"></a>"
   ]
  },
  {
   "cell_type": "markdown",
   "metadata": {},
   "source": [
    "This section gives more details on:\n",
    "\n",
    "* different prediction types, including a methodological primer\n",
    "* the API of metrics to compare probabilistic predictions to non-probabilistic actuals\n",
    "* utilities for batch benchmarking of estimators and metrics"
   ]
  },
  {
   "cell_type": "markdown",
   "metadata": {},
   "source": [
    "### 2.1 Probabilistic predictions - methodological primer <a class=\"anchor\" id=\"section2_1\"></a>"
   ]
  },
  {
   "cell_type": "markdown",
   "metadata": {},
   "source": [
    "**readers familir with, or less interested in theory, may like to skip section 2.1**"
   ]
  },
  {
   "cell_type": "markdown",
   "metadata": {},
   "source": [
    "In supervised learning - probabilistic or not:\n",
    "\n",
    "* we fit estimator to i.i.d samples $(X_1, Y_1), \\dots, (X_N, Y_N) \\sim (X_*, Y_*)$\n",
    "* and want to predict $y$ given $x$ accurately, for $(x, y) \\sim (X_*, Y_*)$"
   ]
  },
  {
   "cell_type": "markdown",
   "metadata": {},
   "source": [
    "Let $y$ be the (true) value, for an observed feature $x$\n",
    "\n",
    "(we consider $y$ a random variable)\n",
    "\n",
    "| Name | param | prediction/estimate of | `skpro` |\n",
    "| ---- | ----- | ---------------------- | -------- |\n",
    "| point prediction | | conditional expectation $\\mathbb{E}[y\\|x]$ | `predict` |\n",
    "| variance prediction | | conditional variance $Var[y\\|x]$ | `predict_var` |\n",
    "| quantile prediction | $\\alpha\\in (0,1)$ | $\\alpha$-quantile of $y\\|x$ | `predict_quantiles` |\n",
    "| interval prediction | $c\\in (0,1)$| $[a,b]$ s.t. $P(a\\le y \\le b\\| x) = c$ | `predict_interval` |\n",
    "| distribution prediction | | the law/distribution of $y\\|x$ | `predict_proba` |"
   ]
  },
  {
   "cell_type": "markdown",
   "metadata": {},
   "source": [
    "##### More formal details & intuition:"
   ]
  },
  {
   "cell_type": "markdown",
   "metadata": {},
   "source": [
    "let's consider the toy example again"
   ]
  },
  {
   "cell_type": "code",
   "execution_count": 36,
   "metadata": {},
   "outputs": [],
   "source": [
    "from sklearn.datasets import load_diabetes\n",
    "from sklearn.model_selection import train_test_split\n",
    "\n",
    "X, y = load_diabetes(return_X_y=True, as_frame=True)\n",
    "X_train, X_new, y_train, _ = train_test_split(X, y)"
   ]
  },
  {
   "cell_type": "code",
   "execution_count": 37,
   "metadata": {},
   "outputs": [],
   "source": [
    "from sklearn.datasets import load_diabetes\n",
    "from sklearn.ensemble import RandomForestRegressor\n",
    "from sklearn.model_selection import train_test_split\n",
    "\n",
    "from skpro.regression.residual import ResidualDouble\n",
    "\n",
    "X, y = load_diabetes(return_X_y=True, as_frame=True)\n",
    "X_train, X_new, y_train, _ = train_test_split(X, y)\n",
    "\n",
    "\n",
    "reg_mean = RandomForestRegressor()\n",
    "reg_proba = ResidualDouble(reg_mean)\n",
    "\n",
    "reg_proba.fit(X_train, y_train)\n",
    "y_pred_proba = reg_proba.predict_proba(X_new)"
   ]
  },
  {
   "cell_type": "markdown",
   "metadata": {},
   "source": [
    "* a **\"point prediction\"** is a prediction/estimate of the conditional expectation $\\mathbb{E}[y|x]$.\\\n",
    " **Intuition**: \"out of many repetitions/worlds, this value is the arithmetic average of all observations\"."
   ]
  },
  {
   "cell_type": "code",
   "execution_count": 38,
   "metadata": {},
   "outputs": [
    {
     "data": {
      "text/html": [
       "<div>\n",
       "<style scoped>\n",
       "    .dataframe tbody tr th:only-of-type {\n",
       "        vertical-align: middle;\n",
       "    }\n",
       "\n",
       "    .dataframe tbody tr th {\n",
       "        vertical-align: top;\n",
       "    }\n",
       "\n",
       "    .dataframe thead th {\n",
       "        text-align: right;\n",
       "    }\n",
       "</style>\n",
       "<table border=\"1\" class=\"dataframe\">\n",
       "  <thead>\n",
       "    <tr style=\"text-align: right;\">\n",
       "      <th></th>\n",
       "      <th>target</th>\n",
       "    </tr>\n",
       "  </thead>\n",
       "  <tbody>\n",
       "    <tr>\n",
       "      <th>9</th>\n",
       "      <td>126.436327</td>\n",
       "    </tr>\n",
       "    <tr>\n",
       "      <th>142</th>\n",
       "      <td>228.752373</td>\n",
       "    </tr>\n",
       "    <tr>\n",
       "      <th>117</th>\n",
       "      <td>229.274334</td>\n",
       "    </tr>\n",
       "    <tr>\n",
       "      <th>154</th>\n",
       "      <td>190.479808</td>\n",
       "    </tr>\n",
       "    <tr>\n",
       "      <th>199</th>\n",
       "      <td>198.487125</td>\n",
       "    </tr>\n",
       "  </tbody>\n",
       "</table>\n",
       "</div>"
      ],
      "text/plain": [
       "         target\n",
       "9    126.436327\n",
       "142  228.752373\n",
       "117  229.274334\n",
       "154  190.479808\n",
       "199  198.487125"
      ]
     },
     "execution_count": 38,
     "metadata": {},
     "output_type": "execute_result"
    }
   ],
   "source": [
    "# if y_pred_proba were *true*, here's how many repetitions would look like:\n",
    "\n",
    "# repeating this line is \"one repetition\"\n",
    "y_pred_proba.sample().head()"
   ]
  },
  {
   "cell_type": "code",
   "execution_count": 39,
   "metadata": {},
   "outputs": [
    {
     "data": {
      "text/html": [
       "<div>\n",
       "<style scoped>\n",
       "    .dataframe tbody tr th:only-of-type {\n",
       "        vertical-align: middle;\n",
       "    }\n",
       "\n",
       "    .dataframe tbody tr th {\n",
       "        vertical-align: top;\n",
       "    }\n",
       "\n",
       "    .dataframe thead th {\n",
       "        text-align: right;\n",
       "    }\n",
       "</style>\n",
       "<table border=\"1\" class=\"dataframe\">\n",
       "  <thead>\n",
       "    <tr style=\"text-align: right;\">\n",
       "      <th></th>\n",
       "      <th></th>\n",
       "      <th>target</th>\n",
       "    </tr>\n",
       "  </thead>\n",
       "  <tbody>\n",
       "    <tr>\n",
       "      <th rowspan=\"5\" valign=\"top\">0</th>\n",
       "      <th>9</th>\n",
       "      <td>154.654233</td>\n",
       "    </tr>\n",
       "    <tr>\n",
       "      <th>142</th>\n",
       "      <td>168.793099</td>\n",
       "    </tr>\n",
       "    <tr>\n",
       "      <th>117</th>\n",
       "      <td>205.445650</td>\n",
       "    </tr>\n",
       "    <tr>\n",
       "      <th>154</th>\n",
       "      <td>185.737977</td>\n",
       "    </tr>\n",
       "    <tr>\n",
       "      <th>199</th>\n",
       "      <td>172.479164</td>\n",
       "    </tr>\n",
       "    <tr>\n",
       "      <th>...</th>\n",
       "      <th>...</th>\n",
       "      <td>...</td>\n",
       "    </tr>\n",
       "    <tr>\n",
       "      <th rowspan=\"5\" valign=\"top\">99</th>\n",
       "      <th>336</th>\n",
       "      <td>227.567609</td>\n",
       "    </tr>\n",
       "    <tr>\n",
       "      <th>407</th>\n",
       "      <td>133.807497</td>\n",
       "    </tr>\n",
       "    <tr>\n",
       "      <th>354</th>\n",
       "      <td>194.368428</td>\n",
       "    </tr>\n",
       "    <tr>\n",
       "      <th>104</th>\n",
       "      <td>149.853900</td>\n",
       "    </tr>\n",
       "    <tr>\n",
       "      <th>417</th>\n",
       "      <td>159.109449</td>\n",
       "    </tr>\n",
       "  </tbody>\n",
       "</table>\n",
       "<p>11100 rows × 1 columns</p>\n",
       "</div>"
      ],
      "text/plain": [
       "            target\n",
       "0  9    154.654233\n",
       "   142  168.793099\n",
       "   117  205.445650\n",
       "   154  185.737977\n",
       "   199  172.479164\n",
       "...            ...\n",
       "99 336  227.567609\n",
       "   407  133.807497\n",
       "   354  194.368428\n",
       "   104  149.853900\n",
       "   417  159.109449\n",
       "\n",
       "[11100 rows x 1 columns]"
      ]
     },
     "execution_count": 39,
     "metadata": {},
     "output_type": "execute_result"
    }
   ],
   "source": [
    "many_samples = y_pred_proba.sample(100)\n",
    "many_samples"
   ]
  },
  {
   "cell_type": "code",
   "execution_count": 40,
   "metadata": {},
   "outputs": [
    {
     "data": {
      "text/html": [
       "<div>\n",
       "<style scoped>\n",
       "    .dataframe tbody tr th:only-of-type {\n",
       "        vertical-align: middle;\n",
       "    }\n",
       "\n",
       "    .dataframe tbody tr th {\n",
       "        vertical-align: top;\n",
       "    }\n",
       "\n",
       "    .dataframe thead th {\n",
       "        text-align: right;\n",
       "    }\n",
       "</style>\n",
       "<table border=\"1\" class=\"dataframe\">\n",
       "  <thead>\n",
       "    <tr style=\"text-align: right;\">\n",
       "      <th></th>\n",
       "      <th>target</th>\n",
       "    </tr>\n",
       "  </thead>\n",
       "  <tbody>\n",
       "    <tr>\n",
       "      <th>9</th>\n",
       "      <td>149.404360</td>\n",
       "    </tr>\n",
       "    <tr>\n",
       "      <th>142</th>\n",
       "      <td>187.103481</td>\n",
       "    </tr>\n",
       "    <tr>\n",
       "      <th>117</th>\n",
       "      <td>207.415288</td>\n",
       "    </tr>\n",
       "    <tr>\n",
       "      <th>154</th>\n",
       "      <td>181.764525</td>\n",
       "    </tr>\n",
       "    <tr>\n",
       "      <th>199</th>\n",
       "      <td>169.965189</td>\n",
       "    </tr>\n",
       "  </tbody>\n",
       "</table>\n",
       "</div>"
      ],
      "text/plain": [
       "         target\n",
       "9    149.404360\n",
       "142  187.103481\n",
       "117  207.415288\n",
       "154  181.764525\n",
       "199  169.965189"
      ]
     },
     "execution_count": 40,
     "metadata": {},
     "output_type": "execute_result"
    }
   ],
   "source": [
    "# \"doing many times and taking the mean\" -> usual point prediction\n",
    "mean_prediction = many_samples.groupby(level=1, sort=False).mean()\n",
    "mean_prediction.head()"
   ]
  },
  {
   "cell_type": "code",
   "execution_count": 41,
   "metadata": {},
   "outputs": [
    {
     "data": {
      "text/html": [
       "<div>\n",
       "<style scoped>\n",
       "    .dataframe tbody tr th:only-of-type {\n",
       "        vertical-align: middle;\n",
       "    }\n",
       "\n",
       "    .dataframe tbody tr th {\n",
       "        vertical-align: top;\n",
       "    }\n",
       "\n",
       "    .dataframe thead th {\n",
       "        text-align: right;\n",
       "    }\n",
       "</style>\n",
       "<table border=\"1\" class=\"dataframe\">\n",
       "  <thead>\n",
       "    <tr style=\"text-align: right;\">\n",
       "      <th></th>\n",
       "      <th>target</th>\n",
       "    </tr>\n",
       "  </thead>\n",
       "  <tbody>\n",
       "    <tr>\n",
       "      <th>9</th>\n",
       "      <td>151.44</td>\n",
       "    </tr>\n",
       "    <tr>\n",
       "      <th>142</th>\n",
       "      <td>188.04</td>\n",
       "    </tr>\n",
       "    <tr>\n",
       "      <th>117</th>\n",
       "      <td>205.71</td>\n",
       "    </tr>\n",
       "    <tr>\n",
       "      <th>154</th>\n",
       "      <td>183.37</td>\n",
       "    </tr>\n",
       "    <tr>\n",
       "      <th>199</th>\n",
       "      <td>168.71</td>\n",
       "    </tr>\n",
       "  </tbody>\n",
       "</table>\n",
       "</div>"
      ],
      "text/plain": [
       "     target\n",
       "9    151.44\n",
       "142  188.04\n",
       "117  205.71\n",
       "154  183.37\n",
       "199  168.71"
      ]
     },
     "execution_count": 41,
     "metadata": {},
     "output_type": "execute_result"
    }
   ],
   "source": [
    "# if we would do this infinity times instead of 100:\n",
    "y_pred_proba.mean().head()"
   ]
  },
  {
   "cell_type": "markdown",
   "metadata": {},
   "source": [
    "* a **\"variance prediction\"** is a prediction/estimate of the conditional expectation $Var[y|x]$.\\\n",
    " **Intuition:** \"out of many repetitions/worlds, this value is the average squared distance of the observation to the perfect point prediction\".\n"
   ]
  },
  {
   "cell_type": "code",
   "execution_count": 42,
   "metadata": {},
   "outputs": [
    {
     "data": {
      "text/html": [
       "<div>\n",
       "<style scoped>\n",
       "    .dataframe tbody tr th:only-of-type {\n",
       "        vertical-align: middle;\n",
       "    }\n",
       "\n",
       "    .dataframe tbody tr th {\n",
       "        vertical-align: top;\n",
       "    }\n",
       "\n",
       "    .dataframe thead th {\n",
       "        text-align: right;\n",
       "    }\n",
       "</style>\n",
       "<table border=\"1\" class=\"dataframe\">\n",
       "  <thead>\n",
       "    <tr style=\"text-align: right;\">\n",
       "      <th></th>\n",
       "      <th>target</th>\n",
       "    </tr>\n",
       "  </thead>\n",
       "  <tbody>\n",
       "    <tr>\n",
       "      <th>9</th>\n",
       "      <td>275.380423</td>\n",
       "    </tr>\n",
       "    <tr>\n",
       "      <th>142</th>\n",
       "      <td>307.560818</td>\n",
       "    </tr>\n",
       "    <tr>\n",
       "      <th>117</th>\n",
       "      <td>369.623033</td>\n",
       "    </tr>\n",
       "    <tr>\n",
       "      <th>154</th>\n",
       "      <td>263.550387</td>\n",
       "    </tr>\n",
       "    <tr>\n",
       "      <th>199</th>\n",
       "      <td>315.443840</td>\n",
       "    </tr>\n",
       "  </tbody>\n",
       "</table>\n",
       "</div>"
      ],
      "text/plain": [
       "         target\n",
       "9    275.380423\n",
       "142  307.560818\n",
       "117  369.623033\n",
       "154  263.550387\n",
       "199  315.443840"
      ]
     },
     "execution_count": 42,
     "metadata": {},
     "output_type": "execute_result"
    }
   ],
   "source": [
    "# same as above - take many samples, and then compute element-wise statistics\n",
    "var_prediction = many_samples.groupby(level=1, sort=False).var()\n",
    "var_prediction.head()"
   ]
  },
  {
   "cell_type": "code",
   "execution_count": 43,
   "metadata": {},
   "outputs": [
    {
     "data": {
      "text/html": [
       "<div>\n",
       "<style scoped>\n",
       "    .dataframe tbody tr th:only-of-type {\n",
       "        vertical-align: middle;\n",
       "    }\n",
       "\n",
       "    .dataframe tbody tr th {\n",
       "        vertical-align: top;\n",
       "    }\n",
       "\n",
       "    .dataframe thead th {\n",
       "        text-align: right;\n",
       "    }\n",
       "</style>\n",
       "<table border=\"1\" class=\"dataframe\">\n",
       "  <thead>\n",
       "    <tr style=\"text-align: right;\">\n",
       "      <th></th>\n",
       "      <th>target</th>\n",
       "    </tr>\n",
       "  </thead>\n",
       "  <tbody>\n",
       "    <tr>\n",
       "      <th>9</th>\n",
       "      <td>296.662638</td>\n",
       "    </tr>\n",
       "    <tr>\n",
       "      <th>142</th>\n",
       "      <td>296.662638</td>\n",
       "    </tr>\n",
       "    <tr>\n",
       "      <th>117</th>\n",
       "      <td>296.662638</td>\n",
       "    </tr>\n",
       "    <tr>\n",
       "      <th>154</th>\n",
       "      <td>296.662638</td>\n",
       "    </tr>\n",
       "    <tr>\n",
       "      <th>199</th>\n",
       "      <td>296.662638</td>\n",
       "    </tr>\n",
       "  </tbody>\n",
       "</table>\n",
       "</div>"
      ],
      "text/plain": [
       "         target\n",
       "9    296.662638\n",
       "142  296.662638\n",
       "117  296.662638\n",
       "154  296.662638\n",
       "199  296.662638"
      ]
     },
     "execution_count": 43,
     "metadata": {},
     "output_type": "execute_result"
    }
   ],
   "source": [
    "# e.g., predict_var should give the same result as infinite large sample's variance\n",
    "y_pred_proba.var().head()"
   ]
  },
  {
   "cell_type": "markdown",
   "metadata": {},
   "source": [
    "* a **\"quantile prediction\"**, at quantile point $\\alpha\\in (0,1)$ is a prediction/estimate of the $\\alpha$-quantile of $y'|y$, i.e., of $F^{-1}_{y|x}(\\alpha)$, where $F^{-1}$ is the (generalized) inverse cdf = quantile function of the random variable y|x.\\\n",
    " **Intuition**: \"out of many repetitions/worlds, a fraction of exactly $\\alpha$ will have equal or smaller than this value.\"\n",
    "* an **\"interval prediction\"** or \"predictive interval\" with (symmetric) coverage $c\\in (0,1)$ is a prediction/estimate pair of lower bound $a$ and upper bound $b$ such that $P(a\\le y \\le b| x) = c$ and $P(y \\gneq b| x) = P(y \\lneq a| x) = (1 - c) /2$.\\\n",
    " **Intuition**: \"out of many repetitions/worlds, a fraction of exactly $c$ will be contained in the interval $[a,b]$, and being above is equally likely as being below\"."
   ]
  },
  {
   "cell_type": "markdown",
   "metadata": {},
   "source": [
    "(similar - exercise left to the reader)"
   ]
  },
  {
   "cell_type": "markdown",
   "metadata": {},
   "source": [
    "* a **\"distribution prediction\"** or \"full probabilistic prediction\" is a prediction/estimate of the distribution of $y|x$, e.g., \"it's a normal distribution with mean 42 and variance 1\".\\\n",
    "**Intuition**: exhaustive description of the generating mechanism of many repetitions/worlds."
   ]
  },
  {
   "cell_type": "markdown",
   "metadata": {},
   "source": [
    "note: the true distribution is unknown, and not accessible easily!\n",
    "\n",
    "`y_pred_proba` is a distribution, but in general not equal to the true one!"
   ]
  },
  {
   "cell_type": "markdown",
   "metadata": {},
   "source": [
    "that is, there are:\n",
    "\n",
    "* *true* distribution `y_pred_proba_true` - unknown and unknowable but estimable\n",
    "* `y_pred_proba` - our guess at `y_pred_proba_true`\n",
    "* the actual data `y_true` is *one* `y_pred_proba_true.sample()`\n"
   ]
  },
  {
   "cell_type": "markdown",
   "metadata": {},
   "source": [
    "* `predict` produces guess of `y_pred_proba_true.mean()`\n",
    "* `predict_var` produces guess of `y_pred_proba_true.var()`\n",
    "* `predict_quantiles([0.05, 0.5, 0.95])` produces guess of `y_pred_proba_true.quantiles([0.05, 0.5, 0.95])`\n",
    "* `predict_proba` produces guess of `y_pred_proba_true`\n",
    "\n",
    "the guesses are algorithm specific, and some algorithms are more accurate than others, given data"
   ]
  },
  {
   "cell_type": "markdown",
   "metadata": {},
   "source": [
    "### 2.2 probabilistic metrics - details <a class=\"anchor\" id=\"section2_2\"></a>"
   ]
  },
  {
   "cell_type": "markdown",
   "metadata": {},
   "source": [
    "General usage pattern same as for `sklearn` metrics:\n",
    "\n",
    "1. get some actuals and predictions\n",
    "2. specify the metric - similar to estimator specs\n",
    "3. plug the actuals and predictions into metric to get metric values\n",
    "\n",
    "*but*: need to use dedicated metric for probabilistic predictions\n",
    "\n",
    "* ground truth: `y_true` samples\n",
    "* prediction e.g., `y_predict_proba`, `y_predict_interval`\n",
    "* so, match metric with type of prediction! `metric(y_true, y_predict_proba)`"
   ]
  },
  {
   "cell_type": "markdown",
   "metadata": {},
   "source": [
    "Recall methods available for all probabilistic regressors:\n",
    "\n",
    "- `predict_interval` produces interval predictions.\n",
    "  Argument `coverage` (nominal interval coverage) must be provided.\n",
    "- `predict_quantiles` produces quantile predictions.\n",
    "  Argument `alpha` (quantile values) must be provided.\n",
    "- `predict_var` produces variance predictions. Same args as `predict`.\n",
    "- `predict_proba` produces full distributional predictions. Same args as `predict`."
   ]
  },
  {
   "cell_type": "markdown",
   "metadata": {},
   "source": [
    "| Name | param | prediction/estimate of | `skpro` |\n",
    "| ---- | ----- | ---------------------- | -------- |\n",
    "| point prediction | | conditional expectation $\\mathbb{E}[y\\|x]$ | `predict` |\n",
    "| variance prediction | | conditional variance $Var[y\\|x]$ | `predict_var` |\n",
    "| quantile prediction | $\\alpha\\in (0,1)$ | $\\alpha$-quantile of $y\\|x$ | `predict_quantiles` |\n",
    "| interval prediction | $c\\in (0,1)$| $[a,b]$ s.t. $P(a\\le y \\le b\\| x) = c$ | `predict_interval` |\n",
    "| distribution prediction | | the law/distribution of $y\\|x$ | `predict_proba` |"
   ]
  },
  {
   "cell_type": "markdown",
   "metadata": {},
   "source": [
    "let's produce some probabilistic predictions!"
   ]
  },
  {
   "cell_type": "code",
   "execution_count": 44,
   "metadata": {},
   "outputs": [],
   "source": [
    "# 1. get some actuals and predictions\n",
    "from sklearn.datasets import load_diabetes\n",
    "from sklearn.model_selection import train_test_split\n",
    "\n",
    "X, y = load_diabetes(return_X_y=True, as_frame=True)\n",
    "X_train, X_test, y_train, y_test = train_test_split(X, y)\n",
    "# actuals = y_test"
   ]
  },
  {
   "cell_type": "code",
   "execution_count": 45,
   "metadata": {},
   "outputs": [],
   "source": [
    "from sklearn.ensemble import RandomForestRegressor\n",
    "\n",
    "from skpro.regression.residual import ResidualDouble\n",
    "\n",
    "reg_mean = RandomForestRegressor()\n",
    "reg_proba = ResidualDouble(reg_mean)\n",
    "\n",
    "reg_proba.fit(X_train, y_train)\n",
    "\n",
    "# use any of the probabilistic methods, we have seen this\n",
    "y_pred_int = reg_proba.predict_interval(X_test, coverage=0.95)\n",
    "y_pred_q = reg_proba.predict_quantiles(X_test, alpha=[0.05, 0.95])\n",
    "y_pred_proba = reg_proba.predict_proba(X_test)"
   ]
  },
  {
   "cell_type": "markdown",
   "metadata": {},
   "source": [
    "recall, all have their own output format:"
   ]
  },
  {
   "cell_type": "code",
   "execution_count": 46,
   "metadata": {},
   "outputs": [
    {
     "data": {
      "text/html": [
       "<div>\n",
       "<style scoped>\n",
       "    .dataframe tbody tr th:only-of-type {\n",
       "        vertical-align: middle;\n",
       "    }\n",
       "\n",
       "    .dataframe tbody tr th {\n",
       "        vertical-align: top;\n",
       "    }\n",
       "\n",
       "    .dataframe thead tr th {\n",
       "        text-align: left;\n",
       "    }\n",
       "</style>\n",
       "<table border=\"1\" class=\"dataframe\">\n",
       "  <thead>\n",
       "    <tr>\n",
       "      <th></th>\n",
       "      <th colspan=\"2\" halign=\"left\">target</th>\n",
       "    </tr>\n",
       "    <tr>\n",
       "      <th></th>\n",
       "      <th colspan=\"2\" halign=\"left\">0.95</th>\n",
       "    </tr>\n",
       "    <tr>\n",
       "      <th></th>\n",
       "      <th>lower</th>\n",
       "      <th>upper</th>\n",
       "    </tr>\n",
       "  </thead>\n",
       "  <tbody>\n",
       "    <tr>\n",
       "      <th>385</th>\n",
       "      <td>57.568213</td>\n",
       "      <td>128.151787</td>\n",
       "    </tr>\n",
       "    <tr>\n",
       "      <th>48</th>\n",
       "      <td>57.438213</td>\n",
       "      <td>128.021787</td>\n",
       "    </tr>\n",
       "    <tr>\n",
       "      <th>84</th>\n",
       "      <td>51.838213</td>\n",
       "      <td>122.421787</td>\n",
       "    </tr>\n",
       "    <tr>\n",
       "      <th>248</th>\n",
       "      <td>184.628213</td>\n",
       "      <td>255.211787</td>\n",
       "    </tr>\n",
       "    <tr>\n",
       "      <th>331</th>\n",
       "      <td>67.838213</td>\n",
       "      <td>138.421787</td>\n",
       "    </tr>\n",
       "    <tr>\n",
       "      <th>...</th>\n",
       "      <td>...</td>\n",
       "      <td>...</td>\n",
       "    </tr>\n",
       "    <tr>\n",
       "      <th>340</th>\n",
       "      <td>54.788213</td>\n",
       "      <td>125.371787</td>\n",
       "    </tr>\n",
       "    <tr>\n",
       "      <th>129</th>\n",
       "      <td>188.558213</td>\n",
       "      <td>259.141787</td>\n",
       "    </tr>\n",
       "    <tr>\n",
       "      <th>313</th>\n",
       "      <td>195.668213</td>\n",
       "      <td>266.251787</td>\n",
       "    </tr>\n",
       "    <tr>\n",
       "      <th>368</th>\n",
       "      <td>188.288213</td>\n",
       "      <td>258.871787</td>\n",
       "    </tr>\n",
       "    <tr>\n",
       "      <th>60</th>\n",
       "      <td>61.178213</td>\n",
       "      <td>131.761787</td>\n",
       "    </tr>\n",
       "  </tbody>\n",
       "</table>\n",
       "<p>111 rows × 2 columns</p>\n",
       "</div>"
      ],
      "text/plain": [
       "         target            \n",
       "           0.95            \n",
       "          lower       upper\n",
       "385   57.568213  128.151787\n",
       "48    57.438213  128.021787\n",
       "84    51.838213  122.421787\n",
       "248  184.628213  255.211787\n",
       "331   67.838213  138.421787\n",
       "..          ...         ...\n",
       "340   54.788213  125.371787\n",
       "129  188.558213  259.141787\n",
       "313  195.668213  266.251787\n",
       "368  188.288213  258.871787\n",
       "60    61.178213  131.761787\n",
       "\n",
       "[111 rows x 2 columns]"
      ]
     },
     "execution_count": 46,
     "metadata": {},
     "output_type": "execute_result"
    }
   ],
   "source": [
    "y_pred_int  # lower/upper intervals"
   ]
  },
  {
   "cell_type": "code",
   "execution_count": 47,
   "metadata": {},
   "outputs": [
    {
     "data": {
      "text/html": [
       "<div>\n",
       "<style scoped>\n",
       "    .dataframe tbody tr th:only-of-type {\n",
       "        vertical-align: middle;\n",
       "    }\n",
       "\n",
       "    .dataframe tbody tr th {\n",
       "        vertical-align: top;\n",
       "    }\n",
       "\n",
       "    .dataframe thead tr th {\n",
       "        text-align: left;\n",
       "    }\n",
       "</style>\n",
       "<table border=\"1\" class=\"dataframe\">\n",
       "  <thead>\n",
       "    <tr>\n",
       "      <th></th>\n",
       "      <th colspan=\"2\" halign=\"left\">target</th>\n",
       "    </tr>\n",
       "    <tr>\n",
       "      <th></th>\n",
       "      <th>0.05</th>\n",
       "      <th>0.95</th>\n",
       "    </tr>\n",
       "  </thead>\n",
       "  <tbody>\n",
       "    <tr>\n",
       "      <th>385</th>\n",
       "      <td>63.242199</td>\n",
       "      <td>122.477801</td>\n",
       "    </tr>\n",
       "    <tr>\n",
       "      <th>48</th>\n",
       "      <td>63.112199</td>\n",
       "      <td>122.347801</td>\n",
       "    </tr>\n",
       "    <tr>\n",
       "      <th>84</th>\n",
       "      <td>57.512199</td>\n",
       "      <td>116.747801</td>\n",
       "    </tr>\n",
       "    <tr>\n",
       "      <th>248</th>\n",
       "      <td>190.302199</td>\n",
       "      <td>249.537801</td>\n",
       "    </tr>\n",
       "    <tr>\n",
       "      <th>331</th>\n",
       "      <td>73.512199</td>\n",
       "      <td>132.747801</td>\n",
       "    </tr>\n",
       "    <tr>\n",
       "      <th>...</th>\n",
       "      <td>...</td>\n",
       "      <td>...</td>\n",
       "    </tr>\n",
       "    <tr>\n",
       "      <th>340</th>\n",
       "      <td>60.462199</td>\n",
       "      <td>119.697801</td>\n",
       "    </tr>\n",
       "    <tr>\n",
       "      <th>129</th>\n",
       "      <td>194.232199</td>\n",
       "      <td>253.467801</td>\n",
       "    </tr>\n",
       "    <tr>\n",
       "      <th>313</th>\n",
       "      <td>201.342199</td>\n",
       "      <td>260.577801</td>\n",
       "    </tr>\n",
       "    <tr>\n",
       "      <th>368</th>\n",
       "      <td>193.962199</td>\n",
       "      <td>253.197801</td>\n",
       "    </tr>\n",
       "    <tr>\n",
       "      <th>60</th>\n",
       "      <td>66.852199</td>\n",
       "      <td>126.087801</td>\n",
       "    </tr>\n",
       "  </tbody>\n",
       "</table>\n",
       "<p>111 rows × 2 columns</p>\n",
       "</div>"
      ],
      "text/plain": [
       "         target            \n",
       "           0.05        0.95\n",
       "385   63.242199  122.477801\n",
       "48    63.112199  122.347801\n",
       "84    57.512199  116.747801\n",
       "248  190.302199  249.537801\n",
       "331   73.512199  132.747801\n",
       "..          ...         ...\n",
       "340   60.462199  119.697801\n",
       "129  194.232199  253.467801\n",
       "313  201.342199  260.577801\n",
       "368  193.962199  253.197801\n",
       "60    66.852199  126.087801\n",
       "\n",
       "[111 rows x 2 columns]"
      ]
     },
     "execution_count": 47,
     "metadata": {},
     "output_type": "execute_result"
    }
   ],
   "source": [
    "y_pred_q  # quantiles"
   ]
  },
  {
   "cell_type": "code",
   "execution_count": 48,
   "metadata": {},
   "outputs": [
    {
     "data": {
      "text/html": [
       "<style>#sk-30cfcc64-f9e5-4ebb-96c0-4113d6700420 {color: black;background-color: white;}#sk-30cfcc64-f9e5-4ebb-96c0-4113d6700420 pre{padding: 0;}#sk-30cfcc64-f9e5-4ebb-96c0-4113d6700420 div.sk-toggleable {background-color: white;}#sk-30cfcc64-f9e5-4ebb-96c0-4113d6700420 label.sk-toggleable__label {cursor: pointer;display: block;width: 100%;margin-bottom: 0;padding: 0.3em;box-sizing: border-box;text-align: center;}#sk-30cfcc64-f9e5-4ebb-96c0-4113d6700420 label.sk-toggleable__label-arrow:before {content: \"▸\";float: left;margin-right: 0.25em;color: #696969;}#sk-30cfcc64-f9e5-4ebb-96c0-4113d6700420 label.sk-toggleable__label-arrow:hover:before {color: black;}#sk-30cfcc64-f9e5-4ebb-96c0-4113d6700420 div.sk-estimator:hover label.sk-toggleable__label-arrow:before {color: black;}#sk-30cfcc64-f9e5-4ebb-96c0-4113d6700420 div.sk-toggleable__content {max-height: 0;max-width: 0;overflow: hidden;text-align: left;background-color: #f0f8ff;}#sk-30cfcc64-f9e5-4ebb-96c0-4113d6700420 div.sk-toggleable__content pre {margin: 0.2em;color: black;border-radius: 0.25em;background-color: #f0f8ff;}#sk-30cfcc64-f9e5-4ebb-96c0-4113d6700420 input.sk-toggleable__control:checked~div.sk-toggleable__content {max-height: 200px;max-width: 100%;overflow: auto;}#sk-30cfcc64-f9e5-4ebb-96c0-4113d6700420 input.sk-toggleable__control:checked~label.sk-toggleable__label-arrow:before {content: \"▾\";}#sk-30cfcc64-f9e5-4ebb-96c0-4113d6700420 div.sk-estimator input.sk-toggleable__control:checked~label.sk-toggleable__label {background-color: #d4ebff;}#sk-30cfcc64-f9e5-4ebb-96c0-4113d6700420 div.sk-label input.sk-toggleable__control:checked~label.sk-toggleable__label {background-color: #d4ebff;}#sk-30cfcc64-f9e5-4ebb-96c0-4113d6700420 input.sk-hidden--visually {border: 0;clip: rect(1px 1px 1px 1px);clip: rect(1px, 1px, 1px, 1px);height: 1px;margin: -1px;overflow: hidden;padding: 0;position: absolute;width: 1px;}#sk-30cfcc64-f9e5-4ebb-96c0-4113d6700420 div.sk-estimator {font-family: monospace;background-color: #f0f8ff;border: 1px dotted black;border-radius: 0.25em;box-sizing: border-box;margin-bottom: 0.5em;}#sk-30cfcc64-f9e5-4ebb-96c0-4113d6700420 div.sk-estimator:hover {background-color: #d4ebff;}#sk-30cfcc64-f9e5-4ebb-96c0-4113d6700420 div.sk-parallel-item::after {content: \"\";width: 100%;border-bottom: 1px solid gray;flex-grow: 1;}#sk-30cfcc64-f9e5-4ebb-96c0-4113d6700420 div.sk-label:hover label.sk-toggleable__label {background-color: #d4ebff;}#sk-30cfcc64-f9e5-4ebb-96c0-4113d6700420 div.sk-serial::before {content: \"\";position: absolute;border-left: 1px solid gray;box-sizing: border-box;top: 2em;bottom: 0;left: 50%;}#sk-30cfcc64-f9e5-4ebb-96c0-4113d6700420 div.sk-serial {display: flex;flex-direction: column;align-items: center;background-color: white;padding-right: 0.2em;padding-left: 0.2em;}#sk-30cfcc64-f9e5-4ebb-96c0-4113d6700420 div.sk-item {z-index: 1;}#sk-30cfcc64-f9e5-4ebb-96c0-4113d6700420 div.sk-parallel {display: flex;align-items: stretch;justify-content: center;background-color: white;}#sk-30cfcc64-f9e5-4ebb-96c0-4113d6700420 div.sk-parallel::before {content: \"\";position: absolute;border-left: 1px solid gray;box-sizing: border-box;top: 2em;bottom: 0;left: 50%;}#sk-30cfcc64-f9e5-4ebb-96c0-4113d6700420 div.sk-parallel-item {display: flex;flex-direction: column;position: relative;background-color: white;}#sk-30cfcc64-f9e5-4ebb-96c0-4113d6700420 div.sk-parallel-item:first-child::after {align-self: flex-end;width: 50%;}#sk-30cfcc64-f9e5-4ebb-96c0-4113d6700420 div.sk-parallel-item:last-child::after {align-self: flex-start;width: 50%;}#sk-30cfcc64-f9e5-4ebb-96c0-4113d6700420 div.sk-parallel-item:only-child::after {width: 0;}#sk-30cfcc64-f9e5-4ebb-96c0-4113d6700420 div.sk-dashed-wrapped {border: 1px dashed gray;margin: 0 0.4em 0.5em 0.4em;box-sizing: border-box;padding-bottom: 0.4em;background-color: white;position: relative;}#sk-30cfcc64-f9e5-4ebb-96c0-4113d6700420 div.sk-label label {font-family: monospace;font-weight: bold;background-color: white;display: inline-block;line-height: 1.2em;}#sk-30cfcc64-f9e5-4ebb-96c0-4113d6700420 div.sk-label-container {position: relative;z-index: 2;text-align: center;}#sk-30cfcc64-f9e5-4ebb-96c0-4113d6700420 div.sk-container {/* jupyter's `normalize.less` sets `[hidden] { display: none; }` but bootstrap.min.css set `[hidden] { display: none !important; }` so we also need the `!important` here to be able to override the default hidden behavior on the sphinx rendered scikit-learn.org. See: https://github.com/scikit-learn/scikit-learn/issues/21755 */display: inline-block !important;position: relative;}#sk-30cfcc64-f9e5-4ebb-96c0-4113d6700420 div.sk-text-repr-fallback {display: none;}</style><div id='sk-30cfcc64-f9e5-4ebb-96c0-4113d6700420' class=\"sk-top-container\"><div class=\"sk-text-repr-fallback\"><pre>Normal(columns=Index([&#x27;target&#x27;], dtype=&#x27;object&#x27;),\n",
       "       index=Index([385,  48,  84, 248, 331, 170, 230, 383, 309,  86,\n",
       "       ...\n",
       "       266, 346, 211, 171, 319, 340, 129, 313, 368,  60],\n",
       "      dtype=&#x27;int64&#x27;, length=111),\n",
       "       mu=array([[ 92.86],\n",
       "       [ 92.73],\n",
       "       [ 87.13],\n",
       "       [219.92],\n",
       "       [103.13],\n",
       "       [ 69.04],\n",
       "       [188.5 ],\n",
       "       [ 93.05],\n",
       "       [164.58],\n",
       "       [ 95.23],\n",
       "       [ 86.68],\n",
       "       [107.67],\n",
       "       [127.11],\n",
       "       [116.98],\n",
       "       [136.79],\n",
       "       [185.75],\n",
       "       [191.78],\n",
       "       [132.92],\n",
       "       [172.28],\n",
       "       [116.68],\n",
       "       [...\n",
       "       [18.00634441],\n",
       "       [18.00634441],\n",
       "       [18.00634441],\n",
       "       [18.00634441],\n",
       "       [18.00634441],\n",
       "       [18.00634441],\n",
       "       [18.00634441],\n",
       "       [18.00634441],\n",
       "       [18.00634441],\n",
       "       [18.00634441],\n",
       "       [18.00634441],\n",
       "       [18.00634441],\n",
       "       [18.00634441],\n",
       "       [18.00634441],\n",
       "       [18.00634441],\n",
       "       [18.00634441],\n",
       "       [18.00634441],\n",
       "       [18.00634441],\n",
       "       [18.00634441],\n",
       "       [18.00634441],\n",
       "       [18.00634441],\n",
       "       [18.00634441],\n",
       "       [18.00634441],\n",
       "       [18.00634441],\n",
       "       [18.00634441]]))</pre><b>Please rerun this cell to show the HTML repr or trust the notebook.</b></div><div class=\"sk-container\" hidden><div class='sk-item'><div class=\"sk-estimator sk-toggleable\"><input class=\"sk-toggleable__control sk-hidden--visually\" id=UUID('a3f1d432-dfd7-4fd0-836f-a62b97078fa4') type=\"checkbox\" checked><label for=UUID('a3f1d432-dfd7-4fd0-836f-a62b97078fa4') class='sk-toggleable__label sk-toggleable__label-arrow'>Normal</label><div class=\"sk-toggleable__content\"><pre>Normal(columns=Index([&#x27;target&#x27;], dtype=&#x27;object&#x27;),\n",
       "       index=Index([385,  48,  84, 248, 331, 170, 230, 383, 309,  86,\n",
       "       ...\n",
       "       266, 346, 211, 171, 319, 340, 129, 313, 368,  60],\n",
       "      dtype=&#x27;int64&#x27;, length=111),\n",
       "       mu=array([[ 92.86],\n",
       "       [ 92.73],\n",
       "       [ 87.13],\n",
       "       [219.92],\n",
       "       [103.13],\n",
       "       [ 69.04],\n",
       "       [188.5 ],\n",
       "       [ 93.05],\n",
       "       [164.58],\n",
       "       [ 95.23],\n",
       "       [ 86.68],\n",
       "       [107.67],\n",
       "       [127.11],\n",
       "       [116.98],\n",
       "       [136.79],\n",
       "       [185.75],\n",
       "       [191.78],\n",
       "       [132.92],\n",
       "       [172.28],\n",
       "       [116.68],\n",
       "       [...\n",
       "       [18.00634441],\n",
       "       [18.00634441],\n",
       "       [18.00634441],\n",
       "       [18.00634441],\n",
       "       [18.00634441],\n",
       "       [18.00634441],\n",
       "       [18.00634441],\n",
       "       [18.00634441],\n",
       "       [18.00634441],\n",
       "       [18.00634441],\n",
       "       [18.00634441],\n",
       "       [18.00634441],\n",
       "       [18.00634441],\n",
       "       [18.00634441],\n",
       "       [18.00634441],\n",
       "       [18.00634441],\n",
       "       [18.00634441],\n",
       "       [18.00634441],\n",
       "       [18.00634441],\n",
       "       [18.00634441],\n",
       "       [18.00634441],\n",
       "       [18.00634441],\n",
       "       [18.00634441],\n",
       "       [18.00634441],\n",
       "       [18.00634441]]))</pre></div></div></div></div></div>"
      ],
      "text/plain": [
       "Normal(columns=Index(['target'], dtype='object'),\n",
       "       index=Index([385,  48,  84, 248, 331, 170, 230, 383, 309,  86,\n",
       "       ...\n",
       "       266, 346, 211, 171, 319, 340, 129, 313, 368,  60],\n",
       "      dtype='int64', length=111),\n",
       "       mu=array([[ 92.86],\n",
       "       [ 92.73],\n",
       "       [ 87.13],\n",
       "       [219.92],\n",
       "       [103.13],\n",
       "       [ 69.04],\n",
       "       [188.5 ],\n",
       "       [ 93.05],\n",
       "       [164.58],\n",
       "       [ 95.23],\n",
       "       [ 86.68],\n",
       "       [107.67],\n",
       "       [127.11],\n",
       "       [116.98],\n",
       "       [136.79],\n",
       "       [185.75],\n",
       "       [191.78],\n",
       "       [132.92],\n",
       "       [172.28],\n",
       "       [116.68],\n",
       "       [...\n",
       "       [18.00634441],\n",
       "       [18.00634441],\n",
       "       [18.00634441],\n",
       "       [18.00634441],\n",
       "       [18.00634441],\n",
       "       [18.00634441],\n",
       "       [18.00634441],\n",
       "       [18.00634441],\n",
       "       [18.00634441],\n",
       "       [18.00634441],\n",
       "       [18.00634441],\n",
       "       [18.00634441],\n",
       "       [18.00634441],\n",
       "       [18.00634441],\n",
       "       [18.00634441],\n",
       "       [18.00634441],\n",
       "       [18.00634441],\n",
       "       [18.00634441],\n",
       "       [18.00634441],\n",
       "       [18.00634441],\n",
       "       [18.00634441],\n",
       "       [18.00634441],\n",
       "       [18.00634441],\n",
       "       [18.00634441],\n",
       "       [18.00634441]]))"
      ]
     },
     "execution_count": 48,
     "metadata": {},
     "output_type": "execute_result"
    }
   ],
   "source": [
    "y_pred_proba  # sktime/skpro BaseDistribution"
   ]
  },
  {
   "cell_type": "markdown",
   "metadata": {},
   "source": [
    "we now need to apply a suitable metric, `metric(y_test, y_pred)`\n",
    "\n",
    "IMPORTANT: sequence matters, `y_test` first; `y_pred` has very different type!"
   ]
  },
  {
   "cell_type": "code",
   "execution_count": 49,
   "metadata": {},
   "outputs": [
    {
     "data": {
      "text/plain": [
       "32.4116032777842"
      ]
     },
     "execution_count": 49,
     "metadata": {},
     "output_type": "execute_result"
    }
   ],
   "source": [
    "# 2. specify metric\n",
    "# CRPS = continuous ranked probability score, for distribution predictions\n",
    "from skpro.metrics import CRPS\n",
    "\n",
    "crps = CRPS()\n",
    "\n",
    "# 3. evaluate metric\n",
    "crps(y_test, y_pred_proba)"
   ]
  },
  {
   "cell_type": "markdown",
   "metadata": {},
   "source": [
    "how do we find a metric that fits the prediction type?"
   ]
  },
  {
   "cell_type": "markdown",
   "metadata": {},
   "source": [
    "answer: metrics are tagged\n",
    "\n",
    "important tag: `scitype:y_pred`\n",
    "\n",
    "* `\"pred_proba\"` - distributional, can applied to distributions, `predict_proba` output\n",
    "* `\"pred_quantiles\"` - quantile forecast metric, can be applied to quantile predictions, interval predictions, distributional predictions\n",
    "    * applicable to `predict_quantiles`, `predict_interval`, `predict_proba` outputs\n",
    "* `\"pred_interval\"` - interval forecast metric, can be applied to interval predictions, distributional predictions\n",
    "    * applicable to `predict_interval`, `predict_proba` outputs"
   ]
  },
  {
   "cell_type": "code",
   "execution_count": 50,
   "metadata": {},
   "outputs": [
    {
     "data": {
      "text/plain": [
       "{'estimator_type': 'estimator',\n",
       " 'object_type': 'metric',\n",
       " 'reserved_params': ['multioutput', 'score_average'],\n",
       " 'scitype:y_pred': 'pred_proba',\n",
       " 'lower_is_better': True}"
      ]
     },
     "execution_count": 50,
     "metadata": {},
     "output_type": "execute_result"
    }
   ],
   "source": [
    "crps.get_tags()"
   ]
  },
  {
   "cell_type": "markdown",
   "metadata": {},
   "source": [
    "listing metrics with the tag, filtering for probabilistic tags:\n",
    "\n",
    "(let's try to find a quantile prediction metric!)"
   ]
  },
  {
   "cell_type": "code",
   "execution_count": 51,
   "metadata": {},
   "outputs": [
    {
     "data": {
      "text/html": [
       "<div>\n",
       "<style scoped>\n",
       "    .dataframe tbody tr th:only-of-type {\n",
       "        vertical-align: middle;\n",
       "    }\n",
       "\n",
       "    .dataframe tbody tr th {\n",
       "        vertical-align: top;\n",
       "    }\n",
       "\n",
       "    .dataframe thead th {\n",
       "        text-align: right;\n",
       "    }\n",
       "</style>\n",
       "<table border=\"1\" class=\"dataframe\">\n",
       "  <thead>\n",
       "    <tr style=\"text-align: right;\">\n",
       "      <th></th>\n",
       "      <th>name</th>\n",
       "      <th>object</th>\n",
       "      <th>scitype:y_pred</th>\n",
       "    </tr>\n",
       "  </thead>\n",
       "  <tbody>\n",
       "    <tr>\n",
       "      <th>0</th>\n",
       "      <td>CRPS</td>\n",
       "      <td>&lt;class 'skpro.metrics._classes.CRPS'&gt;</td>\n",
       "      <td>pred_proba</td>\n",
       "    </tr>\n",
       "    <tr>\n",
       "      <th>1</th>\n",
       "      <td>ConstraintViolation</td>\n",
       "      <td>&lt;class 'skpro.metrics._classes.ConstraintViola...</td>\n",
       "      <td>pred_interval</td>\n",
       "    </tr>\n",
       "    <tr>\n",
       "      <th>2</th>\n",
       "      <td>EmpiricalCoverage</td>\n",
       "      <td>&lt;class 'skpro.metrics._classes.EmpiricalCovera...</td>\n",
       "      <td>pred_interval</td>\n",
       "    </tr>\n",
       "    <tr>\n",
       "      <th>3</th>\n",
       "      <td>LinearizedLogLoss</td>\n",
       "      <td>&lt;class 'skpro.metrics._classes.LinearizedLogLo...</td>\n",
       "      <td>pred_proba</td>\n",
       "    </tr>\n",
       "    <tr>\n",
       "      <th>4</th>\n",
       "      <td>LogLoss</td>\n",
       "      <td>&lt;class 'skpro.metrics._classes.LogLoss'&gt;</td>\n",
       "      <td>pred_proba</td>\n",
       "    </tr>\n",
       "    <tr>\n",
       "      <th>5</th>\n",
       "      <td>PinballLoss</td>\n",
       "      <td>&lt;class 'skpro.metrics._classes.PinballLoss'&gt;</td>\n",
       "      <td>pred_quantiles</td>\n",
       "    </tr>\n",
       "    <tr>\n",
       "      <th>6</th>\n",
       "      <td>SquaredDistrLoss</td>\n",
       "      <td>&lt;class 'skpro.metrics._classes.SquaredDistrLoss'&gt;</td>\n",
       "      <td>pred_proba</td>\n",
       "    </tr>\n",
       "  </tbody>\n",
       "</table>\n",
       "</div>"
      ],
      "text/plain": [
       "                  name                                             object  \\\n",
       "0                 CRPS              <class 'skpro.metrics._classes.CRPS'>   \n",
       "1  ConstraintViolation  <class 'skpro.metrics._classes.ConstraintViola...   \n",
       "2    EmpiricalCoverage  <class 'skpro.metrics._classes.EmpiricalCovera...   \n",
       "3    LinearizedLogLoss  <class 'skpro.metrics._classes.LinearizedLogLo...   \n",
       "4              LogLoss           <class 'skpro.metrics._classes.LogLoss'>   \n",
       "5          PinballLoss       <class 'skpro.metrics._classes.PinballLoss'>   \n",
       "6     SquaredDistrLoss  <class 'skpro.metrics._classes.SquaredDistrLoss'>   \n",
       "\n",
       "   scitype:y_pred  \n",
       "0      pred_proba  \n",
       "1   pred_interval  \n",
       "2   pred_interval  \n",
       "3      pred_proba  \n",
       "4      pred_proba  \n",
       "5  pred_quantiles  \n",
       "6      pred_proba  "
      ]
     },
     "execution_count": 51,
     "metadata": {},
     "output_type": "execute_result"
    }
   ],
   "source": [
    "from skpro.registry import all_objects\n",
    "\n",
    "all_objects(\n",
    "    \"metric\",\n",
    "    as_dataframe=True,\n",
    "    return_tags=\"scitype:y_pred\",\n",
    ")"
   ]
  },
  {
   "cell_type": "markdown",
   "metadata": {},
   "source": [
    "`PinballLoss` is a quantile forecast metric:"
   ]
  },
  {
   "cell_type": "code",
   "execution_count": 52,
   "metadata": {},
   "outputs": [
    {
     "data": {
      "text/plain": [
       "10.256319541091692"
      ]
     },
     "execution_count": 52,
     "metadata": {},
     "output_type": "execute_result"
    }
   ],
   "source": [
    "from skpro.metrics import PinballLoss\n",
    "\n",
    "pinball_loss = PinballLoss()\n",
    "\n",
    "pinball_loss(y_test, y_pred_q)"
   ]
  },
  {
   "cell_type": "markdown",
   "metadata": {},
   "source": [
    "... this is by default an average (grand average, float)\n",
    "\n",
    "* averages over samples in `y_pred` / `y_test` (rows)\n",
    "* averages over variables (columns)"
   ]
  },
  {
   "cell_type": "markdown",
   "metadata": {},
   "source": [
    "what if we don't want these averages?"
   ]
  },
  {
   "cell_type": "markdown",
   "metadata": {},
   "source": [
    "* variable (column) averaging is controlled by the `multioutput` arg.\n",
    "    * `\"raw_values\"` prevents averaging, `\"uniform_average\"` computes arithmetic mean.\n",
    "* evaluation by row via the `evaluate_by_index` method\n",
    "    * can be useful for diagnostics or statistical tests"
   ]
  },
  {
   "cell_type": "code",
   "execution_count": 53,
   "metadata": {},
   "outputs": [
    {
     "data": {
      "text/html": [
       "<div>\n",
       "<style scoped>\n",
       "    .dataframe tbody tr th:only-of-type {\n",
       "        vertical-align: middle;\n",
       "    }\n",
       "\n",
       "    .dataframe tbody tr th {\n",
       "        vertical-align: top;\n",
       "    }\n",
       "\n",
       "    .dataframe thead th {\n",
       "        text-align: right;\n",
       "    }\n",
       "</style>\n",
       "<table border=\"1\" class=\"dataframe\">\n",
       "  <thead>\n",
       "    <tr style=\"text-align: right;\">\n",
       "      <th></th>\n",
       "      <th>target</th>\n",
       "    </tr>\n",
       "  </thead>\n",
       "  <tbody>\n",
       "    <tr>\n",
       "      <th>385</th>\n",
       "      <td>115.981008</td>\n",
       "    </tr>\n",
       "    <tr>\n",
       "      <th>48</th>\n",
       "      <td>10.660141</td>\n",
       "    </tr>\n",
       "    <tr>\n",
       "      <th>84</th>\n",
       "      <td>13.874095</td>\n",
       "    </tr>\n",
       "    <tr>\n",
       "      <th>248</th>\n",
       "      <td>28.144593</td>\n",
       "    </tr>\n",
       "    <tr>\n",
       "      <th>331</th>\n",
       "      <td>85.711008</td>\n",
       "    </tr>\n",
       "    <tr>\n",
       "      <th>...</th>\n",
       "      <td>...</td>\n",
       "    </tr>\n",
       "    <tr>\n",
       "      <th>340</th>\n",
       "      <td>115.761008</td>\n",
       "    </tr>\n",
       "    <tr>\n",
       "      <th>129</th>\n",
       "      <td>34.074696</td>\n",
       "    </tr>\n",
       "    <tr>\n",
       "      <th>313</th>\n",
       "      <td>57.801692</td>\n",
       "    </tr>\n",
       "    <tr>\n",
       "      <th>368</th>\n",
       "      <td>90.421008</td>\n",
       "    </tr>\n",
       "    <tr>\n",
       "      <th>60</th>\n",
       "      <td>25.642375</td>\n",
       "    </tr>\n",
       "  </tbody>\n",
       "</table>\n",
       "<p>111 rows × 1 columns</p>\n",
       "</div>"
      ],
      "text/plain": [
       "         target\n",
       "385  115.981008\n",
       "48    10.660141\n",
       "84    13.874095\n",
       "248   28.144593\n",
       "331   85.711008\n",
       "..          ...\n",
       "340  115.761008\n",
       "129   34.074696\n",
       "313   57.801692\n",
       "368   90.421008\n",
       "60    25.642375\n",
       "\n",
       "[111 rows x 1 columns]"
      ]
     },
     "execution_count": 53,
     "metadata": {},
     "output_type": "execute_result"
    }
   ],
   "source": [
    "crps.evaluate_by_index(y_test, y_pred_proba)"
   ]
  },
  {
   "cell_type": "markdown",
   "metadata": {},
   "source": [
    "Caveat: not every metric is an average over time points, e.g., RMSE\n",
    "\n",
    "In this case, `evaluate_by_index` computes jackknife pseudo-samples\n",
    "\n",
    "(for mean statistics, jackknife pseudo-samples are equal to individual samples)"
   ]
  },
  {
   "cell_type": "markdown",
   "metadata": {},
   "source": [
    "### 2.3 Benchmark evaluation of probabilistic regressors <a class=\"anchor\" id=\"section2_3\"></a>"
   ]
  },
  {
   "cell_type": "markdown",
   "metadata": {},
   "source": [
    "for quick evaluation and benchmarking,\n",
    "\n",
    "the `benchmarking.evaluate` utility can be used:"
   ]
  },
  {
   "cell_type": "code",
   "execution_count": 54,
   "metadata": {},
   "outputs": [
    {
     "data": {
      "text/html": [
       "<div>\n",
       "<style scoped>\n",
       "    .dataframe tbody tr th:only-of-type {\n",
       "        vertical-align: middle;\n",
       "    }\n",
       "\n",
       "    .dataframe tbody tr th {\n",
       "        vertical-align: top;\n",
       "    }\n",
       "\n",
       "    .dataframe thead th {\n",
       "        text-align: right;\n",
       "    }\n",
       "</style>\n",
       "<table border=\"1\" class=\"dataframe\">\n",
       "  <thead>\n",
       "    <tr style=\"text-align: right;\">\n",
       "      <th></th>\n",
       "      <th>test_CRPS</th>\n",
       "      <th>fit_time</th>\n",
       "      <th>pred_time</th>\n",
       "      <th>len_y_train</th>\n",
       "    </tr>\n",
       "  </thead>\n",
       "  <tbody>\n",
       "    <tr>\n",
       "      <th>0</th>\n",
       "      <td>31.783451</td>\n",
       "      <td>0.002886</td>\n",
       "      <td>0.000984</td>\n",
       "      <td>294</td>\n",
       "    </tr>\n",
       "    <tr>\n",
       "      <th>1</th>\n",
       "      <td>33.574329</td>\n",
       "      <td>0.003754</td>\n",
       "      <td>0.001477</td>\n",
       "      <td>295</td>\n",
       "    </tr>\n",
       "    <tr>\n",
       "      <th>2</th>\n",
       "      <td>29.909655</td>\n",
       "      <td>0.002580</td>\n",
       "      <td>0.001086</td>\n",
       "      <td>295</td>\n",
       "    </tr>\n",
       "  </tbody>\n",
       "</table>\n",
       "</div>"
      ],
      "text/plain": [
       "   test_CRPS  fit_time  pred_time  len_y_train\n",
       "0  31.783451  0.002886   0.000984          294\n",
       "1  33.574329  0.003754   0.001477          295\n",
       "2  29.909655  0.002580   0.001086          295"
      ]
     },
     "execution_count": 54,
     "metadata": {},
     "output_type": "execute_result"
    }
   ],
   "source": [
    "from sklearn.datasets import load_diabetes\n",
    "from sklearn.linear_model import LinearRegression\n",
    "from sklearn.model_selection import KFold\n",
    "\n",
    "from skpro.benchmarking.evaluate import evaluate\n",
    "from skpro.metrics import CRPS\n",
    "from skpro.regression.residual import ResidualDouble\n",
    "\n",
    "# 1. specify dataset\n",
    "X, y = load_diabetes(return_X_y=True, as_frame=True)\n",
    "\n",
    "# 2. specify estimator\n",
    "estimator = ResidualDouble(LinearRegression())\n",
    "\n",
    "# 3. specify cross-validation schema\n",
    "cv = KFold(n_splits=3)\n",
    "\n",
    "# 4. specify evaluation metric\n",
    "crps = CRPS()\n",
    "\n",
    "# 5. evaluate - run the benchmark\n",
    "results = evaluate(estimator=estimator, X=X, y=y, cv=cv, scoring=crps)\n",
    "\n",
    "# results are pd.DataFrame\n",
    "# each row is one repetition of the cross-validation on one fold fit/predict/evaluate\n",
    "# columns report performance, runtime, and other optional information (see docstring)\n",
    "results"
   ]
  },
  {
   "cell_type": "markdown",
   "metadata": {},
   "source": [
    "## 3. Advanced composition patterns <a class=\"anchor\" id=\"chapter3\"></a>"
   ]
  },
  {
   "cell_type": "markdown",
   "metadata": {},
   "source": [
    "we introduce a number of composition patterns available in `skpro`:\n",
    "\n",
    "* reducer-wrappers that turn `sklearn` regressors into probabilistic ones\n",
    "* pipelines of `sklearn` transformers with `skpro` regressors\n",
    "* tuning `skpro` probabilistic regressors via grid/random search, minimizing a probabilistic metric\n",
    "* ensembling multiple `skpro` probabilistic regressors"
   ]
  },
  {
   "cell_type": "markdown",
   "metadata": {},
   "source": [
    "data used in this section:"
   ]
  },
  {
   "cell_type": "code",
   "execution_count": 55,
   "metadata": {},
   "outputs": [],
   "source": [
    "from sklearn.datasets import load_diabetes\n",
    "from sklearn.model_selection import train_test_split\n",
    "\n",
    "X, y = load_diabetes(return_X_y=True, as_frame=True)\n",
    "X_train, X_test, y_train, y_test = train_test_split(X, y)"
   ]
  },
  {
   "cell_type": "markdown",
   "metadata": {},
   "source": [
    "evaluation metric used in this section:"
   ]
  },
  {
   "cell_type": "code",
   "execution_count": 56,
   "metadata": {},
   "outputs": [],
   "source": [
    "crps = CRPS()"
   ]
  },
  {
   "cell_type": "markdown",
   "metadata": {},
   "source": [
    "### 3.1 Reducers to turn `sklearn` regressors probabilistic <a class=\"anchor\" id=\"section3_1\"></a>"
   ]
  },
  {
   "cell_type": "markdown",
   "metadata": {},
   "source": [
    "there are many common algorithms that turn a non-probabilistic tabular regressor probabilistic\n",
    "\n",
    "formally, this is a type of \"reduction\" - of probabilistic supervised tabular to non-probabilistic supervised tabular\n",
    "\n",
    "Examples:\n",
    "\n",
    "* predicting variance equal to training residual variance - `ResidualDouble` with standard settings\n",
    "    * or other unconditional distribution estimate for residuals\n",
    "* \"squaring the residual\" two-step prediction - `ResidualDouble`\n",
    "* boostrap prediction intervals - `BootstrapRegressor`\n",
    "* conformal prediction intervals - contributions appreciated :-)\n",
    "* natural gradient boosting aka NGBoost - contributions appreciated :-)"
   ]
  },
  {
   "cell_type": "markdown",
   "metadata": {},
   "source": [
    "### 3.1.1 constant variance prediction <a class=\"anchor\" id=\"section3_1_1\"></a>"
   ]
  },
  {
   "cell_type": "code",
   "execution_count": 57,
   "metadata": {},
   "outputs": [
    {
     "data": {
      "text/plain": [
       "31.18872502807047"
      ]
     },
     "execution_count": 57,
     "metadata": {},
     "output_type": "execute_result"
    }
   ],
   "source": [
    "from sklearn.ensemble import RandomForestRegressor\n",
    "from sklearn.model_selection import KFold\n",
    "\n",
    "# estimator specification - use any sklearn regressor for reg_mean\n",
    "reg_mean = RandomForestRegressor()\n",
    "reg_proba = ResidualDouble(reg_mean, cv=KFold(5))\n",
    "# cv is used to estimate out-of-sample residual variance via 5-fold CV\n",
    "# note - in-sample predictions will usually underestimate the variance!\n",
    "\n",
    "# fit and predict\n",
    "reg_proba.fit(X_train, y_train)\n",
    "y_pred_proba = reg_proba.predict_proba(X_test)\n",
    "\n",
    "# evaluate\n",
    "crps(y_test, y_pred_proba)"
   ]
  },
  {
   "cell_type": "code",
   "execution_count": 58,
   "metadata": {},
   "outputs": [
    {
     "data": {
      "text/plain": [
       "<Axes: xlabel='Correct label $y_i$', ylabel='Prediction interval $\\\\widehat{y}_i$'>"
      ]
     },
     "execution_count": 58,
     "metadata": {},
     "output_type": "execute_result"
    },
    {
     "data": {
      "image/png": "[encoded data removed]",
      "text/plain": [
       "<Figure size 640x480 with 1 Axes>"
      ]
     },
     "metadata": {},
     "output_type": "display_data"
    }
   ],
   "source": [
    "from skpro.utils.plotting import plot_crossplot_interval\n",
    "\n",
    "plot_crossplot_interval(y_test, y_pred_proba, coverage=0.9)"
   ]
  },
  {
   "cell_type": "markdown",
   "metadata": {},
   "source": [
    "### 3.1.2 two-step residual prediction <a class=\"anchor\" id=\"section3_1_2\"></a>"
   ]
  },
  {
   "cell_type": "code",
   "execution_count": 59,
   "metadata": {},
   "outputs": [
    {
     "data": {
      "text/plain": [
       "31.76074641872546"
      ]
     },
     "execution_count": 59,
     "metadata": {},
     "output_type": "execute_result"
    }
   ],
   "source": [
    "from sklearn.ensemble import RandomForestRegressor\n",
    "from sklearn.model_selection import KFold\n",
    "\n",
    "# estimator specification - use any sklearn regressor for reg_mean and reg_resid\n",
    "reg_mean = RandomForestRegressor()\n",
    "reg_resid = RandomForestRegressor()\n",
    "reg_proba = ResidualDouble(reg_mean, estimator_resid=reg_resid, cv=KFold(5))\n",
    "# cv is used to estimate out-of-sample residual variance via 5-fold CV\n",
    "\n",
    "# fit and predict\n",
    "reg_proba.fit(X_train, y_train)\n",
    "y_pred_proba = reg_proba.predict_proba(X_test)\n",
    "\n",
    "# evaluate\n",
    "crps(y_test, y_pred_proba)"
   ]
  },
  {
   "cell_type": "code",
   "execution_count": 60,
   "metadata": {},
   "outputs": [
    {
     "data": {
      "text/plain": [
       "<Axes: xlabel='Correct label $y_i$', ylabel='Prediction interval $\\\\widehat{y}_i$'>"
      ]
     },
     "execution_count": 60,
     "metadata": {},
     "output_type": "execute_result"
    },
    {
     "data": {
      "image/png": "[encoded data removed]",
      "text/plain": [
       "<Figure size 640x480 with 1 Axes>"
      ]
     },
     "metadata": {},
     "output_type": "display_data"
    }
   ],
   "source": [
    "from skpro.utils.plotting import plot_crossplot_interval\n",
    "\n",
    "plot_crossplot_interval(y_test, y_pred_proba, coverage=0.9)"
   ]
  },
  {
   "cell_type": "markdown",
   "metadata": {},
   "source": [
    "### 3.1.3 bootstrap prediction intervals <a class=\"anchor\" id=\"section3_1_3\"></a>"
   ]
  },
  {
   "cell_type": "code",
   "execution_count": 61,
   "metadata": {},
   "outputs": [
    {
     "data": {
      "text/plain": [
       "35.73832114895831"
      ]
     },
     "execution_count": 61,
     "metadata": {},
     "output_type": "execute_result"
    }
   ],
   "source": [
    "from sklearn.linear_model import LinearRegression\n",
    "\n",
    "from skpro.regression.bootstrap import BootstrapRegressor\n",
    "\n",
    "# estimator specification - use any sklearn regressor for reg_mean\n",
    "reg_mean = LinearRegression()\n",
    "reg_proba = BootstrapRegressor(reg_mean, n_bootstrap_samples=100)\n",
    "\n",
    "# fit and predict\n",
    "reg_proba.fit(X_train, y_train)\n",
    "y_pred_proba = reg_proba.predict_proba(X_test)\n",
    "\n",
    "# evaluate\n",
    "crps(y_test, y_pred_proba)"
   ]
  },
  {
   "cell_type": "code",
   "execution_count": 62,
   "metadata": {},
   "outputs": [
    {
     "data": {
      "text/plain": [
       "<Axes: xlabel='Correct label $y_i$', ylabel='Prediction interval $\\\\widehat{y}_i$'>"
      ]
     },
     "execution_count": 62,
     "metadata": {},
     "output_type": "execute_result"
    },
    {
     "data": {
      "image/png": "[encoded data removed]",
      "text/plain": [
       "<Figure size 640x480 with 1 Axes>"
      ]
     },
     "metadata": {},
     "output_type": "display_data"
    }
   ],
   "source": [
    "from skpro.utils.plotting import plot_crossplot_interval\n",
    "\n",
    "plot_crossplot_interval(y_test, y_pred_proba, coverage=0.9)"
   ]
  },
  {
   "cell_type": "markdown",
   "metadata": {},
   "source": [
    "### 3.2 Pipelines of `skpro` regressor and `sklearn` transformers <a class=\"anchor\" id=\"section3_2\"></a>"
   ]
  },
  {
   "cell_type": "markdown",
   "metadata": {},
   "source": [
    "`skpro` regressors can be pipelined with `sklearn` transformers, using the `skpro` pipeline.\n",
    "\n",
    "This ensure presence of `predict_proba` etc in the pipeline object.\n",
    "\n",
    "The syntax is exactly the same as for `sklearn`'s pipeline."
   ]
  },
  {
   "cell_type": "code",
   "execution_count": 63,
   "metadata": {},
   "outputs": [],
   "source": [
    "from sklearn.datasets import load_diabetes\n",
    "from sklearn.model_selection import train_test_split\n",
    "\n",
    "X, y = load_diabetes(return_X_y=True, as_frame=True)\n",
    "X_train, X_test, y_train, y_test = train_test_split(X, y)"
   ]
  },
  {
   "cell_type": "code",
   "execution_count": 64,
   "metadata": {},
   "outputs": [],
   "source": [
    "from sklearn.impute import SimpleImputer as Imputer\n",
    "from sklearn.linear_model import LinearRegression\n",
    "from sklearn.preprocessing import MinMaxScaler\n",
    "\n",
    "from skpro.regression.compose import Pipeline\n",
    "from skpro.regression.residual import ResidualDouble\n",
    "\n",
    "# estimator specification\n",
    "reg_mean = LinearRegression()\n",
    "reg_proba = ResidualDouble(reg_mean)\n",
    "\n",
    "# pipeline is specified as a list of tuples (name, estimator)\n",
    "pipe = Pipeline(\n",
    "    steps=[\n",
    "        (\"imputer\", Imputer()),  # an sklearn transformer\n",
    "        (\"scaler\", MinMaxScaler()),  # an sklearn transformer\n",
    "        (\"regressor\", reg_proba),  # an skpro regressor\n",
    "    ]\n",
    ")"
   ]
  },
  {
   "cell_type": "code",
   "execution_count": 65,
   "metadata": {},
   "outputs": [
    {
     "data": {
      "text/html": [
       "<style>#sk-2038df8c-9deb-4ef7-a69e-3ca798db653e {color: black;background-color: white;}#sk-2038df8c-9deb-4ef7-a69e-3ca798db653e pre{padding: 0;}#sk-2038df8c-9deb-4ef7-a69e-3ca798db653e div.sk-toggleable {background-color: white;}#sk-2038df8c-9deb-4ef7-a69e-3ca798db653e label.sk-toggleable__label {cursor: pointer;display: block;width: 100%;margin-bottom: 0;padding: 0.3em;box-sizing: border-box;text-align: center;}#sk-2038df8c-9deb-4ef7-a69e-3ca798db653e label.sk-toggleable__label-arrow:before {content: \"▸\";float: left;margin-right: 0.25em;color: #696969;}#sk-2038df8c-9deb-4ef7-a69e-3ca798db653e label.sk-toggleable__label-arrow:hover:before {color: black;}#sk-2038df8c-9deb-4ef7-a69e-3ca798db653e div.sk-estimator:hover label.sk-toggleable__label-arrow:before {color: black;}#sk-2038df8c-9deb-4ef7-a69e-3ca798db653e div.sk-toggleable__content {max-height: 0;max-width: 0;overflow: hidden;text-align: left;background-color: #f0f8ff;}#sk-2038df8c-9deb-4ef7-a69e-3ca798db653e div.sk-toggleable__content pre {margin: 0.2em;color: black;border-radius: 0.25em;background-color: #f0f8ff;}#sk-2038df8c-9deb-4ef7-a69e-3ca798db653e input.sk-toggleable__control:checked~div.sk-toggleable__content {max-height: 200px;max-width: 100%;overflow: auto;}#sk-2038df8c-9deb-4ef7-a69e-3ca798db653e input.sk-toggleable__control:checked~label.sk-toggleable__label-arrow:before {content: \"▾\";}#sk-2038df8c-9deb-4ef7-a69e-3ca798db653e div.sk-estimator input.sk-toggleable__control:checked~label.sk-toggleable__label {background-color: #d4ebff;}#sk-2038df8c-9deb-4ef7-a69e-3ca798db653e div.sk-label input.sk-toggleable__control:checked~label.sk-toggleable__label {background-color: #d4ebff;}#sk-2038df8c-9deb-4ef7-a69e-3ca798db653e input.sk-hidden--visually {border: 0;clip: rect(1px 1px 1px 1px);clip: rect(1px, 1px, 1px, 1px);height: 1px;margin: -1px;overflow: hidden;padding: 0;position: absolute;width: 1px;}#sk-2038df8c-9deb-4ef7-a69e-3ca798db653e div.sk-estimator {font-family: monospace;background-color: #f0f8ff;border: 1px dotted black;border-radius: 0.25em;box-sizing: border-box;margin-bottom: 0.5em;}#sk-2038df8c-9deb-4ef7-a69e-3ca798db653e div.sk-estimator:hover {background-color: #d4ebff;}#sk-2038df8c-9deb-4ef7-a69e-3ca798db653e div.sk-parallel-item::after {content: \"\";width: 100%;border-bottom: 1px solid gray;flex-grow: 1;}#sk-2038df8c-9deb-4ef7-a69e-3ca798db653e div.sk-label:hover label.sk-toggleable__label {background-color: #d4ebff;}#sk-2038df8c-9deb-4ef7-a69e-3ca798db653e div.sk-serial::before {content: \"\";position: absolute;border-left: 1px solid gray;box-sizing: border-box;top: 2em;bottom: 0;left: 50%;}#sk-2038df8c-9deb-4ef7-a69e-3ca798db653e div.sk-serial {display: flex;flex-direction: column;align-items: center;background-color: white;padding-right: 0.2em;padding-left: 0.2em;}#sk-2038df8c-9deb-4ef7-a69e-3ca798db653e div.sk-item {z-index: 1;}#sk-2038df8c-9deb-4ef7-a69e-3ca798db653e div.sk-parallel {display: flex;align-items: stretch;justify-content: center;background-color: white;}#sk-2038df8c-9deb-4ef7-a69e-3ca798db653e div.sk-parallel::before {content: \"\";position: absolute;border-left: 1px solid gray;box-sizing: border-box;top: 2em;bottom: 0;left: 50%;}#sk-2038df8c-9deb-4ef7-a69e-3ca798db653e div.sk-parallel-item {display: flex;flex-direction: column;position: relative;background-color: white;}#sk-2038df8c-9deb-4ef7-a69e-3ca798db653e div.sk-parallel-item:first-child::after {align-self: flex-end;width: 50%;}#sk-2038df8c-9deb-4ef7-a69e-3ca798db653e div.sk-parallel-item:last-child::after {align-self: flex-start;width: 50%;}#sk-2038df8c-9deb-4ef7-a69e-3ca798db653e div.sk-parallel-item:only-child::after {width: 0;}#sk-2038df8c-9deb-4ef7-a69e-3ca798db653e div.sk-dashed-wrapped {border: 1px dashed gray;margin: 0 0.4em 0.5em 0.4em;box-sizing: border-box;padding-bottom: 0.4em;background-color: white;position: relative;}#sk-2038df8c-9deb-4ef7-a69e-3ca798db653e div.sk-label label {font-family: monospace;font-weight: bold;background-color: white;display: inline-block;line-height: 1.2em;}#sk-2038df8c-9deb-4ef7-a69e-3ca798db653e div.sk-label-container {position: relative;z-index: 2;text-align: center;}#sk-2038df8c-9deb-4ef7-a69e-3ca798db653e div.sk-container {/* jupyter's `normalize.less` sets `[hidden] { display: none; }` but bootstrap.min.css set `[hidden] { display: none !important; }` so we also need the `!important` here to be able to override the default hidden behavior on the sphinx rendered scikit-learn.org. See: https://github.com/scikit-learn/scikit-learn/issues/21755 */display: inline-block !important;position: relative;}#sk-2038df8c-9deb-4ef7-a69e-3ca798db653e div.sk-text-repr-fallback {display: none;}</style><div id='sk-2038df8c-9deb-4ef7-a69e-3ca798db653e' class=\"sk-top-container\"><div class=\"sk-text-repr-fallback\"><pre>Pipeline(steps=[(&#x27;imputer&#x27;, SimpleImputer()), (&#x27;scaler&#x27;, MinMaxScaler()),\n",
       "                (&#x27;regressor&#x27;, ResidualDouble(estimator=LinearRegression()))])</pre><b>Please rerun this cell to show the HTML repr or trust the notebook.</b></div><div class=\"sk-container\" hidden><div class=\"sk-item sk-dashed-wrapped\"><div class='sk-label-container'><div class=\"sk-label sk-toggleable\"><input class=\"sk-toggleable__control sk-hidden--visually\" id=UUID('26f5ef5f-fa15-4f1d-8256-71190aa332f1') type=\"checkbox\" ><label for=UUID('26f5ef5f-fa15-4f1d-8256-71190aa332f1') class='sk-toggleable__label sk-toggleable__label-arrow'>Pipeline</label><div class=\"sk-toggleable__content\"><pre>Pipeline(steps=[(&#x27;imputer&#x27;, SimpleImputer()), (&#x27;scaler&#x27;, MinMaxScaler()),\n",
       "                (&#x27;regressor&#x27;, ResidualDouble(estimator=LinearRegression()))])</pre></div></div></div><div class=\"sk-serial\"><div class='sk-item'><div class=\"sk-estimator sk-toggleable\"><input class=\"sk-toggleable__control sk-hidden--visually\" id=UUID('b635498a-87c8-46d2-ba57-dfe6d7a17cb1') type=\"checkbox\" ><label for=UUID('b635498a-87c8-46d2-ba57-dfe6d7a17cb1') class='sk-toggleable__label sk-toggleable__label-arrow'>SimpleImputer</label><div class=\"sk-toggleable__content\"><pre>SimpleImputer()</pre></div></div></div><div class='sk-item'><div class=\"sk-estimator sk-toggleable\"><input class=\"sk-toggleable__control sk-hidden--visually\" id=UUID('d25d1a99-7d7d-47b6-adb4-c5ed3974cf55') type=\"checkbox\" ><label for=UUID('d25d1a99-7d7d-47b6-adb4-c5ed3974cf55') class='sk-toggleable__label sk-toggleable__label-arrow'>MinMaxScaler</label><div class=\"sk-toggleable__content\"><pre>MinMaxScaler()</pre></div></div></div><div class=\"sk-item sk-dashed-wrapped\"><div class='sk-label-container'><div class=\"sk-label sk-toggleable\"><input class=\"sk-toggleable__control sk-hidden--visually\" id=UUID('f09fc7a0-176d-4d25-86f9-82f37a89a72c') type=\"checkbox\" ><label for=UUID('f09fc7a0-176d-4d25-86f9-82f37a89a72c') class='sk-toggleable__label sk-toggleable__label-arrow'>regressor: ResidualDouble</label><div class=\"sk-toggleable__content\"><pre>ResidualDouble(estimator=LinearRegression())</pre></div></div></div><div class=\"sk-parallel\"><div class=\"sk-parallel-item\"><div class=\"sk-item\"><div class=\"sk-serial\"><div class='sk-item'><div class=\"sk-estimator sk-toggleable\"><input class=\"sk-toggleable__control sk-hidden--visually\" id=UUID('fc3984f2-3c0e-4139-9b87-5e301e88b180') type=\"checkbox\" ><label for=UUID('fc3984f2-3c0e-4139-9b87-5e301e88b180') class='sk-toggleable__label sk-toggleable__label-arrow'>LinearRegression</label><div class=\"sk-toggleable__content\"><pre>LinearRegression()</pre></div></div></div></div></div></div></div></div></div></div></div></div>"
      ],
      "text/plain": [
       "Pipeline(steps=[('imputer', SimpleImputer()), ('scaler', MinMaxScaler()),\n",
       "                ('regressor', ResidualDouble(estimator=LinearRegression()))])"
      ]
     },
     "execution_count": 65,
     "metadata": {},
     "output_type": "execute_result"
    }
   ],
   "source": [
    "pipe"
   ]
  },
  {
   "cell_type": "code",
   "execution_count": 66,
   "metadata": {},
   "outputs": [],
   "source": [
    "# the pipeline behaves as any skpro regressor\n",
    "pipe.fit(X_train, y_train)\n",
    "y_pred = pipe.predict(X=X_test)\n",
    "y_pred_proba = pipe.predict_proba(X=X_test)"
   ]
  },
  {
   "cell_type": "markdown",
   "metadata": {},
   "source": [
    "the pipeline provides the familiar nested `get_params`, `set_params` interface:\n",
    "\n",
    "nested parameters are keyed `componentname__parametername`"
   ]
  },
  {
   "cell_type": "code",
   "execution_count": 67,
   "metadata": {},
   "outputs": [
    {
     "data": {
      "text/plain": [
       "{'steps': [('imputer', SimpleImputer()),\n",
       "  ('scaler', MinMaxScaler()),\n",
       "  ('regressor', ResidualDouble(estimator=LinearRegression()))],\n",
       " 'imputer': SimpleImputer(),\n",
       " 'scaler': MinMaxScaler(),\n",
       " 'regressor': ResidualDouble(estimator=LinearRegression()),\n",
       " 'imputer__add_indicator': False,\n",
       " 'imputer__copy': True,\n",
       " 'imputer__fill_value': None,\n",
       " 'imputer__missing_values': nan,\n",
       " 'imputer__strategy': 'mean',\n",
       " 'imputer__verbose': 'deprecated',\n",
       " 'scaler__clip': False,\n",
       " 'scaler__copy': True,\n",
       " 'scaler__feature_range': (0, 1),\n",
       " 'regressor__cv': None,\n",
       " 'regressor__distr_loc_scale_name': None,\n",
       " 'regressor__distr_params': None,\n",
       " 'regressor__distr_type': 'Normal',\n",
       " 'regressor__estimator': LinearRegression(),\n",
       " 'regressor__estimator_resid': None,\n",
       " 'regressor__min_scale': 1e-10,\n",
       " 'regressor__residual_trafo': 'absolute',\n",
       " 'regressor__use_y_pred': False,\n",
       " 'regressor__estimator__copy_X': True,\n",
       " 'regressor__estimator__fit_intercept': True,\n",
       " 'regressor__estimator__n_jobs': None,\n",
       " 'regressor__estimator__normalize': 'deprecated',\n",
       " 'regressor__estimator__positive': False}"
      ]
     },
     "execution_count": 67,
     "metadata": {},
     "output_type": "execute_result"
    }
   ],
   "source": [
    "pipe.get_params()"
   ]
  },
  {
   "cell_type": "markdown",
   "metadata": {},
   "source": [
    "pipelines can also be created via simple lists of estimators,\n",
    "\n",
    "in this case names are generated automatically:"
   ]
  },
  {
   "cell_type": "code",
   "execution_count": 68,
   "metadata": {},
   "outputs": [],
   "source": [
    "# pipeline is specified as a list of tuples (name, estimator)\n",
    "pipe = Pipeline(\n",
    "    steps=[\n",
    "        Imputer(),  # an sklearn transformer\n",
    "        MinMaxScaler(),  # an sklearn transformer\n",
    "        reg_proba,  # an skpro regressor\n",
    "    ]\n",
    ")"
   ]
  },
  {
   "cell_type": "markdown",
   "metadata": {},
   "source": [
    "### 3.3 Tuning of `skpro` regressors via grid and random search <a class=\"anchor\" id=\"section3_3\"></a>"
   ]
  },
  {
   "cell_type": "markdown",
   "metadata": {},
   "source": [
    "`skpro` provides grid and random search tuners to tune arbitrary probabilistic regressors,\n",
    "\n",
    "using probabilistic metrics. Besides this, they function as the `sklearn` tuners do."
   ]
  },
  {
   "cell_type": "code",
   "execution_count": 69,
   "metadata": {},
   "outputs": [],
   "source": [
    "from sklearn.datasets import load_diabetes\n",
    "from sklearn.model_selection import train_test_split\n",
    "\n",
    "X, y = load_diabetes(return_X_y=True, as_frame=True)\n",
    "X_train, X_test, y_train, y_test = train_test_split(X, y)"
   ]
  },
  {
   "cell_type": "code",
   "execution_count": 70,
   "metadata": {},
   "outputs": [],
   "source": [
    "from sklearn.linear_model import LinearRegression\n",
    "from sklearn.model_selection import KFold\n",
    "\n",
    "from skpro.metrics import CRPS\n",
    "from skpro.model_selection import GridSearchCV\n",
    "from skpro.regression.residual import ResidualDouble\n",
    "\n",
    "# cross-validation specification for tuner\n",
    "cv = KFold(n_splits=3)\n",
    "\n",
    "# estimator to be tuned\n",
    "estimator = ResidualDouble(LinearRegression())\n",
    "\n",
    "# tuning grid - do we fit an intercept in the linear regression?\n",
    "param_grid = {\"estimator__fit_intercept\": [True, False]}\n",
    "\n",
    "# metric to be optimized\n",
    "crps_metric = CRPS()\n",
    "\n",
    "# specification of the grid search tuner\n",
    "gscv = GridSearchCV(\n",
    "    estimator=estimator,\n",
    "    param_grid=param_grid,\n",
    "    cv=cv,\n",
    "    scoring=crps_metric,\n",
    ")"
   ]
  },
  {
   "cell_type": "code",
   "execution_count": 71,
   "metadata": {},
   "outputs": [
    {
     "data": {
      "text/html": [
       "<style>#sk-1a3e93a8-e089-4a85-96b0-cf948919fb3d {color: black;background-color: white;}#sk-1a3e93a8-e089-4a85-96b0-cf948919fb3d pre{padding: 0;}#sk-1a3e93a8-e089-4a85-96b0-cf948919fb3d div.sk-toggleable {background-color: white;}#sk-1a3e93a8-e089-4a85-96b0-cf948919fb3d label.sk-toggleable__label {cursor: pointer;display: block;width: 100%;margin-bottom: 0;padding: 0.3em;box-sizing: border-box;text-align: center;}#sk-1a3e93a8-e089-4a85-96b0-cf948919fb3d label.sk-toggleable__label-arrow:before {content: \"▸\";float: left;margin-right: 0.25em;color: #696969;}#sk-1a3e93a8-e089-4a85-96b0-cf948919fb3d label.sk-toggleable__label-arrow:hover:before {color: black;}#sk-1a3e93a8-e089-4a85-96b0-cf948919fb3d div.sk-estimator:hover label.sk-toggleable__label-arrow:before {color: black;}#sk-1a3e93a8-e089-4a85-96b0-cf948919fb3d div.sk-toggleable__content {max-height: 0;max-width: 0;overflow: hidden;text-align: left;background-color: #f0f8ff;}#sk-1a3e93a8-e089-4a85-96b0-cf948919fb3d div.sk-toggleable__content pre {margin: 0.2em;color: black;border-radius: 0.25em;background-color: #f0f8ff;}#sk-1a3e93a8-e089-4a85-96b0-cf948919fb3d input.sk-toggleable__control:checked~div.sk-toggleable__content {max-height: 200px;max-width: 100%;overflow: auto;}#sk-1a3e93a8-e089-4a85-96b0-cf948919fb3d input.sk-toggleable__control:checked~label.sk-toggleable__label-arrow:before {content: \"▾\";}#sk-1a3e93a8-e089-4a85-96b0-cf948919fb3d div.sk-estimator input.sk-toggleable__control:checked~label.sk-toggleable__label {background-color: #d4ebff;}#sk-1a3e93a8-e089-4a85-96b0-cf948919fb3d div.sk-label input.sk-toggleable__control:checked~label.sk-toggleable__label {background-color: #d4ebff;}#sk-1a3e93a8-e089-4a85-96b0-cf948919fb3d input.sk-hidden--visually {border: 0;clip: rect(1px 1px 1px 1px);clip: rect(1px, 1px, 1px, 1px);height: 1px;margin: -1px;overflow: hidden;padding: 0;position: absolute;width: 1px;}#sk-1a3e93a8-e089-4a85-96b0-cf948919fb3d div.sk-estimator {font-family: monospace;background-color: #f0f8ff;border: 1px dotted black;border-radius: 0.25em;box-sizing: border-box;margin-bottom: 0.5em;}#sk-1a3e93a8-e089-4a85-96b0-cf948919fb3d div.sk-estimator:hover {background-color: #d4ebff;}#sk-1a3e93a8-e089-4a85-96b0-cf948919fb3d div.sk-parallel-item::after {content: \"\";width: 100%;border-bottom: 1px solid gray;flex-grow: 1;}#sk-1a3e93a8-e089-4a85-96b0-cf948919fb3d div.sk-label:hover label.sk-toggleable__label {background-color: #d4ebff;}#sk-1a3e93a8-e089-4a85-96b0-cf948919fb3d div.sk-serial::before {content: \"\";position: absolute;border-left: 1px solid gray;box-sizing: border-box;top: 2em;bottom: 0;left: 50%;}#sk-1a3e93a8-e089-4a85-96b0-cf948919fb3d div.sk-serial {display: flex;flex-direction: column;align-items: center;background-color: white;padding-right: 0.2em;padding-left: 0.2em;}#sk-1a3e93a8-e089-4a85-96b0-cf948919fb3d div.sk-item {z-index: 1;}#sk-1a3e93a8-e089-4a85-96b0-cf948919fb3d div.sk-parallel {display: flex;align-items: stretch;justify-content: center;background-color: white;}#sk-1a3e93a8-e089-4a85-96b0-cf948919fb3d div.sk-parallel::before {content: \"\";position: absolute;border-left: 1px solid gray;box-sizing: border-box;top: 2em;bottom: 0;left: 50%;}#sk-1a3e93a8-e089-4a85-96b0-cf948919fb3d div.sk-parallel-item {display: flex;flex-direction: column;position: relative;background-color: white;}#sk-1a3e93a8-e089-4a85-96b0-cf948919fb3d div.sk-parallel-item:first-child::after {align-self: flex-end;width: 50%;}#sk-1a3e93a8-e089-4a85-96b0-cf948919fb3d div.sk-parallel-item:last-child::after {align-self: flex-start;width: 50%;}#sk-1a3e93a8-e089-4a85-96b0-cf948919fb3d div.sk-parallel-item:only-child::after {width: 0;}#sk-1a3e93a8-e089-4a85-96b0-cf948919fb3d div.sk-dashed-wrapped {border: 1px dashed gray;margin: 0 0.4em 0.5em 0.4em;box-sizing: border-box;padding-bottom: 0.4em;background-color: white;position: relative;}#sk-1a3e93a8-e089-4a85-96b0-cf948919fb3d div.sk-label label {font-family: monospace;font-weight: bold;background-color: white;display: inline-block;line-height: 1.2em;}#sk-1a3e93a8-e089-4a85-96b0-cf948919fb3d div.sk-label-container {position: relative;z-index: 2;text-align: center;}#sk-1a3e93a8-e089-4a85-96b0-cf948919fb3d div.sk-container {/* jupyter's `normalize.less` sets `[hidden] { display: none; }` but bootstrap.min.css set `[hidden] { display: none !important; }` so we also need the `!important` here to be able to override the default hidden behavior on the sphinx rendered scikit-learn.org. See: https://github.com/scikit-learn/scikit-learn/issues/21755 */display: inline-block !important;position: relative;}#sk-1a3e93a8-e089-4a85-96b0-cf948919fb3d div.sk-text-repr-fallback {display: none;}</style><div id='sk-1a3e93a8-e089-4a85-96b0-cf948919fb3d' class=\"sk-top-container\"><div class=\"sk-text-repr-fallback\"><pre>GridSearchCV(cv=KFold(n_splits=3, random_state=None, shuffle=False),\n",
       "             estimator=ResidualDouble(estimator=LinearRegression()),\n",
       "             param_grid={&#x27;estimator__fit_intercept&#x27;: [True, False]},\n",
       "             scoring=CRPS())</pre><b>Please rerun this cell to show the HTML repr or trust the notebook.</b></div><div class=\"sk-container\" hidden><div class=\"sk-item sk-dashed-wrapped\"><div class='sk-label-container'><div class=\"sk-label sk-toggleable\"><input class=\"sk-toggleable__control sk-hidden--visually\" id=UUID('bb08578b-7e86-4ee8-af8d-ca4b3feca9a8') type=\"checkbox\" ><label for=UUID('bb08578b-7e86-4ee8-af8d-ca4b3feca9a8') class='sk-toggleable__label sk-toggleable__label-arrow'>GridSearchCV</label><div class=\"sk-toggleable__content\"><pre>GridSearchCV(cv=KFold(n_splits=3, random_state=None, shuffle=False),\n",
       "             estimator=ResidualDouble(estimator=LinearRegression()),\n",
       "             param_grid={&#x27;estimator__fit_intercept&#x27;: [True, False]},\n",
       "             scoring=CRPS())</pre></div></div></div><div class=\"sk-parallel\"><div class=\"sk-parallel-item\"><div class=\"sk-item\"><div class=\"sk-serial\"><div class=\"sk-item sk-dashed-wrapped\"><div class=\"sk-parallel\"><div class=\"sk-parallel-item\"><div class=\"sk-item\"><div class=\"sk-serial\"><div class='sk-item'><div class=\"sk-estimator sk-toggleable\"><input class=\"sk-toggleable__control sk-hidden--visually\" id=UUID('69ab10c8-4d7f-4f10-83af-c7ed6ef89266') type=\"checkbox\" ><label for=UUID('69ab10c8-4d7f-4f10-83af-c7ed6ef89266') class='sk-toggleable__label sk-toggleable__label-arrow'>LinearRegression</label><div class=\"sk-toggleable__content\"><pre>LinearRegression()</pre></div></div></div></div></div></div></div></div></div></div></div><div class=\"sk-parallel-item\"><div class=\"sk-item\"><div class=\"sk-serial\"><div class='sk-item'><div class=\"sk-estimator sk-toggleable\"><input class=\"sk-toggleable__control sk-hidden--visually\" id=UUID('442b76d6-bdef-4fb0-bb0d-937dafaa5208') type=\"checkbox\" ><label for=UUID('442b76d6-bdef-4fb0-bb0d-937dafaa5208') class='sk-toggleable__label sk-toggleable__label-arrow'>CRPS</label><div class=\"sk-toggleable__content\"><pre>CRPS()</pre></div></div></div></div></div></div></div></div></div></div>"
      ],
      "text/plain": [
       "GridSearchCV(cv=KFold(n_splits=3, random_state=None, shuffle=False),\n",
       "             estimator=ResidualDouble(estimator=LinearRegression()),\n",
       "             param_grid={'estimator__fit_intercept': [True, False]},\n",
       "             scoring=CRPS())"
      ]
     },
     "execution_count": 71,
     "metadata": {},
     "output_type": "execute_result"
    }
   ],
   "source": [
    "gscv"
   ]
  },
  {
   "cell_type": "markdown",
   "metadata": {},
   "source": [
    "the grid search tuner behaves like any `skpro` probabilistic regressor:"
   ]
  },
  {
   "cell_type": "code",
   "execution_count": 72,
   "metadata": {},
   "outputs": [],
   "source": [
    "gscv.fit(X_train, y_train)\n",
    "y_pred = gscv.predict(X_test)\n",
    "y_pred_proba = gscv.predict_proba(X_test)"
   ]
  },
  {
   "cell_type": "markdown",
   "metadata": {},
   "source": [
    "random search is similar, except that instead of a grid a parameter sampler should be specified:"
   ]
  },
  {
   "cell_type": "code",
   "execution_count": 73,
   "metadata": {},
   "outputs": [],
   "source": [
    "from skpro.model_selection import RandomizedSearchCV\n",
    "\n",
    "# only difference to GridSearchCV is the param_distributions argument\n",
    "\n",
    "# specification of the random search parameter sampler\n",
    "param_distributions = {\"estimator__fit_intercept\": [True, False]}\n",
    "\n",
    "# specification of the random search tuner\n",
    "rscv = RandomizedSearchCV(\n",
    "    estimator=estimator,\n",
    "    param_distributions=param_distributions,\n",
    "    cv=cv,\n",
    "    scoring=crps_metric,\n",
    ")"
   ]
  },
  {
   "cell_type": "markdown",
   "metadata": {},
   "source": [
    "### 3.4 Bagging/mixture ensemble of probabilistic regressors <a class=\"anchor\" id=\"section3_3\"></a>"
   ]
  },
  {
   "cell_type": "markdown",
   "metadata": {},
   "source": [
    "Classical bagging does the following, for a wrapped estimator:\n",
    "\n",
    "In `fit`:\n",
    "\n",
    "1. subsample rows and/or columns of `X`, `y` to `X_subs`, `y_subs`\n",
    "2. fit clone of wrapped estimator to `X_subs`, `y_subs`\n",
    "3. Repeat 1-2 `n_estimators` times, store that many fitted clones.\n",
    "\n",
    "In `predict`, for `X_test`:\n",
    "\n",
    "1. for all fitted clones, obtain predictions on `X_test` - these are distributions\n",
    "2. return the uniform mixture of these distributions, per test sample"
   ]
  },
  {
   "cell_type": "code",
   "execution_count": 74,
   "metadata": {},
   "outputs": [],
   "source": [
    "from sklearn.datasets import load_diabetes\n",
    "from sklearn.model_selection import train_test_split\n",
    "\n",
    "X, y = load_diabetes(return_X_y=True, as_frame=True)\n",
    "X_train, X_test, y_train, y_test = train_test_split(X, y)"
   ]
  },
  {
   "cell_type": "code",
   "execution_count": 75,
   "metadata": {},
   "outputs": [],
   "source": [
    "from sklearn.linear_model import LinearRegression\n",
    "\n",
    "from skpro.regression.ensemble import BaggingRegressor\n",
    "from skpro.regression.residual import ResidualDouble\n",
    "\n",
    "reg_mean = LinearRegression()\n",
    "reg_proba = ResidualDouble(reg_mean)\n",
    "\n",
    "ens = BaggingRegressor(reg_proba, n_estimators=10)\n",
    "ens.fit(X_train, y_train)\n",
    "\n",
    "y_pred = ens.predict_proba(X_test)"
   ]
  },
  {
   "cell_type": "code",
   "execution_count": 76,
   "metadata": {},
   "outputs": [
    {
     "data": {
      "text/plain": [
       "\"Mixture(columns=Index(['target'], dtype='object'),\\n        distributions=[Normal(columns=Index(['target'], dtype='object'),\\n                              index=Index([ 61, 354, 104,   3,  76, 318, 205, 389,  12, 193,\\n       ...\\n       199, 175, 134, 280,  74, 181, 297, 350, 110,  32],\\n      dtype='int64', length=111),\\n                              mu=array([[178.82396796],\\n       [193.48352954],\\n       [151.05555714],\\n       [174.3113541 ],\\n       [182.55152692],\\n       [169.66476115],\\n       [241.12041457],\\n       [ 81.8989...\\n       [39.20371626],\\n       [39.20371626],\\n       [39.20371626],\\n       [39.20371626],\\n       [39.20371626],\\n       [39.20371626],\\n       [39.20371626],\\n       [39.20371626],\\n       [39.20371626],\\n       [39.20371626],\\n       [39.20371626],\\n       [39.20371626],\\n       [39.20371626],\\n       [39.20371626],\\n       [39.20371626],\\n       [39.20371626],\\n       [39.20371626]]))],\\n        index=Index([ 61, 354, 104,   3,  76, 318, 205, 389,  12, 193,\\n       ...\\n       199, 175, 134, 280,  74, 181, 297, 350, 110,  32],\\n      dtype='int64', length=111))\""
      ]
     },
     "execution_count": 76,
     "metadata": {},
     "output_type": "execute_result"
    }
   ],
   "source": [
    "# y_pred is a mixture distribution!\n",
    "str(y_pred)"
   ]
  },
  {
   "cell_type": "code",
   "execution_count": 77,
   "metadata": {},
   "outputs": [
    {
     "data": {
      "text/plain": [
       "[skpro.distributions.normal.Normal,\n",
       " skpro.distributions.normal.Normal,\n",
       " skpro.distributions.normal.Normal,\n",
       " skpro.distributions.normal.Normal,\n",
       " skpro.distributions.normal.Normal,\n",
       " skpro.distributions.normal.Normal,\n",
       " skpro.distributions.normal.Normal,\n",
       " skpro.distributions.normal.Normal,\n",
       " skpro.distributions.normal.Normal,\n",
       " skpro.distributions.normal.Normal]"
      ]
     },
     "execution_count": 77,
     "metadata": {},
     "output_type": "execute_result"
    }
   ],
   "source": [
    "[type(x) for x in y_pred.distributions]"
   ]
  },
  {
   "cell_type": "markdown",
   "metadata": {},
   "source": [
    "## 4. Extension guide - implementing your own probabilistic regressor <a class=\"anchor\" id=\"chapter4\"></a>"
   ]
  },
  {
   "cell_type": "markdown",
   "metadata": {},
   "source": [
    "\n",
    "`skpro` is meant to be easily extensible, for direct contribution to `skpro` as well as for local/private extension with custom methods.\n",
    "\n",
    "To get started:\n",
    "\n",
    "* Follow the [\"implementing estimator\" developer guide](https://skpro.readthedocs.io/en/stable/developer_guide/add_estimators.html)\n",
    "* Use the [probabilistic regressor template](https://github.com/sktime/skpro/blob/main/extension_templates/regression.py) to get started\n",
    "\n",
    "1. Read through the [probabilistic regression extension template](https://github.com/sktime/skpro/blob/main/extension_templates/regression.py) - this is a `python` file with `todo` blocks that mark the places in which changes need to be added.\n",
    "2. Copy the proba regressor extension template to a local folder in your own repository (local/private extension), or to a suitable location in your clone of the `skpro` or affiliated repository (if contributed extension), inside `skpro.regression`; rename the file and update the file docstring appropriately.\n",
    "3. Address the \"todo\" parts. Usually, this means: changing the name of the class, setting the tag values, specifying hyper-parameters, filling in `__init__`, `_fit`, and at least one of the probabilistic prediction methods, preferably `_predict_proba` (for details see the extension template). You can add private methods as long as they do not override the default public interface. For more details, see the extension template.\n",
    "4. To test your estimator manually: import your estimator and run it in the worfklows in Section 1; then use it in the compositors in Section 3.\n",
    "5. To test your estimator automatically: call `skpro.utils.check_estimator` on your estimator. You can call this on a class or object instance. Ensure you have specified test parameters in the `get_test_params` method, according to the extension template.\n",
    "\n",
    "In case of direct contribution to `skpro` or one of its affiliated packages, additionally:\n",
    "\n",
    "* Add yourself as an author to the code, and to the `CODEOWNERS` for the new estimator file(s).\n",
    "* Create a pull request that contains only the new estimators (and their inheritance tree, if it's not just one class), as well as the automated tests as described above.\n",
    "* In the pull request, describe the estimator and optimally provide a publication or other technical reference for the strategy it implements.\n",
    "* Before making the pull request, ensure that you have all necessary permissions to contribute the code to a permissive license (BSD-3) open source project."
   ]
  },
  {
   "cell_type": "markdown",
   "metadata": {},
   "source": [
    "## 5. Summary<a class=\"anchor\" id=\"chapter5\"></a>\n",
    "\n",
    "* `skpro` is a unified interface toolbox for probabilistic supervised regression, that is, for prediction intervals, quantiles, fully distributional predictions, in a tabular regression setting. The interface is fully interoperable with `scikit-learn` and `scikit-base` interface specifications.\n",
    "\n",
    "* `skpro` comes with rich composition functionality that allows to build complex pipelines easily, and connect easily with other parts of the open source ecosystem, such as `scikit-learn` and individual algorithm libraries.\n",
    "\n",
    "* `skpro` is easy to extend, and comes with user friendly tools to facilitate implementing and testing your own probabilistic regressors and composition principles."
   ]
  },
  {
   "cell_type": "markdown",
   "metadata": {},
   "source": [
    "---\n",
    "\n",
    "### Credits:\n",
    "\n",
    "noteook creation: fkiraly\n",
    "\n",
    "skpro: https://github.com/sktime/skpro/blob/main/CONTRIBUTORS.md"
   ]
  }
 ],
 "metadata": {
  "kernelspec": {
   "display_name": "skpro",
   "language": "python",
   "name": "python3"
  },
  "language_info": {
   "codemirror_mode": {
    "name": "ipython",
    "version": 3
   },
   "file_extension": ".py",
   "mimetype": "text/x-python",
   "name": "python",
   "nbconvert_exporter": "python",
   "pygments_lexer": "ipython3",
   "version": "3.11.4"
  },
  "orig_nbformat": 4,
  "vscode": {
   "interpreter": {
    "hash": "3e631b8a076cc106144e9b132b7d31cae2f1e2660b47e5f9fcb0397caae5fbd5"
   }
  }
 },
 "nbformat": 4,
 "nbformat_minor": 2
}
