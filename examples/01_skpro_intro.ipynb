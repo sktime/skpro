{
 "cells": [
  {
   "attachments": {},
   "cell_type": "markdown",
   "metadata": {},
   "source": [
    "## skpro introduction notebook"
   ]
  },
  {
   "cell_type": "markdown",
   "metadata": {},
   "source": [
    "**Set-up instructions:** On binder, this should run out-of-the-box.\n",
    "\n",
    "To run locally instead, ensure that `skpro` with basic dependency requirements is installed in your python environment."
   ]
  },
  {
   "cell_type": "markdown",
   "metadata": {},
   "source": [
    "`skpro` provides `scikit-learn`-like, `scikit-base` compatible interfaces to:\n",
    "\n",
    "* tabular **supervised regressors with probabilistic prediction modes** - interval, quantile and distribution predictions\n",
    "* **performance metrics to evaluate probabilistic predictions**, e.g., pinball loss, empirical coverage, CRPS\n",
    "* **reductions** to turn non-probabilistic, `scikit-learn` regressors into probabilistic `skpro` regressors, such as bootstrap or conformal\n",
    "* tools for building **pipelines and composite machine learning models**, including tuning via probabilistic performance metrics\n",
    "* symbolic an lazy **probability distributions** with a value domain of `pandas.DataFrame`-s and a `pandas`-like interface\n",
    "\n",
    "**Section 1** provides an overview of common **probabilistic supervised regression workflows** supported by `skpro`.\n",
    "\n",
    "**Section 2** gives an more detailed introduction to **prediction modes, performance metrics, and benchmarking tools**.\n",
    "\n",
    "**Section 3** discusses **advanced composition patterns**, including various ways to add probabilistic capability to any `sklearn` regressor, pipeline building, tuning, ensembling.\n",
    "\n",
    "**Section 4** gives an introduction to how to write **custom estimators** compliant with the `skpro` interface."
   ]
  },
  {
   "cell_type": "code",
   "execution_count": 1,
   "metadata": {},
   "outputs": [],
   "source": [
    "# hide warnings\n",
    "import warnings\n",
    "\n",
    "warnings.filterwarnings(\"ignore\")"
   ]
  },
  {
   "attachments": {},
   "cell_type": "markdown",
   "metadata": {},
   "source": [
    "## 1. Basic probabilistic supervised regression workflows <a class=\"anchor\" id=\"chapter1\"></a>"
   ]
  },
  {
   "cell_type": "markdown",
   "metadata": {},
   "source": [
    "`skpro` revolves around supervised probabilistic regressors:\n",
    "\n",
    "* `fit(X, y)` with tabular features `X`, labels `y`, same rows, both `pd.DataFrame`\n",
    "* `predict_interval(X_test, coverage=0.90)` for interval predictions of labels\n",
    "* `predict_quantiles(X_test, alpha=[0.05, 0.95])` for quantile predictions of labels\n",
    "* `predict_var(X_test)` for variance predictions of labels\n",
    "* `predict(X_test)` for mean predictions\n",
    "* `predict_proba(X_test)` for distributional prediction"
   ]
  },
  {
   "attachments": {},
   "cell_type": "markdown",
   "metadata": {},
   "source": [
    "### 1.1 basic deployment workflow"
   ]
  },
  {
   "cell_type": "markdown",
   "metadata": {},
   "source": [
    "`skpro` regressors are used via `fit` then `predict_proba` etc.\n",
    "\n",
    "Same as `sklearn` regressors - `X` and `y` should be `pd.DataFrame` (`numpy` is also ok but not recommended)"
   ]
  },
  {
   "cell_type": "code",
   "execution_count": 2,
   "metadata": {},
   "outputs": [],
   "source": [
    "from sklearn.datasets import load_diabetes\n",
    "from sklearn.ensemble import RandomForestRegressor\n",
    "from sklearn.linear_model import LinearRegression\n",
    "from sklearn.model_selection import train_test_split\n",
    "\n",
    "from skpro.regression.residual import ResidualDouble\n",
    "\n",
    "# step 1: data specification\n",
    "X, y = load_diabetes(return_X_y=True, as_frame=True)\n",
    "X_train, X_new, y_train, _ = train_test_split(X, y)\n",
    "\n",
    "# step 2: specifying the regressor\n",
    "# example - random forest for mean prediction\n",
    "# linear regression for variance prediction\n",
    "reg_mean = RandomForestRegressor()\n",
    "reg_resid = LinearRegression()\n",
    "reg_proba = ResidualDouble(reg_mean, reg_resid)\n",
    "\n",
    "# step 3: fitting the model to training data\n",
    "reg_proba.fit(X_train, y_train)\n",
    "\n",
    "# step 4: predicting labels on new data\n",
    "\n",
    "# probabilistic prediction modes - pick any or multiple\n",
    "# we show the return types in detail below\n",
    "\n",
    "# full distribution prediction\n",
    "y_pred_proba = reg_proba.predict_proba(X_new)\n",
    "\n",
    "# interval prediction\n",
    "y_pred_interval = reg_proba.predict_interval(X_new, coverage=0.9)\n",
    "\n",
    "# quantile prediction\n",
    "y_pred_quantiles = reg_proba.predict_quantiles(X_new, alpha=[0.05, 0.5, 0.95])\n",
    "\n",
    "# variance prediction\n",
    "y_pred_var = reg_proba.predict_var(X_new)\n",
    "\n",
    "# mean prediction is same as \"classical\" sklearn predict, also available\n",
    "y_pred_mean = reg_proba.predict(X_new)"
   ]
  },
  {
   "cell_type": "markdown",
   "metadata": {},
   "source": [
    "### 1.1.1 distribution predictions"
   ]
  },
  {
   "cell_type": "markdown",
   "metadata": {},
   "source": [
    "`y_pred_proba` is an `skpro` distribution - it has index and columns like `pd.DataFrame`\n",
    "\n",
    "\"we predict that true labels are distributed according to `y_pred_proba`\"\n",
    "\n",
    "(here: distribution marginal by row/columns)"
   ]
  },
  {
   "cell_type": "code",
   "execution_count": 3,
   "metadata": {},
   "outputs": [
    {
     "data": {
      "text/html": [
       "<style>#sk-a8d6a9c4-85c6-4253-9e56-f34bd4dda654 {color: black;background-color: white;}#sk-a8d6a9c4-85c6-4253-9e56-f34bd4dda654 pre{padding: 0;}#sk-a8d6a9c4-85c6-4253-9e56-f34bd4dda654 div.sk-toggleable {background-color: white;}#sk-a8d6a9c4-85c6-4253-9e56-f34bd4dda654 label.sk-toggleable__label {cursor: pointer;display: block;width: 100%;margin-bottom: 0;padding: 0.3em;box-sizing: border-box;text-align: center;}#sk-a8d6a9c4-85c6-4253-9e56-f34bd4dda654 label.sk-toggleable__label-arrow:before {content: \"▸\";float: left;margin-right: 0.25em;color: #696969;}#sk-a8d6a9c4-85c6-4253-9e56-f34bd4dda654 label.sk-toggleable__label-arrow:hover:before {color: black;}#sk-a8d6a9c4-85c6-4253-9e56-f34bd4dda654 div.sk-estimator:hover label.sk-toggleable__label-arrow:before {color: black;}#sk-a8d6a9c4-85c6-4253-9e56-f34bd4dda654 div.sk-toggleable__content {max-height: 0;max-width: 0;overflow: hidden;text-align: left;background-color: #f0f8ff;}#sk-a8d6a9c4-85c6-4253-9e56-f34bd4dda654 div.sk-toggleable__content pre {margin: 0.2em;color: black;border-radius: 0.25em;background-color: #f0f8ff;}#sk-a8d6a9c4-85c6-4253-9e56-f34bd4dda654 input.sk-toggleable__control:checked~div.sk-toggleable__content {max-height: 200px;max-width: 100%;overflow: auto;}#sk-a8d6a9c4-85c6-4253-9e56-f34bd4dda654 input.sk-toggleable__control:checked~label.sk-toggleable__label-arrow:before {content: \"▾\";}#sk-a8d6a9c4-85c6-4253-9e56-f34bd4dda654 div.sk-estimator input.sk-toggleable__control:checked~label.sk-toggleable__label {background-color: #d4ebff;}#sk-a8d6a9c4-85c6-4253-9e56-f34bd4dda654 div.sk-label input.sk-toggleable__control:checked~label.sk-toggleable__label {background-color: #d4ebff;}#sk-a8d6a9c4-85c6-4253-9e56-f34bd4dda654 input.sk-hidden--visually {border: 0;clip: rect(1px 1px 1px 1px);clip: rect(1px, 1px, 1px, 1px);height: 1px;margin: -1px;overflow: hidden;padding: 0;position: absolute;width: 1px;}#sk-a8d6a9c4-85c6-4253-9e56-f34bd4dda654 div.sk-estimator {font-family: monospace;background-color: #f0f8ff;border: 1px dotted black;border-radius: 0.25em;box-sizing: border-box;margin-bottom: 0.5em;}#sk-a8d6a9c4-85c6-4253-9e56-f34bd4dda654 div.sk-estimator:hover {background-color: #d4ebff;}#sk-a8d6a9c4-85c6-4253-9e56-f34bd4dda654 div.sk-parallel-item::after {content: \"\";width: 100%;border-bottom: 1px solid gray;flex-grow: 1;}#sk-a8d6a9c4-85c6-4253-9e56-f34bd4dda654 div.sk-label:hover label.sk-toggleable__label {background-color: #d4ebff;}#sk-a8d6a9c4-85c6-4253-9e56-f34bd4dda654 div.sk-serial::before {content: \"\";position: absolute;border-left: 1px solid gray;box-sizing: border-box;top: 2em;bottom: 0;left: 50%;}#sk-a8d6a9c4-85c6-4253-9e56-f34bd4dda654 div.sk-serial {display: flex;flex-direction: column;align-items: center;background-color: white;padding-right: 0.2em;padding-left: 0.2em;}#sk-a8d6a9c4-85c6-4253-9e56-f34bd4dda654 div.sk-item {z-index: 1;}#sk-a8d6a9c4-85c6-4253-9e56-f34bd4dda654 div.sk-parallel {display: flex;align-items: stretch;justify-content: center;background-color: white;}#sk-a8d6a9c4-85c6-4253-9e56-f34bd4dda654 div.sk-parallel::before {content: \"\";position: absolute;border-left: 1px solid gray;box-sizing: border-box;top: 2em;bottom: 0;left: 50%;}#sk-a8d6a9c4-85c6-4253-9e56-f34bd4dda654 div.sk-parallel-item {display: flex;flex-direction: column;position: relative;background-color: white;}#sk-a8d6a9c4-85c6-4253-9e56-f34bd4dda654 div.sk-parallel-item:first-child::after {align-self: flex-end;width: 50%;}#sk-a8d6a9c4-85c6-4253-9e56-f34bd4dda654 div.sk-parallel-item:last-child::after {align-self: flex-start;width: 50%;}#sk-a8d6a9c4-85c6-4253-9e56-f34bd4dda654 div.sk-parallel-item:only-child::after {width: 0;}#sk-a8d6a9c4-85c6-4253-9e56-f34bd4dda654 div.sk-dashed-wrapped {border: 1px dashed gray;margin: 0 0.4em 0.5em 0.4em;box-sizing: border-box;padding-bottom: 0.4em;background-color: white;position: relative;}#sk-a8d6a9c4-85c6-4253-9e56-f34bd4dda654 div.sk-label label {font-family: monospace;font-weight: bold;background-color: white;display: inline-block;line-height: 1.2em;}#sk-a8d6a9c4-85c6-4253-9e56-f34bd4dda654 div.sk-label-container {position: relative;z-index: 2;text-align: center;}#sk-a8d6a9c4-85c6-4253-9e56-f34bd4dda654 div.sk-container {/* jupyter's `normalize.less` sets `[hidden] { display: none; }` but bootstrap.min.css set `[hidden] { display: none !important; }` so we also need the `!important` here to be able to override the default hidden behavior on the sphinx rendered scikit-learn.org. See: https://github.com/scikit-learn/scikit-learn/issues/21755 */display: inline-block !important;position: relative;}#sk-a8d6a9c4-85c6-4253-9e56-f34bd4dda654 div.sk-text-repr-fallback {display: none;}</style><div id='sk-a8d6a9c4-85c6-4253-9e56-f34bd4dda654' class=\"sk-top-container\"><div class=\"sk-text-repr-fallback\"><pre>Normal(columns=Index([&#x27;target&#x27;], dtype=&#x27;object&#x27;),\n",
       "       index=Index([287, 134, 213,  82, 251,  45, 350, 285,  22, 236,\n",
       "       ...\n",
       "       218, 235, 166, 361, 272, 333, 219, 310, 178, 233],\n",
       "      dtype=&#x27;int64&#x27;, length=111),\n",
       "       mu=array([[158.75],\n",
       "       [171.91],\n",
       "       [ 86.32],\n",
       "       [ 94.1 ],\n",
       "       [251.72],\n",
       "       [100.72],\n",
       "       [262.36],\n",
       "       [209.04],\n",
       "       [ 85.69],\n",
       "       [171.23],\n",
       "       [182.31],\n",
       "       [237.8 ],\n",
       "       [179.06],\n",
       "       [109.77],\n",
       "       [ 90.58],\n",
       "       [184.38],\n",
       "       [135.62],\n",
       "       [179.12],\n",
       "       [ 70.68],\n",
       "       [178.36]...\n",
       "       [16.83771976],\n",
       "       [19.10672381],\n",
       "       [19.63878908],\n",
       "       [16.46098141],\n",
       "       [15.70910931],\n",
       "       [12.90608099],\n",
       "       [19.66465255],\n",
       "       [20.89400588],\n",
       "       [19.28096697],\n",
       "       [22.39693358],\n",
       "       [15.26815129],\n",
       "       [18.49072135],\n",
       "       [16.44625929],\n",
       "       [14.43024188],\n",
       "       [16.19206731],\n",
       "       [21.27391581],\n",
       "       [19.50839963],\n",
       "       [12.64715474],\n",
       "       [13.93531633],\n",
       "       [17.53348762],\n",
       "       [20.01785524],\n",
       "       [19.57531732],\n",
       "       [21.54329846],\n",
       "       [13.07775327],\n",
       "       [13.55384321]]))</pre><b>Please rerun this cell to show the HTML repr or trust the notebook.</b></div><div class=\"sk-container\" hidden><div class='sk-item'><div class=\"sk-estimator sk-toggleable\"><input class=\"sk-toggleable__control sk-hidden--visually\" id=UUID('ea090ad9-e905-4888-a35b-66028c84da6b') type=\"checkbox\" checked><label for=UUID('ea090ad9-e905-4888-a35b-66028c84da6b') class='sk-toggleable__label sk-toggleable__label-arrow'>Normal</label><div class=\"sk-toggleable__content\"><pre>Normal(columns=Index([&#x27;target&#x27;], dtype=&#x27;object&#x27;),\n",
       "       index=Index([287, 134, 213,  82, 251,  45, 350, 285,  22, 236,\n",
       "       ...\n",
       "       218, 235, 166, 361, 272, 333, 219, 310, 178, 233],\n",
       "      dtype=&#x27;int64&#x27;, length=111),\n",
       "       mu=array([[158.75],\n",
       "       [171.91],\n",
       "       [ 86.32],\n",
       "       [ 94.1 ],\n",
       "       [251.72],\n",
       "       [100.72],\n",
       "       [262.36],\n",
       "       [209.04],\n",
       "       [ 85.69],\n",
       "       [171.23],\n",
       "       [182.31],\n",
       "       [237.8 ],\n",
       "       [179.06],\n",
       "       [109.77],\n",
       "       [ 90.58],\n",
       "       [184.38],\n",
       "       [135.62],\n",
       "       [179.12],\n",
       "       [ 70.68],\n",
       "       [178.36]...\n",
       "       [16.83771976],\n",
       "       [19.10672381],\n",
       "       [19.63878908],\n",
       "       [16.46098141],\n",
       "       [15.70910931],\n",
       "       [12.90608099],\n",
       "       [19.66465255],\n",
       "       [20.89400588],\n",
       "       [19.28096697],\n",
       "       [22.39693358],\n",
       "       [15.26815129],\n",
       "       [18.49072135],\n",
       "       [16.44625929],\n",
       "       [14.43024188],\n",
       "       [16.19206731],\n",
       "       [21.27391581],\n",
       "       [19.50839963],\n",
       "       [12.64715474],\n",
       "       [13.93531633],\n",
       "       [17.53348762],\n",
       "       [20.01785524],\n",
       "       [19.57531732],\n",
       "       [21.54329846],\n",
       "       [13.07775327],\n",
       "       [13.55384321]]))</pre></div></div></div></div></div>"
      ],
      "text/plain": [
       "Normal(columns=Index(['target'], dtype='object'),\n",
       "       index=Index([287, 134, 213,  82, 251,  45, 350, 285,  22, 236,\n",
       "       ...\n",
       "       218, 235, 166, 361, 272, 333, 219, 310, 178, 233],\n",
       "      dtype='int64', length=111),\n",
       "       mu=array([[158.75],\n",
       "       [171.91],\n",
       "       [ 86.32],\n",
       "       [ 94.1 ],\n",
       "       [251.72],\n",
       "       [100.72],\n",
       "       [262.36],\n",
       "       [209.04],\n",
       "       [ 85.69],\n",
       "       [171.23],\n",
       "       [182.31],\n",
       "       [237.8 ],\n",
       "       [179.06],\n",
       "       [109.77],\n",
       "       [ 90.58],\n",
       "       [184.38],\n",
       "       [135.62],\n",
       "       [179.12],\n",
       "       [ 70.68],\n",
       "       [178.36]...\n",
       "       [16.83771976],\n",
       "       [19.10672381],\n",
       "       [19.63878908],\n",
       "       [16.46098141],\n",
       "       [15.70910931],\n",
       "       [12.90608099],\n",
       "       [19.66465255],\n",
       "       [20.89400588],\n",
       "       [19.28096697],\n",
       "       [22.39693358],\n",
       "       [15.26815129],\n",
       "       [18.49072135],\n",
       "       [16.44625929],\n",
       "       [14.43024188],\n",
       "       [16.19206731],\n",
       "       [21.27391581],\n",
       "       [19.50839963],\n",
       "       [12.64715474],\n",
       "       [13.93531633],\n",
       "       [17.53348762],\n",
       "       [20.01785524],\n",
       "       [19.57531732],\n",
       "       [21.54329846],\n",
       "       [13.07775327],\n",
       "       [13.55384321]]))"
      ]
     },
     "execution_count": 3,
     "metadata": {},
     "output_type": "execute_result"
    }
   ],
   "source": [
    "y_pred_proba = reg_proba.predict_proba(X_new)\n",
    "y_pred_proba"
   ]
  },
  {
   "cell_type": "markdown",
   "metadata": {},
   "source": [
    "`skpro` distribution objects are pandas-like"
   ]
  },
  {
   "cell_type": "code",
   "execution_count": 4,
   "metadata": {},
   "outputs": [
    {
     "data": {
      "text/plain": [
       "(111, 1)"
      ]
     },
     "execution_count": 4,
     "metadata": {},
     "output_type": "execute_result"
    }
   ],
   "source": [
    "y_pred_proba.shape"
   ]
  },
  {
   "cell_type": "code",
   "execution_count": 5,
   "metadata": {},
   "outputs": [
    {
     "data": {
      "text/plain": [
       "Index([287, 134, 213,  82, 251,  45, 350, 285,  22, 236,\n",
       "       ...\n",
       "       218, 235, 166, 361, 272, 333, 219, 310, 178, 233],\n",
       "      dtype='int64', length=111)"
      ]
     },
     "execution_count": 5,
     "metadata": {},
     "output_type": "execute_result"
    }
   ],
   "source": [
    "y_pred_proba.index  # same index as X_new"
   ]
  },
  {
   "cell_type": "code",
   "execution_count": 6,
   "metadata": {},
   "outputs": [
    {
     "data": {
      "text/plain": [
       "Index(['target'], dtype='object')"
      ]
     },
     "execution_count": 6,
     "metadata": {},
     "output_type": "execute_result"
    }
   ],
   "source": [
    "y_pred_proba.columns  # same columns as X_new"
   ]
  },
  {
   "cell_type": "markdown",
   "metadata": {},
   "source": [
    "distribution objects have `sample` and methods such as `mean`, `var`:"
   ]
  },
  {
   "cell_type": "code",
   "execution_count": 7,
   "metadata": {},
   "outputs": [
    {
     "data": {
      "text/html": [
       "<div>\n",
       "<style scoped>\n",
       "    .dataframe tbody tr th:only-of-type {\n",
       "        vertical-align: middle;\n",
       "    }\n",
       "\n",
       "    .dataframe tbody tr th {\n",
       "        vertical-align: top;\n",
       "    }\n",
       "\n",
       "    .dataframe thead th {\n",
       "        text-align: right;\n",
       "    }\n",
       "</style>\n",
       "<table border=\"1\" class=\"dataframe\">\n",
       "  <thead>\n",
       "    <tr style=\"text-align: right;\">\n",
       "      <th></th>\n",
       "      <th>target</th>\n",
       "    </tr>\n",
       "  </thead>\n",
       "  <tbody>\n",
       "    <tr>\n",
       "      <th>287</th>\n",
       "      <td>176.508550</td>\n",
       "    </tr>\n",
       "    <tr>\n",
       "      <th>134</th>\n",
       "      <td>161.825887</td>\n",
       "    </tr>\n",
       "    <tr>\n",
       "      <th>213</th>\n",
       "      <td>94.371796</td>\n",
       "    </tr>\n",
       "    <tr>\n",
       "      <th>82</th>\n",
       "      <td>107.464801</td>\n",
       "    </tr>\n",
       "    <tr>\n",
       "      <th>251</th>\n",
       "      <td>247.966573</td>\n",
       "    </tr>\n",
       "  </tbody>\n",
       "</table>\n",
       "</div>"
      ],
      "text/plain": [
       "         target\n",
       "287  176.508550\n",
       "134  161.825887\n",
       "213   94.371796\n",
       "82   107.464801\n",
       "251  247.966573"
      ]
     },
     "execution_count": 7,
     "metadata": {},
     "output_type": "execute_result"
    }
   ],
   "source": [
    "y_pred_proba.sample().head()"
   ]
  },
  {
   "cell_type": "code",
   "execution_count": 8,
   "metadata": {},
   "outputs": [
    {
     "data": {
      "text/html": [
       "<div>\n",
       "<style scoped>\n",
       "    .dataframe tbody tr th:only-of-type {\n",
       "        vertical-align: middle;\n",
       "    }\n",
       "\n",
       "    .dataframe tbody tr th {\n",
       "        vertical-align: top;\n",
       "    }\n",
       "\n",
       "    .dataframe thead th {\n",
       "        text-align: right;\n",
       "    }\n",
       "</style>\n",
       "<table border=\"1\" class=\"dataframe\">\n",
       "  <thead>\n",
       "    <tr style=\"text-align: right;\">\n",
       "      <th></th>\n",
       "      <th>target</th>\n",
       "    </tr>\n",
       "  </thead>\n",
       "  <tbody>\n",
       "    <tr>\n",
       "      <th>287</th>\n",
       "      <td>158.75</td>\n",
       "    </tr>\n",
       "    <tr>\n",
       "      <th>134</th>\n",
       "      <td>171.91</td>\n",
       "    </tr>\n",
       "    <tr>\n",
       "      <th>213</th>\n",
       "      <td>86.32</td>\n",
       "    </tr>\n",
       "    <tr>\n",
       "      <th>82</th>\n",
       "      <td>94.10</td>\n",
       "    </tr>\n",
       "    <tr>\n",
       "      <th>251</th>\n",
       "      <td>251.72</td>\n",
       "    </tr>\n",
       "  </tbody>\n",
       "</table>\n",
       "</div>"
      ],
      "text/plain": [
       "     target\n",
       "287  158.75\n",
       "134  171.91\n",
       "213   86.32\n",
       "82    94.10\n",
       "251  251.72"
      ]
     },
     "execution_count": 8,
     "metadata": {},
     "output_type": "execute_result"
    }
   ],
   "source": [
    "y_pred_proba.mean().head()"
   ]
  },
  {
   "cell_type": "code",
   "execution_count": 9,
   "metadata": {},
   "outputs": [
    {
     "data": {
      "text/html": [
       "<div>\n",
       "<style scoped>\n",
       "    .dataframe tbody tr th:only-of-type {\n",
       "        vertical-align: middle;\n",
       "    }\n",
       "\n",
       "    .dataframe tbody tr th {\n",
       "        vertical-align: top;\n",
       "    }\n",
       "\n",
       "    .dataframe thead th {\n",
       "        text-align: right;\n",
       "    }\n",
       "</style>\n",
       "<table border=\"1\" class=\"dataframe\">\n",
       "  <thead>\n",
       "    <tr style=\"text-align: right;\">\n",
       "      <th></th>\n",
       "      <th>target</th>\n",
       "    </tr>\n",
       "  </thead>\n",
       "  <tbody>\n",
       "    <tr>\n",
       "      <th>287</th>\n",
       "      <td>362.869338</td>\n",
       "    </tr>\n",
       "    <tr>\n",
       "      <th>134</th>\n",
       "      <td>271.792914</td>\n",
       "    </tr>\n",
       "    <tr>\n",
       "      <th>213</th>\n",
       "      <td>289.466582</td>\n",
       "    </tr>\n",
       "    <tr>\n",
       "      <th>82</th>\n",
       "      <td>125.589059</td>\n",
       "    </tr>\n",
       "    <tr>\n",
       "      <th>251</th>\n",
       "      <td>479.705452</td>\n",
       "    </tr>\n",
       "  </tbody>\n",
       "</table>\n",
       "</div>"
      ],
      "text/plain": [
       "         target\n",
       "287  362.869338\n",
       "134  271.792914\n",
       "213  289.466582\n",
       "82   125.589059\n",
       "251  479.705452"
      ]
     },
     "execution_count": 9,
     "metadata": {},
     "output_type": "execute_result"
    }
   ],
   "source": [
    "y_pred_proba.var().head()"
   ]
  },
  {
   "cell_type": "markdown",
   "metadata": {},
   "source": [
    "more details on `skpro` distributions in the \"distributions\" tutorial!"
   ]
  },
  {
   "cell_type": "markdown",
   "metadata": {},
   "source": [
    "### 1.1.2 interval predictions"
   ]
  },
  {
   "cell_type": "markdown",
   "metadata": {},
   "source": [
    "interval prediction `y_pred_interval` is a `pd.DataFrame`:\n",
    "\n",
    "* rows are the same as `X_new`\n",
    "* columns indicate variables, nominal coverage, and bottom/upper bound\n",
    "\n",
    "\"we predict that value in row falls between bottom/upper with 90% chance\""
   ]
  },
  {
   "cell_type": "code",
   "execution_count": 10,
   "metadata": {},
   "outputs": [
    {
     "data": {
      "text/html": [
       "<div>\n",
       "<style scoped>\n",
       "    .dataframe tbody tr th:only-of-type {\n",
       "        vertical-align: middle;\n",
       "    }\n",
       "\n",
       "    .dataframe tbody tr th {\n",
       "        vertical-align: top;\n",
       "    }\n",
       "\n",
       "    .dataframe thead tr th {\n",
       "        text-align: left;\n",
       "    }\n",
       "</style>\n",
       "<table border=\"1\" class=\"dataframe\">\n",
       "  <thead>\n",
       "    <tr>\n",
       "      <th></th>\n",
       "      <th colspan=\"2\" halign=\"left\">target</th>\n",
       "    </tr>\n",
       "    <tr>\n",
       "      <th></th>\n",
       "      <th colspan=\"2\" halign=\"left\">0.9</th>\n",
       "    </tr>\n",
       "    <tr>\n",
       "      <th></th>\n",
       "      <th>lower</th>\n",
       "      <th>upper</th>\n",
       "    </tr>\n",
       "  </thead>\n",
       "  <tbody>\n",
       "    <tr>\n",
       "      <th>287</th>\n",
       "      <td>127.416970</td>\n",
       "      <td>190.083030</td>\n",
       "    </tr>\n",
       "    <tr>\n",
       "      <th>134</th>\n",
       "      <td>144.792708</td>\n",
       "      <td>199.027292</td>\n",
       "    </tr>\n",
       "    <tr>\n",
       "      <th>213</th>\n",
       "      <td>58.334925</td>\n",
       "      <td>114.305075</td>\n",
       "    </tr>\n",
       "    <tr>\n",
       "      <th>82</th>\n",
       "      <td>75.666697</td>\n",
       "      <td>112.533303</td>\n",
       "    </tr>\n",
       "    <tr>\n",
       "      <th>251</th>\n",
       "      <td>215.694121</td>\n",
       "      <td>287.745879</td>\n",
       "    </tr>\n",
       "  </tbody>\n",
       "</table>\n",
       "</div>"
      ],
      "text/plain": [
       "         target            \n",
       "            0.9            \n",
       "          lower       upper\n",
       "287  127.416970  190.083030\n",
       "134  144.792708  199.027292\n",
       "213   58.334925  114.305075\n",
       "82    75.666697  112.533303\n",
       "251  215.694121  287.745879"
      ]
     },
     "execution_count": 10,
     "metadata": {},
     "output_type": "execute_result"
    }
   ],
   "source": [
    "y_pred_interval = reg_proba.predict_interval(X_new, coverage=0.9)\n",
    "y_pred_interval.head()"
   ]
  },
  {
   "cell_type": "markdown",
   "metadata": {},
   "source": [
    "multiple coverages can be passed:"
   ]
  },
  {
   "cell_type": "code",
   "execution_count": 11,
   "metadata": {},
   "outputs": [
    {
     "data": {
      "text/html": [
       "<div>\n",
       "<style scoped>\n",
       "    .dataframe tbody tr th:only-of-type {\n",
       "        vertical-align: middle;\n",
       "    }\n",
       "\n",
       "    .dataframe tbody tr th {\n",
       "        vertical-align: top;\n",
       "    }\n",
       "\n",
       "    .dataframe thead tr th {\n",
       "        text-align: left;\n",
       "    }\n",
       "</style>\n",
       "<table border=\"1\" class=\"dataframe\">\n",
       "  <thead>\n",
       "    <tr>\n",
       "      <th></th>\n",
       "      <th colspan=\"6\" halign=\"left\">target</th>\n",
       "    </tr>\n",
       "    <tr>\n",
       "      <th></th>\n",
       "      <th colspan=\"2\" halign=\"left\">0.50</th>\n",
       "      <th colspan=\"2\" halign=\"left\">0.90</th>\n",
       "      <th colspan=\"2\" halign=\"left\">0.95</th>\n",
       "    </tr>\n",
       "    <tr>\n",
       "      <th></th>\n",
       "      <th>lower</th>\n",
       "      <th>upper</th>\n",
       "      <th>lower</th>\n",
       "      <th>upper</th>\n",
       "      <th>lower</th>\n",
       "      <th>upper</th>\n",
       "    </tr>\n",
       "  </thead>\n",
       "  <tbody>\n",
       "    <tr>\n",
       "      <th>287</th>\n",
       "      <td>145.901557</td>\n",
       "      <td>171.598443</td>\n",
       "      <td>127.416970</td>\n",
       "      <td>190.083030</td>\n",
       "      <td>121.414392</td>\n",
       "      <td>196.085608</td>\n",
       "    </tr>\n",
       "    <tr>\n",
       "      <th>134</th>\n",
       "      <td>160.790265</td>\n",
       "      <td>183.029735</td>\n",
       "      <td>144.792708</td>\n",
       "      <td>199.027292</td>\n",
       "      <td>139.597753</td>\n",
       "      <td>204.222247</td>\n",
       "    </tr>\n",
       "    <tr>\n",
       "      <th>213</th>\n",
       "      <td>74.844422</td>\n",
       "      <td>97.795578</td>\n",
       "      <td>58.334925</td>\n",
       "      <td>114.305075</td>\n",
       "      <td>52.973726</td>\n",
       "      <td>119.666274</td>\n",
       "    </tr>\n",
       "    <tr>\n",
       "      <th>82</th>\n",
       "      <td>86.541228</td>\n",
       "      <td>101.658772</td>\n",
       "      <td>75.666697</td>\n",
       "      <td>112.533303</td>\n",
       "      <td>72.135365</td>\n",
       "      <td>116.064635</td>\n",
       "    </tr>\n",
       "    <tr>\n",
       "      <th>251</th>\n",
       "      <td>236.947205</td>\n",
       "      <td>266.492795</td>\n",
       "      <td>215.694121</td>\n",
       "      <td>287.745879</td>\n",
       "      <td>208.792518</td>\n",
       "      <td>294.647482</td>\n",
       "    </tr>\n",
       "    <tr>\n",
       "      <th>...</th>\n",
       "      <td>...</td>\n",
       "      <td>...</td>\n",
       "      <td>...</td>\n",
       "      <td>...</td>\n",
       "      <td>...</td>\n",
       "      <td>...</td>\n",
       "    </tr>\n",
       "    <tr>\n",
       "      <th>333</th>\n",
       "      <td>176.038162</td>\n",
       "      <td>203.041838</td>\n",
       "      <td>156.613558</td>\n",
       "      <td>222.466442</td>\n",
       "      <td>150.305725</td>\n",
       "      <td>228.774275</td>\n",
       "    </tr>\n",
       "    <tr>\n",
       "      <th>219</th>\n",
       "      <td>150.266649</td>\n",
       "      <td>176.673351</td>\n",
       "      <td>131.271468</td>\n",
       "      <td>195.668532</td>\n",
       "      <td>125.103083</td>\n",
       "      <td>201.836917</td>\n",
       "    </tr>\n",
       "    <tr>\n",
       "      <th>310</th>\n",
       "      <td>190.349266</td>\n",
       "      <td>219.410734</td>\n",
       "      <td>169.444427</td>\n",
       "      <td>240.315573</td>\n",
       "      <td>162.655911</td>\n",
       "      <td>247.104089</td>\n",
       "    </tr>\n",
       "    <tr>\n",
       "      <th>178</th>\n",
       "      <td>77.299189</td>\n",
       "      <td>94.940811</td>\n",
       "      <td>64.609010</td>\n",
       "      <td>107.630990</td>\n",
       "      <td>60.488075</td>\n",
       "      <td>111.751925</td>\n",
       "    </tr>\n",
       "    <tr>\n",
       "      <th>233</th>\n",
       "      <td>155.038072</td>\n",
       "      <td>173.321928</td>\n",
       "      <td>141.885912</td>\n",
       "      <td>186.474088</td>\n",
       "      <td>137.614955</td>\n",
       "      <td>190.745045</td>\n",
       "    </tr>\n",
       "  </tbody>\n",
       "</table>\n",
       "<p>111 rows × 6 columns</p>\n",
       "</div>"
      ],
      "text/plain": [
       "         target                                                            \n",
       "           0.50                    0.90                    0.95            \n",
       "          lower       upper       lower       upper       lower       upper\n",
       "287  145.901557  171.598443  127.416970  190.083030  121.414392  196.085608\n",
       "134  160.790265  183.029735  144.792708  199.027292  139.597753  204.222247\n",
       "213   74.844422   97.795578   58.334925  114.305075   52.973726  119.666274\n",
       "82    86.541228  101.658772   75.666697  112.533303   72.135365  116.064635\n",
       "251  236.947205  266.492795  215.694121  287.745879  208.792518  294.647482\n",
       "..          ...         ...         ...         ...         ...         ...\n",
       "333  176.038162  203.041838  156.613558  222.466442  150.305725  228.774275\n",
       "219  150.266649  176.673351  131.271468  195.668532  125.103083  201.836917\n",
       "310  190.349266  219.410734  169.444427  240.315573  162.655911  247.104089\n",
       "178   77.299189   94.940811   64.609010  107.630990   60.488075  111.751925\n",
       "233  155.038072  173.321928  141.885912  186.474088  137.614955  190.745045\n",
       "\n",
       "[111 rows x 6 columns]"
      ]
     },
     "execution_count": 11,
     "metadata": {},
     "output_type": "execute_result"
    }
   ],
   "source": [
    "coverage = [0.5, 0.9, 0.95]\n",
    "y_pred_ints = reg_proba.predict_interval(X_new, coverage=coverage)\n",
    "y_pred_ints"
   ]
  },
  {
   "cell_type": "markdown",
   "metadata": {},
   "source": [
    "`predict_interval` output spec:\n",
    "\n",
    "`pandas.DataFrame`\\\n",
    "Row index is as for `X_new`\\\n",
    "Column has multi-index:\\\n",
    "1st level = variable names from `y` in fit\\\n",
    "2nd level = coverage fractions in `coverage`\\\n",
    "3rd level = string `\"lower\"` or `\"upper\"`\n",
    "\n",
    "Entries = interval prediction of lower/upper interval at nominal coverage in 2nd lvl, for var in 1st lvl, for data index in row"
   ]
  },
  {
   "cell_type": "markdown",
   "metadata": {},
   "source": [
    "### 1.1.3 quantile predictions"
   ]
  },
  {
   "cell_type": "markdown",
   "metadata": {},
   "source": [
    "quantile prediction `y_pred_quantiles` is a `pd.DataFrame`:\n",
    "\n",
    "* rows are the same as `X_new`\n",
    "* columns indicate variables, quantile points\n",
    "\n",
    "\"we predict the 5%, 50%, 95% quantile points for the row to be here\""
   ]
  },
  {
   "cell_type": "code",
   "execution_count": 12,
   "metadata": {},
   "outputs": [
    {
     "data": {
      "text/html": [
       "<div>\n",
       "<style scoped>\n",
       "    .dataframe tbody tr th:only-of-type {\n",
       "        vertical-align: middle;\n",
       "    }\n",
       "\n",
       "    .dataframe tbody tr th {\n",
       "        vertical-align: top;\n",
       "    }\n",
       "\n",
       "    .dataframe thead tr th {\n",
       "        text-align: left;\n",
       "    }\n",
       "</style>\n",
       "<table border=\"1\" class=\"dataframe\">\n",
       "  <thead>\n",
       "    <tr>\n",
       "      <th></th>\n",
       "      <th colspan=\"3\" halign=\"left\">target</th>\n",
       "    </tr>\n",
       "    <tr>\n",
       "      <th></th>\n",
       "      <th>0.05</th>\n",
       "      <th>0.50</th>\n",
       "      <th>0.95</th>\n",
       "    </tr>\n",
       "  </thead>\n",
       "  <tbody>\n",
       "    <tr>\n",
       "      <th>287</th>\n",
       "      <td>127.416970</td>\n",
       "      <td>158.75</td>\n",
       "      <td>190.083030</td>\n",
       "    </tr>\n",
       "    <tr>\n",
       "      <th>134</th>\n",
       "      <td>144.792708</td>\n",
       "      <td>171.91</td>\n",
       "      <td>199.027292</td>\n",
       "    </tr>\n",
       "    <tr>\n",
       "      <th>213</th>\n",
       "      <td>58.334925</td>\n",
       "      <td>86.32</td>\n",
       "      <td>114.305075</td>\n",
       "    </tr>\n",
       "    <tr>\n",
       "      <th>82</th>\n",
       "      <td>75.666697</td>\n",
       "      <td>94.10</td>\n",
       "      <td>112.533303</td>\n",
       "    </tr>\n",
       "    <tr>\n",
       "      <th>251</th>\n",
       "      <td>215.694121</td>\n",
       "      <td>251.72</td>\n",
       "      <td>287.745879</td>\n",
       "    </tr>\n",
       "  </tbody>\n",
       "</table>\n",
       "</div>"
      ],
      "text/plain": [
       "         target                    \n",
       "           0.05    0.50        0.95\n",
       "287  127.416970  158.75  190.083030\n",
       "134  144.792708  171.91  199.027292\n",
       "213   58.334925   86.32  114.305075\n",
       "82    75.666697   94.10  112.533303\n",
       "251  215.694121  251.72  287.745879"
      ]
     },
     "execution_count": 12,
     "metadata": {},
     "output_type": "execute_result"
    }
   ],
   "source": [
    "y_pred_quantiles = reg_proba.predict_quantiles(X_new, alpha=[0.05, 0.5, 0.95])\n",
    "y_pred_quantiles.head()"
   ]
  },
  {
   "cell_type": "markdown",
   "metadata": {},
   "source": [
    "multiple quantiles:"
   ]
  },
  {
   "cell_type": "code",
   "execution_count": 13,
   "metadata": {},
   "outputs": [
    {
     "data": {
      "text/html": [
       "<div>\n",
       "<style scoped>\n",
       "    .dataframe tbody tr th:only-of-type {\n",
       "        vertical-align: middle;\n",
       "    }\n",
       "\n",
       "    .dataframe tbody tr th {\n",
       "        vertical-align: top;\n",
       "    }\n",
       "\n",
       "    .dataframe thead tr th {\n",
       "        text-align: left;\n",
       "    }\n",
       "</style>\n",
       "<table border=\"1\" class=\"dataframe\">\n",
       "  <thead>\n",
       "    <tr>\n",
       "      <th></th>\n",
       "      <th colspan=\"5\" halign=\"left\">target</th>\n",
       "    </tr>\n",
       "    <tr>\n",
       "      <th></th>\n",
       "      <th>0.10</th>\n",
       "      <th>0.25</th>\n",
       "      <th>0.50</th>\n",
       "      <th>0.75</th>\n",
       "      <th>0.90</th>\n",
       "    </tr>\n",
       "  </thead>\n",
       "  <tbody>\n",
       "    <tr>\n",
       "      <th>287</th>\n",
       "      <td>134.337558</td>\n",
       "      <td>145.901557</td>\n",
       "      <td>158.75</td>\n",
       "      <td>171.598443</td>\n",
       "      <td>183.162442</td>\n",
       "    </tr>\n",
       "    <tr>\n",
       "      <th>134</th>\n",
       "      <td>150.782158</td>\n",
       "      <td>160.790265</td>\n",
       "      <td>171.91</td>\n",
       "      <td>183.029735</td>\n",
       "      <td>193.037842</td>\n",
       "    </tr>\n",
       "    <tr>\n",
       "      <th>213</th>\n",
       "      <td>64.516044</td>\n",
       "      <td>74.844422</td>\n",
       "      <td>86.32</td>\n",
       "      <td>97.795578</td>\n",
       "      <td>108.123956</td>\n",
       "    </tr>\n",
       "    <tr>\n",
       "      <th>82</th>\n",
       "      <td>79.738097</td>\n",
       "      <td>86.541228</td>\n",
       "      <td>94.10</td>\n",
       "      <td>101.658772</td>\n",
       "      <td>108.461903</td>\n",
       "    </tr>\n",
       "    <tr>\n",
       "      <th>251</th>\n",
       "      <td>223.651228</td>\n",
       "      <td>236.947205</td>\n",
       "      <td>251.72</td>\n",
       "      <td>266.492795</td>\n",
       "      <td>279.788772</td>\n",
       "    </tr>\n",
       "    <tr>\n",
       "      <th>...</th>\n",
       "      <td>...</td>\n",
       "      <td>...</td>\n",
       "      <td>...</td>\n",
       "      <td>...</td>\n",
       "      <td>...</td>\n",
       "    </tr>\n",
       "    <tr>\n",
       "      <th>333</th>\n",
       "      <td>163.886086</td>\n",
       "      <td>176.038162</td>\n",
       "      <td>189.54</td>\n",
       "      <td>203.041838</td>\n",
       "      <td>215.193914</td>\n",
       "    </tr>\n",
       "    <tr>\n",
       "      <th>219</th>\n",
       "      <td>138.383221</td>\n",
       "      <td>150.266649</td>\n",
       "      <td>163.47</td>\n",
       "      <td>176.673351</td>\n",
       "      <td>188.556779</td>\n",
       "    </tr>\n",
       "    <tr>\n",
       "      <th>310</th>\n",
       "      <td>177.271152</td>\n",
       "      <td>190.349266</td>\n",
       "      <td>204.88</td>\n",
       "      <td>219.410734</td>\n",
       "      <td>232.488848</td>\n",
       "    </tr>\n",
       "    <tr>\n",
       "      <th>178</th>\n",
       "      <td>69.360185</td>\n",
       "      <td>77.299189</td>\n",
       "      <td>86.12</td>\n",
       "      <td>94.940811</td>\n",
       "      <td>102.879815</td>\n",
       "    </tr>\n",
       "    <tr>\n",
       "      <th>233</th>\n",
       "      <td>146.810051</td>\n",
       "      <td>155.038072</td>\n",
       "      <td>164.18</td>\n",
       "      <td>173.321928</td>\n",
       "      <td>181.549949</td>\n",
       "    </tr>\n",
       "  </tbody>\n",
       "</table>\n",
       "<p>111 rows × 5 columns</p>\n",
       "</div>"
      ],
      "text/plain": [
       "         target                                            \n",
       "           0.10        0.25    0.50        0.75        0.90\n",
       "287  134.337558  145.901557  158.75  171.598443  183.162442\n",
       "134  150.782158  160.790265  171.91  183.029735  193.037842\n",
       "213   64.516044   74.844422   86.32   97.795578  108.123956\n",
       "82    79.738097   86.541228   94.10  101.658772  108.461903\n",
       "251  223.651228  236.947205  251.72  266.492795  279.788772\n",
       "..          ...         ...     ...         ...         ...\n",
       "333  163.886086  176.038162  189.54  203.041838  215.193914\n",
       "219  138.383221  150.266649  163.47  176.673351  188.556779\n",
       "310  177.271152  190.349266  204.88  219.410734  232.488848\n",
       "178   69.360185   77.299189   86.12   94.940811  102.879815\n",
       "233  146.810051  155.038072  164.18  173.321928  181.549949\n",
       "\n",
       "[111 rows x 5 columns]"
      ]
     },
     "execution_count": 13,
     "metadata": {},
     "output_type": "execute_result"
    }
   ],
   "source": [
    "alpha = [0.1, 0.25, 0.5, 0.75, 0.9]\n",
    "y_pred_quantiles = reg_proba.predict_quantiles(X_new, alpha=alpha)\n",
    "y_pred_quantiles"
   ]
  },
  {
   "cell_type": "markdown",
   "metadata": {},
   "source": [
    "`predict_quantiles` output spec:\n",
    "\n",
    "`pandas.DataFrame`\\\n",
    "Row index is same as `X_new`\\\n",
    "Column has multi-index:\\\n",
    "1st level = variable names from `y` in `fit`\\\n",
    "2nd level = quantile points in `alpha`\n",
    "\n",
    "Entries = quantiles prediction at quantile point in 2nd lvl, for var in 1st lvl, for data index in row"
   ]
  },
  {
   "cell_type": "markdown",
   "metadata": {},
   "source": [
    "### 1.1.4 mean and variance predictions"
   ]
  },
  {
   "cell_type": "markdown",
   "metadata": {},
   "source": [
    "mean and variance predictions `y_pred_mean`, `y_pred_var` are `pd.DataFrame`-s:\n",
    "\n",
    "* rows are the same as `X_new`\n",
    "* columns are the same as `X_new`\n",
    "\n",
    "entries are predictive mean and variance in row/column"
   ]
  },
  {
   "cell_type": "code",
   "execution_count": 14,
   "metadata": {},
   "outputs": [],
   "source": [
    "y_pred_mean = reg_proba.predict(X_new)\n",
    "y_pred_var = reg_proba.predict_var(X_new)"
   ]
  },
  {
   "cell_type": "code",
   "execution_count": 15,
   "metadata": {},
   "outputs": [
    {
     "data": {
      "text/html": [
       "<div>\n",
       "<style scoped>\n",
       "    .dataframe tbody tr th:only-of-type {\n",
       "        vertical-align: middle;\n",
       "    }\n",
       "\n",
       "    .dataframe tbody tr th {\n",
       "        vertical-align: top;\n",
       "    }\n",
       "\n",
       "    .dataframe thead th {\n",
       "        text-align: right;\n",
       "    }\n",
       "</style>\n",
       "<table border=\"1\" class=\"dataframe\">\n",
       "  <thead>\n",
       "    <tr style=\"text-align: right;\">\n",
       "      <th></th>\n",
       "      <th>target</th>\n",
       "    </tr>\n",
       "  </thead>\n",
       "  <tbody>\n",
       "    <tr>\n",
       "      <th>287</th>\n",
       "      <td>158.75</td>\n",
       "    </tr>\n",
       "    <tr>\n",
       "      <th>134</th>\n",
       "      <td>171.91</td>\n",
       "    </tr>\n",
       "    <tr>\n",
       "      <th>213</th>\n",
       "      <td>86.32</td>\n",
       "    </tr>\n",
       "    <tr>\n",
       "      <th>82</th>\n",
       "      <td>94.10</td>\n",
       "    </tr>\n",
       "    <tr>\n",
       "      <th>251</th>\n",
       "      <td>251.72</td>\n",
       "    </tr>\n",
       "  </tbody>\n",
       "</table>\n",
       "</div>"
      ],
      "text/plain": [
       "     target\n",
       "287  158.75\n",
       "134  171.91\n",
       "213   86.32\n",
       "82    94.10\n",
       "251  251.72"
      ]
     },
     "execution_count": 15,
     "metadata": {},
     "output_type": "execute_result"
    }
   ],
   "source": [
    "y_pred_mean.head()"
   ]
  },
  {
   "cell_type": "code",
   "execution_count": 16,
   "metadata": {},
   "outputs": [
    {
     "data": {
      "text/html": [
       "<div>\n",
       "<style scoped>\n",
       "    .dataframe tbody tr th:only-of-type {\n",
       "        vertical-align: middle;\n",
       "    }\n",
       "\n",
       "    .dataframe tbody tr th {\n",
       "        vertical-align: top;\n",
       "    }\n",
       "\n",
       "    .dataframe thead th {\n",
       "        text-align: right;\n",
       "    }\n",
       "</style>\n",
       "<table border=\"1\" class=\"dataframe\">\n",
       "  <thead>\n",
       "    <tr style=\"text-align: right;\">\n",
       "      <th></th>\n",
       "      <th>target</th>\n",
       "    </tr>\n",
       "  </thead>\n",
       "  <tbody>\n",
       "    <tr>\n",
       "      <th>287</th>\n",
       "      <td>362.869338</td>\n",
       "    </tr>\n",
       "    <tr>\n",
       "      <th>134</th>\n",
       "      <td>271.792914</td>\n",
       "    </tr>\n",
       "    <tr>\n",
       "      <th>213</th>\n",
       "      <td>289.466582</td>\n",
       "    </tr>\n",
       "    <tr>\n",
       "      <th>82</th>\n",
       "      <td>125.589059</td>\n",
       "    </tr>\n",
       "    <tr>\n",
       "      <th>251</th>\n",
       "      <td>479.705452</td>\n",
       "    </tr>\n",
       "  </tbody>\n",
       "</table>\n",
       "</div>"
      ],
      "text/plain": [
       "         target\n",
       "287  362.869338\n",
       "134  271.792914\n",
       "213  289.466582\n",
       "82   125.589059\n",
       "251  479.705452"
      ]
     },
     "execution_count": 16,
     "metadata": {},
     "output_type": "execute_result"
    }
   ],
   "source": [
    "y_pred_var.head()"
   ]
  },
  {
   "cell_type": "markdown",
   "metadata": {},
   "source": [
    "this is the same as taking the distribution prediction and taking mean/variance\n",
    "\n",
    "(for distribution objects that estimate these precisely)"
   ]
  },
  {
   "cell_type": "code",
   "execution_count": 17,
   "metadata": {},
   "outputs": [
    {
     "data": {
      "text/html": [
       "<div>\n",
       "<style scoped>\n",
       "    .dataframe tbody tr th:only-of-type {\n",
       "        vertical-align: middle;\n",
       "    }\n",
       "\n",
       "    .dataframe tbody tr th {\n",
       "        vertical-align: top;\n",
       "    }\n",
       "\n",
       "    .dataframe thead th {\n",
       "        text-align: right;\n",
       "    }\n",
       "</style>\n",
       "<table border=\"1\" class=\"dataframe\">\n",
       "  <thead>\n",
       "    <tr style=\"text-align: right;\">\n",
       "      <th></th>\n",
       "      <th>target</th>\n",
       "    </tr>\n",
       "  </thead>\n",
       "  <tbody>\n",
       "    <tr>\n",
       "      <th>287</th>\n",
       "      <td>158.75</td>\n",
       "    </tr>\n",
       "    <tr>\n",
       "      <th>134</th>\n",
       "      <td>171.91</td>\n",
       "    </tr>\n",
       "    <tr>\n",
       "      <th>213</th>\n",
       "      <td>86.32</td>\n",
       "    </tr>\n",
       "    <tr>\n",
       "      <th>82</th>\n",
       "      <td>94.10</td>\n",
       "    </tr>\n",
       "    <tr>\n",
       "      <th>251</th>\n",
       "      <td>251.72</td>\n",
       "    </tr>\n",
       "  </tbody>\n",
       "</table>\n",
       "</div>"
      ],
      "text/plain": [
       "     target\n",
       "287  158.75\n",
       "134  171.91\n",
       "213   86.32\n",
       "82    94.10\n",
       "251  251.72"
      ]
     },
     "execution_count": 17,
     "metadata": {},
     "output_type": "execute_result"
    }
   ],
   "source": [
    "y_pred_proba.mean().head()"
   ]
  },
  {
   "cell_type": "code",
   "execution_count": 18,
   "metadata": {},
   "outputs": [
    {
     "data": {
      "text/html": [
       "<div>\n",
       "<style scoped>\n",
       "    .dataframe tbody tr th:only-of-type {\n",
       "        vertical-align: middle;\n",
       "    }\n",
       "\n",
       "    .dataframe tbody tr th {\n",
       "        vertical-align: top;\n",
       "    }\n",
       "\n",
       "    .dataframe thead th {\n",
       "        text-align: right;\n",
       "    }\n",
       "</style>\n",
       "<table border=\"1\" class=\"dataframe\">\n",
       "  <thead>\n",
       "    <tr style=\"text-align: right;\">\n",
       "      <th></th>\n",
       "      <th>target</th>\n",
       "    </tr>\n",
       "  </thead>\n",
       "  <tbody>\n",
       "    <tr>\n",
       "      <th>287</th>\n",
       "      <td>362.869338</td>\n",
       "    </tr>\n",
       "    <tr>\n",
       "      <th>134</th>\n",
       "      <td>271.792914</td>\n",
       "    </tr>\n",
       "    <tr>\n",
       "      <th>213</th>\n",
       "      <td>289.466582</td>\n",
       "    </tr>\n",
       "    <tr>\n",
       "      <th>82</th>\n",
       "      <td>125.589059</td>\n",
       "    </tr>\n",
       "    <tr>\n",
       "      <th>251</th>\n",
       "      <td>479.705452</td>\n",
       "    </tr>\n",
       "  </tbody>\n",
       "</table>\n",
       "</div>"
      ],
      "text/plain": [
       "         target\n",
       "287  362.869338\n",
       "134  271.792914\n",
       "213  289.466582\n",
       "82   125.589059\n",
       "251  479.705452"
      ]
     },
     "execution_count": 18,
     "metadata": {},
     "output_type": "execute_result"
    }
   ],
   "source": [
    "y_pred_proba.var().head()"
   ]
  },
  {
   "attachments": {},
   "cell_type": "markdown",
   "metadata": {},
   "source": [
    "## 1.2 simple evaluation workflow for probabilistic predictions"
   ]
  },
  {
   "cell_type": "markdown",
   "metadata": {},
   "source": [
    "for simple evaluation:\n",
    "\n",
    "1. split the data into train/test set\n",
    "2. make predictions of either type for test features\n",
    "3. compute metric on test set, comparing test predictions to hend out test labels\n",
    "\n",
    "Note:\n",
    "\n",
    "* metrics will compare tabular ground truth to probabilistic prediction\n",
    "* the metric will needs to be of a compatible type, e.g., for proba predictions"
   ]
  },
  {
   "cell_type": "code",
   "execution_count": 19,
   "metadata": {},
   "outputs": [
    {
     "data": {
      "text/plain": [
       "29.341032127400844"
      ]
     },
     "execution_count": 19,
     "metadata": {},
     "output_type": "execute_result"
    }
   ],
   "source": [
    "from sklearn.datasets import load_diabetes\n",
    "from sklearn.ensemble import RandomForestRegressor\n",
    "from sklearn.linear_model import LinearRegression\n",
    "from sklearn.model_selection import train_test_split\n",
    "\n",
    "from skpro.metrics import CRPS\n",
    "from skpro.regression.residual import ResidualDouble\n",
    "\n",
    "# step 1: data specification\n",
    "X, y = load_diabetes(return_X_y=True, as_frame=True)\n",
    "X_train, X_test, y_train, y_test = train_test_split(X, y)\n",
    "\n",
    "# step 2: specifying the regressor\n",
    "# example - linear regression for mean prediction\n",
    "# random forest for variance prediction\n",
    "reg_mean = LinearRegression()\n",
    "reg_resid = RandomForestRegressor()\n",
    "reg_proba = ResidualDouble(reg_mean, reg_resid)\n",
    "\n",
    "# step 3: fitting the model to training data\n",
    "reg_proba.fit(X_train, y_train)\n",
    "\n",
    "# step 4: predicting labels on new data\n",
    "y_pred_proba = reg_proba.predict_proba(X_test)\n",
    "\n",
    "# step 5: specifying evaluation metric\n",
    "metric = CRPS()\n",
    "\n",
    "# step 6: evaluat metric, compare predictions to actuals\n",
    "metric(y_test, y_pred_proba)"
   ]
  },
  {
   "cell_type": "markdown",
   "metadata": {},
   "source": [
    "how do we know that metric is of right type? Via `scitype:y_pred` tag"
   ]
  },
  {
   "cell_type": "code",
   "execution_count": 20,
   "metadata": {},
   "outputs": [
    {
     "data": {
      "text/plain": [
       "{'estimator_type': 'estimator',\n",
       " 'object_type': 'metric',\n",
       " 'reserved_params': ['multioutput', 'score_average'],\n",
       " 'scitype:y_pred': 'pred_proba',\n",
       " 'lower_is_better': True}"
      ]
     },
     "execution_count": 20,
     "metadata": {},
     "output_type": "execute_result"
    }
   ],
   "source": [
    "metric.get_tags()\n",
    "# scitype:y_pred is pred_proba - for proba predictions"
   ]
  },
  {
   "cell_type": "markdown",
   "metadata": {},
   "source": [
    "how do we find metrics for a prediction type?"
   ]
  },
  {
   "cell_type": "code",
   "execution_count": 21,
   "metadata": {},
   "outputs": [
    {
     "data": {
      "text/html": [
       "<div>\n",
       "<style scoped>\n",
       "    .dataframe tbody tr th:only-of-type {\n",
       "        vertical-align: middle;\n",
       "    }\n",
       "\n",
       "    .dataframe tbody tr th {\n",
       "        vertical-align: top;\n",
       "    }\n",
       "\n",
       "    .dataframe thead th {\n",
       "        text-align: right;\n",
       "    }\n",
       "</style>\n",
       "<table border=\"1\" class=\"dataframe\">\n",
       "  <thead>\n",
       "    <tr style=\"text-align: right;\">\n",
       "      <th></th>\n",
       "      <th>name</th>\n",
       "      <th>object</th>\n",
       "      <th>scitype:y_pred</th>\n",
       "    </tr>\n",
       "  </thead>\n",
       "  <tbody>\n",
       "    <tr>\n",
       "      <th>0</th>\n",
       "      <td>CRPS</td>\n",
       "      <td>&lt;class 'skpro.metrics._classes.CRPS'&gt;</td>\n",
       "      <td>pred_proba</td>\n",
       "    </tr>\n",
       "    <tr>\n",
       "      <th>1</th>\n",
       "      <td>ConstraintViolation</td>\n",
       "      <td>&lt;class 'skpro.metrics._classes.ConstraintViola...</td>\n",
       "      <td>pred_interval</td>\n",
       "    </tr>\n",
       "    <tr>\n",
       "      <th>2</th>\n",
       "      <td>EmpiricalCoverage</td>\n",
       "      <td>&lt;class 'skpro.metrics._classes.EmpiricalCovera...</td>\n",
       "      <td>pred_interval</td>\n",
       "    </tr>\n",
       "    <tr>\n",
       "      <th>3</th>\n",
       "      <td>LinearizedLogLoss</td>\n",
       "      <td>&lt;class 'skpro.metrics._classes.LinearizedLogLo...</td>\n",
       "      <td>pred_proba</td>\n",
       "    </tr>\n",
       "    <tr>\n",
       "      <th>4</th>\n",
       "      <td>LogLoss</td>\n",
       "      <td>&lt;class 'skpro.metrics._classes.LogLoss'&gt;</td>\n",
       "      <td>pred_proba</td>\n",
       "    </tr>\n",
       "    <tr>\n",
       "      <th>5</th>\n",
       "      <td>PinballLoss</td>\n",
       "      <td>&lt;class 'skpro.metrics._classes.PinballLoss'&gt;</td>\n",
       "      <td>pred_quantiles</td>\n",
       "    </tr>\n",
       "    <tr>\n",
       "      <th>6</th>\n",
       "      <td>SquaredDistrLoss</td>\n",
       "      <td>&lt;class 'skpro.metrics._classes.SquaredDistrLoss'&gt;</td>\n",
       "      <td>pred_proba</td>\n",
       "    </tr>\n",
       "  </tbody>\n",
       "</table>\n",
       "</div>"
      ],
      "text/plain": [
       "                  name                                             object  \\\n",
       "0                 CRPS              <class 'skpro.metrics._classes.CRPS'>   \n",
       "1  ConstraintViolation  <class 'skpro.metrics._classes.ConstraintViola...   \n",
       "2    EmpiricalCoverage  <class 'skpro.metrics._classes.EmpiricalCovera...   \n",
       "3    LinearizedLogLoss  <class 'skpro.metrics._classes.LinearizedLogLo...   \n",
       "4              LogLoss           <class 'skpro.metrics._classes.LogLoss'>   \n",
       "5          PinballLoss       <class 'skpro.metrics._classes.PinballLoss'>   \n",
       "6     SquaredDistrLoss  <class 'skpro.metrics._classes.SquaredDistrLoss'>   \n",
       "\n",
       "   scitype:y_pred  \n",
       "0      pred_proba  \n",
       "1   pred_interval  \n",
       "2   pred_interval  \n",
       "3      pred_proba  \n",
       "4      pred_proba  \n",
       "5  pred_quantiles  \n",
       "6      pred_proba  "
      ]
     },
     "execution_count": 21,
     "metadata": {},
     "output_type": "execute_result"
    }
   ],
   "source": [
    "from skpro.registry import all_objects\n",
    "\n",
    "all_objects(\"metric\", as_dataframe=True, return_tags=\"scitype:y_pred\")"
   ]
  },
  {
   "cell_type": "markdown",
   "metadata": {},
   "source": [
    "extra note: quantile metrics can be applied to interval predictions as well\n",
    "\n",
    "more details on metrics below"
   ]
  },
  {
   "cell_type": "markdown",
   "metadata": {},
   "source": [
    "## 1.3 diagnostic visualisations"
   ]
  },
  {
   "cell_type": "markdown",
   "metadata": {},
   "source": [
    "some useful diagnostic visualisations: variants of crossplots for probabilistic predictions"
   ]
  },
  {
   "cell_type": "markdown",
   "metadata": {},
   "source": [
    "A. crossplot ground truth vs prediction intervals.\n",
    "\n",
    "Works with both proba and interval predictions.\n",
    "\n",
    "What to look for: intervals shouhld cut through the x = y line (green points)"
   ]
  },
  {
   "cell_type": "code",
   "execution_count": 22,
   "metadata": {},
   "outputs": [
    {
     "data": {
      "text/plain": [
       "<Axes: xlabel='Correct label $y_i$', ylabel='Prediction interval $\\\\widehat{y}_i$'>"
      ]
     },
     "execution_count": 22,
     "metadata": {},
     "output_type": "execute_result"
    },
    {
     "data": {
      "image/png": "[encoded data removed]",
      "text/plain": [
       "<Figure size 640x480 with 1 Axes>"
      ]
     },
     "metadata": {},
     "output_type": "display_data"
    }
   ],
   "source": [
    "from skpro.utils.plotting import plot_crossplot_interval\n",
    "\n",
    "plot_crossplot_interval(y_test, y_pred_proba, coverage=0.9)"
   ]
  },
  {
   "cell_type": "code",
   "execution_count": 23,
   "metadata": {},
   "outputs": [
    {
     "data": {
      "text/plain": [
       "<Axes: xlabel='Correct label $y_i$', ylabel='Prediction interval $\\\\widehat{y}_i$'>"
      ]
     },
     "execution_count": 23,
     "metadata": {},
     "output_type": "execute_result"
    },
    {
     "data": {
      "image/png": "[encoded data removed]",
      "text/plain": [
       "<Figure size 640x480 with 1 Axes>"
      ]
     },
     "metadata": {},
     "output_type": "display_data"
    }
   ],
   "source": [
    "from skpro.utils.plotting import plot_crossplot_interval\n",
    "\n",
    "y_pred_interval = reg_proba.predict_interval(X_test, coverage=0.9)\n",
    "plot_crossplot_interval(y_test, y_pred_interval)"
   ]
  },
  {
   "cell_type": "markdown",
   "metadata": {},
   "source": [
    "B. crossplot residuals vs predictive standard deviation\n",
    "\n",
    "Works with both proba and variance predictions.\n",
    "\n",
    "What to look for: should be close to a line, high linear correlation"
   ]
  },
  {
   "cell_type": "code",
   "execution_count": 24,
   "metadata": {},
   "outputs": [
    {
     "data": {
      "text/plain": [
       "<Axes: xlabel='Absolute errors $|y_i - \\\\widehat{y}_i|$', ylabel='Predictive standard deviation of $\\\\widehat{y}_i$'>"
      ]
     },
     "execution_count": 24,
     "metadata": {},
     "output_type": "execute_result"
    },
    {
     "data": {
      "image/png": "[encoded data removed]",
      "text/plain": [
       "<Figure size 640x480 with 1 Axes>"
      ]
     },
     "metadata": {},
     "output_type": "display_data"
    }
   ],
   "source": [
    "from skpro.utils.plotting import plot_crossplot_std\n",
    "\n",
    "plot_crossplot_std(y_test, y_pred_proba)"
   ]
  },
  {
   "cell_type": "code",
   "execution_count": 25,
   "metadata": {},
   "outputs": [
    {
     "data": {
      "text/plain": [
       "<Axes: xlabel='Absolute errors $|y_i - \\\\widehat{y}_i|$', ylabel='Predictive standard deviation of $\\\\widehat{y}_i$'>"
      ]
     },
     "execution_count": 25,
     "metadata": {},
     "output_type": "execute_result"
    },
    {
     "data": {
      "image/png": "[encoded data removed]",
      "text/plain": [
       "<Figure size 640x480 with 1 Axes>"
      ]
     },
     "metadata": {},
     "output_type": "display_data"
    }
   ],
   "source": [
    "from skpro.utils.plotting import plot_crossplot_std\n",
    "\n",
    "y_pred_var = reg_proba.predict_var(X_test)\n",
    "plot_crossplot_std(y_test, y_pred_var)"
   ]
  },
  {
   "cell_type": "markdown",
   "metadata": {},
   "source": [
    "C. crossplot ground truth vs loss values\n",
    "\n",
    "Loss and prediction type should agree.\n",
    "\n",
    "What to look for: association between accuracy and ground truth value\n",
    "\n",
    "Diagnostic of which values we can predict more accurately,\n",
    "\n",
    "e.g., to inform modelling or identify unusual outliers"
   ]
  },
  {
   "cell_type": "code",
   "execution_count": 26,
   "metadata": {},
   "outputs": [
    {
     "data": {
      "text/plain": [
       "<Axes: title={'center': 'mean CRPS: 29.34 +/- 1.97 sterr of mean'}, xlabel='Correct label $y_i$', ylabel='CRPS($y_i$, $\\\\widehat{y}_i$)'>"
      ]
     },
     "execution_count": 26,
     "metadata": {},
     "output_type": "execute_result"
    },
    {
     "data": {
      "image/png": "[encoded data removed]",
      "text/plain": [
       "<Figure size 640x480 with 1 Axes>"
      ]
     },
     "metadata": {},
     "output_type": "display_data"
    }
   ],
   "source": [
    "from skpro.utils.plotting import plot_crossplot_loss\n",
    "\n",
    "crps_metric = CRPS()\n",
    "plot_crossplot_loss(y_test, y_pred_proba, crps_metric)"
   ]
  },
  {
   "cell_type": "markdown",
   "metadata": {},
   "source": [
    "### 1.4 `skpro` objects - `scikit-base` interface, searching for regressors and metrics"
   ]
  },
  {
   "cell_type": "markdown",
   "metadata": {},
   "source": [
    "* `skpro` objects - `skbase` interface points `get_tags`, `get_params`/`set_params`\n",
    "* searching estimators and metrics via `all_objects`"
   ]
  },
  {
   "cell_type": "markdown",
   "metadata": {},
   "source": [
    "### 1.4.1 primer on `skpro` object interface <a class=\"anchor\" id=\"section1_3_1\"></a>"
   ]
  },
  {
   "cell_type": "markdown",
   "metadata": {},
   "source": [
    "metrics and estimators are first-class citizens in `skpro`, with a `scikit-base` compatible interface"
   ]
  },
  {
   "cell_type": "code",
   "execution_count": 27,
   "metadata": {},
   "outputs": [],
   "source": [
    "# example object 1: CRPS metric\n",
    "from skpro.metrics import CRPS\n",
    "\n",
    "crps_metric = CRPS()\n",
    "\n",
    "# example object 2: ResidualDouble regressor\n",
    "from sklearn.ensemble import RandomForestRegressor\n",
    "from sklearn.linear_model import LinearRegression\n",
    "\n",
    "from skpro.regression.residual import ResidualDouble\n",
    "\n",
    "reg_mean = LinearRegression()\n",
    "reg_resid = RandomForestRegressor()\n",
    "reg_proba = ResidualDouble(reg_mean, reg_resid)"
   ]
  },
  {
   "cell_type": "markdown",
   "metadata": {},
   "source": [
    "e.g., all have `get_tags` interface"
   ]
  },
  {
   "cell_type": "code",
   "execution_count": 28,
   "metadata": {},
   "outputs": [
    {
     "data": {
      "text/plain": [
       "{'estimator_type': 'estimator',\n",
       " 'object_type': 'metric',\n",
       " 'reserved_params': ['multioutput', 'score_average'],\n",
       " 'scitype:y_pred': 'pred_proba',\n",
       " 'lower_is_better': True}"
      ]
     },
     "execution_count": 28,
     "metadata": {},
     "output_type": "execute_result"
    }
   ],
   "source": [
    "crps_metric.get_tags()"
   ]
  },
  {
   "cell_type": "code",
   "execution_count": 29,
   "metadata": {},
   "outputs": [
    {
     "data": {
      "text/plain": [
       "{'estimator_type': 'regressor_proba',\n",
       " 'object_type': 'regressor_proba',\n",
       " 'capability:multioutput': False,\n",
       " 'capability:missing': True}"
      ]
     },
     "execution_count": 29,
     "metadata": {},
     "output_type": "execute_result"
    }
   ],
   "source": [
    "reg_proba.get_tags()"
   ]
  },
  {
   "cell_type": "markdown",
   "metadata": {},
   "source": [
    "the tag `object_type` indicates the type of object, e.g., metric or proba regressor"
   ]
  },
  {
   "cell_type": "markdown",
   "metadata": {},
   "source": [
    "all objects also have the `get_params`/`set_params` interface known from `scikit-learn`\n",
    "\n",
    "= reading or setting hyper-parameters\n",
    "\n",
    "`get_params` returns `dict` `{paramname: paramvalue}`; `set_params` writes it"
   ]
  },
  {
   "cell_type": "code",
   "execution_count": 30,
   "metadata": {},
   "outputs": [
    {
     "data": {
      "text/plain": [
       "{'multioutput': 'uniform_average', 'multivariate': False}"
      ]
     },
     "execution_count": 30,
     "metadata": {},
     "output_type": "execute_result"
    }
   ],
   "source": [
    "crps_metric.get_params()"
   ]
  },
  {
   "cell_type": "markdown",
   "metadata": {},
   "source": [
    "composite objects have the nested param interface, keys `componentname__paramname`"
   ]
  },
  {
   "cell_type": "code",
   "execution_count": 31,
   "metadata": {},
   "outputs": [
    {
     "data": {
      "text/html": [
       "<style>#sk-0b6045c2-70a4-4728-a357-fac7540d49af {color: black;background-color: white;}#sk-0b6045c2-70a4-4728-a357-fac7540d49af pre{padding: 0;}#sk-0b6045c2-70a4-4728-a357-fac7540d49af div.sk-toggleable {background-color: white;}#sk-0b6045c2-70a4-4728-a357-fac7540d49af label.sk-toggleable__label {cursor: pointer;display: block;width: 100%;margin-bottom: 0;padding: 0.3em;box-sizing: border-box;text-align: center;}#sk-0b6045c2-70a4-4728-a357-fac7540d49af label.sk-toggleable__label-arrow:before {content: \"▸\";float: left;margin-right: 0.25em;color: #696969;}#sk-0b6045c2-70a4-4728-a357-fac7540d49af label.sk-toggleable__label-arrow:hover:before {color: black;}#sk-0b6045c2-70a4-4728-a357-fac7540d49af div.sk-estimator:hover label.sk-toggleable__label-arrow:before {color: black;}#sk-0b6045c2-70a4-4728-a357-fac7540d49af div.sk-toggleable__content {max-height: 0;max-width: 0;overflow: hidden;text-align: left;background-color: #f0f8ff;}#sk-0b6045c2-70a4-4728-a357-fac7540d49af div.sk-toggleable__content pre {margin: 0.2em;color: black;border-radius: 0.25em;background-color: #f0f8ff;}#sk-0b6045c2-70a4-4728-a357-fac7540d49af input.sk-toggleable__control:checked~div.sk-toggleable__content {max-height: 200px;max-width: 100%;overflow: auto;}#sk-0b6045c2-70a4-4728-a357-fac7540d49af input.sk-toggleable__control:checked~label.sk-toggleable__label-arrow:before {content: \"▾\";}#sk-0b6045c2-70a4-4728-a357-fac7540d49af div.sk-estimator input.sk-toggleable__control:checked~label.sk-toggleable__label {background-color: #d4ebff;}#sk-0b6045c2-70a4-4728-a357-fac7540d49af div.sk-label input.sk-toggleable__control:checked~label.sk-toggleable__label {background-color: #d4ebff;}#sk-0b6045c2-70a4-4728-a357-fac7540d49af input.sk-hidden--visually {border: 0;clip: rect(1px 1px 1px 1px);clip: rect(1px, 1px, 1px, 1px);height: 1px;margin: -1px;overflow: hidden;padding: 0;position: absolute;width: 1px;}#sk-0b6045c2-70a4-4728-a357-fac7540d49af div.sk-estimator {font-family: monospace;background-color: #f0f8ff;border: 1px dotted black;border-radius: 0.25em;box-sizing: border-box;margin-bottom: 0.5em;}#sk-0b6045c2-70a4-4728-a357-fac7540d49af div.sk-estimator:hover {background-color: #d4ebff;}#sk-0b6045c2-70a4-4728-a357-fac7540d49af div.sk-parallel-item::after {content: \"\";width: 100%;border-bottom: 1px solid gray;flex-grow: 1;}#sk-0b6045c2-70a4-4728-a357-fac7540d49af div.sk-label:hover label.sk-toggleable__label {background-color: #d4ebff;}#sk-0b6045c2-70a4-4728-a357-fac7540d49af div.sk-serial::before {content: \"\";position: absolute;border-left: 1px solid gray;box-sizing: border-box;top: 2em;bottom: 0;left: 50%;}#sk-0b6045c2-70a4-4728-a357-fac7540d49af div.sk-serial {display: flex;flex-direction: column;align-items: center;background-color: white;padding-right: 0.2em;padding-left: 0.2em;}#sk-0b6045c2-70a4-4728-a357-fac7540d49af div.sk-item {z-index: 1;}#sk-0b6045c2-70a4-4728-a357-fac7540d49af div.sk-parallel {display: flex;align-items: stretch;justify-content: center;background-color: white;}#sk-0b6045c2-70a4-4728-a357-fac7540d49af div.sk-parallel::before {content: \"\";position: absolute;border-left: 1px solid gray;box-sizing: border-box;top: 2em;bottom: 0;left: 50%;}#sk-0b6045c2-70a4-4728-a357-fac7540d49af div.sk-parallel-item {display: flex;flex-direction: column;position: relative;background-color: white;}#sk-0b6045c2-70a4-4728-a357-fac7540d49af div.sk-parallel-item:first-child::after {align-self: flex-end;width: 50%;}#sk-0b6045c2-70a4-4728-a357-fac7540d49af div.sk-parallel-item:last-child::after {align-self: flex-start;width: 50%;}#sk-0b6045c2-70a4-4728-a357-fac7540d49af div.sk-parallel-item:only-child::after {width: 0;}#sk-0b6045c2-70a4-4728-a357-fac7540d49af div.sk-dashed-wrapped {border: 1px dashed gray;margin: 0 0.4em 0.5em 0.4em;box-sizing: border-box;padding-bottom: 0.4em;background-color: white;position: relative;}#sk-0b6045c2-70a4-4728-a357-fac7540d49af div.sk-label label {font-family: monospace;font-weight: bold;background-color: white;display: inline-block;line-height: 1.2em;}#sk-0b6045c2-70a4-4728-a357-fac7540d49af div.sk-label-container {position: relative;z-index: 2;text-align: center;}#sk-0b6045c2-70a4-4728-a357-fac7540d49af div.sk-container {/* jupyter's `normalize.less` sets `[hidden] { display: none; }` but bootstrap.min.css set `[hidden] { display: none !important; }` so we also need the `!important` here to be able to override the default hidden behavior on the sphinx rendered scikit-learn.org. See: https://github.com/scikit-learn/scikit-learn/issues/21755 */display: inline-block !important;position: relative;}#sk-0b6045c2-70a4-4728-a357-fac7540d49af div.sk-text-repr-fallback {display: none;}</style><div id='sk-0b6045c2-70a4-4728-a357-fac7540d49af' class=\"sk-top-container\"><div class=\"sk-text-repr-fallback\"><pre>ResidualDouble(estimator=LinearRegression(),\n",
       "               estimator_resid=RandomForestRegressor())</pre><b>Please rerun this cell to show the HTML repr or trust the notebook.</b></div><div class=\"sk-container\" hidden><div class=\"sk-item sk-dashed-wrapped\"><div class='sk-label-container'><div class=\"sk-label sk-toggleable\"><input class=\"sk-toggleable__control sk-hidden--visually\" id=UUID('a4f0a0bb-19e4-4369-afa1-63ac271225f7') type=\"checkbox\" ><label for=UUID('a4f0a0bb-19e4-4369-afa1-63ac271225f7') class='sk-toggleable__label sk-toggleable__label-arrow'>ResidualDouble</label><div class=\"sk-toggleable__content\"><pre>ResidualDouble(estimator=LinearRegression(),\n",
       "               estimator_resid=RandomForestRegressor())</pre></div></div></div><div class=\"sk-parallel\"><div class=\"sk-parallel-item\"><div class=\"sk-item\"><div class=\"sk-serial\"><div class='sk-item'><div class=\"sk-estimator sk-toggleable\"><input class=\"sk-toggleable__control sk-hidden--visually\" id=UUID('c9308b64-2272-47bf-8de1-443b4e94233d') type=\"checkbox\" ><label for=UUID('c9308b64-2272-47bf-8de1-443b4e94233d') class='sk-toggleable__label sk-toggleable__label-arrow'>LinearRegression</label><div class=\"sk-toggleable__content\"><pre>LinearRegression()</pre></div></div></div></div></div></div><div class=\"sk-parallel-item\"><div class=\"sk-item\"><div class=\"sk-serial\"><div class='sk-item'><div class=\"sk-estimator sk-toggleable\"><input class=\"sk-toggleable__control sk-hidden--visually\" id=UUID('3425c238-2330-4884-a37c-13b4700747ee') type=\"checkbox\" ><label for=UUID('3425c238-2330-4884-a37c-13b4700747ee') class='sk-toggleable__label sk-toggleable__label-arrow'>RandomForestRegressor</label><div class=\"sk-toggleable__content\"><pre>RandomForestRegressor()</pre></div></div></div></div></div></div></div></div></div></div>"
      ],
      "text/plain": [
       "ResidualDouble(estimator=LinearRegression(),\n",
       "               estimator_resid=RandomForestRegressor())"
      ]
     },
     "execution_count": 31,
     "metadata": {},
     "output_type": "execute_result"
    }
   ],
   "source": [
    "# note that reg_proba has components LinearRegression and RandomForestaregressor\n",
    "# each with their own parameters\n",
    "reg_proba"
   ]
  },
  {
   "cell_type": "markdown",
   "metadata": {},
   "source": [
    "so `reg_proba` will have parameters coming from itself and either component:"
   ]
  },
  {
   "cell_type": "code",
   "execution_count": 32,
   "metadata": {},
   "outputs": [
    {
     "data": {
      "text/plain": [
       "{'cv': None,\n",
       " 'distr_loc_scale_name': None,\n",
       " 'distr_params': None,\n",
       " 'distr_type': 'Normal',\n",
       " 'estimator': LinearRegression(),\n",
       " 'estimator_resid': RandomForestRegressor(),\n",
       " 'min_scale': 1e-10,\n",
       " 'residual_trafo': 'absolute',\n",
       " 'use_y_pred': False,\n",
       " 'estimator__copy_X': True,\n",
       " 'estimator__fit_intercept': True,\n",
       " 'estimator__n_jobs': None,\n",
       " 'estimator__normalize': 'deprecated',\n",
       " 'estimator__positive': False,\n",
       " 'estimator_resid__bootstrap': True,\n",
       " 'estimator_resid__ccp_alpha': 0.0,\n",
       " 'estimator_resid__criterion': 'squared_error',\n",
       " 'estimator_resid__max_depth': None,\n",
       " 'estimator_resid__max_features': 1.0,\n",
       " 'estimator_resid__max_leaf_nodes': None,\n",
       " 'estimator_resid__max_samples': None,\n",
       " 'estimator_resid__min_impurity_decrease': 0.0,\n",
       " 'estimator_resid__min_samples_leaf': 1,\n",
       " 'estimator_resid__min_samples_split': 2,\n",
       " 'estimator_resid__min_weight_fraction_leaf': 0.0,\n",
       " 'estimator_resid__n_estimators': 100,\n",
       " 'estimator_resid__n_jobs': None,\n",
       " 'estimator_resid__oob_score': False,\n",
       " 'estimator_resid__random_state': None,\n",
       " 'estimator_resid__verbose': 0,\n",
       " 'estimator_resid__warm_start': False}"
      ]
     },
     "execution_count": 32,
     "metadata": {},
     "output_type": "execute_result"
    }
   ],
   "source": [
    "reg_proba.get_params()"
   ]
  },
  {
   "cell_type": "markdown",
   "metadata": {},
   "source": [
    "further common interface points are `get_config`, `set_config`, and `get_fitted_params` (only fittable estimators)"
   ]
  },
  {
   "cell_type": "markdown",
   "metadata": {},
   "source": [
    "### 1.4.2 searching for regressors and metrics <a class=\"anchor\" id=\"section1_3_2\"></a>"
   ]
  },
  {
   "cell_type": "markdown",
   "metadata": {},
   "source": [
    "as first-class citizens, all objects in `skpro` are indexed via the `registry` utility `all_objects`.\n",
    "\n",
    "To find probabilistic supervised regressors, use `all_objects` with the type `regressor_proba`:"
   ]
  },
  {
   "cell_type": "code",
   "execution_count": 33,
   "metadata": {},
   "outputs": [
    {
     "data": {
      "text/html": [
       "<div>\n",
       "<style scoped>\n",
       "    .dataframe tbody tr th:only-of-type {\n",
       "        vertical-align: middle;\n",
       "    }\n",
       "\n",
       "    .dataframe tbody tr th {\n",
       "        vertical-align: top;\n",
       "    }\n",
       "\n",
       "    .dataframe thead th {\n",
       "        text-align: right;\n",
       "    }\n",
       "</style>\n",
       "<table border=\"1\" class=\"dataframe\">\n",
       "  <thead>\n",
       "    <tr style=\"text-align: right;\">\n",
       "      <th></th>\n",
       "      <th>name</th>\n",
       "      <th>object</th>\n",
       "    </tr>\n",
       "  </thead>\n",
       "  <tbody>\n",
       "    <tr>\n",
       "      <th>0</th>\n",
       "      <td>BaggingRegressor</td>\n",
       "      <td>&lt;class 'skpro.regression.ensemble.BaggingRegre...</td>\n",
       "    </tr>\n",
       "    <tr>\n",
       "      <th>1</th>\n",
       "      <td>BootstrapRegressor</td>\n",
       "      <td>&lt;class 'skpro.regression.bootstrap.BootstrapRe...</td>\n",
       "    </tr>\n",
       "    <tr>\n",
       "      <th>2</th>\n",
       "      <td>GridSearchCV</td>\n",
       "      <td>&lt;class 'skpro.model_selection._tuning.GridSear...</td>\n",
       "    </tr>\n",
       "    <tr>\n",
       "      <th>3</th>\n",
       "      <td>Pipeline</td>\n",
       "      <td>&lt;class 'skpro.regression.compose._pipeline.Pip...</td>\n",
       "    </tr>\n",
       "    <tr>\n",
       "      <th>4</th>\n",
       "      <td>RandomizedSearchCV</td>\n",
       "      <td>&lt;class 'skpro.model_selection._tuning.Randomiz...</td>\n",
       "    </tr>\n",
       "  </tbody>\n",
       "</table>\n",
       "</div>"
      ],
      "text/plain": [
       "                 name                                             object\n",
       "0    BaggingRegressor  <class 'skpro.regression.ensemble.BaggingRegre...\n",
       "1  BootstrapRegressor  <class 'skpro.regression.bootstrap.BootstrapRe...\n",
       "2        GridSearchCV  <class 'skpro.model_selection._tuning.GridSear...\n",
       "3            Pipeline  <class 'skpro.regression.compose._pipeline.Pip...\n",
       "4  RandomizedSearchCV  <class 'skpro.model_selection._tuning.Randomiz..."
      ]
     },
     "execution_count": 33,
     "metadata": {},
     "output_type": "execute_result"
    }
   ],
   "source": [
    "from skpro.registry import all_objects\n",
    "\n",
    "all_objects(\"regressor_proba\", as_dataframe=True).head()"
   ]
  },
  {
   "cell_type": "markdown",
   "metadata": {},
   "source": [
    "a full list can also be found in the online API reference."
   ]
  },
  {
   "cell_type": "markdown",
   "metadata": {},
   "source": [
    "for metrics, as seen above:"
   ]
  },
  {
   "cell_type": "code",
   "execution_count": 34,
   "metadata": {},
   "outputs": [
    {
     "data": {
      "text/html": [
       "<div>\n",
       "<style scoped>\n",
       "    .dataframe tbody tr th:only-of-type {\n",
       "        vertical-align: middle;\n",
       "    }\n",
       "\n",
       "    .dataframe tbody tr th {\n",
       "        vertical-align: top;\n",
       "    }\n",
       "\n",
       "    .dataframe thead th {\n",
       "        text-align: right;\n",
       "    }\n",
       "</style>\n",
       "<table border=\"1\" class=\"dataframe\">\n",
       "  <thead>\n",
       "    <tr style=\"text-align: right;\">\n",
       "      <th></th>\n",
       "      <th>name</th>\n",
       "      <th>object</th>\n",
       "      <th>scitype:y_pred</th>\n",
       "    </tr>\n",
       "  </thead>\n",
       "  <tbody>\n",
       "    <tr>\n",
       "      <th>0</th>\n",
       "      <td>CRPS</td>\n",
       "      <td>&lt;class 'skpro.metrics._classes.CRPS'&gt;</td>\n",
       "      <td>pred_proba</td>\n",
       "    </tr>\n",
       "    <tr>\n",
       "      <th>1</th>\n",
       "      <td>ConstraintViolation</td>\n",
       "      <td>&lt;class 'skpro.metrics._classes.ConstraintViola...</td>\n",
       "      <td>pred_interval</td>\n",
       "    </tr>\n",
       "    <tr>\n",
       "      <th>2</th>\n",
       "      <td>EmpiricalCoverage</td>\n",
       "      <td>&lt;class 'skpro.metrics._classes.EmpiricalCovera...</td>\n",
       "      <td>pred_interval</td>\n",
       "    </tr>\n",
       "    <tr>\n",
       "      <th>3</th>\n",
       "      <td>LinearizedLogLoss</td>\n",
       "      <td>&lt;class 'skpro.metrics._classes.LinearizedLogLo...</td>\n",
       "      <td>pred_proba</td>\n",
       "    </tr>\n",
       "    <tr>\n",
       "      <th>4</th>\n",
       "      <td>LogLoss</td>\n",
       "      <td>&lt;class 'skpro.metrics._classes.LogLoss'&gt;</td>\n",
       "      <td>pred_proba</td>\n",
       "    </tr>\n",
       "    <tr>\n",
       "      <th>5</th>\n",
       "      <td>PinballLoss</td>\n",
       "      <td>&lt;class 'skpro.metrics._classes.PinballLoss'&gt;</td>\n",
       "      <td>pred_quantiles</td>\n",
       "    </tr>\n",
       "    <tr>\n",
       "      <th>6</th>\n",
       "      <td>SquaredDistrLoss</td>\n",
       "      <td>&lt;class 'skpro.metrics._classes.SquaredDistrLoss'&gt;</td>\n",
       "      <td>pred_proba</td>\n",
       "    </tr>\n",
       "  </tbody>\n",
       "</table>\n",
       "</div>"
      ],
      "text/plain": [
       "                  name                                             object  \\\n",
       "0                 CRPS              <class 'skpro.metrics._classes.CRPS'>   \n",
       "1  ConstraintViolation  <class 'skpro.metrics._classes.ConstraintViola...   \n",
       "2    EmpiricalCoverage  <class 'skpro.metrics._classes.EmpiricalCovera...   \n",
       "3    LinearizedLogLoss  <class 'skpro.metrics._classes.LinearizedLogLo...   \n",
       "4              LogLoss           <class 'skpro.metrics._classes.LogLoss'>   \n",
       "5          PinballLoss       <class 'skpro.metrics._classes.PinballLoss'>   \n",
       "6     SquaredDistrLoss  <class 'skpro.metrics._classes.SquaredDistrLoss'>   \n",
       "\n",
       "   scitype:y_pred  \n",
       "0      pred_proba  \n",
       "1   pred_interval  \n",
       "2   pred_interval  \n",
       "3      pred_proba  \n",
       "4      pred_proba  \n",
       "5  pred_quantiles  \n",
       "6      pred_proba  "
      ]
     },
     "execution_count": 34,
     "metadata": {},
     "output_type": "execute_result"
    }
   ],
   "source": [
    "from skpro.registry import all_objects\n",
    "\n",
    "all_objects(\"metric\", as_dataframe=True, return_tags=\"scitype:y_pred\")"
   ]
  },
  {
   "cell_type": "markdown",
   "metadata": {},
   "source": [
    "all tags can be printed by the `all_tags` utility:"
   ]
  },
  {
   "cell_type": "code",
   "execution_count": 35,
   "metadata": {},
   "outputs": [
    {
     "data": {
      "text/html": [
       "<div>\n",
       "<style scoped>\n",
       "    .dataframe tbody tr th:only-of-type {\n",
       "        vertical-align: middle;\n",
       "    }\n",
       "\n",
       "    .dataframe tbody tr th {\n",
       "        vertical-align: top;\n",
       "    }\n",
       "\n",
       "    .dataframe thead th {\n",
       "        text-align: right;\n",
       "    }\n",
       "</style>\n",
       "<table border=\"1\" class=\"dataframe\">\n",
       "  <thead>\n",
       "    <tr style=\"text-align: right;\">\n",
       "      <th></th>\n",
       "      <th>name</th>\n",
       "      <th>scitype</th>\n",
       "      <th>type</th>\n",
       "      <th>description</th>\n",
       "    </tr>\n",
       "  </thead>\n",
       "  <tbody>\n",
       "    <tr>\n",
       "      <th>0</th>\n",
       "      <td>lower_is_better</td>\n",
       "      <td>metric</td>\n",
       "      <td>bool</td>\n",
       "      <td>whether lower (True) or higher (False) is better</td>\n",
       "    </tr>\n",
       "    <tr>\n",
       "      <th>1</th>\n",
       "      <td>scitype:y_pred</td>\n",
       "      <td>metric</td>\n",
       "      <td>str</td>\n",
       "      <td>expected input type for y_pred in performance ...</td>\n",
       "    </tr>\n",
       "  </tbody>\n",
       "</table>\n",
       "</div>"
      ],
      "text/plain": [
       "              name scitype  type  \\\n",
       "0  lower_is_better  metric  bool   \n",
       "1   scitype:y_pred  metric   str   \n",
       "\n",
       "                                         description  \n",
       "0   whether lower (True) or higher (False) is better  \n",
       "1  expected input type for y_pred in performance ...  "
      ]
     },
     "execution_count": 35,
     "metadata": {},
     "output_type": "execute_result"
    }
   ],
   "source": [
    "# all tags applicable to metrics\n",
    "from skpro.registry import all_tags\n",
    "\n",
    "all_tags(\"metric\", as_dataframe=True)"
   ]
  },
  {
   "cell_type": "code",
   "execution_count": 36,
   "metadata": {},
   "outputs": [
    {
     "data": {
      "text/html": [
       "<div>\n",
       "<style scoped>\n",
       "    .dataframe tbody tr th:only-of-type {\n",
       "        vertical-align: middle;\n",
       "    }\n",
       "\n",
       "    .dataframe tbody tr th {\n",
       "        vertical-align: top;\n",
       "    }\n",
       "\n",
       "    .dataframe thead th {\n",
       "        text-align: right;\n",
       "    }\n",
       "</style>\n",
       "<table border=\"1\" class=\"dataframe\">\n",
       "  <thead>\n",
       "    <tr style=\"text-align: right;\">\n",
       "      <th></th>\n",
       "      <th>name</th>\n",
       "      <th>scitype</th>\n",
       "      <th>type</th>\n",
       "      <th>description</th>\n",
       "    </tr>\n",
       "  </thead>\n",
       "  <tbody>\n",
       "    <tr>\n",
       "      <th>0</th>\n",
       "      <td>capability:missing</td>\n",
       "      <td>regressor_proba</td>\n",
       "      <td>bool</td>\n",
       "      <td>whether estimator supports missing values</td>\n",
       "    </tr>\n",
       "    <tr>\n",
       "      <th>1</th>\n",
       "      <td>capability:multioutput</td>\n",
       "      <td>regressor_proba</td>\n",
       "      <td>bool</td>\n",
       "      <td>whether estimator supports multioutput regression</td>\n",
       "    </tr>\n",
       "  </tbody>\n",
       "</table>\n",
       "</div>"
      ],
      "text/plain": [
       "                     name          scitype  type  \\\n",
       "0      capability:missing  regressor_proba  bool   \n",
       "1  capability:multioutput  regressor_proba  bool   \n",
       "\n",
       "                                         description  \n",
       "0          whether estimator supports missing values  \n",
       "1  whether estimator supports multioutput regression  "
      ]
     },
     "execution_count": 36,
     "metadata": {},
     "output_type": "execute_result"
    }
   ],
   "source": [
    "# all tags applicable to probabilistic regressors\n",
    "from skpro.registry import all_tags\n",
    "\n",
    "all_tags(\"regressor_proba\", as_dataframe=True)"
   ]
  },
  {
   "cell_type": "markdown",
   "metadata": {},
   "source": [
    "filtering in search can be done with the `filter_tags` argument in `all_objects`, see docstring:"
   ]
  },
  {
   "cell_type": "code",
   "execution_count": 37,
   "metadata": {},
   "outputs": [
    {
     "data": {
      "text/html": [
       "<div>\n",
       "<style scoped>\n",
       "    .dataframe tbody tr th:only-of-type {\n",
       "        vertical-align: middle;\n",
       "    }\n",
       "\n",
       "    .dataframe tbody tr th {\n",
       "        vertical-align: top;\n",
       "    }\n",
       "\n",
       "    .dataframe thead th {\n",
       "        text-align: right;\n",
       "    }\n",
       "</style>\n",
       "<table border=\"1\" class=\"dataframe\">\n",
       "  <thead>\n",
       "    <tr style=\"text-align: right;\">\n",
       "      <th></th>\n",
       "      <th>name</th>\n",
       "      <th>object</th>\n",
       "    </tr>\n",
       "  </thead>\n",
       "  <tbody>\n",
       "    <tr>\n",
       "      <th>0</th>\n",
       "      <td>CRPS</td>\n",
       "      <td>&lt;class 'skpro.metrics._classes.CRPS'&gt;</td>\n",
       "    </tr>\n",
       "    <tr>\n",
       "      <th>1</th>\n",
       "      <td>LinearizedLogLoss</td>\n",
       "      <td>&lt;class 'skpro.metrics._classes.LinearizedLogLo...</td>\n",
       "    </tr>\n",
       "    <tr>\n",
       "      <th>2</th>\n",
       "      <td>LogLoss</td>\n",
       "      <td>&lt;class 'skpro.metrics._classes.LogLoss'&gt;</td>\n",
       "    </tr>\n",
       "    <tr>\n",
       "      <th>3</th>\n",
       "      <td>SquaredDistrLoss</td>\n",
       "      <td>&lt;class 'skpro.metrics._classes.SquaredDistrLoss'&gt;</td>\n",
       "    </tr>\n",
       "  </tbody>\n",
       "</table>\n",
       "</div>"
      ],
      "text/plain": [
       "                name                                             object\n",
       "0               CRPS              <class 'skpro.metrics._classes.CRPS'>\n",
       "1  LinearizedLogLoss  <class 'skpro.metrics._classes.LinearizedLogLo...\n",
       "2            LogLoss           <class 'skpro.metrics._classes.LogLoss'>\n",
       "3   SquaredDistrLoss  <class 'skpro.metrics._classes.SquaredDistrLoss'>"
      ]
     },
     "execution_count": 37,
     "metadata": {},
     "output_type": "execute_result"
    }
   ],
   "source": [
    "from skpro.registry import all_objects\n",
    "\n",
    "# \"retrieve all genuinely probabilistic loss functions\"\n",
    "all_objects(\"metric\", as_dataframe=True, filter_tags={\"scitype:y_pred\": \"pred_proba\"})"
   ]
  },
  {
   "cell_type": "markdown",
   "metadata": {},
   "source": [
    "## 2. Prediction types, metrics, benchmarking <a class=\"anchor\" id=\"chapter2\"></a>"
   ]
  },
  {
   "cell_type": "markdown",
   "metadata": {},
   "source": [
    "This section gives more details on:\n",
    "\n",
    "* different prediction types, including a methodological primer\n",
    "* the API of metrics to compare probabilistic predictions to non-probabilistic actuals\n",
    "* utilities for batch benchmarking of estimators and metrics"
   ]
  },
  {
   "cell_type": "markdown",
   "metadata": {},
   "source": [
    "### 2.1 Probabilistic predictions - methodological primer <a class=\"anchor\" id=\"section2_1\"></a>"
   ]
  },
  {
   "cell_type": "markdown",
   "metadata": {},
   "source": [
    "**readers familir with, or less interested in theory, may like to skip section 2.1**"
   ]
  },
  {
   "cell_type": "markdown",
   "metadata": {},
   "source": [
    "In supervised learning - probabilistic or not:\n",
    "\n",
    "* we fit estimator to i.i.d samples $(X_1, Y_1), \\dots, (X_N, Y_N) \\sim (X_*, Y_*)$\n",
    "* and want to predict $y$ given $x$ accurately, for $(x, y) \\sim (X_*, Y_*)$"
   ]
  },
  {
   "cell_type": "markdown",
   "metadata": {},
   "source": [
    "Let $y$ be the (true) value, for an observed feature $x$\n",
    "\n",
    "(we consider $y$ a random variable)\n",
    "\n",
    "| Name | param | prediction/estimate of | `skpro` |\n",
    "| ---- | ----- | ---------------------- | -------- |\n",
    "| point prediction | | conditional expectation $\\mathbb{E}[y\\|x]$ | `predict` |\n",
    "| variance prediction | | conditional variance $Var[y\\|x]$ | `predict_var` |\n",
    "| quantile prediction | $\\alpha\\in (0,1)$ | $\\alpha$-quantile of $y\\|x$ | `predict_quantiles` |\n",
    "| interval prediction | $c\\in (0,1)$| $[a,b]$ s.t. $P(a\\le y \\le b\\| x) = c$ | `predict_interval` |\n",
    "| distribution prediction | | the law/distribution of $y\\|x$ | `predict_proba` |"
   ]
  },
  {
   "cell_type": "markdown",
   "metadata": {},
   "source": [
    "##### More formal details & intuition:"
   ]
  },
  {
   "cell_type": "markdown",
   "metadata": {},
   "source": [
    "let's consider the toy example again"
   ]
  },
  {
   "cell_type": "code",
   "execution_count": 38,
   "metadata": {},
   "outputs": [],
   "source": [
    "from sklearn.datasets import load_diabetes\n",
    "from sklearn.model_selection import train_test_split\n",
    "\n",
    "X, y = load_diabetes(return_X_y=True, as_frame=True)\n",
    "X_train, X_new, y_train, _ = train_test_split(X, y)"
   ]
  },
  {
   "cell_type": "code",
   "execution_count": 39,
   "metadata": {},
   "outputs": [],
   "source": [
    "from sklearn.datasets import load_diabetes\n",
    "from sklearn.ensemble import RandomForestRegressor\n",
    "from sklearn.model_selection import train_test_split\n",
    "\n",
    "from skpro.regression.residual import ResidualDouble\n",
    "\n",
    "X, y = load_diabetes(return_X_y=True, as_frame=True)\n",
    "X_train, X_new, y_train, _ = train_test_split(X, y)\n",
    "\n",
    "\n",
    "reg_mean = RandomForestRegressor()\n",
    "reg_proba = ResidualDouble(reg_mean)\n",
    "\n",
    "reg_proba.fit(X_train, y_train)\n",
    "y_pred_proba = reg_proba.predict_proba(X_new)"
   ]
  },
  {
   "cell_type": "markdown",
   "metadata": {},
   "source": [
    "* a **\"point prediction\"** is a prediction/estimate of the conditional expectation $\\mathbb{E}[y|x]$.\\\n",
    " **Intuition**: \"out of many repetitions/worlds, this value is the arithmetic average of all observations\"."
   ]
  },
  {
   "cell_type": "code",
   "execution_count": 40,
   "metadata": {},
   "outputs": [
    {
     "data": {
      "text/html": [
       "<div>\n",
       "<style scoped>\n",
       "    .dataframe tbody tr th:only-of-type {\n",
       "        vertical-align: middle;\n",
       "    }\n",
       "\n",
       "    .dataframe tbody tr th {\n",
       "        vertical-align: top;\n",
       "    }\n",
       "\n",
       "    .dataframe thead th {\n",
       "        text-align: right;\n",
       "    }\n",
       "</style>\n",
       "<table border=\"1\" class=\"dataframe\">\n",
       "  <thead>\n",
       "    <tr style=\"text-align: right;\">\n",
       "      <th></th>\n",
       "      <th>target</th>\n",
       "    </tr>\n",
       "  </thead>\n",
       "  <tbody>\n",
       "    <tr>\n",
       "      <th>421</th>\n",
       "      <td>216.595619</td>\n",
       "    </tr>\n",
       "    <tr>\n",
       "      <th>81</th>\n",
       "      <td>122.436986</td>\n",
       "    </tr>\n",
       "    <tr>\n",
       "      <th>326</th>\n",
       "      <td>147.317343</td>\n",
       "    </tr>\n",
       "    <tr>\n",
       "      <th>105</th>\n",
       "      <td>98.226950</td>\n",
       "    </tr>\n",
       "    <tr>\n",
       "      <th>416</th>\n",
       "      <td>171.539410</td>\n",
       "    </tr>\n",
       "  </tbody>\n",
       "</table>\n",
       "</div>"
      ],
      "text/plain": [
       "         target\n",
       "421  216.595619\n",
       "81   122.436986\n",
       "326  147.317343\n",
       "105   98.226950\n",
       "416  171.539410"
      ]
     },
     "execution_count": 40,
     "metadata": {},
     "output_type": "execute_result"
    }
   ],
   "source": [
    "# if y_pred_proba were *true*, here's how many repetitions would look like:\n",
    "\n",
    "# repeating this line is \"one repetition\"\n",
    "y_pred_proba.sample().head()"
   ]
  },
  {
   "cell_type": "code",
   "execution_count": 41,
   "metadata": {},
   "outputs": [
    {
     "data": {
      "text/html": [
       "<div>\n",
       "<style scoped>\n",
       "    .dataframe tbody tr th:only-of-type {\n",
       "        vertical-align: middle;\n",
       "    }\n",
       "\n",
       "    .dataframe tbody tr th {\n",
       "        vertical-align: top;\n",
       "    }\n",
       "\n",
       "    .dataframe thead th {\n",
       "        text-align: right;\n",
       "    }\n",
       "</style>\n",
       "<table border=\"1\" class=\"dataframe\">\n",
       "  <thead>\n",
       "    <tr style=\"text-align: right;\">\n",
       "      <th></th>\n",
       "      <th></th>\n",
       "      <th>target</th>\n",
       "    </tr>\n",
       "  </thead>\n",
       "  <tbody>\n",
       "    <tr>\n",
       "      <th rowspan=\"5\" valign=\"top\">0</th>\n",
       "      <th>421</th>\n",
       "      <td>174.503233</td>\n",
       "    </tr>\n",
       "    <tr>\n",
       "      <th>81</th>\n",
       "      <td>128.299773</td>\n",
       "    </tr>\n",
       "    <tr>\n",
       "      <th>326</th>\n",
       "      <td>174.547102</td>\n",
       "    </tr>\n",
       "    <tr>\n",
       "      <th>105</th>\n",
       "      <td>85.523671</td>\n",
       "    </tr>\n",
       "    <tr>\n",
       "      <th>416</th>\n",
       "      <td>166.025376</td>\n",
       "    </tr>\n",
       "    <tr>\n",
       "      <th>...</th>\n",
       "      <th>...</th>\n",
       "      <td>...</td>\n",
       "    </tr>\n",
       "    <tr>\n",
       "      <th rowspan=\"5\" valign=\"top\">99</th>\n",
       "      <th>399</th>\n",
       "      <td>208.666436</td>\n",
       "    </tr>\n",
       "    <tr>\n",
       "      <th>109</th>\n",
       "      <td>188.566325</td>\n",
       "    </tr>\n",
       "    <tr>\n",
       "      <th>22</th>\n",
       "      <td>76.930673</td>\n",
       "    </tr>\n",
       "    <tr>\n",
       "      <th>174</th>\n",
       "      <td>156.354496</td>\n",
       "    </tr>\n",
       "    <tr>\n",
       "      <th>106</th>\n",
       "      <td>96.456699</td>\n",
       "    </tr>\n",
       "  </tbody>\n",
       "</table>\n",
       "<p>11100 rows × 1 columns</p>\n",
       "</div>"
      ],
      "text/plain": [
       "            target\n",
       "0  421  174.503233\n",
       "   81   128.299773\n",
       "   326  174.547102\n",
       "   105   85.523671\n",
       "   416  166.025376\n",
       "...            ...\n",
       "99 399  208.666436\n",
       "   109  188.566325\n",
       "   22    76.930673\n",
       "   174  156.354496\n",
       "   106   96.456699\n",
       "\n",
       "[11100 rows x 1 columns]"
      ]
     },
     "execution_count": 41,
     "metadata": {},
     "output_type": "execute_result"
    }
   ],
   "source": [
    "many_samples = y_pred_proba.sample(100)\n",
    "many_samples"
   ]
  },
  {
   "cell_type": "code",
   "execution_count": 42,
   "metadata": {},
   "outputs": [
    {
     "data": {
      "text/html": [
       "<div>\n",
       "<style scoped>\n",
       "    .dataframe tbody tr th:only-of-type {\n",
       "        vertical-align: middle;\n",
       "    }\n",
       "\n",
       "    .dataframe tbody tr th {\n",
       "        vertical-align: top;\n",
       "    }\n",
       "\n",
       "    .dataframe thead th {\n",
       "        text-align: right;\n",
       "    }\n",
       "</style>\n",
       "<table border=\"1\" class=\"dataframe\">\n",
       "  <thead>\n",
       "    <tr style=\"text-align: right;\">\n",
       "      <th></th>\n",
       "      <th>target</th>\n",
       "    </tr>\n",
       "  </thead>\n",
       "  <tbody>\n",
       "    <tr>\n",
       "      <th>421</th>\n",
       "      <td>213.432031</td>\n",
       "    </tr>\n",
       "    <tr>\n",
       "      <th>81</th>\n",
       "      <td>126.286757</td>\n",
       "    </tr>\n",
       "    <tr>\n",
       "      <th>326</th>\n",
       "      <td>173.065740</td>\n",
       "    </tr>\n",
       "    <tr>\n",
       "      <th>105</th>\n",
       "      <td>100.126654</td>\n",
       "    </tr>\n",
       "    <tr>\n",
       "      <th>416</th>\n",
       "      <td>178.876668</td>\n",
       "    </tr>\n",
       "  </tbody>\n",
       "</table>\n",
       "</div>"
      ],
      "text/plain": [
       "         target\n",
       "421  213.432031\n",
       "81   126.286757\n",
       "326  173.065740\n",
       "105  100.126654\n",
       "416  178.876668"
      ]
     },
     "execution_count": 42,
     "metadata": {},
     "output_type": "execute_result"
    }
   ],
   "source": [
    "# \"doing many times and taking the mean\" -> usual point prediction\n",
    "mean_prediction = many_samples.groupby(level=1, sort=False).mean()\n",
    "mean_prediction.head()"
   ]
  },
  {
   "cell_type": "code",
   "execution_count": 43,
   "metadata": {},
   "outputs": [
    {
     "data": {
      "text/html": [
       "<div>\n",
       "<style scoped>\n",
       "    .dataframe tbody tr th:only-of-type {\n",
       "        vertical-align: middle;\n",
       "    }\n",
       "\n",
       "    .dataframe tbody tr th {\n",
       "        vertical-align: top;\n",
       "    }\n",
       "\n",
       "    .dataframe thead th {\n",
       "        text-align: right;\n",
       "    }\n",
       "</style>\n",
       "<table border=\"1\" class=\"dataframe\">\n",
       "  <thead>\n",
       "    <tr style=\"text-align: right;\">\n",
       "      <th></th>\n",
       "      <th>target</th>\n",
       "    </tr>\n",
       "  </thead>\n",
       "  <tbody>\n",
       "    <tr>\n",
       "      <th>421</th>\n",
       "      <td>213.57</td>\n",
       "    </tr>\n",
       "    <tr>\n",
       "      <th>81</th>\n",
       "      <td>122.14</td>\n",
       "    </tr>\n",
       "    <tr>\n",
       "      <th>326</th>\n",
       "      <td>172.48</td>\n",
       "    </tr>\n",
       "    <tr>\n",
       "      <th>105</th>\n",
       "      <td>98.97</td>\n",
       "    </tr>\n",
       "    <tr>\n",
       "      <th>416</th>\n",
       "      <td>180.31</td>\n",
       "    </tr>\n",
       "  </tbody>\n",
       "</table>\n",
       "</div>"
      ],
      "text/plain": [
       "     target\n",
       "421  213.57\n",
       "81   122.14\n",
       "326  172.48\n",
       "105   98.97\n",
       "416  180.31"
      ]
     },
     "execution_count": 43,
     "metadata": {},
     "output_type": "execute_result"
    }
   ],
   "source": [
    "# if we would do this infinity times instead of 100:\n",
    "y_pred_proba.mean().head()"
   ]
  },
  {
   "cell_type": "markdown",
   "metadata": {},
   "source": [
    "* a **\"variance prediction\"** is a prediction/estimate of the conditional expectation $Var[y|x]$.\\\n",
    " **Intuition:** \"out of many repetitions/worlds, this value is the average squared distance of the observation to the perfect point prediction\".\n"
   ]
  },
  {
   "cell_type": "code",
   "execution_count": 44,
   "metadata": {},
   "outputs": [
    {
     "data": {
      "text/html": [
       "<div>\n",
       "<style scoped>\n",
       "    .dataframe tbody tr th:only-of-type {\n",
       "        vertical-align: middle;\n",
       "    }\n",
       "\n",
       "    .dataframe tbody tr th {\n",
       "        vertical-align: top;\n",
       "    }\n",
       "\n",
       "    .dataframe thead th {\n",
       "        text-align: right;\n",
       "    }\n",
       "</style>\n",
       "<table border=\"1\" class=\"dataframe\">\n",
       "  <thead>\n",
       "    <tr style=\"text-align: right;\">\n",
       "      <th></th>\n",
       "      <th>target</th>\n",
       "    </tr>\n",
       "  </thead>\n",
       "  <tbody>\n",
       "    <tr>\n",
       "      <th>421</th>\n",
       "      <td>237.798822</td>\n",
       "    </tr>\n",
       "    <tr>\n",
       "      <th>81</th>\n",
       "      <td>262.881415</td>\n",
       "    </tr>\n",
       "    <tr>\n",
       "      <th>326</th>\n",
       "      <td>275.523556</td>\n",
       "    </tr>\n",
       "    <tr>\n",
       "      <th>105</th>\n",
       "      <td>401.240249</td>\n",
       "    </tr>\n",
       "    <tr>\n",
       "      <th>416</th>\n",
       "      <td>267.851337</td>\n",
       "    </tr>\n",
       "  </tbody>\n",
       "</table>\n",
       "</div>"
      ],
      "text/plain": [
       "         target\n",
       "421  237.798822\n",
       "81   262.881415\n",
       "326  275.523556\n",
       "105  401.240249\n",
       "416  267.851337"
      ]
     },
     "execution_count": 44,
     "metadata": {},
     "output_type": "execute_result"
    }
   ],
   "source": [
    "# same as above - take many samples, and then compute element-wise statistics\n",
    "var_prediction = many_samples.groupby(level=1, sort=False).var()\n",
    "var_prediction.head()"
   ]
  },
  {
   "cell_type": "code",
   "execution_count": 45,
   "metadata": {},
   "outputs": [
    {
     "data": {
      "text/html": [
       "<div>\n",
       "<style scoped>\n",
       "    .dataframe tbody tr th:only-of-type {\n",
       "        vertical-align: middle;\n",
       "    }\n",
       "\n",
       "    .dataframe tbody tr th {\n",
       "        vertical-align: top;\n",
       "    }\n",
       "\n",
       "    .dataframe thead th {\n",
       "        text-align: right;\n",
       "    }\n",
       "</style>\n",
       "<table border=\"1\" class=\"dataframe\">\n",
       "  <thead>\n",
       "    <tr style=\"text-align: right;\">\n",
       "      <th></th>\n",
       "      <th>target</th>\n",
       "    </tr>\n",
       "  </thead>\n",
       "  <tbody>\n",
       "    <tr>\n",
       "      <th>421</th>\n",
       "      <td>289.154099</td>\n",
       "    </tr>\n",
       "    <tr>\n",
       "      <th>81</th>\n",
       "      <td>289.154099</td>\n",
       "    </tr>\n",
       "    <tr>\n",
       "      <th>326</th>\n",
       "      <td>289.154099</td>\n",
       "    </tr>\n",
       "    <tr>\n",
       "      <th>105</th>\n",
       "      <td>289.154099</td>\n",
       "    </tr>\n",
       "    <tr>\n",
       "      <th>416</th>\n",
       "      <td>289.154099</td>\n",
       "    </tr>\n",
       "  </tbody>\n",
       "</table>\n",
       "</div>"
      ],
      "text/plain": [
       "         target\n",
       "421  289.154099\n",
       "81   289.154099\n",
       "326  289.154099\n",
       "105  289.154099\n",
       "416  289.154099"
      ]
     },
     "execution_count": 45,
     "metadata": {},
     "output_type": "execute_result"
    }
   ],
   "source": [
    "# e.g., predict_var should give the same result as infinite large sample's variance\n",
    "y_pred_proba.var().head()"
   ]
  },
  {
   "cell_type": "markdown",
   "metadata": {},
   "source": [
    "* a **\"quantile prediction\"**, at quantile point $\\alpha\\in (0,1)$ is a prediction/estimate of the $\\alpha$-quantile of $y'|y$, i.e., of $F^{-1}_{y|x}(\\alpha)$, where $F^{-1}$ is the (generalized) inverse cdf = quantile function of the random variable y|x.\\\n",
    " **Intuition**: \"out of many repetitions/worlds, a fraction of exactly $\\alpha$ will have equal or smaller than this value.\"\n",
    "* an **\"interval prediction\"** or \"predictive interval\" with (symmetric) coverage $c\\in (0,1)$ is a prediction/estimate pair of lower bound $a$ and upper bound $b$ such that $P(a\\le y \\le b| x) = c$ and $P(y \\gneq b| x) = P(y \\lneq a| x) = (1 - c) /2$.\\\n",
    " **Intuition**: \"out of many repetitions/worlds, a fraction of exactly $c$ will be contained in the interval $[a,b]$, and being above is equally likely as being below\"."
   ]
  },
  {
   "cell_type": "markdown",
   "metadata": {},
   "source": [
    "(similar - exercise left to the reader)"
   ]
  },
  {
   "cell_type": "markdown",
   "metadata": {},
   "source": [
    "* a **\"distribution prediction\"** or \"full probabilistic prediction\" is a prediction/estimate of the distribution of $y|x$, e.g., \"it's a normal distribution with mean 42 and variance 1\".\\\n",
    "**Intuition**: exhaustive description of the generating mechanism of many repetitions/worlds."
   ]
  },
  {
   "cell_type": "markdown",
   "metadata": {},
   "source": [
    "note: the true distribution is unknown, and not accessible easily!\n",
    "\n",
    "`y_pred_proba` is a distribution, but in general not equal to the true one!"
   ]
  },
  {
   "cell_type": "markdown",
   "metadata": {},
   "source": [
    "that is, there are:\n",
    "\n",
    "* *true* distribution `y_pred_proba_true` - unknown and unknowable but estimable\n",
    "* `y_pred_proba` - our guess at `y_pred_proba_true`\n",
    "* the actual data `y_true` is *one* `y_pred_proba_true.sample()`\n"
   ]
  },
  {
   "cell_type": "markdown",
   "metadata": {},
   "source": [
    "* `predict` produces guess of `y_pred_proba_true.mean()`\n",
    "* `predict_var` produces guess of `y_pred_proba_true.var()`\n",
    "* `predict_quantiles([0.05, 0.5, 0.95])` produces guess of `y_pred_proba_true.quantiles([0.05, 0.5, 0.95])`\n",
    "* `predict_proba` produces guess of `y_pred_proba_true`\n",
    "\n",
    "the guesses are algorithm specific, and some algorithms are more accurate than others, given data"
   ]
  },
  {
   "cell_type": "markdown",
   "metadata": {},
   "source": [
    "### 2.2 probabilistic metrics - details <a class=\"anchor\" id=\"section2_2\"></a>"
   ]
  },
  {
   "cell_type": "markdown",
   "metadata": {},
   "source": [
    "General usage pattern same as for `sklearn` metrics:\n",
    "\n",
    "1. get some actuals and predictions\n",
    "2. specify the metric - similar to estimator specs\n",
    "3. plug the actuals and predictions into metric to get metric values\n",
    "\n",
    "*but*: need to use dedicated metric for probabilistic predictions\n",
    "\n",
    "* ground truth: `y_true` samples\n",
    "* prediction e.g., `y_predict_proba`, `y_predict_interval`\n",
    "* so, match metric with type of prediction!\n",
    "    * `metric(y_true: 2D pd.DataFrame, y_pred: proba_prediction_type) -> float`"
   ]
  },
  {
   "cell_type": "markdown",
   "metadata": {},
   "source": [
    "Recall methods available for all probabilistic regressors:\n",
    "\n",
    "- `predict_interval` produces interval predictions.\n",
    "  Argument `coverage` (nominal interval coverage) must be provided.\n",
    "- `predict_quantiles` produces quantile predictions.\n",
    "  Argument `alpha` (quantile values) must be provided.\n",
    "- `predict_var` produces variance predictions. Same args as `predict`.\n",
    "- `predict_proba` produces full distributional predictions. Same args as `predict`."
   ]
  },
  {
   "cell_type": "markdown",
   "metadata": {},
   "source": [
    "| Name | param | prediction/estimate of | `skpro` |\n",
    "| ---- | ----- | ---------------------- | -------- |\n",
    "| point prediction | | conditional expectation $\\mathbb{E}[y\\|x]$ | `predict` |\n",
    "| variance prediction | | conditional variance $Var[y\\|x]$ | `predict_var` |\n",
    "| quantile prediction | $\\alpha\\in (0,1)$ | $\\alpha$-quantile of $y\\|x$ | `predict_quantiles` |\n",
    "| interval prediction | $c\\in (0,1)$| $[a,b]$ s.t. $P(a\\le y \\le b\\| x) = c$ | `predict_interval` |\n",
    "| distribution prediction | | the law/distribution of $y\\|x$ | `predict_proba` |"
   ]
  },
  {
   "cell_type": "markdown",
   "metadata": {},
   "source": [
    "let's produce some probabilistic predictions!"
   ]
  },
  {
   "cell_type": "code",
   "execution_count": 46,
   "metadata": {},
   "outputs": [],
   "source": [
    "# 1. get some actuals and predictions\n",
    "from sklearn.datasets import load_diabetes\n",
    "from sklearn.model_selection import train_test_split\n",
    "\n",
    "X, y = load_diabetes(return_X_y=True, as_frame=True)\n",
    "X_train, X_test, y_train, y_test = train_test_split(X, y)\n",
    "# actuals = y_test"
   ]
  },
  {
   "cell_type": "code",
   "execution_count": 47,
   "metadata": {},
   "outputs": [],
   "source": [
    "from sklearn.ensemble import RandomForestRegressor\n",
    "\n",
    "from skpro.regression.residual import ResidualDouble\n",
    "\n",
    "reg_mean = RandomForestRegressor()\n",
    "reg_proba = ResidualDouble(reg_mean)\n",
    "\n",
    "reg_proba.fit(X_train, y_train)\n",
    "\n",
    "# use any of the probabilistic methods, we have seen this\n",
    "y_pred_int = reg_proba.predict_interval(X_test, coverage=0.95)\n",
    "y_pred_q = reg_proba.predict_quantiles(X_test, alpha=[0.05, 0.95])\n",
    "y_pred_proba = reg_proba.predict_proba(X_test)"
   ]
  },
  {
   "cell_type": "markdown",
   "metadata": {},
   "source": [
    "recall, all have their own output format:"
   ]
  },
  {
   "cell_type": "code",
   "execution_count": 48,
   "metadata": {},
   "outputs": [
    {
     "data": {
      "text/html": [
       "<div>\n",
       "<style scoped>\n",
       "    .dataframe tbody tr th:only-of-type {\n",
       "        vertical-align: middle;\n",
       "    }\n",
       "\n",
       "    .dataframe tbody tr th {\n",
       "        vertical-align: top;\n",
       "    }\n",
       "\n",
       "    .dataframe thead tr th {\n",
       "        text-align: left;\n",
       "    }\n",
       "</style>\n",
       "<table border=\"1\" class=\"dataframe\">\n",
       "  <thead>\n",
       "    <tr>\n",
       "      <th></th>\n",
       "      <th colspan=\"2\" halign=\"left\">target</th>\n",
       "    </tr>\n",
       "    <tr>\n",
       "      <th></th>\n",
       "      <th colspan=\"2\" halign=\"left\">0.95</th>\n",
       "    </tr>\n",
       "    <tr>\n",
       "      <th></th>\n",
       "      <th>lower</th>\n",
       "      <th>upper</th>\n",
       "    </tr>\n",
       "  </thead>\n",
       "  <tbody>\n",
       "    <tr>\n",
       "      <th>104</th>\n",
       "      <td>112.79411</td>\n",
       "      <td>180.58589</td>\n",
       "    </tr>\n",
       "    <tr>\n",
       "      <th>334</th>\n",
       "      <td>63.02411</td>\n",
       "      <td>130.81589</td>\n",
       "    </tr>\n",
       "    <tr>\n",
       "      <th>271</th>\n",
       "      <td>116.11411</td>\n",
       "      <td>183.90589</td>\n",
       "    </tr>\n",
       "    <tr>\n",
       "      <th>342</th>\n",
       "      <td>155.14411</td>\n",
       "      <td>222.93589</td>\n",
       "    </tr>\n",
       "    <tr>\n",
       "      <th>243</th>\n",
       "      <td>51.14411</td>\n",
       "      <td>118.93589</td>\n",
       "    </tr>\n",
       "    <tr>\n",
       "      <th>...</th>\n",
       "      <td>...</td>\n",
       "      <td>...</td>\n",
       "    </tr>\n",
       "    <tr>\n",
       "      <th>9</th>\n",
       "      <td>79.16411</td>\n",
       "      <td>146.95589</td>\n",
       "    </tr>\n",
       "    <tr>\n",
       "      <th>46</th>\n",
       "      <td>86.54411</td>\n",
       "      <td>154.33589</td>\n",
       "    </tr>\n",
       "    <tr>\n",
       "      <th>154</th>\n",
       "      <td>136.21411</td>\n",
       "      <td>204.00589</td>\n",
       "    </tr>\n",
       "    <tr>\n",
       "      <th>402</th>\n",
       "      <td>133.12411</td>\n",
       "      <td>200.91589</td>\n",
       "    </tr>\n",
       "    <tr>\n",
       "      <th>284</th>\n",
       "      <td>145.72411</td>\n",
       "      <td>213.51589</td>\n",
       "    </tr>\n",
       "  </tbody>\n",
       "</table>\n",
       "<p>111 rows × 2 columns</p>\n",
       "</div>"
      ],
      "text/plain": [
       "        target           \n",
       "          0.95           \n",
       "         lower      upper\n",
       "104  112.79411  180.58589\n",
       "334   63.02411  130.81589\n",
       "271  116.11411  183.90589\n",
       "342  155.14411  222.93589\n",
       "243   51.14411  118.93589\n",
       "..         ...        ...\n",
       "9     79.16411  146.95589\n",
       "46    86.54411  154.33589\n",
       "154  136.21411  204.00589\n",
       "402  133.12411  200.91589\n",
       "284  145.72411  213.51589\n",
       "\n",
       "[111 rows x 2 columns]"
      ]
     },
     "execution_count": 48,
     "metadata": {},
     "output_type": "execute_result"
    }
   ],
   "source": [
    "y_pred_int  # lower/upper intervals"
   ]
  },
  {
   "cell_type": "code",
   "execution_count": 49,
   "metadata": {},
   "outputs": [
    {
     "data": {
      "text/html": [
       "<div>\n",
       "<style scoped>\n",
       "    .dataframe tbody tr th:only-of-type {\n",
       "        vertical-align: middle;\n",
       "    }\n",
       "\n",
       "    .dataframe tbody tr th {\n",
       "        vertical-align: top;\n",
       "    }\n",
       "\n",
       "    .dataframe thead tr th {\n",
       "        text-align: left;\n",
       "    }\n",
       "</style>\n",
       "<table border=\"1\" class=\"dataframe\">\n",
       "  <thead>\n",
       "    <tr>\n",
       "      <th></th>\n",
       "      <th colspan=\"2\" halign=\"left\">target</th>\n",
       "    </tr>\n",
       "    <tr>\n",
       "      <th></th>\n",
       "      <th>0.05</th>\n",
       "      <th>0.95</th>\n",
       "    </tr>\n",
       "  </thead>\n",
       "  <tbody>\n",
       "    <tr>\n",
       "      <th>104</th>\n",
       "      <td>118.243673</td>\n",
       "      <td>175.136327</td>\n",
       "    </tr>\n",
       "    <tr>\n",
       "      <th>334</th>\n",
       "      <td>68.473673</td>\n",
       "      <td>125.366327</td>\n",
       "    </tr>\n",
       "    <tr>\n",
       "      <th>271</th>\n",
       "      <td>121.563673</td>\n",
       "      <td>178.456327</td>\n",
       "    </tr>\n",
       "    <tr>\n",
       "      <th>342</th>\n",
       "      <td>160.593673</td>\n",
       "      <td>217.486327</td>\n",
       "    </tr>\n",
       "    <tr>\n",
       "      <th>243</th>\n",
       "      <td>56.593673</td>\n",
       "      <td>113.486327</td>\n",
       "    </tr>\n",
       "    <tr>\n",
       "      <th>...</th>\n",
       "      <td>...</td>\n",
       "      <td>...</td>\n",
       "    </tr>\n",
       "    <tr>\n",
       "      <th>9</th>\n",
       "      <td>84.613673</td>\n",
       "      <td>141.506327</td>\n",
       "    </tr>\n",
       "    <tr>\n",
       "      <th>46</th>\n",
       "      <td>91.993673</td>\n",
       "      <td>148.886327</td>\n",
       "    </tr>\n",
       "    <tr>\n",
       "      <th>154</th>\n",
       "      <td>141.663673</td>\n",
       "      <td>198.556327</td>\n",
       "    </tr>\n",
       "    <tr>\n",
       "      <th>402</th>\n",
       "      <td>138.573673</td>\n",
       "      <td>195.466327</td>\n",
       "    </tr>\n",
       "    <tr>\n",
       "      <th>284</th>\n",
       "      <td>151.173673</td>\n",
       "      <td>208.066327</td>\n",
       "    </tr>\n",
       "  </tbody>\n",
       "</table>\n",
       "<p>111 rows × 2 columns</p>\n",
       "</div>"
      ],
      "text/plain": [
       "         target            \n",
       "           0.05        0.95\n",
       "104  118.243673  175.136327\n",
       "334   68.473673  125.366327\n",
       "271  121.563673  178.456327\n",
       "342  160.593673  217.486327\n",
       "243   56.593673  113.486327\n",
       "..          ...         ...\n",
       "9     84.613673  141.506327\n",
       "46    91.993673  148.886327\n",
       "154  141.663673  198.556327\n",
       "402  138.573673  195.466327\n",
       "284  151.173673  208.066327\n",
       "\n",
       "[111 rows x 2 columns]"
      ]
     },
     "execution_count": 49,
     "metadata": {},
     "output_type": "execute_result"
    }
   ],
   "source": [
    "y_pred_q  # quantiles"
   ]
  },
  {
   "cell_type": "code",
   "execution_count": 50,
   "metadata": {},
   "outputs": [
    {
     "data": {
      "text/html": [
       "<style>#sk-7828748b-47a4-4721-80a4-adcff817993a {color: black;background-color: white;}#sk-7828748b-47a4-4721-80a4-adcff817993a pre{padding: 0;}#sk-7828748b-47a4-4721-80a4-adcff817993a div.sk-toggleable {background-color: white;}#sk-7828748b-47a4-4721-80a4-adcff817993a label.sk-toggleable__label {cursor: pointer;display: block;width: 100%;margin-bottom: 0;padding: 0.3em;box-sizing: border-box;text-align: center;}#sk-7828748b-47a4-4721-80a4-adcff817993a label.sk-toggleable__label-arrow:before {content: \"▸\";float: left;margin-right: 0.25em;color: #696969;}#sk-7828748b-47a4-4721-80a4-adcff817993a label.sk-toggleable__label-arrow:hover:before {color: black;}#sk-7828748b-47a4-4721-80a4-adcff817993a div.sk-estimator:hover label.sk-toggleable__label-arrow:before {color: black;}#sk-7828748b-47a4-4721-80a4-adcff817993a div.sk-toggleable__content {max-height: 0;max-width: 0;overflow: hidden;text-align: left;background-color: #f0f8ff;}#sk-7828748b-47a4-4721-80a4-adcff817993a div.sk-toggleable__content pre {margin: 0.2em;color: black;border-radius: 0.25em;background-color: #f0f8ff;}#sk-7828748b-47a4-4721-80a4-adcff817993a input.sk-toggleable__control:checked~div.sk-toggleable__content {max-height: 200px;max-width: 100%;overflow: auto;}#sk-7828748b-47a4-4721-80a4-adcff817993a input.sk-toggleable__control:checked~label.sk-toggleable__label-arrow:before {content: \"▾\";}#sk-7828748b-47a4-4721-80a4-adcff817993a div.sk-estimator input.sk-toggleable__control:checked~label.sk-toggleable__label {background-color: #d4ebff;}#sk-7828748b-47a4-4721-80a4-adcff817993a div.sk-label input.sk-toggleable__control:checked~label.sk-toggleable__label {background-color: #d4ebff;}#sk-7828748b-47a4-4721-80a4-adcff817993a input.sk-hidden--visually {border: 0;clip: rect(1px 1px 1px 1px);clip: rect(1px, 1px, 1px, 1px);height: 1px;margin: -1px;overflow: hidden;padding: 0;position: absolute;width: 1px;}#sk-7828748b-47a4-4721-80a4-adcff817993a div.sk-estimator {font-family: monospace;background-color: #f0f8ff;border: 1px dotted black;border-radius: 0.25em;box-sizing: border-box;margin-bottom: 0.5em;}#sk-7828748b-47a4-4721-80a4-adcff817993a div.sk-estimator:hover {background-color: #d4ebff;}#sk-7828748b-47a4-4721-80a4-adcff817993a div.sk-parallel-item::after {content: \"\";width: 100%;border-bottom: 1px solid gray;flex-grow: 1;}#sk-7828748b-47a4-4721-80a4-adcff817993a div.sk-label:hover label.sk-toggleable__label {background-color: #d4ebff;}#sk-7828748b-47a4-4721-80a4-adcff817993a div.sk-serial::before {content: \"\";position: absolute;border-left: 1px solid gray;box-sizing: border-box;top: 2em;bottom: 0;left: 50%;}#sk-7828748b-47a4-4721-80a4-adcff817993a div.sk-serial {display: flex;flex-direction: column;align-items: center;background-color: white;padding-right: 0.2em;padding-left: 0.2em;}#sk-7828748b-47a4-4721-80a4-adcff817993a div.sk-item {z-index: 1;}#sk-7828748b-47a4-4721-80a4-adcff817993a div.sk-parallel {display: flex;align-items: stretch;justify-content: center;background-color: white;}#sk-7828748b-47a4-4721-80a4-adcff817993a div.sk-parallel::before {content: \"\";position: absolute;border-left: 1px solid gray;box-sizing: border-box;top: 2em;bottom: 0;left: 50%;}#sk-7828748b-47a4-4721-80a4-adcff817993a div.sk-parallel-item {display: flex;flex-direction: column;position: relative;background-color: white;}#sk-7828748b-47a4-4721-80a4-adcff817993a div.sk-parallel-item:first-child::after {align-self: flex-end;width: 50%;}#sk-7828748b-47a4-4721-80a4-adcff817993a div.sk-parallel-item:last-child::after {align-self: flex-start;width: 50%;}#sk-7828748b-47a4-4721-80a4-adcff817993a div.sk-parallel-item:only-child::after {width: 0;}#sk-7828748b-47a4-4721-80a4-adcff817993a div.sk-dashed-wrapped {border: 1px dashed gray;margin: 0 0.4em 0.5em 0.4em;box-sizing: border-box;padding-bottom: 0.4em;background-color: white;position: relative;}#sk-7828748b-47a4-4721-80a4-adcff817993a div.sk-label label {font-family: monospace;font-weight: bold;background-color: white;display: inline-block;line-height: 1.2em;}#sk-7828748b-47a4-4721-80a4-adcff817993a div.sk-label-container {position: relative;z-index: 2;text-align: center;}#sk-7828748b-47a4-4721-80a4-adcff817993a div.sk-container {/* jupyter's `normalize.less` sets `[hidden] { display: none; }` but bootstrap.min.css set `[hidden] { display: none !important; }` so we also need the `!important` here to be able to override the default hidden behavior on the sphinx rendered scikit-learn.org. See: https://github.com/scikit-learn/scikit-learn/issues/21755 */display: inline-block !important;position: relative;}#sk-7828748b-47a4-4721-80a4-adcff817993a div.sk-text-repr-fallback {display: none;}</style><div id='sk-7828748b-47a4-4721-80a4-adcff817993a' class=\"sk-top-container\"><div class=\"sk-text-repr-fallback\"><pre>Normal(columns=Index([&#x27;target&#x27;], dtype=&#x27;object&#x27;),\n",
       "       index=Index([104, 334, 271, 342, 243, 120, 183, 333, 315, 357,\n",
       "       ...\n",
       "       313, 111, 137, 198, 413,   9,  46, 154, 402, 284],\n",
       "      dtype=&#x27;int64&#x27;, length=111),\n",
       "       mu=array([[146.69],\n",
       "       [ 96.92],\n",
       "       [150.01],\n",
       "       [189.04],\n",
       "       [ 85.04],\n",
       "       [ 91.04],\n",
       "       [202.31],\n",
       "       [226.03],\n",
       "       [ 90.7 ],\n",
       "       [153.92],\n",
       "       [263.72],\n",
       "       [139.12],\n",
       "       [ 81.82],\n",
       "       [138.16],\n",
       "       [144.98],\n",
       "       [ 90.28],\n",
       "       [229.32],\n",
       "       [200.46],\n",
       "       [ 83.39],\n",
       "       [196.02],...\n",
       "       [17.29413897],\n",
       "       [17.29413897],\n",
       "       [17.29413897],\n",
       "       [17.29413897],\n",
       "       [17.29413897],\n",
       "       [17.29413897],\n",
       "       [17.29413897],\n",
       "       [17.29413897],\n",
       "       [17.29413897],\n",
       "       [17.29413897],\n",
       "       [17.29413897],\n",
       "       [17.29413897],\n",
       "       [17.29413897],\n",
       "       [17.29413897],\n",
       "       [17.29413897],\n",
       "       [17.29413897],\n",
       "       [17.29413897],\n",
       "       [17.29413897],\n",
       "       [17.29413897],\n",
       "       [17.29413897],\n",
       "       [17.29413897],\n",
       "       [17.29413897],\n",
       "       [17.29413897],\n",
       "       [17.29413897],\n",
       "       [17.29413897]]))</pre><b>Please rerun this cell to show the HTML repr or trust the notebook.</b></div><div class=\"sk-container\" hidden><div class='sk-item'><div class=\"sk-estimator sk-toggleable\"><input class=\"sk-toggleable__control sk-hidden--visually\" id=UUID('42976a8f-06ac-485d-9ea4-9b7d2cb9a2ec') type=\"checkbox\" checked><label for=UUID('42976a8f-06ac-485d-9ea4-9b7d2cb9a2ec') class='sk-toggleable__label sk-toggleable__label-arrow'>Normal</label><div class=\"sk-toggleable__content\"><pre>Normal(columns=Index([&#x27;target&#x27;], dtype=&#x27;object&#x27;),\n",
       "       index=Index([104, 334, 271, 342, 243, 120, 183, 333, 315, 357,\n",
       "       ...\n",
       "       313, 111, 137, 198, 413,   9,  46, 154, 402, 284],\n",
       "      dtype=&#x27;int64&#x27;, length=111),\n",
       "       mu=array([[146.69],\n",
       "       [ 96.92],\n",
       "       [150.01],\n",
       "       [189.04],\n",
       "       [ 85.04],\n",
       "       [ 91.04],\n",
       "       [202.31],\n",
       "       [226.03],\n",
       "       [ 90.7 ],\n",
       "       [153.92],\n",
       "       [263.72],\n",
       "       [139.12],\n",
       "       [ 81.82],\n",
       "       [138.16],\n",
       "       [144.98],\n",
       "       [ 90.28],\n",
       "       [229.32],\n",
       "       [200.46],\n",
       "       [ 83.39],\n",
       "       [196.02],...\n",
       "       [17.29413897],\n",
       "       [17.29413897],\n",
       "       [17.29413897],\n",
       "       [17.29413897],\n",
       "       [17.29413897],\n",
       "       [17.29413897],\n",
       "       [17.29413897],\n",
       "       [17.29413897],\n",
       "       [17.29413897],\n",
       "       [17.29413897],\n",
       "       [17.29413897],\n",
       "       [17.29413897],\n",
       "       [17.29413897],\n",
       "       [17.29413897],\n",
       "       [17.29413897],\n",
       "       [17.29413897],\n",
       "       [17.29413897],\n",
       "       [17.29413897],\n",
       "       [17.29413897],\n",
       "       [17.29413897],\n",
       "       [17.29413897],\n",
       "       [17.29413897],\n",
       "       [17.29413897],\n",
       "       [17.29413897],\n",
       "       [17.29413897]]))</pre></div></div></div></div></div>"
      ],
      "text/plain": [
       "Normal(columns=Index(['target'], dtype='object'),\n",
       "       index=Index([104, 334, 271, 342, 243, 120, 183, 333, 315, 357,\n",
       "       ...\n",
       "       313, 111, 137, 198, 413,   9,  46, 154, 402, 284],\n",
       "      dtype='int64', length=111),\n",
       "       mu=array([[146.69],\n",
       "       [ 96.92],\n",
       "       [150.01],\n",
       "       [189.04],\n",
       "       [ 85.04],\n",
       "       [ 91.04],\n",
       "       [202.31],\n",
       "       [226.03],\n",
       "       [ 90.7 ],\n",
       "       [153.92],\n",
       "       [263.72],\n",
       "       [139.12],\n",
       "       [ 81.82],\n",
       "       [138.16],\n",
       "       [144.98],\n",
       "       [ 90.28],\n",
       "       [229.32],\n",
       "       [200.46],\n",
       "       [ 83.39],\n",
       "       [196.02],...\n",
       "       [17.29413897],\n",
       "       [17.29413897],\n",
       "       [17.29413897],\n",
       "       [17.29413897],\n",
       "       [17.29413897],\n",
       "       [17.29413897],\n",
       "       [17.29413897],\n",
       "       [17.29413897],\n",
       "       [17.29413897],\n",
       "       [17.29413897],\n",
       "       [17.29413897],\n",
       "       [17.29413897],\n",
       "       [17.29413897],\n",
       "       [17.29413897],\n",
       "       [17.29413897],\n",
       "       [17.29413897],\n",
       "       [17.29413897],\n",
       "       [17.29413897],\n",
       "       [17.29413897],\n",
       "       [17.29413897],\n",
       "       [17.29413897],\n",
       "       [17.29413897],\n",
       "       [17.29413897],\n",
       "       [17.29413897],\n",
       "       [17.29413897]]))"
      ]
     },
     "execution_count": 50,
     "metadata": {},
     "output_type": "execute_result"
    }
   ],
   "source": [
    "y_pred_proba  # sktime/skpro BaseDistribution"
   ]
  },
  {
   "cell_type": "markdown",
   "metadata": {},
   "source": [
    "we now need to apply a suitable metric, `metric(y_test, y_pred)`\n",
    "\n",
    "IMPORTANT: sequence matters, `y_test` first; `y_pred` has very different type!"
   ]
  },
  {
   "cell_type": "code",
   "execution_count": 51,
   "metadata": {},
   "outputs": [
    {
     "data": {
      "text/plain": [
       "40.363339883507926"
      ]
     },
     "execution_count": 51,
     "metadata": {},
     "output_type": "execute_result"
    }
   ],
   "source": [
    "# 2. specify metric\n",
    "# CRPS = continuous ranked probability score, for distribution predictions\n",
    "from skpro.metrics import CRPS\n",
    "\n",
    "crps = CRPS()\n",
    "\n",
    "# 3. evaluate metric\n",
    "crps(y_test, y_pred_proba)"
   ]
  },
  {
   "cell_type": "markdown",
   "metadata": {},
   "source": [
    "how do we find a metric that fits the prediction type?"
   ]
  },
  {
   "cell_type": "markdown",
   "metadata": {},
   "source": [
    "answer: metrics are tagged\n",
    "\n",
    "important tag: `scitype:y_pred`\n",
    "\n",
    "* `\"pred_proba\"` - distributional, can applied to distributions, `predict_proba` output\n",
    "* `\"pred_quantiles\"` - quantile forecast metric, can be applied to quantile predictions, interval predictions, distributional predictions\n",
    "    * applicable to `predict_quantiles`, `predict_interval`, `predict_proba` outputs\n",
    "* `\"pred_interval\"` - interval forecast metric, can be applied to interval predictions, distributional predictions\n",
    "    * applicable to `predict_interval`, `predict_proba` outputs"
   ]
  },
  {
   "cell_type": "code",
   "execution_count": 52,
   "metadata": {},
   "outputs": [
    {
     "data": {
      "text/plain": [
       "{'estimator_type': 'estimator',\n",
       " 'object_type': 'metric',\n",
       " 'reserved_params': ['multioutput', 'score_average'],\n",
       " 'scitype:y_pred': 'pred_proba',\n",
       " 'lower_is_better': True}"
      ]
     },
     "execution_count": 52,
     "metadata": {},
     "output_type": "execute_result"
    }
   ],
   "source": [
    "crps.get_tags()"
   ]
  },
  {
   "cell_type": "markdown",
   "metadata": {},
   "source": [
    "listing metrics with the tag, filtering for probabilistic tags:\n",
    "\n",
    "(let's try to find a quantile prediction metric!)"
   ]
  },
  {
   "cell_type": "code",
   "execution_count": 53,
   "metadata": {},
   "outputs": [
    {
     "data": {
      "text/html": [
       "<div>\n",
       "<style scoped>\n",
       "    .dataframe tbody tr th:only-of-type {\n",
       "        vertical-align: middle;\n",
       "    }\n",
       "\n",
       "    .dataframe tbody tr th {\n",
       "        vertical-align: top;\n",
       "    }\n",
       "\n",
       "    .dataframe thead th {\n",
       "        text-align: right;\n",
       "    }\n",
       "</style>\n",
       "<table border=\"1\" class=\"dataframe\">\n",
       "  <thead>\n",
       "    <tr style=\"text-align: right;\">\n",
       "      <th></th>\n",
       "      <th>name</th>\n",
       "      <th>object</th>\n",
       "      <th>scitype:y_pred</th>\n",
       "    </tr>\n",
       "  </thead>\n",
       "  <tbody>\n",
       "    <tr>\n",
       "      <th>0</th>\n",
       "      <td>CRPS</td>\n",
       "      <td>&lt;class 'skpro.metrics._classes.CRPS'&gt;</td>\n",
       "      <td>pred_proba</td>\n",
       "    </tr>\n",
       "    <tr>\n",
       "      <th>1</th>\n",
       "      <td>ConstraintViolation</td>\n",
       "      <td>&lt;class 'skpro.metrics._classes.ConstraintViola...</td>\n",
       "      <td>pred_interval</td>\n",
       "    </tr>\n",
       "    <tr>\n",
       "      <th>2</th>\n",
       "      <td>EmpiricalCoverage</td>\n",
       "      <td>&lt;class 'skpro.metrics._classes.EmpiricalCovera...</td>\n",
       "      <td>pred_interval</td>\n",
       "    </tr>\n",
       "    <tr>\n",
       "      <th>3</th>\n",
       "      <td>LinearizedLogLoss</td>\n",
       "      <td>&lt;class 'skpro.metrics._classes.LinearizedLogLo...</td>\n",
       "      <td>pred_proba</td>\n",
       "    </tr>\n",
       "    <tr>\n",
       "      <th>4</th>\n",
       "      <td>LogLoss</td>\n",
       "      <td>&lt;class 'skpro.metrics._classes.LogLoss'&gt;</td>\n",
       "      <td>pred_proba</td>\n",
       "    </tr>\n",
       "    <tr>\n",
       "      <th>5</th>\n",
       "      <td>PinballLoss</td>\n",
       "      <td>&lt;class 'skpro.metrics._classes.PinballLoss'&gt;</td>\n",
       "      <td>pred_quantiles</td>\n",
       "    </tr>\n",
       "    <tr>\n",
       "      <th>6</th>\n",
       "      <td>SquaredDistrLoss</td>\n",
       "      <td>&lt;class 'skpro.metrics._classes.SquaredDistrLoss'&gt;</td>\n",
       "      <td>pred_proba</td>\n",
       "    </tr>\n",
       "  </tbody>\n",
       "</table>\n",
       "</div>"
      ],
      "text/plain": [
       "                  name                                             object  \\\n",
       "0                 CRPS              <class 'skpro.metrics._classes.CRPS'>   \n",
       "1  ConstraintViolation  <class 'skpro.metrics._classes.ConstraintViola...   \n",
       "2    EmpiricalCoverage  <class 'skpro.metrics._classes.EmpiricalCovera...   \n",
       "3    LinearizedLogLoss  <class 'skpro.metrics._classes.LinearizedLogLo...   \n",
       "4              LogLoss           <class 'skpro.metrics._classes.LogLoss'>   \n",
       "5          PinballLoss       <class 'skpro.metrics._classes.PinballLoss'>   \n",
       "6     SquaredDistrLoss  <class 'skpro.metrics._classes.SquaredDistrLoss'>   \n",
       "\n",
       "   scitype:y_pred  \n",
       "0      pred_proba  \n",
       "1   pred_interval  \n",
       "2   pred_interval  \n",
       "3      pred_proba  \n",
       "4      pred_proba  \n",
       "5  pred_quantiles  \n",
       "6      pred_proba  "
      ]
     },
     "execution_count": 53,
     "metadata": {},
     "output_type": "execute_result"
    }
   ],
   "source": [
    "from skpro.registry import all_objects\n",
    "\n",
    "all_objects(\n",
    "    \"metric\",\n",
    "    as_dataframe=True,\n",
    "    return_tags=\"scitype:y_pred\",\n",
    ")"
   ]
  },
  {
   "cell_type": "markdown",
   "metadata": {},
   "source": [
    "`PinballLoss` is a quantile forecast metric:"
   ]
  },
  {
   "cell_type": "code",
   "execution_count": 54,
   "metadata": {},
   "outputs": [
    {
     "data": {
      "text/plain": [
       "13.648123260286354"
      ]
     },
     "execution_count": 54,
     "metadata": {},
     "output_type": "execute_result"
    }
   ],
   "source": [
    "from skpro.metrics import PinballLoss\n",
    "\n",
    "pinball_loss = PinballLoss()\n",
    "\n",
    "pinball_loss(y_test, y_pred_q)"
   ]
  },
  {
   "cell_type": "markdown",
   "metadata": {},
   "source": [
    "... this is by default an average (grand average, float)\n",
    "\n",
    "* averages over samples in `y_pred` / `y_test` (rows)\n",
    "* averages over variables (columns)\n",
    "* average over `alpha` values, quantile points"
   ]
  },
  {
   "cell_type": "markdown",
   "metadata": {},
   "source": [
    "what if we don't want these averages?"
   ]
  },
  {
   "cell_type": "markdown",
   "metadata": {},
   "source": [
    "* variable (column) averaging is controlled by the `multioutput` arg.\n",
    "    * `\"raw_values\"` prevents averaging, `\"uniform_average\"` computes arithmetic mean.\n",
    "* quantile points (`alpha`) or coverage (`coverage`) is controlled by `score_average` arg\n",
    "* evaluation by row via the `evaluate_by_index` method\n",
    "    * can be useful for diagnostics or statistical tests"
   ]
  },
  {
   "cell_type": "code",
   "execution_count": 55,
   "metadata": {},
   "outputs": [
    {
     "data": {
      "text/plain": [
       "0.05    13.133967\n",
       "0.95    14.162279\n",
       "Name: 0, dtype: float64"
      ]
     },
     "execution_count": 55,
     "metadata": {},
     "output_type": "execute_result"
    }
   ],
   "source": [
    "# Example 1: Pinball loss by quantile point\n",
    "loss_multi = PinballLoss(score_average=False)\n",
    "loss_multi(y_test, y_pred_q)"
   ]
  },
  {
   "cell_type": "code",
   "execution_count": 56,
   "metadata": {},
   "outputs": [
    {
     "data": {
      "text/html": [
       "<div>\n",
       "<style scoped>\n",
       "    .dataframe tbody tr th:only-of-type {\n",
       "        vertical-align: middle;\n",
       "    }\n",
       "\n",
       "    .dataframe tbody tr th {\n",
       "        vertical-align: top;\n",
       "    }\n",
       "\n",
       "    .dataframe thead th {\n",
       "        text-align: right;\n",
       "    }\n",
       "</style>\n",
       "<table border=\"1\" class=\"dataframe\">\n",
       "  <thead>\n",
       "    <tr style=\"text-align: right;\">\n",
       "      <th></th>\n",
       "      <th>target</th>\n",
       "    </tr>\n",
       "  </thead>\n",
       "  <tbody>\n",
       "    <tr>\n",
       "      <th>104</th>\n",
       "      <td>41.946574</td>\n",
       "    </tr>\n",
       "    <tr>\n",
       "      <th>334</th>\n",
       "      <td>16.320990</td>\n",
       "    </tr>\n",
       "    <tr>\n",
       "      <th>271</th>\n",
       "      <td>14.728135</td>\n",
       "    </tr>\n",
       "    <tr>\n",
       "      <th>342</th>\n",
       "      <td>6.761400</td>\n",
       "    </tr>\n",
       "    <tr>\n",
       "      <th>243</th>\n",
       "      <td>28.452058</td>\n",
       "    </tr>\n",
       "    <tr>\n",
       "      <th>...</th>\n",
       "      <td>...</td>\n",
       "    </tr>\n",
       "    <tr>\n",
       "      <th>9</th>\n",
       "      <td>187.182827</td>\n",
       "    </tr>\n",
       "    <tr>\n",
       "      <th>46</th>\n",
       "      <td>59.803051</td>\n",
       "    </tr>\n",
       "    <tr>\n",
       "      <th>154</th>\n",
       "      <td>18.026285</td>\n",
       "    </tr>\n",
       "    <tr>\n",
       "      <th>402</th>\n",
       "      <td>4.063702</td>\n",
       "    </tr>\n",
       "    <tr>\n",
       "      <th>284</th>\n",
       "      <td>15.229778</td>\n",
       "    </tr>\n",
       "  </tbody>\n",
       "</table>\n",
       "<p>111 rows × 1 columns</p>\n",
       "</div>"
      ],
      "text/plain": [
       "         target\n",
       "104   41.946574\n",
       "334   16.320990\n",
       "271   14.728135\n",
       "342    6.761400\n",
       "243   28.452058\n",
       "..          ...\n",
       "9    187.182827\n",
       "46    59.803051\n",
       "154   18.026285\n",
       "402    4.063702\n",
       "284   15.229778\n",
       "\n",
       "[111 rows x 1 columns]"
      ]
     },
     "execution_count": 56,
     "metadata": {},
     "output_type": "execute_result"
    }
   ],
   "source": [
    "# Example 2: CRPS by test sample index\n",
    "crps.evaluate_by_index(y_test, y_pred_proba)"
   ]
  },
  {
   "cell_type": "markdown",
   "metadata": {},
   "source": [
    "Caveat: not every metric is an average over time points, e.g., RMSE\n",
    "\n",
    "In this case, `evaluate_by_index` computes jackknife pseudo-samples\n",
    "\n",
    "(for mean statistics, jackknife pseudo-samples are equal to individual samples)"
   ]
  },
  {
   "cell_type": "markdown",
   "metadata": {},
   "source": [
    "### 2.3 Benchmark evaluation of probabilistic regressors <a class=\"anchor\" id=\"section2_3\"></a>"
   ]
  },
  {
   "cell_type": "markdown",
   "metadata": {},
   "source": [
    "for quick evaluation and benchmarking,\n",
    "\n",
    "the `benchmarking.evaluate` utility can be used:"
   ]
  },
  {
   "cell_type": "code",
   "execution_count": 57,
   "metadata": {},
   "outputs": [
    {
     "data": {
      "text/html": [
       "<div>\n",
       "<style scoped>\n",
       "    .dataframe tbody tr th:only-of-type {\n",
       "        vertical-align: middle;\n",
       "    }\n",
       "\n",
       "    .dataframe tbody tr th {\n",
       "        vertical-align: top;\n",
       "    }\n",
       "\n",
       "    .dataframe thead th {\n",
       "        text-align: right;\n",
       "    }\n",
       "</style>\n",
       "<table border=\"1\" class=\"dataframe\">\n",
       "  <thead>\n",
       "    <tr style=\"text-align: right;\">\n",
       "      <th></th>\n",
       "      <th>test_CRPS</th>\n",
       "      <th>fit_time</th>\n",
       "      <th>pred_time</th>\n",
       "      <th>len_y_train</th>\n",
       "    </tr>\n",
       "  </thead>\n",
       "  <tbody>\n",
       "    <tr>\n",
       "      <th>0</th>\n",
       "      <td>31.783451</td>\n",
       "      <td>0.002778</td>\n",
       "      <td>0.001045</td>\n",
       "      <td>294</td>\n",
       "    </tr>\n",
       "    <tr>\n",
       "      <th>1</th>\n",
       "      <td>33.574329</td>\n",
       "      <td>0.003086</td>\n",
       "      <td>0.001094</td>\n",
       "      <td>295</td>\n",
       "    </tr>\n",
       "    <tr>\n",
       "      <th>2</th>\n",
       "      <td>29.909655</td>\n",
       "      <td>0.003807</td>\n",
       "      <td>0.001278</td>\n",
       "      <td>295</td>\n",
       "    </tr>\n",
       "  </tbody>\n",
       "</table>\n",
       "</div>"
      ],
      "text/plain": [
       "   test_CRPS  fit_time  pred_time  len_y_train\n",
       "0  31.783451  0.002778   0.001045          294\n",
       "1  33.574329  0.003086   0.001094          295\n",
       "2  29.909655  0.003807   0.001278          295"
      ]
     },
     "execution_count": 57,
     "metadata": {},
     "output_type": "execute_result"
    }
   ],
   "source": [
    "from sklearn.datasets import load_diabetes\n",
    "from sklearn.linear_model import LinearRegression\n",
    "from sklearn.model_selection import KFold\n",
    "\n",
    "from skpro.benchmarking.evaluate import evaluate\n",
    "from skpro.metrics import CRPS\n",
    "from skpro.regression.residual import ResidualDouble\n",
    "\n",
    "# 1. specify dataset\n",
    "X, y = load_diabetes(return_X_y=True, as_frame=True)\n",
    "\n",
    "# 2. specify estimator\n",
    "estimator = ResidualDouble(LinearRegression())\n",
    "\n",
    "# 3. specify cross-validation schema\n",
    "cv = KFold(n_splits=3)\n",
    "\n",
    "# 4. specify evaluation metric\n",
    "crps = CRPS()\n",
    "\n",
    "# 5. evaluate - run the benchmark\n",
    "results = evaluate(estimator=estimator, X=X, y=y, cv=cv, scoring=crps)\n",
    "\n",
    "# results are pd.DataFrame\n",
    "# each row is one repetition of the cross-validation on one fold fit/predict/evaluate\n",
    "# columns report performance, runtime, and other optional information (see docstring)\n",
    "results"
   ]
  },
  {
   "cell_type": "markdown",
   "metadata": {},
   "source": [
    "## 3. Advanced composition patterns <a class=\"anchor\" id=\"chapter3\"></a>"
   ]
  },
  {
   "cell_type": "markdown",
   "metadata": {},
   "source": [
    "we introduce a number of composition patterns available in `skpro`:\n",
    "\n",
    "* reducer-wrappers that turn `sklearn` regressors into probabilistic ones\n",
    "* pipelines of `sklearn` transformers with `skpro` regressors\n",
    "* tuning `skpro` probabilistic regressors via grid/random search, minimizing a probabilistic metric\n",
    "* ensembling multiple `skpro` probabilistic regressors"
   ]
  },
  {
   "cell_type": "markdown",
   "metadata": {},
   "source": [
    "data used in this section:"
   ]
  },
  {
   "cell_type": "code",
   "execution_count": 58,
   "metadata": {},
   "outputs": [],
   "source": [
    "from sklearn.datasets import load_diabetes\n",
    "from sklearn.model_selection import train_test_split\n",
    "\n",
    "X, y = load_diabetes(return_X_y=True, as_frame=True)\n",
    "X_train, X_test, y_train, y_test = train_test_split(X, y)"
   ]
  },
  {
   "cell_type": "markdown",
   "metadata": {},
   "source": [
    "evaluation metric used in this section:"
   ]
  },
  {
   "cell_type": "code",
   "execution_count": 59,
   "metadata": {},
   "outputs": [],
   "source": [
    "crps = CRPS()"
   ]
  },
  {
   "cell_type": "markdown",
   "metadata": {},
   "source": [
    "### 3.1 Reducers to turn `sklearn` regressors probabilistic <a class=\"anchor\" id=\"section3_1\"></a>"
   ]
  },
  {
   "cell_type": "markdown",
   "metadata": {},
   "source": [
    "there are many common algorithms that turn a non-probabilistic tabular regressor probabilistic\n",
    "\n",
    "formally, this is a type of \"reduction\" - of probabilistic supervised tabular to non-probabilistic supervised tabular\n",
    "\n",
    "Examples:\n",
    "\n",
    "* predicting variance equal to training residual variance - `ResidualDouble` with standard settings\n",
    "    * or other unconditional distribution estimate for residuals\n",
    "* \"squaring the residual\" two-step prediction - `ResidualDouble`\n",
    "* boostrap prediction intervals - `BootstrapRegressor`\n",
    "* conformal prediction intervals - contributions appreciated :-)\n",
    "* natural gradient boosting aka NGBoost - contributions appreciated :-)"
   ]
  },
  {
   "cell_type": "markdown",
   "metadata": {},
   "source": [
    "### 3.1.1 constant variance prediction <a class=\"anchor\" id=\"section3_1_1\"></a>"
   ]
  },
  {
   "cell_type": "code",
   "execution_count": 60,
   "metadata": {},
   "outputs": [
    {
     "data": {
      "text/plain": [
       "36.25453698363302"
      ]
     },
     "execution_count": 60,
     "metadata": {},
     "output_type": "execute_result"
    }
   ],
   "source": [
    "from sklearn.ensemble import RandomForestRegressor\n",
    "from sklearn.model_selection import KFold\n",
    "\n",
    "# estimator specification - use any sklearn regressor for reg_mean\n",
    "reg_mean = RandomForestRegressor()\n",
    "reg_proba = ResidualDouble(reg_mean, cv=KFold(5))\n",
    "# cv is used to estimate out-of-sample residual variance via 5-fold CV\n",
    "# note - in-sample predictions will usually underestimate the variance!\n",
    "\n",
    "# fit and predict\n",
    "reg_proba.fit(X_train, y_train)\n",
    "y_pred_proba = reg_proba.predict_proba(X_test)\n",
    "\n",
    "# evaluate\n",
    "crps(y_test, y_pred_proba)"
   ]
  },
  {
   "cell_type": "code",
   "execution_count": 61,
   "metadata": {},
   "outputs": [
    {
     "data": {
      "text/plain": [
       "<Axes: xlabel='Correct label $y_i$', ylabel='Prediction interval $\\\\widehat{y}_i$'>"
      ]
     },
     "execution_count": 61,
     "metadata": {},
     "output_type": "execute_result"
    },
    {
     "data": {
      "image/png": "[encoded data removed]",
      "text/plain": [
       "<Figure size 640x480 with 1 Axes>"
      ]
     },
     "metadata": {},
     "output_type": "display_data"
    }
   ],
   "source": [
    "from skpro.utils.plotting import plot_crossplot_interval\n",
    "\n",
    "plot_crossplot_interval(y_test, y_pred_proba, coverage=0.9)"
   ]
  },
  {
   "cell_type": "markdown",
   "metadata": {},
   "source": [
    "### 3.1.2 two-step residual prediction <a class=\"anchor\" id=\"section3_1_2\"></a>"
   ]
  },
  {
   "cell_type": "code",
   "execution_count": 62,
   "metadata": {},
   "outputs": [
    {
     "data": {
      "text/plain": [
       "36.860503015336164"
      ]
     },
     "execution_count": 62,
     "metadata": {},
     "output_type": "execute_result"
    }
   ],
   "source": [
    "from sklearn.ensemble import RandomForestRegressor\n",
    "from sklearn.model_selection import KFold\n",
    "\n",
    "# estimator specification - use any sklearn regressor for reg_mean and reg_resid\n",
    "reg_mean = RandomForestRegressor()\n",
    "reg_resid = RandomForestRegressor()\n",
    "reg_proba = ResidualDouble(reg_mean, estimator_resid=reg_resid, cv=KFold(5))\n",
    "# cv is used to estimate out-of-sample residual variance via 5-fold CV\n",
    "\n",
    "# fit and predict\n",
    "reg_proba.fit(X_train, y_train)\n",
    "y_pred_proba = reg_proba.predict_proba(X_test)\n",
    "\n",
    "# evaluate\n",
    "crps(y_test, y_pred_proba)"
   ]
  },
  {
   "cell_type": "code",
   "execution_count": 63,
   "metadata": {},
   "outputs": [
    {
     "data": {
      "text/plain": [
       "<Axes: xlabel='Correct label $y_i$', ylabel='Prediction interval $\\\\widehat{y}_i$'>"
      ]
     },
     "execution_count": 63,
     "metadata": {},
     "output_type": "execute_result"
    },
    {
     "data": {
      "image/png": "[encoded data removed]",
      "text/plain": [
       "<Figure size 640x480 with 1 Axes>"
      ]
     },
     "metadata": {},
     "output_type": "display_data"
    }
   ],
   "source": [
    "from skpro.utils.plotting import plot_crossplot_interval\n",
    "\n",
    "plot_crossplot_interval(y_test, y_pred_proba, coverage=0.9)"
   ]
  },
  {
   "cell_type": "markdown",
   "metadata": {},
   "source": [
    "### 3.1.3 bootstrap prediction intervals <a class=\"anchor\" id=\"section3_1_3\"></a>"
   ]
  },
  {
   "cell_type": "code",
   "execution_count": 64,
   "metadata": {},
   "outputs": [
    {
     "data": {
      "text/plain": [
       "43.13652636195608"
      ]
     },
     "execution_count": 64,
     "metadata": {},
     "output_type": "execute_result"
    }
   ],
   "source": [
    "from sklearn.linear_model import LinearRegression\n",
    "\n",
    "from skpro.regression.bootstrap import BootstrapRegressor\n",
    "\n",
    "# estimator specification - use any sklearn regressor for reg_mean\n",
    "reg_mean = LinearRegression()\n",
    "reg_proba = BootstrapRegressor(reg_mean, n_bootstrap_samples=100)\n",
    "\n",
    "# fit and predict\n",
    "reg_proba.fit(X_train, y_train)\n",
    "y_pred_proba = reg_proba.predict_proba(X_test)\n",
    "\n",
    "# evaluate\n",
    "crps(y_test, y_pred_proba)"
   ]
  },
  {
   "cell_type": "code",
   "execution_count": 65,
   "metadata": {},
   "outputs": [
    {
     "data": {
      "text/plain": [
       "<Axes: xlabel='Correct label $y_i$', ylabel='Prediction interval $\\\\widehat{y}_i$'>"
      ]
     },
     "execution_count": 65,
     "metadata": {},
     "output_type": "execute_result"
    },
    {
     "data": {
      "image/png": "[encoded data removed]",
      "text/plain": [
       "<Figure size 640x480 with 1 Axes>"
      ]
     },
     "metadata": {},
     "output_type": "display_data"
    }
   ],
   "source": [
    "from skpro.utils.plotting import plot_crossplot_interval\n",
    "\n",
    "plot_crossplot_interval(y_test, y_pred_proba, coverage=0.9)"
   ]
  },
  {
   "cell_type": "markdown",
   "metadata": {},
   "source": [
    "### 3.2 Pipelines of `skpro` regressor and `sklearn` transformers <a class=\"anchor\" id=\"section3_2\"></a>"
   ]
  },
  {
   "cell_type": "markdown",
   "metadata": {},
   "source": [
    "`skpro` regressors can be pipelined with `sklearn` transformers, using the `skpro` pipeline.\n",
    "\n",
    "This ensure presence of `predict_proba` etc in the pipeline object.\n",
    "\n",
    "The syntax is exactly the same as for `sklearn`'s pipeline."
   ]
  },
  {
   "cell_type": "code",
   "execution_count": 66,
   "metadata": {},
   "outputs": [],
   "source": [
    "from sklearn.datasets import load_diabetes\n",
    "from sklearn.model_selection import train_test_split\n",
    "\n",
    "X, y = load_diabetes(return_X_y=True, as_frame=True)\n",
    "X_train, X_test, y_train, y_test = train_test_split(X, y)"
   ]
  },
  {
   "cell_type": "code",
   "execution_count": 67,
   "metadata": {},
   "outputs": [],
   "source": [
    "from sklearn.impute import SimpleImputer as Imputer\n",
    "from sklearn.linear_model import LinearRegression\n",
    "from sklearn.preprocessing import MinMaxScaler\n",
    "\n",
    "from skpro.regression.compose import Pipeline\n",
    "from skpro.regression.residual import ResidualDouble\n",
    "\n",
    "# estimator specification\n",
    "reg_mean = LinearRegression()\n",
    "reg_proba = ResidualDouble(reg_mean)\n",
    "\n",
    "# pipeline is specified as a list of tuples (name, estimator)\n",
    "pipe = Pipeline(\n",
    "    steps=[\n",
    "        (\"imputer\", Imputer()),  # an sklearn transformer\n",
    "        (\"scaler\", MinMaxScaler()),  # an sklearn transformer\n",
    "        (\"regressor\", reg_proba),  # an skpro regressor\n",
    "    ]\n",
    ")"
   ]
  },
  {
   "cell_type": "code",
   "execution_count": 68,
   "metadata": {},
   "outputs": [
    {
     "data": {
      "text/html": [
       "<style>#sk-1b66764f-359b-44cb-8ee3-38a56ebe5245 {color: black;background-color: white;}#sk-1b66764f-359b-44cb-8ee3-38a56ebe5245 pre{padding: 0;}#sk-1b66764f-359b-44cb-8ee3-38a56ebe5245 div.sk-toggleable {background-color: white;}#sk-1b66764f-359b-44cb-8ee3-38a56ebe5245 label.sk-toggleable__label {cursor: pointer;display: block;width: 100%;margin-bottom: 0;padding: 0.3em;box-sizing: border-box;text-align: center;}#sk-1b66764f-359b-44cb-8ee3-38a56ebe5245 label.sk-toggleable__label-arrow:before {content: \"▸\";float: left;margin-right: 0.25em;color: #696969;}#sk-1b66764f-359b-44cb-8ee3-38a56ebe5245 label.sk-toggleable__label-arrow:hover:before {color: black;}#sk-1b66764f-359b-44cb-8ee3-38a56ebe5245 div.sk-estimator:hover label.sk-toggleable__label-arrow:before {color: black;}#sk-1b66764f-359b-44cb-8ee3-38a56ebe5245 div.sk-toggleable__content {max-height: 0;max-width: 0;overflow: hidden;text-align: left;background-color: #f0f8ff;}#sk-1b66764f-359b-44cb-8ee3-38a56ebe5245 div.sk-toggleable__content pre {margin: 0.2em;color: black;border-radius: 0.25em;background-color: #f0f8ff;}#sk-1b66764f-359b-44cb-8ee3-38a56ebe5245 input.sk-toggleable__control:checked~div.sk-toggleable__content {max-height: 200px;max-width: 100%;overflow: auto;}#sk-1b66764f-359b-44cb-8ee3-38a56ebe5245 input.sk-toggleable__control:checked~label.sk-toggleable__label-arrow:before {content: \"▾\";}#sk-1b66764f-359b-44cb-8ee3-38a56ebe5245 div.sk-estimator input.sk-toggleable__control:checked~label.sk-toggleable__label {background-color: #d4ebff;}#sk-1b66764f-359b-44cb-8ee3-38a56ebe5245 div.sk-label input.sk-toggleable__control:checked~label.sk-toggleable__label {background-color: #d4ebff;}#sk-1b66764f-359b-44cb-8ee3-38a56ebe5245 input.sk-hidden--visually {border: 0;clip: rect(1px 1px 1px 1px);clip: rect(1px, 1px, 1px, 1px);height: 1px;margin: -1px;overflow: hidden;padding: 0;position: absolute;width: 1px;}#sk-1b66764f-359b-44cb-8ee3-38a56ebe5245 div.sk-estimator {font-family: monospace;background-color: #f0f8ff;border: 1px dotted black;border-radius: 0.25em;box-sizing: border-box;margin-bottom: 0.5em;}#sk-1b66764f-359b-44cb-8ee3-38a56ebe5245 div.sk-estimator:hover {background-color: #d4ebff;}#sk-1b66764f-359b-44cb-8ee3-38a56ebe5245 div.sk-parallel-item::after {content: \"\";width: 100%;border-bottom: 1px solid gray;flex-grow: 1;}#sk-1b66764f-359b-44cb-8ee3-38a56ebe5245 div.sk-label:hover label.sk-toggleable__label {background-color: #d4ebff;}#sk-1b66764f-359b-44cb-8ee3-38a56ebe5245 div.sk-serial::before {content: \"\";position: absolute;border-left: 1px solid gray;box-sizing: border-box;top: 2em;bottom: 0;left: 50%;}#sk-1b66764f-359b-44cb-8ee3-38a56ebe5245 div.sk-serial {display: flex;flex-direction: column;align-items: center;background-color: white;padding-right: 0.2em;padding-left: 0.2em;}#sk-1b66764f-359b-44cb-8ee3-38a56ebe5245 div.sk-item {z-index: 1;}#sk-1b66764f-359b-44cb-8ee3-38a56ebe5245 div.sk-parallel {display: flex;align-items: stretch;justify-content: center;background-color: white;}#sk-1b66764f-359b-44cb-8ee3-38a56ebe5245 div.sk-parallel::before {content: \"\";position: absolute;border-left: 1px solid gray;box-sizing: border-box;top: 2em;bottom: 0;left: 50%;}#sk-1b66764f-359b-44cb-8ee3-38a56ebe5245 div.sk-parallel-item {display: flex;flex-direction: column;position: relative;background-color: white;}#sk-1b66764f-359b-44cb-8ee3-38a56ebe5245 div.sk-parallel-item:first-child::after {align-self: flex-end;width: 50%;}#sk-1b66764f-359b-44cb-8ee3-38a56ebe5245 div.sk-parallel-item:last-child::after {align-self: flex-start;width: 50%;}#sk-1b66764f-359b-44cb-8ee3-38a56ebe5245 div.sk-parallel-item:only-child::after {width: 0;}#sk-1b66764f-359b-44cb-8ee3-38a56ebe5245 div.sk-dashed-wrapped {border: 1px dashed gray;margin: 0 0.4em 0.5em 0.4em;box-sizing: border-box;padding-bottom: 0.4em;background-color: white;position: relative;}#sk-1b66764f-359b-44cb-8ee3-38a56ebe5245 div.sk-label label {font-family: monospace;font-weight: bold;background-color: white;display: inline-block;line-height: 1.2em;}#sk-1b66764f-359b-44cb-8ee3-38a56ebe5245 div.sk-label-container {position: relative;z-index: 2;text-align: center;}#sk-1b66764f-359b-44cb-8ee3-38a56ebe5245 div.sk-container {/* jupyter's `normalize.less` sets `[hidden] { display: none; }` but bootstrap.min.css set `[hidden] { display: none !important; }` so we also need the `!important` here to be able to override the default hidden behavior on the sphinx rendered scikit-learn.org. See: https://github.com/scikit-learn/scikit-learn/issues/21755 */display: inline-block !important;position: relative;}#sk-1b66764f-359b-44cb-8ee3-38a56ebe5245 div.sk-text-repr-fallback {display: none;}</style><div id='sk-1b66764f-359b-44cb-8ee3-38a56ebe5245' class=\"sk-top-container\"><div class=\"sk-text-repr-fallback\"><pre>Pipeline(steps=[(&#x27;imputer&#x27;, SimpleImputer()), (&#x27;scaler&#x27;, MinMaxScaler()),\n",
       "                (&#x27;regressor&#x27;, ResidualDouble(estimator=LinearRegression()))])</pre><b>Please rerun this cell to show the HTML repr or trust the notebook.</b></div><div class=\"sk-container\" hidden><div class=\"sk-item sk-dashed-wrapped\"><div class='sk-label-container'><div class=\"sk-label sk-toggleable\"><input class=\"sk-toggleable__control sk-hidden--visually\" id=UUID('5897acf1-d92e-4791-8b23-4013b24abf9e') type=\"checkbox\" ><label for=UUID('5897acf1-d92e-4791-8b23-4013b24abf9e') class='sk-toggleable__label sk-toggleable__label-arrow'>Pipeline</label><div class=\"sk-toggleable__content\"><pre>Pipeline(steps=[(&#x27;imputer&#x27;, SimpleImputer()), (&#x27;scaler&#x27;, MinMaxScaler()),\n",
       "                (&#x27;regressor&#x27;, ResidualDouble(estimator=LinearRegression()))])</pre></div></div></div><div class=\"sk-serial\"><div class='sk-item'><div class=\"sk-estimator sk-toggleable\"><input class=\"sk-toggleable__control sk-hidden--visually\" id=UUID('0daadcc2-fdbf-4cf2-ae44-0e4a29c4a5c9') type=\"checkbox\" ><label for=UUID('0daadcc2-fdbf-4cf2-ae44-0e4a29c4a5c9') class='sk-toggleable__label sk-toggleable__label-arrow'>SimpleImputer</label><div class=\"sk-toggleable__content\"><pre>SimpleImputer()</pre></div></div></div><div class='sk-item'><div class=\"sk-estimator sk-toggleable\"><input class=\"sk-toggleable__control sk-hidden--visually\" id=UUID('583bb49f-5a7b-476d-a489-ab66ada77416') type=\"checkbox\" ><label for=UUID('583bb49f-5a7b-476d-a489-ab66ada77416') class='sk-toggleable__label sk-toggleable__label-arrow'>MinMaxScaler</label><div class=\"sk-toggleable__content\"><pre>MinMaxScaler()</pre></div></div></div><div class=\"sk-item sk-dashed-wrapped\"><div class='sk-label-container'><div class=\"sk-label sk-toggleable\"><input class=\"sk-toggleable__control sk-hidden--visually\" id=UUID('1486d690-75d3-426c-b856-68a75ef80131') type=\"checkbox\" ><label for=UUID('1486d690-75d3-426c-b856-68a75ef80131') class='sk-toggleable__label sk-toggleable__label-arrow'>regressor: ResidualDouble</label><div class=\"sk-toggleable__content\"><pre>ResidualDouble(estimator=LinearRegression())</pre></div></div></div><div class=\"sk-parallel\"><div class=\"sk-parallel-item\"><div class=\"sk-item\"><div class=\"sk-serial\"><div class='sk-item'><div class=\"sk-estimator sk-toggleable\"><input class=\"sk-toggleable__control sk-hidden--visually\" id=UUID('2ed81a0b-0a1b-4554-99de-0f5310191e96') type=\"checkbox\" ><label for=UUID('2ed81a0b-0a1b-4554-99de-0f5310191e96') class='sk-toggleable__label sk-toggleable__label-arrow'>LinearRegression</label><div class=\"sk-toggleable__content\"><pre>LinearRegression()</pre></div></div></div></div></div></div></div></div></div></div></div></div>"
      ],
      "text/plain": [
       "Pipeline(steps=[('imputer', SimpleImputer()), ('scaler', MinMaxScaler()),\n",
       "                ('regressor', ResidualDouble(estimator=LinearRegression()))])"
      ]
     },
     "execution_count": 68,
     "metadata": {},
     "output_type": "execute_result"
    }
   ],
   "source": [
    "pipe"
   ]
  },
  {
   "cell_type": "code",
   "execution_count": 69,
   "metadata": {},
   "outputs": [],
   "source": [
    "# the pipeline behaves as any skpro regressor\n",
    "pipe.fit(X_train, y_train)\n",
    "y_pred = pipe.predict(X=X_test)\n",
    "y_pred_proba = pipe.predict_proba(X=X_test)"
   ]
  },
  {
   "cell_type": "markdown",
   "metadata": {},
   "source": [
    "the pipeline provides the familiar nested `get_params`, `set_params` interface:\n",
    "\n",
    "nested parameters are keyed `componentname__parametername`"
   ]
  },
  {
   "cell_type": "code",
   "execution_count": 70,
   "metadata": {},
   "outputs": [
    {
     "data": {
      "text/plain": [
       "{'steps': [('imputer', SimpleImputer()),\n",
       "  ('scaler', MinMaxScaler()),\n",
       "  ('regressor', ResidualDouble(estimator=LinearRegression()))],\n",
       " 'imputer': SimpleImputer(),\n",
       " 'scaler': MinMaxScaler(),\n",
       " 'regressor': ResidualDouble(estimator=LinearRegression()),\n",
       " 'imputer__add_indicator': False,\n",
       " 'imputer__copy': True,\n",
       " 'imputer__fill_value': None,\n",
       " 'imputer__missing_values': nan,\n",
       " 'imputer__strategy': 'mean',\n",
       " 'imputer__verbose': 'deprecated',\n",
       " 'scaler__clip': False,\n",
       " 'scaler__copy': True,\n",
       " 'scaler__feature_range': (0, 1),\n",
       " 'regressor__cv': None,\n",
       " 'regressor__distr_loc_scale_name': None,\n",
       " 'regressor__distr_params': None,\n",
       " 'regressor__distr_type': 'Normal',\n",
       " 'regressor__estimator': LinearRegression(),\n",
       " 'regressor__estimator_resid': None,\n",
       " 'regressor__min_scale': 1e-10,\n",
       " 'regressor__residual_trafo': 'absolute',\n",
       " 'regressor__use_y_pred': False,\n",
       " 'regressor__estimator__copy_X': True,\n",
       " 'regressor__estimator__fit_intercept': True,\n",
       " 'regressor__estimator__n_jobs': None,\n",
       " 'regressor__estimator__normalize': 'deprecated',\n",
       " 'regressor__estimator__positive': False}"
      ]
     },
     "execution_count": 70,
     "metadata": {},
     "output_type": "execute_result"
    }
   ],
   "source": [
    "pipe.get_params()"
   ]
  },
  {
   "cell_type": "markdown",
   "metadata": {},
   "source": [
    "pipelines can also be created via simple lists of estimators,\n",
    "\n",
    "in this case names are generated automatically:"
   ]
  },
  {
   "cell_type": "code",
   "execution_count": 71,
   "metadata": {},
   "outputs": [],
   "source": [
    "# pipeline is specified as a list of tuples (name, estimator)\n",
    "pipe = Pipeline(\n",
    "    steps=[\n",
    "        Imputer(),  # an sklearn transformer\n",
    "        MinMaxScaler(),  # an sklearn transformer\n",
    "        reg_proba,  # an skpro regressor\n",
    "    ]\n",
    ")"
   ]
  },
  {
   "cell_type": "markdown",
   "metadata": {},
   "source": [
    "### 3.3 Tuning of `skpro` regressors via grid and random search <a class=\"anchor\" id=\"section3_3\"></a>"
   ]
  },
  {
   "cell_type": "markdown",
   "metadata": {},
   "source": [
    "`skpro` provides grid and random search tuners to tune arbitrary probabilistic regressors,\n",
    "\n",
    "using probabilistic metrics. Besides this, they function as the `sklearn` tuners do."
   ]
  },
  {
   "cell_type": "code",
   "execution_count": 72,
   "metadata": {},
   "outputs": [],
   "source": [
    "from sklearn.datasets import load_diabetes\n",
    "from sklearn.model_selection import train_test_split\n",
    "\n",
    "X, y = load_diabetes(return_X_y=True, as_frame=True)\n",
    "X_train, X_test, y_train, y_test = train_test_split(X, y)"
   ]
  },
  {
   "cell_type": "code",
   "execution_count": 73,
   "metadata": {},
   "outputs": [],
   "source": [
    "from sklearn.linear_model import LinearRegression\n",
    "from sklearn.model_selection import KFold\n",
    "\n",
    "from skpro.metrics import CRPS\n",
    "from skpro.model_selection import GridSearchCV\n",
    "from skpro.regression.residual import ResidualDouble\n",
    "\n",
    "# cross-validation specification for tuner\n",
    "cv = KFold(n_splits=3)\n",
    "\n",
    "# estimator to be tuned\n",
    "estimator = ResidualDouble(LinearRegression())\n",
    "\n",
    "# tuning grid - do we fit an intercept in the linear regression?\n",
    "param_grid = {\"estimator__fit_intercept\": [True, False]}\n",
    "\n",
    "# metric to be optimized\n",
    "crps_metric = CRPS()\n",
    "\n",
    "# specification of the grid search tuner\n",
    "gscv = GridSearchCV(\n",
    "    estimator=estimator,\n",
    "    param_grid=param_grid,\n",
    "    cv=cv,\n",
    "    scoring=crps_metric,\n",
    ")"
   ]
  },
  {
   "cell_type": "code",
   "execution_count": 74,
   "metadata": {},
   "outputs": [
    {
     "data": {
      "text/html": [
       "<style>#sk-ab68b12a-102e-4cf2-a6b7-c6cfc66a13d7 {color: black;background-color: white;}#sk-ab68b12a-102e-4cf2-a6b7-c6cfc66a13d7 pre{padding: 0;}#sk-ab68b12a-102e-4cf2-a6b7-c6cfc66a13d7 div.sk-toggleable {background-color: white;}#sk-ab68b12a-102e-4cf2-a6b7-c6cfc66a13d7 label.sk-toggleable__label {cursor: pointer;display: block;width: 100%;margin-bottom: 0;padding: 0.3em;box-sizing: border-box;text-align: center;}#sk-ab68b12a-102e-4cf2-a6b7-c6cfc66a13d7 label.sk-toggleable__label-arrow:before {content: \"▸\";float: left;margin-right: 0.25em;color: #696969;}#sk-ab68b12a-102e-4cf2-a6b7-c6cfc66a13d7 label.sk-toggleable__label-arrow:hover:before {color: black;}#sk-ab68b12a-102e-4cf2-a6b7-c6cfc66a13d7 div.sk-estimator:hover label.sk-toggleable__label-arrow:before {color: black;}#sk-ab68b12a-102e-4cf2-a6b7-c6cfc66a13d7 div.sk-toggleable__content {max-height: 0;max-width: 0;overflow: hidden;text-align: left;background-color: #f0f8ff;}#sk-ab68b12a-102e-4cf2-a6b7-c6cfc66a13d7 div.sk-toggleable__content pre {margin: 0.2em;color: black;border-radius: 0.25em;background-color: #f0f8ff;}#sk-ab68b12a-102e-4cf2-a6b7-c6cfc66a13d7 input.sk-toggleable__control:checked~div.sk-toggleable__content {max-height: 200px;max-width: 100%;overflow: auto;}#sk-ab68b12a-102e-4cf2-a6b7-c6cfc66a13d7 input.sk-toggleable__control:checked~label.sk-toggleable__label-arrow:before {content: \"▾\";}#sk-ab68b12a-102e-4cf2-a6b7-c6cfc66a13d7 div.sk-estimator input.sk-toggleable__control:checked~label.sk-toggleable__label {background-color: #d4ebff;}#sk-ab68b12a-102e-4cf2-a6b7-c6cfc66a13d7 div.sk-label input.sk-toggleable__control:checked~label.sk-toggleable__label {background-color: #d4ebff;}#sk-ab68b12a-102e-4cf2-a6b7-c6cfc66a13d7 input.sk-hidden--visually {border: 0;clip: rect(1px 1px 1px 1px);clip: rect(1px, 1px, 1px, 1px);height: 1px;margin: -1px;overflow: hidden;padding: 0;position: absolute;width: 1px;}#sk-ab68b12a-102e-4cf2-a6b7-c6cfc66a13d7 div.sk-estimator {font-family: monospace;background-color: #f0f8ff;border: 1px dotted black;border-radius: 0.25em;box-sizing: border-box;margin-bottom: 0.5em;}#sk-ab68b12a-102e-4cf2-a6b7-c6cfc66a13d7 div.sk-estimator:hover {background-color: #d4ebff;}#sk-ab68b12a-102e-4cf2-a6b7-c6cfc66a13d7 div.sk-parallel-item::after {content: \"\";width: 100%;border-bottom: 1px solid gray;flex-grow: 1;}#sk-ab68b12a-102e-4cf2-a6b7-c6cfc66a13d7 div.sk-label:hover label.sk-toggleable__label {background-color: #d4ebff;}#sk-ab68b12a-102e-4cf2-a6b7-c6cfc66a13d7 div.sk-serial::before {content: \"\";position: absolute;border-left: 1px solid gray;box-sizing: border-box;top: 2em;bottom: 0;left: 50%;}#sk-ab68b12a-102e-4cf2-a6b7-c6cfc66a13d7 div.sk-serial {display: flex;flex-direction: column;align-items: center;background-color: white;padding-right: 0.2em;padding-left: 0.2em;}#sk-ab68b12a-102e-4cf2-a6b7-c6cfc66a13d7 div.sk-item {z-index: 1;}#sk-ab68b12a-102e-4cf2-a6b7-c6cfc66a13d7 div.sk-parallel {display: flex;align-items: stretch;justify-content: center;background-color: white;}#sk-ab68b12a-102e-4cf2-a6b7-c6cfc66a13d7 div.sk-parallel::before {content: \"\";position: absolute;border-left: 1px solid gray;box-sizing: border-box;top: 2em;bottom: 0;left: 50%;}#sk-ab68b12a-102e-4cf2-a6b7-c6cfc66a13d7 div.sk-parallel-item {display: flex;flex-direction: column;position: relative;background-color: white;}#sk-ab68b12a-102e-4cf2-a6b7-c6cfc66a13d7 div.sk-parallel-item:first-child::after {align-self: flex-end;width: 50%;}#sk-ab68b12a-102e-4cf2-a6b7-c6cfc66a13d7 div.sk-parallel-item:last-child::after {align-self: flex-start;width: 50%;}#sk-ab68b12a-102e-4cf2-a6b7-c6cfc66a13d7 div.sk-parallel-item:only-child::after {width: 0;}#sk-ab68b12a-102e-4cf2-a6b7-c6cfc66a13d7 div.sk-dashed-wrapped {border: 1px dashed gray;margin: 0 0.4em 0.5em 0.4em;box-sizing: border-box;padding-bottom: 0.4em;background-color: white;position: relative;}#sk-ab68b12a-102e-4cf2-a6b7-c6cfc66a13d7 div.sk-label label {font-family: monospace;font-weight: bold;background-color: white;display: inline-block;line-height: 1.2em;}#sk-ab68b12a-102e-4cf2-a6b7-c6cfc66a13d7 div.sk-label-container {position: relative;z-index: 2;text-align: center;}#sk-ab68b12a-102e-4cf2-a6b7-c6cfc66a13d7 div.sk-container {/* jupyter's `normalize.less` sets `[hidden] { display: none; }` but bootstrap.min.css set `[hidden] { display: none !important; }` so we also need the `!important` here to be able to override the default hidden behavior on the sphinx rendered scikit-learn.org. See: https://github.com/scikit-learn/scikit-learn/issues/21755 */display: inline-block !important;position: relative;}#sk-ab68b12a-102e-4cf2-a6b7-c6cfc66a13d7 div.sk-text-repr-fallback {display: none;}</style><div id='sk-ab68b12a-102e-4cf2-a6b7-c6cfc66a13d7' class=\"sk-top-container\"><div class=\"sk-text-repr-fallback\"><pre>GridSearchCV(cv=KFold(n_splits=3, random_state=None, shuffle=False),\n",
       "             estimator=ResidualDouble(estimator=LinearRegression()),\n",
       "             param_grid={&#x27;estimator__fit_intercept&#x27;: [True, False]},\n",
       "             scoring=CRPS())</pre><b>Please rerun this cell to show the HTML repr or trust the notebook.</b></div><div class=\"sk-container\" hidden><div class=\"sk-item sk-dashed-wrapped\"><div class='sk-label-container'><div class=\"sk-label sk-toggleable\"><input class=\"sk-toggleable__control sk-hidden--visually\" id=UUID('eac52237-6782-43f9-8486-bce496bba792') type=\"checkbox\" ><label for=UUID('eac52237-6782-43f9-8486-bce496bba792') class='sk-toggleable__label sk-toggleable__label-arrow'>GridSearchCV</label><div class=\"sk-toggleable__content\"><pre>GridSearchCV(cv=KFold(n_splits=3, random_state=None, shuffle=False),\n",
       "             estimator=ResidualDouble(estimator=LinearRegression()),\n",
       "             param_grid={&#x27;estimator__fit_intercept&#x27;: [True, False]},\n",
       "             scoring=CRPS())</pre></div></div></div><div class=\"sk-parallel\"><div class=\"sk-parallel-item\"><div class=\"sk-item\"><div class=\"sk-serial\"><div class=\"sk-item sk-dashed-wrapped\"><div class=\"sk-parallel\"><div class=\"sk-parallel-item\"><div class=\"sk-item\"><div class=\"sk-serial\"><div class='sk-item'><div class=\"sk-estimator sk-toggleable\"><input class=\"sk-toggleable__control sk-hidden--visually\" id=UUID('ba310fb5-82e0-4922-8bae-7b55f85a15e5') type=\"checkbox\" ><label for=UUID('ba310fb5-82e0-4922-8bae-7b55f85a15e5') class='sk-toggleable__label sk-toggleable__label-arrow'>LinearRegression</label><div class=\"sk-toggleable__content\"><pre>LinearRegression()</pre></div></div></div></div></div></div></div></div></div></div></div><div class=\"sk-parallel-item\"><div class=\"sk-item\"><div class=\"sk-serial\"><div class='sk-item'><div class=\"sk-estimator sk-toggleable\"><input class=\"sk-toggleable__control sk-hidden--visually\" id=UUID('379e9f32-a316-47a8-8528-01521822f314') type=\"checkbox\" ><label for=UUID('379e9f32-a316-47a8-8528-01521822f314') class='sk-toggleable__label sk-toggleable__label-arrow'>CRPS</label><div class=\"sk-toggleable__content\"><pre>CRPS()</pre></div></div></div></div></div></div></div></div></div></div>"
      ],
      "text/plain": [
       "GridSearchCV(cv=KFold(n_splits=3, random_state=None, shuffle=False),\n",
       "             estimator=ResidualDouble(estimator=LinearRegression()),\n",
       "             param_grid={'estimator__fit_intercept': [True, False]},\n",
       "             scoring=CRPS())"
      ]
     },
     "execution_count": 74,
     "metadata": {},
     "output_type": "execute_result"
    }
   ],
   "source": [
    "gscv"
   ]
  },
  {
   "cell_type": "markdown",
   "metadata": {},
   "source": [
    "the grid search tuner behaves like any `skpro` probabilistic regressor:"
   ]
  },
  {
   "cell_type": "code",
   "execution_count": 75,
   "metadata": {},
   "outputs": [],
   "source": [
    "gscv.fit(X_train, y_train)\n",
    "y_pred = gscv.predict(X_test)\n",
    "y_pred_proba = gscv.predict_proba(X_test)"
   ]
  },
  {
   "cell_type": "markdown",
   "metadata": {},
   "source": [
    "random search is similar, except that instead of a grid a parameter sampler should be specified:"
   ]
  },
  {
   "cell_type": "code",
   "execution_count": 76,
   "metadata": {},
   "outputs": [],
   "source": [
    "from skpro.model_selection import RandomizedSearchCV\n",
    "\n",
    "# only difference to GridSearchCV is the param_distributions argument\n",
    "\n",
    "# specification of the random search parameter sampler\n",
    "param_distributions = {\"estimator__fit_intercept\": [True, False]}\n",
    "\n",
    "# specification of the random search tuner\n",
    "rscv = RandomizedSearchCV(\n",
    "    estimator=estimator,\n",
    "    param_distributions=param_distributions,\n",
    "    cv=cv,\n",
    "    scoring=crps_metric,\n",
    ")"
   ]
  },
  {
   "cell_type": "markdown",
   "metadata": {},
   "source": [
    "### 3.4 Bagging/mixture ensemble of probabilistic regressors <a class=\"anchor\" id=\"section3_3\"></a>"
   ]
  },
  {
   "cell_type": "markdown",
   "metadata": {},
   "source": [
    "Classical bagging does the following, for a wrapped estimator:\n",
    "\n",
    "In `fit`:\n",
    "\n",
    "1. subsample rows and/or columns of `X`, `y` to `X_subs`, `y_subs`\n",
    "2. fit clone of wrapped estimator to `X_subs`, `y_subs`\n",
    "3. Repeat 1-2 `n_estimators` times, store that many fitted clones.\n",
    "\n",
    "In `predict`, for `X_test`:\n",
    "\n",
    "1. for all fitted clones, obtain predictions on `X_test` - these are distributions\n",
    "2. return the uniform mixture of these distributions, per test sample"
   ]
  },
  {
   "cell_type": "code",
   "execution_count": 77,
   "metadata": {},
   "outputs": [],
   "source": [
    "from sklearn.datasets import load_diabetes\n",
    "from sklearn.model_selection import train_test_split\n",
    "\n",
    "X, y = load_diabetes(return_X_y=True, as_frame=True)\n",
    "X_train, X_test, y_train, y_test = train_test_split(X, y)"
   ]
  },
  {
   "cell_type": "code",
   "execution_count": 78,
   "metadata": {},
   "outputs": [],
   "source": [
    "from sklearn.linear_model import LinearRegression\n",
    "\n",
    "from skpro.regression.ensemble import BaggingRegressor\n",
    "from skpro.regression.residual import ResidualDouble\n",
    "\n",
    "reg_mean = LinearRegression()\n",
    "reg_proba = ResidualDouble(reg_mean)\n",
    "\n",
    "ens = BaggingRegressor(reg_proba, n_estimators=10)\n",
    "ens.fit(X_train, y_train)\n",
    "\n",
    "y_pred = ens.predict_proba(X_test)"
   ]
  },
  {
   "cell_type": "code",
   "execution_count": 79,
   "metadata": {},
   "outputs": [
    {
     "data": {
      "text/plain": [
       "\"Mixture(columns=Index(['target'], dtype='object'),\\n        distributions=[Normal(columns=Index(['target'], dtype='object'),\\n                              index=Index([367, 248, 134, 148,  21, 310,  37, 305,  23, 373,\\n       ...\\n       365, 204, 309, 379,   7, 440, 178, 160, 119, 441],\\n      dtype='int64', length=111),\\n                              mu=array([[270.91496133],\\n       [227.0209857 ],\\n       [153.30255219],\\n       [133.24435057],\\n       [108.55506881],\\n       [206.51166703],\\n       [153.83348539],\\n       [120.5...\\n       [45.96784484],\\n       [45.96784484],\\n       [45.96784484],\\n       [45.96784484],\\n       [45.96784484],\\n       [45.96784484],\\n       [45.96784484],\\n       [45.96784484],\\n       [45.96784484],\\n       [45.96784484],\\n       [45.96784484],\\n       [45.96784484],\\n       [45.96784484],\\n       [45.96784484],\\n       [45.96784484],\\n       [45.96784484],\\n       [45.96784484]]))],\\n        index=Index([367, 248, 134, 148,  21, 310,  37, 305,  23, 373,\\n       ...\\n       365, 204, 309, 379,   7, 440, 178, 160, 119, 441],\\n      dtype='int64', length=111))\""
      ]
     },
     "execution_count": 79,
     "metadata": {},
     "output_type": "execute_result"
    }
   ],
   "source": [
    "# y_pred is a mixture distribution!\n",
    "str(y_pred)"
   ]
  },
  {
   "cell_type": "code",
   "execution_count": 80,
   "metadata": {},
   "outputs": [
    {
     "data": {
      "text/plain": [
       "[skpro.distributions.normal.Normal,\n",
       " skpro.distributions.normal.Normal,\n",
       " skpro.distributions.normal.Normal,\n",
       " skpro.distributions.normal.Normal,\n",
       " skpro.distributions.normal.Normal,\n",
       " skpro.distributions.normal.Normal,\n",
       " skpro.distributions.normal.Normal,\n",
       " skpro.distributions.normal.Normal,\n",
       " skpro.distributions.normal.Normal,\n",
       " skpro.distributions.normal.Normal]"
      ]
     },
     "execution_count": 80,
     "metadata": {},
     "output_type": "execute_result"
    }
   ],
   "source": [
    "[type(x) for x in y_pred.distributions]"
   ]
  },
  {
   "cell_type": "markdown",
   "metadata": {},
   "source": [
    "## 4. Extension guide - implementing your own probabilistic regressor <a class=\"anchor\" id=\"chapter4\"></a>"
   ]
  },
  {
   "cell_type": "markdown",
   "metadata": {},
   "source": [
    "\n",
    "`skpro` is meant to be easily extensible, for direct contribution to `skpro` as well as for local/private extension with custom methods.\n",
    "\n",
    "To get started:\n",
    "\n",
    "* Follow the [\"implementing estimator\" developer guide](https://skpro.readthedocs.io/en/stable/developer_guide/add_estimators.html)\n",
    "* Use the [probabilistic regressor template](https://github.com/sktime/skpro/blob/main/extension_templates/regression.py) to get started\n",
    "\n",
    "1. Read through the [probabilistic regression extension template](https://github.com/sktime/skpro/blob/main/extension_templates/regression.py) - this is a `python` file with `todo` blocks that mark the places in which changes need to be added.\n",
    "2. Copy the proba regressor extension template to a local folder in your own repository (local/private extension), or to a suitable location in your clone of the `skpro` or affiliated repository (if contributed extension), inside `skpro.regression`; rename the file and update the file docstring appropriately.\n",
    "3. Address the \"todo\" parts. Usually, this means: changing the name of the class, setting the tag values, specifying hyper-parameters, filling in `__init__`, `_fit`, and at least one of the probabilistic prediction methods, preferably `_predict_proba` (for details see the extension template). You can add private methods as long as they do not override the default public interface. For more details, see the extension template.\n",
    "4. To test your estimator manually: import your estimator and run it in the worfklows in Section 1; then use it in the compositors in Section 3.\n",
    "5. To test your estimator automatically: call `skpro.utils.check_estimator` on your estimator. You can call this on a class or object instance. Ensure you have specified test parameters in the `get_test_params` method, according to the extension template.\n",
    "\n",
    "In case of direct contribution to `skpro` or one of its affiliated packages, additionally:\n",
    "\n",
    "* Add yourself as an author to the code, and to the `CODEOWNERS` for the new estimator file(s).\n",
    "* Create a pull request that contains only the new estimators (and their inheritance tree, if it's not just one class), as well as the automated tests as described above.\n",
    "* In the pull request, describe the estimator and optimally provide a publication or other technical reference for the strategy it implements.\n",
    "* Before making the pull request, ensure that you have all necessary permissions to contribute the code to a permissive license (BSD-3) open source project."
   ]
  },
  {
   "cell_type": "markdown",
   "metadata": {},
   "source": [
    "## 5. Summary<a class=\"anchor\" id=\"chapter5\"></a>\n",
    "\n",
    "* `skpro` is a unified interface toolbox for probabilistic supervised regression, that is, for prediction intervals, quantiles, fully distributional predictions, in a tabular regression setting. The interface is fully interoperable with `scikit-learn` and `scikit-base` interface specifications.\n",
    "\n",
    "* `skpro` comes with rich composition functionality that allows to build complex pipelines easily, and connect easily with other parts of the open source ecosystem, such as `scikit-learn` and individual algorithm libraries.\n",
    "\n",
    "* `skpro` is easy to extend, and comes with user friendly tools to facilitate implementing and testing your own probabilistic regressors and composition principles."
   ]
  },
  {
   "cell_type": "markdown",
   "metadata": {},
   "source": [
    "---\n",
    "\n",
    "### Credits:\n",
    "\n",
    "noteook creation: fkiraly\n",
    "\n",
    "skpro: https://github.com/sktime/skpro/blob/main/CONTRIBUTORS.md"
   ]
  }
 ],
 "metadata": {
  "kernelspec": {
   "display_name": "skpro",
   "language": "python",
   "name": "python3"
  },
  "language_info": {
   "codemirror_mode": {
    "name": "ipython",
    "version": 3
   },
   "file_extension": ".py",
   "mimetype": "text/x-python",
   "name": "python",
   "nbconvert_exporter": "python",
   "pygments_lexer": "ipython3",
   "version": "3.11.4"
  },
  "orig_nbformat": 4,
  "vscode": {
   "interpreter": {
    "hash": "3e631b8a076cc106144e9b132b7d31cae2f1e2660b47e5f9fcb0397caae5fbd5"
   }
  }
 },
 "nbformat": 4,
 "nbformat_minor": 2
}
