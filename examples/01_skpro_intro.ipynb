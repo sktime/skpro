{
 "cells": [
  {
   "attachments": {},
   "cell_type": "markdown",
   "metadata": {},
   "source": [
    "## skpro introduction notebook"
   ]
  },
  {
   "cell_type": "markdown",
   "metadata": {},
   "source": [
    "**Set-up instructions:** On binder, this should run out-of-the-box.\n",
    "\n",
    "To run this notebook as intended, ensure that `skpro` with basic dependency requirements is installed in your python environment."
   ]
  },
  {
   "cell_type": "markdown",
   "metadata": {},
   "source": [
    "`skpro` provides `scikit-learn`-like, `scikit-base` compatible interfaces to:\n",
    "\n",
    "* tabular **supervised regressors with probabilistic prediction modes** - interval, quantile and distribution predictions\n",
    "* **performance metrics to evaluate probabilistic predictions**, e.g., pinball loss, empirical coverage, CRPS\n",
    "* **reductions** to turn non-probabilistic, `scikit-learn` regressors into probabilistic `skpro` regressors, such as bootstrap or conformal\n",
    "* tools for building **pipelines and composite machine learning models**, including tuning via probabilistic performance metrics\n",
    "* symbolic an lazy **probability distributions** with a value domain of `pandas.DataFrame`-s and a `pandas`-like interface\n",
    "\n",
    "**Section 1** provides an overview of common **probabilistic supervised regression workflows** supported by `skpro`.\n",
    "\n",
    "**Section 2** gives an more detailed introduction to **prediction modes, performance metrics, and benchmarking tools**.\n",
    "\n",
    "**Section 3** discusses **advanced composition patterns**, including various ways to add probabilistic capability to any `sklearn` regressor, pipeline building, tuning, ensembling.\n",
    "\n",
    "**Section 4** gives an introduction to how to write **custom estimators** compliant with the `skpro` interface."
   ]
  },
  {
   "cell_type": "code",
   "execution_count": 377,
   "metadata": {},
   "outputs": [],
   "source": [
    "# hide warnings\n",
    "import warnings\n",
    "\n",
    "warnings.filterwarnings(\"ignore\")"
   ]
  },
  {
   "attachments": {},
   "cell_type": "markdown",
   "metadata": {},
   "source": [
    "## 1. Basic probabilistic supervised regression workflows <a class=\"anchor\" id=\"chapter1\"></a>"
   ]
  },
  {
   "cell_type": "markdown",
   "metadata": {},
   "source": [
    "`skpro` revolves around supervised probabilistic regressors:\n",
    "\n",
    "* `fit(X, y)` with tabular features `X`, labels `y`, same rows, both `pd.DataFrame`\n",
    "* `predict_interval(X_test)` for interval predictions of labels\n",
    "* `predict_quantiles(X_test)` for quantile predictions of labels\n",
    "* `predict_var(X_test)` for variance predictions of labels\n",
    "* `predict(X_test)` for mean predictions\n",
    "* `predict_proba(X_test)` for distributional prediction"
   ]
  },
  {
   "attachments": {},
   "cell_type": "markdown",
   "metadata": {},
   "source": [
    "### 1.1 basic deployment workflow"
   ]
  },
  {
   "cell_type": "markdown",
   "metadata": {},
   "source": [
    "`skpro` regressors are used via `fit` then `predict_proba` etc.\n",
    "\n",
    "Same as `sklearn` regressors - `X` and `y` should be `pd.DataFrame` (`numpy` is also ok but not recommended)"
   ]
  },
  {
   "cell_type": "code",
   "execution_count": 378,
   "metadata": {},
   "outputs": [],
   "source": [
    "from sklearn.datasets import load_diabetes\n",
    "from sklearn.ensemble import RandomForestRegressor\n",
    "from sklearn.linear_model import LinearRegression\n",
    "from sklearn.model_selection import train_test_split\n",
    "\n",
    "from skpro.regression.residual import ResidualDouble\n",
    "\n",
    "# step 1: data specification\n",
    "X, y = load_diabetes(return_X_y=True, as_frame=True)\n",
    "X_train, X_new, y_train, _ = train_test_split(X, y)\n",
    "\n",
    "# step 2: specifying the regressor\n",
    "# example - random forest for mean prediction\n",
    "# linear regression for variance prediction\n",
    "reg_mean = RandomForestRegressor()\n",
    "reg_resid = LinearRegression()\n",
    "reg_proba = ResidualDouble(reg_mean, reg_resid)\n",
    "\n",
    "# step 3: fitting the model to training data\n",
    "reg_proba.fit(X_train, y_train)\n",
    "\n",
    "# step 4: predicting labels on new data\n",
    "\n",
    "# probabilistic prediction modes - pick any or multiple\n",
    "# we show the return types in detail below\n",
    "\n",
    "# full distribution prediction\n",
    "y_pred_proba = reg_proba.predict_proba(X_new)\n",
    "\n",
    "# interval prediction\n",
    "y_pred_interval = reg_proba.predict_interval(X_new, coverage=0.9)\n",
    "\n",
    "# quantile prediction\n",
    "y_pred_quantiles = reg_proba.predict_quantiles(X_new, alpha=[0.05, 0.5, 0.95])\n",
    "\n",
    "# variance prediction\n",
    "y_pred_var = reg_proba.predict_var(X_new)\n",
    "\n",
    "# mean prediction is same as \"classical\" sklearn predict, also available\n",
    "y_pred_mean = reg_proba.predict(X_new)"
   ]
  },
  {
   "cell_type": "markdown",
   "metadata": {},
   "source": [
    "### 1.1.1 distribution predictions"
   ]
  },
  {
   "cell_type": "markdown",
   "metadata": {},
   "source": [
    "`y_pred_proba` is an `skpro` distribution - it has index and columns like `pd.DataFrame`\n",
    "\n",
    "\"we predict that true labels are distributed according to `y_pred_proba`\"\n",
    "\n",
    "(here: distribution marginal by row/columns)"
   ]
  },
  {
   "cell_type": "code",
   "execution_count": 379,
   "metadata": {},
   "outputs": [
    {
     "data": {
      "text/html": [
       "<style>#sk-e95d0408-5fc4-4ec1-a146-e2b6d8bcfe64 {color: black;background-color: white;}#sk-e95d0408-5fc4-4ec1-a146-e2b6d8bcfe64 pre{padding: 0;}#sk-e95d0408-5fc4-4ec1-a146-e2b6d8bcfe64 div.sk-toggleable {background-color: white;}#sk-e95d0408-5fc4-4ec1-a146-e2b6d8bcfe64 label.sk-toggleable__label {cursor: pointer;display: block;width: 100%;margin-bottom: 0;padding: 0.3em;box-sizing: border-box;text-align: center;}#sk-e95d0408-5fc4-4ec1-a146-e2b6d8bcfe64 label.sk-toggleable__label-arrow:before {content: \"▸\";float: left;margin-right: 0.25em;color: #696969;}#sk-e95d0408-5fc4-4ec1-a146-e2b6d8bcfe64 label.sk-toggleable__label-arrow:hover:before {color: black;}#sk-e95d0408-5fc4-4ec1-a146-e2b6d8bcfe64 div.sk-estimator:hover label.sk-toggleable__label-arrow:before {color: black;}#sk-e95d0408-5fc4-4ec1-a146-e2b6d8bcfe64 div.sk-toggleable__content {max-height: 0;max-width: 0;overflow: hidden;text-align: left;background-color: #f0f8ff;}#sk-e95d0408-5fc4-4ec1-a146-e2b6d8bcfe64 div.sk-toggleable__content pre {margin: 0.2em;color: black;border-radius: 0.25em;background-color: #f0f8ff;}#sk-e95d0408-5fc4-4ec1-a146-e2b6d8bcfe64 input.sk-toggleable__control:checked~div.sk-toggleable__content {max-height: 200px;max-width: 100%;overflow: auto;}#sk-e95d0408-5fc4-4ec1-a146-e2b6d8bcfe64 input.sk-toggleable__control:checked~label.sk-toggleable__label-arrow:before {content: \"▾\";}#sk-e95d0408-5fc4-4ec1-a146-e2b6d8bcfe64 div.sk-estimator input.sk-toggleable__control:checked~label.sk-toggleable__label {background-color: #d4ebff;}#sk-e95d0408-5fc4-4ec1-a146-e2b6d8bcfe64 div.sk-label input.sk-toggleable__control:checked~label.sk-toggleable__label {background-color: #d4ebff;}#sk-e95d0408-5fc4-4ec1-a146-e2b6d8bcfe64 input.sk-hidden--visually {border: 0;clip: rect(1px 1px 1px 1px);clip: rect(1px, 1px, 1px, 1px);height: 1px;margin: -1px;overflow: hidden;padding: 0;position: absolute;width: 1px;}#sk-e95d0408-5fc4-4ec1-a146-e2b6d8bcfe64 div.sk-estimator {font-family: monospace;background-color: #f0f8ff;border: 1px dotted black;border-radius: 0.25em;box-sizing: border-box;margin-bottom: 0.5em;}#sk-e95d0408-5fc4-4ec1-a146-e2b6d8bcfe64 div.sk-estimator:hover {background-color: #d4ebff;}#sk-e95d0408-5fc4-4ec1-a146-e2b6d8bcfe64 div.sk-parallel-item::after {content: \"\";width: 100%;border-bottom: 1px solid gray;flex-grow: 1;}#sk-e95d0408-5fc4-4ec1-a146-e2b6d8bcfe64 div.sk-label:hover label.sk-toggleable__label {background-color: #d4ebff;}#sk-e95d0408-5fc4-4ec1-a146-e2b6d8bcfe64 div.sk-serial::before {content: \"\";position: absolute;border-left: 1px solid gray;box-sizing: border-box;top: 2em;bottom: 0;left: 50%;}#sk-e95d0408-5fc4-4ec1-a146-e2b6d8bcfe64 div.sk-serial {display: flex;flex-direction: column;align-items: center;background-color: white;padding-right: 0.2em;padding-left: 0.2em;}#sk-e95d0408-5fc4-4ec1-a146-e2b6d8bcfe64 div.sk-item {z-index: 1;}#sk-e95d0408-5fc4-4ec1-a146-e2b6d8bcfe64 div.sk-parallel {display: flex;align-items: stretch;justify-content: center;background-color: white;}#sk-e95d0408-5fc4-4ec1-a146-e2b6d8bcfe64 div.sk-parallel::before {content: \"\";position: absolute;border-left: 1px solid gray;box-sizing: border-box;top: 2em;bottom: 0;left: 50%;}#sk-e95d0408-5fc4-4ec1-a146-e2b6d8bcfe64 div.sk-parallel-item {display: flex;flex-direction: column;position: relative;background-color: white;}#sk-e95d0408-5fc4-4ec1-a146-e2b6d8bcfe64 div.sk-parallel-item:first-child::after {align-self: flex-end;width: 50%;}#sk-e95d0408-5fc4-4ec1-a146-e2b6d8bcfe64 div.sk-parallel-item:last-child::after {align-self: flex-start;width: 50%;}#sk-e95d0408-5fc4-4ec1-a146-e2b6d8bcfe64 div.sk-parallel-item:only-child::after {width: 0;}#sk-e95d0408-5fc4-4ec1-a146-e2b6d8bcfe64 div.sk-dashed-wrapped {border: 1px dashed gray;margin: 0 0.4em 0.5em 0.4em;box-sizing: border-box;padding-bottom: 0.4em;background-color: white;position: relative;}#sk-e95d0408-5fc4-4ec1-a146-e2b6d8bcfe64 div.sk-label label {font-family: monospace;font-weight: bold;background-color: white;display: inline-block;line-height: 1.2em;}#sk-e95d0408-5fc4-4ec1-a146-e2b6d8bcfe64 div.sk-label-container {position: relative;z-index: 2;text-align: center;}#sk-e95d0408-5fc4-4ec1-a146-e2b6d8bcfe64 div.sk-container {/* jupyter's `normalize.less` sets `[hidden] { display: none; }` but bootstrap.min.css set `[hidden] { display: none !important; }` so we also need the `!important` here to be able to override the default hidden behavior on the sphinx rendered scikit-learn.org. See: https://github.com/scikit-learn/scikit-learn/issues/21755 */display: inline-block !important;position: relative;}#sk-e95d0408-5fc4-4ec1-a146-e2b6d8bcfe64 div.sk-text-repr-fallback {display: none;}</style><div id='sk-e95d0408-5fc4-4ec1-a146-e2b6d8bcfe64' class=\"sk-top-container\"><div class=\"sk-text-repr-fallback\"><pre>Normal(columns=Index([&#x27;target&#x27;], dtype=&#x27;object&#x27;),\n",
       "       index=Index([182, 397, 419, 301, 233, 384, 172,  53, 434, 245,\n",
       "       ...\n",
       "        23, 416, 373,  11, 162, 431, 327,  83,  46, 322],\n",
       "      dtype=&#x27;int64&#x27;, length=111),\n",
       "       mu=array([[186.42],\n",
       "       [171.99],\n",
       "       [100.36],\n",
       "       [127.52],\n",
       "       [135.85],\n",
       "       [146.29],\n",
       "       [240.63],\n",
       "       [143.02],\n",
       "       [ 96.37],\n",
       "       [ 94.1 ],\n",
       "       [156.94],\n",
       "       [213.26],\n",
       "       [235.18],\n",
       "       [138.7 ],\n",
       "       [209.38],\n",
       "       [250.86],\n",
       "       [266.35],\n",
       "       [123.65],\n",
       "       [ 90.2 ],\n",
       "       [ 94.33],\n",
       "       [...\n",
       "       [18.28668761],\n",
       "       [20.92193767],\n",
       "       [18.0345413 ],\n",
       "       [12.60670061],\n",
       "       [16.50379225],\n",
       "       [16.9953108 ],\n",
       "       [18.01693741],\n",
       "       [23.17652946],\n",
       "       [18.75907066],\n",
       "       [21.72690147],\n",
       "       [16.70853211],\n",
       "       [15.28278922],\n",
       "       [15.67798547],\n",
       "       [20.27584933],\n",
       "       [21.2967399 ],\n",
       "       [16.79494892],\n",
       "       [15.68871822],\n",
       "       [22.33146028],\n",
       "       [18.19774401],\n",
       "       [14.33229829],\n",
       "       [16.96726997],\n",
       "       [14.60421707],\n",
       "       [17.29797894],\n",
       "       [16.24751059],\n",
       "       [15.08616249],\n",
       "       [15.11334382]]))</pre><b>Please rerun this cell to show the HTML repr or trust the notebook.</b></div><div class=\"sk-container\" hidden><div class='sk-item'><div class=\"sk-estimator sk-toggleable\"><input class=\"sk-toggleable__control sk-hidden--visually\" id=UUID('129c2fe3-36dc-4829-87d6-86c79fe3b83f') type=\"checkbox\" checked><label for=UUID('129c2fe3-36dc-4829-87d6-86c79fe3b83f') class='sk-toggleable__label sk-toggleable__label-arrow'>Normal</label><div class=\"sk-toggleable__content\"><pre>Normal(columns=Index([&#x27;target&#x27;], dtype=&#x27;object&#x27;),\n",
       "       index=Index([182, 397, 419, 301, 233, 384, 172,  53, 434, 245,\n",
       "       ...\n",
       "        23, 416, 373,  11, 162, 431, 327,  83,  46, 322],\n",
       "      dtype=&#x27;int64&#x27;, length=111),\n",
       "       mu=array([[186.42],\n",
       "       [171.99],\n",
       "       [100.36],\n",
       "       [127.52],\n",
       "       [135.85],\n",
       "       [146.29],\n",
       "       [240.63],\n",
       "       [143.02],\n",
       "       [ 96.37],\n",
       "       [ 94.1 ],\n",
       "       [156.94],\n",
       "       [213.26],\n",
       "       [235.18],\n",
       "       [138.7 ],\n",
       "       [209.38],\n",
       "       [250.86],\n",
       "       [266.35],\n",
       "       [123.65],\n",
       "       [ 90.2 ],\n",
       "       [ 94.33],\n",
       "       [...\n",
       "       [18.28668761],\n",
       "       [20.92193767],\n",
       "       [18.0345413 ],\n",
       "       [12.60670061],\n",
       "       [16.50379225],\n",
       "       [16.9953108 ],\n",
       "       [18.01693741],\n",
       "       [23.17652946],\n",
       "       [18.75907066],\n",
       "       [21.72690147],\n",
       "       [16.70853211],\n",
       "       [15.28278922],\n",
       "       [15.67798547],\n",
       "       [20.27584933],\n",
       "       [21.2967399 ],\n",
       "       [16.79494892],\n",
       "       [15.68871822],\n",
       "       [22.33146028],\n",
       "       [18.19774401],\n",
       "       [14.33229829],\n",
       "       [16.96726997],\n",
       "       [14.60421707],\n",
       "       [17.29797894],\n",
       "       [16.24751059],\n",
       "       [15.08616249],\n",
       "       [15.11334382]]))</pre></div></div></div></div></div>"
      ],
      "text/plain": [
       "Normal(columns=Index(['target'], dtype='object'),\n",
       "       index=Index([182, 397, 419, 301, 233, 384, 172,  53, 434, 245,\n",
       "       ...\n",
       "        23, 416, 373,  11, 162, 431, 327,  83,  46, 322],\n",
       "      dtype='int64', length=111),\n",
       "       mu=array([[186.42],\n",
       "       [171.99],\n",
       "       [100.36],\n",
       "       [127.52],\n",
       "       [135.85],\n",
       "       [146.29],\n",
       "       [240.63],\n",
       "       [143.02],\n",
       "       [ 96.37],\n",
       "       [ 94.1 ],\n",
       "       [156.94],\n",
       "       [213.26],\n",
       "       [235.18],\n",
       "       [138.7 ],\n",
       "       [209.38],\n",
       "       [250.86],\n",
       "       [266.35],\n",
       "       [123.65],\n",
       "       [ 90.2 ],\n",
       "       [ 94.33],\n",
       "       [...\n",
       "       [18.28668761],\n",
       "       [20.92193767],\n",
       "       [18.0345413 ],\n",
       "       [12.60670061],\n",
       "       [16.50379225],\n",
       "       [16.9953108 ],\n",
       "       [18.01693741],\n",
       "       [23.17652946],\n",
       "       [18.75907066],\n",
       "       [21.72690147],\n",
       "       [16.70853211],\n",
       "       [15.28278922],\n",
       "       [15.67798547],\n",
       "       [20.27584933],\n",
       "       [21.2967399 ],\n",
       "       [16.79494892],\n",
       "       [15.68871822],\n",
       "       [22.33146028],\n",
       "       [18.19774401],\n",
       "       [14.33229829],\n",
       "       [16.96726997],\n",
       "       [14.60421707],\n",
       "       [17.29797894],\n",
       "       [16.24751059],\n",
       "       [15.08616249],\n",
       "       [15.11334382]]))"
      ]
     },
     "execution_count": 379,
     "metadata": {},
     "output_type": "execute_result"
    }
   ],
   "source": [
    "y_pred_proba = reg_proba.predict_proba(X_new)\n",
    "y_pred_proba"
   ]
  },
  {
   "cell_type": "markdown",
   "metadata": {},
   "source": [
    "`skpro` distribution objects are pandas-like"
   ]
  },
  {
   "cell_type": "code",
   "execution_count": 380,
   "metadata": {},
   "outputs": [
    {
     "data": {
      "text/plain": [
       "(111, 1)"
      ]
     },
     "execution_count": 380,
     "metadata": {},
     "output_type": "execute_result"
    }
   ],
   "source": [
    "y_pred_proba.shape"
   ]
  },
  {
   "cell_type": "code",
   "execution_count": 381,
   "metadata": {},
   "outputs": [
    {
     "data": {
      "text/plain": [
       "Index([182, 397, 419, 301, 233, 384, 172,  53, 434, 245,\n",
       "       ...\n",
       "        23, 416, 373,  11, 162, 431, 327,  83,  46, 322],\n",
       "      dtype='int64', length=111)"
      ]
     },
     "execution_count": 381,
     "metadata": {},
     "output_type": "execute_result"
    }
   ],
   "source": [
    "y_pred_proba.index  # same index as X_new"
   ]
  },
  {
   "cell_type": "code",
   "execution_count": 382,
   "metadata": {},
   "outputs": [
    {
     "data": {
      "text/plain": [
       "Index(['target'], dtype='object')"
      ]
     },
     "execution_count": 382,
     "metadata": {},
     "output_type": "execute_result"
    }
   ],
   "source": [
    "y_pred_proba.columns  # same columns as X_new"
   ]
  },
  {
   "cell_type": "markdown",
   "metadata": {},
   "source": [
    "distribution objects have `sample` and methods such as `mean`, `var`:"
   ]
  },
  {
   "cell_type": "code",
   "execution_count": 383,
   "metadata": {},
   "outputs": [
    {
     "data": {
      "text/html": [
       "<div>\n",
       "<style scoped>\n",
       "    .dataframe tbody tr th:only-of-type {\n",
       "        vertical-align: middle;\n",
       "    }\n",
       "\n",
       "    .dataframe tbody tr th {\n",
       "        vertical-align: top;\n",
       "    }\n",
       "\n",
       "    .dataframe thead th {\n",
       "        text-align: right;\n",
       "    }\n",
       "</style>\n",
       "<table border=\"1\" class=\"dataframe\">\n",
       "  <thead>\n",
       "    <tr style=\"text-align: right;\">\n",
       "      <th></th>\n",
       "      <th>target</th>\n",
       "    </tr>\n",
       "  </thead>\n",
       "  <tbody>\n",
       "    <tr>\n",
       "      <th>182</th>\n",
       "      <td>186.579885</td>\n",
       "    </tr>\n",
       "    <tr>\n",
       "      <th>397</th>\n",
       "      <td>181.441871</td>\n",
       "    </tr>\n",
       "    <tr>\n",
       "      <th>419</th>\n",
       "      <td>96.182048</td>\n",
       "    </tr>\n",
       "    <tr>\n",
       "      <th>301</th>\n",
       "      <td>127.871064</td>\n",
       "    </tr>\n",
       "    <tr>\n",
       "      <th>233</th>\n",
       "      <td>153.859960</td>\n",
       "    </tr>\n",
       "  </tbody>\n",
       "</table>\n",
       "</div>"
      ],
      "text/plain": [
       "         target\n",
       "182  186.579885\n",
       "397  181.441871\n",
       "419   96.182048\n",
       "301  127.871064\n",
       "233  153.859960"
      ]
     },
     "execution_count": 383,
     "metadata": {},
     "output_type": "execute_result"
    }
   ],
   "source": [
    "y_pred_proba.sample().head()"
   ]
  },
  {
   "cell_type": "code",
   "execution_count": 384,
   "metadata": {},
   "outputs": [
    {
     "data": {
      "text/html": [
       "<div>\n",
       "<style scoped>\n",
       "    .dataframe tbody tr th:only-of-type {\n",
       "        vertical-align: middle;\n",
       "    }\n",
       "\n",
       "    .dataframe tbody tr th {\n",
       "        vertical-align: top;\n",
       "    }\n",
       "\n",
       "    .dataframe thead th {\n",
       "        text-align: right;\n",
       "    }\n",
       "</style>\n",
       "<table border=\"1\" class=\"dataframe\">\n",
       "  <thead>\n",
       "    <tr style=\"text-align: right;\">\n",
       "      <th></th>\n",
       "      <th>target</th>\n",
       "    </tr>\n",
       "  </thead>\n",
       "  <tbody>\n",
       "    <tr>\n",
       "      <th>182</th>\n",
       "      <td>186.42</td>\n",
       "    </tr>\n",
       "    <tr>\n",
       "      <th>397</th>\n",
       "      <td>171.99</td>\n",
       "    </tr>\n",
       "    <tr>\n",
       "      <th>419</th>\n",
       "      <td>100.36</td>\n",
       "    </tr>\n",
       "    <tr>\n",
       "      <th>301</th>\n",
       "      <td>127.52</td>\n",
       "    </tr>\n",
       "    <tr>\n",
       "      <th>233</th>\n",
       "      <td>135.85</td>\n",
       "    </tr>\n",
       "  </tbody>\n",
       "</table>\n",
       "</div>"
      ],
      "text/plain": [
       "     target\n",
       "182  186.42\n",
       "397  171.99\n",
       "419  100.36\n",
       "301  127.52\n",
       "233  135.85"
      ]
     },
     "execution_count": 384,
     "metadata": {},
     "output_type": "execute_result"
    }
   ],
   "source": [
    "y_pred_proba.mean().head()"
   ]
  },
  {
   "cell_type": "code",
   "execution_count": 385,
   "metadata": {},
   "outputs": [
    {
     "data": {
      "text/html": [
       "<div>\n",
       "<style scoped>\n",
       "    .dataframe tbody tr th:only-of-type {\n",
       "        vertical-align: middle;\n",
       "    }\n",
       "\n",
       "    .dataframe tbody tr th {\n",
       "        vertical-align: top;\n",
       "    }\n",
       "\n",
       "    .dataframe thead th {\n",
       "        text-align: right;\n",
       "    }\n",
       "</style>\n",
       "<table border=\"1\" class=\"dataframe\">\n",
       "  <thead>\n",
       "    <tr style=\"text-align: right;\">\n",
       "      <th></th>\n",
       "      <th>target</th>\n",
       "    </tr>\n",
       "  </thead>\n",
       "  <tbody>\n",
       "    <tr>\n",
       "      <th>182</th>\n",
       "      <td>354.468747</td>\n",
       "    </tr>\n",
       "    <tr>\n",
       "      <th>397</th>\n",
       "      <td>276.264579</td>\n",
       "    </tr>\n",
       "    <tr>\n",
       "      <th>419</th>\n",
       "      <td>219.177588</td>\n",
       "    </tr>\n",
       "    <tr>\n",
       "      <th>301</th>\n",
       "      <td>341.998653</td>\n",
       "    </tr>\n",
       "    <tr>\n",
       "      <th>233</th>\n",
       "      <td>164.578379</td>\n",
       "    </tr>\n",
       "  </tbody>\n",
       "</table>\n",
       "</div>"
      ],
      "text/plain": [
       "         target\n",
       "182  354.468747\n",
       "397  276.264579\n",
       "419  219.177588\n",
       "301  341.998653\n",
       "233  164.578379"
      ]
     },
     "execution_count": 385,
     "metadata": {},
     "output_type": "execute_result"
    }
   ],
   "source": [
    "y_pred_proba.var().head()"
   ]
  },
  {
   "cell_type": "markdown",
   "metadata": {},
   "source": [
    "### 1.1.2 interval predictions"
   ]
  },
  {
   "cell_type": "markdown",
   "metadata": {},
   "source": [
    "interval prediction `y_pred_interval` is a `pd.DataFrame`:\n",
    "\n",
    "* rows are the same as `X_new`\n",
    "* columns indicate variables, nominal coverage, and bottom/upper bound\n",
    "\n",
    "\"we predict that value in row falls between bottom/upper with 90% chance\""
   ]
  },
  {
   "cell_type": "code",
   "execution_count": 386,
   "metadata": {},
   "outputs": [
    {
     "data": {
      "text/html": [
       "<div>\n",
       "<style scoped>\n",
       "    .dataframe tbody tr th:only-of-type {\n",
       "        vertical-align: middle;\n",
       "    }\n",
       "\n",
       "    .dataframe tbody tr th {\n",
       "        vertical-align: top;\n",
       "    }\n",
       "\n",
       "    .dataframe thead tr th {\n",
       "        text-align: left;\n",
       "    }\n",
       "</style>\n",
       "<table border=\"1\" class=\"dataframe\">\n",
       "  <thead>\n",
       "    <tr>\n",
       "      <th></th>\n",
       "      <th colspan=\"2\" halign=\"left\">target</th>\n",
       "    </tr>\n",
       "    <tr>\n",
       "      <th></th>\n",
       "      <th colspan=\"2\" halign=\"left\">0.9</th>\n",
       "    </tr>\n",
       "    <tr>\n",
       "      <th></th>\n",
       "      <th>lower</th>\n",
       "      <th>upper</th>\n",
       "    </tr>\n",
       "  </thead>\n",
       "  <tbody>\n",
       "    <tr>\n",
       "      <th>182</th>\n",
       "      <td>155.451781</td>\n",
       "      <td>217.388219</td>\n",
       "    </tr>\n",
       "    <tr>\n",
       "      <th>397</th>\n",
       "      <td>144.650545</td>\n",
       "      <td>199.329455</td>\n",
       "    </tr>\n",
       "    <tr>\n",
       "      <th>419</th>\n",
       "      <td>76.008522</td>\n",
       "      <td>124.711478</td>\n",
       "    </tr>\n",
       "    <tr>\n",
       "      <th>301</th>\n",
       "      <td>97.101384</td>\n",
       "      <td>157.938616</td>\n",
       "    </tr>\n",
       "    <tr>\n",
       "      <th>233</th>\n",
       "      <td>114.748485</td>\n",
       "      <td>156.951515</td>\n",
       "    </tr>\n",
       "  </tbody>\n",
       "</table>\n",
       "</div>"
      ],
      "text/plain": [
       "         target            \n",
       "            0.9            \n",
       "          lower       upper\n",
       "182  155.451781  217.388219\n",
       "397  144.650545  199.329455\n",
       "419   76.008522  124.711478\n",
       "301   97.101384  157.938616\n",
       "233  114.748485  156.951515"
      ]
     },
     "execution_count": 386,
     "metadata": {},
     "output_type": "execute_result"
    }
   ],
   "source": [
    "y_pred_interval = reg_proba.predict_interval(X_new, coverage=0.9)\n",
    "y_pred_interval.head()"
   ]
  },
  {
   "cell_type": "markdown",
   "metadata": {},
   "source": [
    "### 1.1.3 quantile predictions"
   ]
  },
  {
   "cell_type": "markdown",
   "metadata": {},
   "source": [
    "quantile prediction `y_pred_quantiles` is a `pd.DataFrame`:\n",
    "\n",
    "* rows are the same as `X_new`\n",
    "* columns indicate variables, quantile points\n",
    "\n",
    "\"we predict the 5%, 50%, 95% quantile points for the row to be here\""
   ]
  },
  {
   "cell_type": "code",
   "execution_count": 387,
   "metadata": {},
   "outputs": [
    {
     "data": {
      "text/html": [
       "<div>\n",
       "<style scoped>\n",
       "    .dataframe tbody tr th:only-of-type {\n",
       "        vertical-align: middle;\n",
       "    }\n",
       "\n",
       "    .dataframe tbody tr th {\n",
       "        vertical-align: top;\n",
       "    }\n",
       "\n",
       "    .dataframe thead tr th {\n",
       "        text-align: left;\n",
       "    }\n",
       "</style>\n",
       "<table border=\"1\" class=\"dataframe\">\n",
       "  <thead>\n",
       "    <tr>\n",
       "      <th></th>\n",
       "      <th colspan=\"3\" halign=\"left\">target</th>\n",
       "    </tr>\n",
       "    <tr>\n",
       "      <th></th>\n",
       "      <th>0.05</th>\n",
       "      <th>0.50</th>\n",
       "      <th>0.95</th>\n",
       "    </tr>\n",
       "  </thead>\n",
       "  <tbody>\n",
       "    <tr>\n",
       "      <th>182</th>\n",
       "      <td>155.451781</td>\n",
       "      <td>186.42</td>\n",
       "      <td>217.388219</td>\n",
       "    </tr>\n",
       "    <tr>\n",
       "      <th>397</th>\n",
       "      <td>144.650545</td>\n",
       "      <td>171.99</td>\n",
       "      <td>199.329455</td>\n",
       "    </tr>\n",
       "    <tr>\n",
       "      <th>419</th>\n",
       "      <td>76.008522</td>\n",
       "      <td>100.36</td>\n",
       "      <td>124.711478</td>\n",
       "    </tr>\n",
       "    <tr>\n",
       "      <th>301</th>\n",
       "      <td>97.101384</td>\n",
       "      <td>127.52</td>\n",
       "      <td>157.938616</td>\n",
       "    </tr>\n",
       "    <tr>\n",
       "      <th>233</th>\n",
       "      <td>114.748485</td>\n",
       "      <td>135.85</td>\n",
       "      <td>156.951515</td>\n",
       "    </tr>\n",
       "  </tbody>\n",
       "</table>\n",
       "</div>"
      ],
      "text/plain": [
       "         target                    \n",
       "           0.05    0.50        0.95\n",
       "182  155.451781  186.42  217.388219\n",
       "397  144.650545  171.99  199.329455\n",
       "419   76.008522  100.36  124.711478\n",
       "301   97.101384  127.52  157.938616\n",
       "233  114.748485  135.85  156.951515"
      ]
     },
     "execution_count": 387,
     "metadata": {},
     "output_type": "execute_result"
    }
   ],
   "source": [
    "y_pred_quantiles = reg_proba.predict_quantiles(X_new, alpha=[0.05, 0.5, 0.95])\n",
    "y_pred_quantiles.head()"
   ]
  },
  {
   "cell_type": "markdown",
   "metadata": {},
   "source": [
    "### 1.1.4 mean and variance predictions"
   ]
  },
  {
   "cell_type": "markdown",
   "metadata": {},
   "source": [
    "mean and variance predictions `y_pred_mean`, `y_pred_var` are `pd.DataFrame`-s:\n",
    "\n",
    "* rows are the same as `X_new`\n",
    "* columns are the same as `X_new`\n",
    "\n",
    "entries are predictive mean and variance in row/column"
   ]
  },
  {
   "cell_type": "code",
   "execution_count": 388,
   "metadata": {},
   "outputs": [],
   "source": [
    "y_pred_mean = reg_proba.predict(X_new)\n",
    "y_pred_var = reg_proba.predict_var(X_new)"
   ]
  },
  {
   "cell_type": "code",
   "execution_count": 389,
   "metadata": {},
   "outputs": [
    {
     "data": {
      "text/html": [
       "<div>\n",
       "<style scoped>\n",
       "    .dataframe tbody tr th:only-of-type {\n",
       "        vertical-align: middle;\n",
       "    }\n",
       "\n",
       "    .dataframe tbody tr th {\n",
       "        vertical-align: top;\n",
       "    }\n",
       "\n",
       "    .dataframe thead th {\n",
       "        text-align: right;\n",
       "    }\n",
       "</style>\n",
       "<table border=\"1\" class=\"dataframe\">\n",
       "  <thead>\n",
       "    <tr style=\"text-align: right;\">\n",
       "      <th></th>\n",
       "      <th>target</th>\n",
       "    </tr>\n",
       "  </thead>\n",
       "  <tbody>\n",
       "    <tr>\n",
       "      <th>182</th>\n",
       "      <td>186.42</td>\n",
       "    </tr>\n",
       "    <tr>\n",
       "      <th>397</th>\n",
       "      <td>171.99</td>\n",
       "    </tr>\n",
       "    <tr>\n",
       "      <th>419</th>\n",
       "      <td>100.36</td>\n",
       "    </tr>\n",
       "    <tr>\n",
       "      <th>301</th>\n",
       "      <td>127.52</td>\n",
       "    </tr>\n",
       "    <tr>\n",
       "      <th>233</th>\n",
       "      <td>135.85</td>\n",
       "    </tr>\n",
       "  </tbody>\n",
       "</table>\n",
       "</div>"
      ],
      "text/plain": [
       "     target\n",
       "182  186.42\n",
       "397  171.99\n",
       "419  100.36\n",
       "301  127.52\n",
       "233  135.85"
      ]
     },
     "execution_count": 389,
     "metadata": {},
     "output_type": "execute_result"
    }
   ],
   "source": [
    "y_pred_mean.head()"
   ]
  },
  {
   "cell_type": "code",
   "execution_count": 390,
   "metadata": {},
   "outputs": [
    {
     "data": {
      "text/html": [
       "<div>\n",
       "<style scoped>\n",
       "    .dataframe tbody tr th:only-of-type {\n",
       "        vertical-align: middle;\n",
       "    }\n",
       "\n",
       "    .dataframe tbody tr th {\n",
       "        vertical-align: top;\n",
       "    }\n",
       "\n",
       "    .dataframe thead th {\n",
       "        text-align: right;\n",
       "    }\n",
       "</style>\n",
       "<table border=\"1\" class=\"dataframe\">\n",
       "  <thead>\n",
       "    <tr style=\"text-align: right;\">\n",
       "      <th></th>\n",
       "      <th>target</th>\n",
       "    </tr>\n",
       "  </thead>\n",
       "  <tbody>\n",
       "    <tr>\n",
       "      <th>182</th>\n",
       "      <td>354.468747</td>\n",
       "    </tr>\n",
       "    <tr>\n",
       "      <th>397</th>\n",
       "      <td>276.264579</td>\n",
       "    </tr>\n",
       "    <tr>\n",
       "      <th>419</th>\n",
       "      <td>219.177588</td>\n",
       "    </tr>\n",
       "    <tr>\n",
       "      <th>301</th>\n",
       "      <td>341.998653</td>\n",
       "    </tr>\n",
       "    <tr>\n",
       "      <th>233</th>\n",
       "      <td>164.578379</td>\n",
       "    </tr>\n",
       "  </tbody>\n",
       "</table>\n",
       "</div>"
      ],
      "text/plain": [
       "         target\n",
       "182  354.468747\n",
       "397  276.264579\n",
       "419  219.177588\n",
       "301  341.998653\n",
       "233  164.578379"
      ]
     },
     "execution_count": 390,
     "metadata": {},
     "output_type": "execute_result"
    }
   ],
   "source": [
    "y_pred_var.head()"
   ]
  },
  {
   "cell_type": "markdown",
   "metadata": {},
   "source": [
    "this is the same as taking the distribution prediction and taking mean/variance\n",
    "\n",
    "(for distribution objects that estimate these precisely)"
   ]
  },
  {
   "cell_type": "code",
   "execution_count": 391,
   "metadata": {},
   "outputs": [
    {
     "data": {
      "text/html": [
       "<div>\n",
       "<style scoped>\n",
       "    .dataframe tbody tr th:only-of-type {\n",
       "        vertical-align: middle;\n",
       "    }\n",
       "\n",
       "    .dataframe tbody tr th {\n",
       "        vertical-align: top;\n",
       "    }\n",
       "\n",
       "    .dataframe thead th {\n",
       "        text-align: right;\n",
       "    }\n",
       "</style>\n",
       "<table border=\"1\" class=\"dataframe\">\n",
       "  <thead>\n",
       "    <tr style=\"text-align: right;\">\n",
       "      <th></th>\n",
       "      <th>target</th>\n",
       "    </tr>\n",
       "  </thead>\n",
       "  <tbody>\n",
       "    <tr>\n",
       "      <th>182</th>\n",
       "      <td>186.42</td>\n",
       "    </tr>\n",
       "    <tr>\n",
       "      <th>397</th>\n",
       "      <td>171.99</td>\n",
       "    </tr>\n",
       "    <tr>\n",
       "      <th>419</th>\n",
       "      <td>100.36</td>\n",
       "    </tr>\n",
       "    <tr>\n",
       "      <th>301</th>\n",
       "      <td>127.52</td>\n",
       "    </tr>\n",
       "    <tr>\n",
       "      <th>233</th>\n",
       "      <td>135.85</td>\n",
       "    </tr>\n",
       "  </tbody>\n",
       "</table>\n",
       "</div>"
      ],
      "text/plain": [
       "     target\n",
       "182  186.42\n",
       "397  171.99\n",
       "419  100.36\n",
       "301  127.52\n",
       "233  135.85"
      ]
     },
     "execution_count": 391,
     "metadata": {},
     "output_type": "execute_result"
    }
   ],
   "source": [
    "y_pred_proba.mean().head()"
   ]
  },
  {
   "cell_type": "code",
   "execution_count": 392,
   "metadata": {},
   "outputs": [
    {
     "data": {
      "text/html": [
       "<div>\n",
       "<style scoped>\n",
       "    .dataframe tbody tr th:only-of-type {\n",
       "        vertical-align: middle;\n",
       "    }\n",
       "\n",
       "    .dataframe tbody tr th {\n",
       "        vertical-align: top;\n",
       "    }\n",
       "\n",
       "    .dataframe thead th {\n",
       "        text-align: right;\n",
       "    }\n",
       "</style>\n",
       "<table border=\"1\" class=\"dataframe\">\n",
       "  <thead>\n",
       "    <tr style=\"text-align: right;\">\n",
       "      <th></th>\n",
       "      <th>target</th>\n",
       "    </tr>\n",
       "  </thead>\n",
       "  <tbody>\n",
       "    <tr>\n",
       "      <th>182</th>\n",
       "      <td>354.468747</td>\n",
       "    </tr>\n",
       "    <tr>\n",
       "      <th>397</th>\n",
       "      <td>276.264579</td>\n",
       "    </tr>\n",
       "    <tr>\n",
       "      <th>419</th>\n",
       "      <td>219.177588</td>\n",
       "    </tr>\n",
       "    <tr>\n",
       "      <th>301</th>\n",
       "      <td>341.998653</td>\n",
       "    </tr>\n",
       "    <tr>\n",
       "      <th>233</th>\n",
       "      <td>164.578379</td>\n",
       "    </tr>\n",
       "  </tbody>\n",
       "</table>\n",
       "</div>"
      ],
      "text/plain": [
       "         target\n",
       "182  354.468747\n",
       "397  276.264579\n",
       "419  219.177588\n",
       "301  341.998653\n",
       "233  164.578379"
      ]
     },
     "execution_count": 392,
     "metadata": {},
     "output_type": "execute_result"
    }
   ],
   "source": [
    "y_pred_proba.var().head()"
   ]
  },
  {
   "attachments": {},
   "cell_type": "markdown",
   "metadata": {},
   "source": [
    "## 1.2 simple evaluation workflow for probabilistic predictions"
   ]
  },
  {
   "cell_type": "markdown",
   "metadata": {},
   "source": [
    "for simple evaluation:\n",
    "\n",
    "1. split the data into train/test set\n",
    "2. make predictions of either type for test features\n",
    "3. compute metric on test set, comparing test predictions to hend out test labels\n",
    "\n",
    "Note:\n",
    "\n",
    "* metrics will compare tabular ground truth to probabilistic prediction\n",
    "* the metric will needs to be of a compatible type, e.g., for proba predictions"
   ]
  },
  {
   "cell_type": "code",
   "execution_count": 393,
   "metadata": {},
   "outputs": [
    {
     "data": {
      "text/plain": [
       "31.190251665542668"
      ]
     },
     "execution_count": 393,
     "metadata": {},
     "output_type": "execute_result"
    }
   ],
   "source": [
    "from sklearn.datasets import load_diabetes\n",
    "from sklearn.ensemble import RandomForestRegressor\n",
    "from sklearn.linear_model import LinearRegression\n",
    "from sklearn.model_selection import train_test_split\n",
    "\n",
    "from skpro.metrics import CRPS\n",
    "from skpro.regression.residual import ResidualDouble\n",
    "\n",
    "# step 1: data specification\n",
    "X, y = load_diabetes(return_X_y=True, as_frame=True)\n",
    "X_train, X_test, y_train, y_test = train_test_split(X, y)\n",
    "\n",
    "# step 2: specifying the regressor\n",
    "# example - linear regression for mean prediction\n",
    "# random forest for variance prediction\n",
    "reg_mean = LinearRegression()\n",
    "reg_resid = RandomForestRegressor()\n",
    "reg_proba = ResidualDouble(reg_mean, reg_resid)\n",
    "\n",
    "# step 3: fitting the model to training data\n",
    "reg_proba.fit(X_train, y_train)\n",
    "\n",
    "# step 4: predicting labels on new data\n",
    "y_pred_proba = reg_proba.predict_proba(X_test)\n",
    "\n",
    "# step 5: specifying evaluation metric\n",
    "metric = CRPS()\n",
    "\n",
    "# step 6: evaluat metric, compare predictions to actuals\n",
    "metric(y_test, y_pred_proba)"
   ]
  },
  {
   "cell_type": "markdown",
   "metadata": {},
   "source": [
    "how do we know that metric is of right type? Via `scitype:y_pred` tag"
   ]
  },
  {
   "cell_type": "code",
   "execution_count": 394,
   "metadata": {},
   "outputs": [
    {
     "data": {
      "text/plain": [
       "{'estimator_type': 'estimator',\n",
       " 'object_type': 'metric',\n",
       " 'reserved_params': ['multioutput', 'score_average'],\n",
       " 'scitype:y_pred': 'pred_proba',\n",
       " 'lower_is_better': True}"
      ]
     },
     "execution_count": 394,
     "metadata": {},
     "output_type": "execute_result"
    }
   ],
   "source": [
    "metric.get_tags()\n",
    "# scitype:y_pred is pred_proba - for proba predictions"
   ]
  },
  {
   "cell_type": "markdown",
   "metadata": {},
   "source": [
    "how do we find metrics for a prediction type?"
   ]
  },
  {
   "cell_type": "code",
   "execution_count": 395,
   "metadata": {},
   "outputs": [
    {
     "data": {
      "text/html": [
       "<div>\n",
       "<style scoped>\n",
       "    .dataframe tbody tr th:only-of-type {\n",
       "        vertical-align: middle;\n",
       "    }\n",
       "\n",
       "    .dataframe tbody tr th {\n",
       "        vertical-align: top;\n",
       "    }\n",
       "\n",
       "    .dataframe thead th {\n",
       "        text-align: right;\n",
       "    }\n",
       "</style>\n",
       "<table border=\"1\" class=\"dataframe\">\n",
       "  <thead>\n",
       "    <tr style=\"text-align: right;\">\n",
       "      <th></th>\n",
       "      <th>name</th>\n",
       "      <th>object</th>\n",
       "      <th>scitype:y_pred</th>\n",
       "    </tr>\n",
       "  </thead>\n",
       "  <tbody>\n",
       "    <tr>\n",
       "      <th>0</th>\n",
       "      <td>CRPS</td>\n",
       "      <td>&lt;class 'skpro.metrics._classes.CRPS'&gt;</td>\n",
       "      <td>pred_proba</td>\n",
       "    </tr>\n",
       "    <tr>\n",
       "      <th>1</th>\n",
       "      <td>ConstraintViolation</td>\n",
       "      <td>&lt;class 'skpro.metrics._classes.ConstraintViola...</td>\n",
       "      <td>pred_interval</td>\n",
       "    </tr>\n",
       "    <tr>\n",
       "      <th>2</th>\n",
       "      <td>EmpiricalCoverage</td>\n",
       "      <td>&lt;class 'skpro.metrics._classes.EmpiricalCovera...</td>\n",
       "      <td>pred_interval</td>\n",
       "    </tr>\n",
       "    <tr>\n",
       "      <th>3</th>\n",
       "      <td>LinearizedLogLoss</td>\n",
       "      <td>&lt;class 'skpro.metrics._classes.LinearizedLogLo...</td>\n",
       "      <td>pred_proba</td>\n",
       "    </tr>\n",
       "    <tr>\n",
       "      <th>4</th>\n",
       "      <td>LogLoss</td>\n",
       "      <td>&lt;class 'skpro.metrics._classes.LogLoss'&gt;</td>\n",
       "      <td>pred_proba</td>\n",
       "    </tr>\n",
       "    <tr>\n",
       "      <th>5</th>\n",
       "      <td>PinballLoss</td>\n",
       "      <td>&lt;class 'skpro.metrics._classes.PinballLoss'&gt;</td>\n",
       "      <td>pred_quantiles</td>\n",
       "    </tr>\n",
       "    <tr>\n",
       "      <th>6</th>\n",
       "      <td>SquaredDistrLoss</td>\n",
       "      <td>&lt;class 'skpro.metrics._classes.SquaredDistrLoss'&gt;</td>\n",
       "      <td>pred_proba</td>\n",
       "    </tr>\n",
       "  </tbody>\n",
       "</table>\n",
       "</div>"
      ],
      "text/plain": [
       "                  name                                             object  \\\n",
       "0                 CRPS              <class 'skpro.metrics._classes.CRPS'>   \n",
       "1  ConstraintViolation  <class 'skpro.metrics._classes.ConstraintViola...   \n",
       "2    EmpiricalCoverage  <class 'skpro.metrics._classes.EmpiricalCovera...   \n",
       "3    LinearizedLogLoss  <class 'skpro.metrics._classes.LinearizedLogLo...   \n",
       "4              LogLoss           <class 'skpro.metrics._classes.LogLoss'>   \n",
       "5          PinballLoss       <class 'skpro.metrics._classes.PinballLoss'>   \n",
       "6     SquaredDistrLoss  <class 'skpro.metrics._classes.SquaredDistrLoss'>   \n",
       "\n",
       "   scitype:y_pred  \n",
       "0      pred_proba  \n",
       "1   pred_interval  \n",
       "2   pred_interval  \n",
       "3      pred_proba  \n",
       "4      pred_proba  \n",
       "5  pred_quantiles  \n",
       "6      pred_proba  "
      ]
     },
     "execution_count": 395,
     "metadata": {},
     "output_type": "execute_result"
    }
   ],
   "source": [
    "from skpro.registry import all_objects\n",
    "\n",
    "all_objects(\"metric\", as_dataframe=True, return_tags=\"scitype:y_pred\")"
   ]
  },
  {
   "cell_type": "markdown",
   "metadata": {},
   "source": [
    "extra note: quantile metrics can be applied to interval predictions as well\n",
    "\n",
    "more details on metrics below"
   ]
  },
  {
   "cell_type": "markdown",
   "metadata": {},
   "source": [
    "## 1.3 diagnostic visualisations"
   ]
  },
  {
   "cell_type": "markdown",
   "metadata": {},
   "source": [
    "some useful diagnostic visualisations: variants of crossplots for probabilistic predictions"
   ]
  },
  {
   "cell_type": "markdown",
   "metadata": {},
   "source": [
    "A. crossplot ground truth vs prediction intervals.\n",
    "\n",
    "Works with both proba and interval predictions.\n",
    "\n",
    "What to look for: intervals shouhld cut through the x = y line (green points)"
   ]
  },
  {
   "cell_type": "code",
   "execution_count": 396,
   "metadata": {},
   "outputs": [
    {
     "data": {
      "text/plain": [
       "<Axes: xlabel='Correct label $y_i$', ylabel='Prediction interval $\\\\widehat{y}_i$'>"
      ]
     },
     "execution_count": 396,
     "metadata": {},
     "output_type": "execute_result"
    },
    {
     "data": {
      "image/png": "[encoded data removed]",
      "text/plain": [
       "<Figure size 640x480 with 1 Axes>"
      ]
     },
     "metadata": {},
     "output_type": "display_data"
    }
   ],
   "source": [
    "from skpro.utils.plotting import plot_crossplot_interval\n",
    "\n",
    "plot_crossplot_interval(y_test, y_pred_proba, coverage=0.9)"
   ]
  },
  {
   "cell_type": "code",
   "execution_count": 397,
   "metadata": {},
   "outputs": [
    {
     "data": {
      "text/plain": [
       "<Axes: xlabel='Correct label $y_i$', ylabel='Prediction interval $\\\\widehat{y}_i$'>"
      ]
     },
     "execution_count": 397,
     "metadata": {},
     "output_type": "execute_result"
    },
    {
     "data": {
      "image/png": "[encoded data removed]",
      "text/plain": [
       "<Figure size 640x480 with 1 Axes>"
      ]
     },
     "metadata": {},
     "output_type": "display_data"
    }
   ],
   "source": [
    "from skpro.utils.plotting import plot_crossplot_interval\n",
    "\n",
    "y_pred_interval = reg_proba.predict_interval(X_test, coverage=0.9)\n",
    "plot_crossplot_interval(y_test, y_pred_interval)"
   ]
  },
  {
   "cell_type": "markdown",
   "metadata": {},
   "source": [
    "B. crossplot residuals vs predictive standard deviation\n",
    "\n",
    "Works with both proba and variance predictions.\n",
    "\n",
    "What to look for: should be close to a line, high linear correlation"
   ]
  },
  {
   "cell_type": "code",
   "execution_count": 398,
   "metadata": {},
   "outputs": [
    {
     "data": {
      "text/plain": [
       "<Axes: xlabel='Absolute errors $|y_i - \\\\widehat{y}_i|$', ylabel='Predictive standard deviation of $\\\\widehat{y}_i$'>"
      ]
     },
     "execution_count": 398,
     "metadata": {},
     "output_type": "execute_result"
    },
    {
     "data": {
      "image/png": "[encoded data removed]",
      "text/plain": [
       "<Figure size 640x480 with 1 Axes>"
      ]
     },
     "metadata": {},
     "output_type": "display_data"
    }
   ],
   "source": [
    "from skpro.utils.plotting import plot_crossplot_std\n",
    "\n",
    "plot_crossplot_std(y_test, y_pred_proba)"
   ]
  },
  {
   "cell_type": "code",
   "execution_count": 399,
   "metadata": {},
   "outputs": [
    {
     "data": {
      "text/plain": [
       "<Axes: xlabel='Absolute errors $|y_i - \\\\widehat{y}_i|$', ylabel='Predictive standard deviation of $\\\\widehat{y}_i$'>"
      ]
     },
     "execution_count": 399,
     "metadata": {},
     "output_type": "execute_result"
    },
    {
     "data": {
      "image/png": "[encoded data removed]",
      "text/plain": [
       "<Figure size 640x480 with 1 Axes>"
      ]
     },
     "metadata": {},
     "output_type": "display_data"
    }
   ],
   "source": [
    "from skpro.utils.plotting import plot_crossplot_std\n",
    "\n",
    "y_pred_var = reg_proba.predict_var(X_test)\n",
    "plot_crossplot_std(y_test, y_pred_var)"
   ]
  },
  {
   "cell_type": "markdown",
   "metadata": {},
   "source": [
    "C. crossplot ground truth vs loss values\n",
    "\n",
    "Loss and prediction type should agree.\n",
    "\n",
    "What to look for: association between accuracy and ground truth value\n",
    "\n",
    "Diagnostic of which values we can predict more accurately,\n",
    "\n",
    "e.g., to inform modelling or identify unusual outliers"
   ]
  },
  {
   "cell_type": "code",
   "execution_count": 400,
   "metadata": {},
   "outputs": [
    {
     "data": {
      "text/plain": [
       "<Axes: title={'center': 'mean CRPS: 31.19 +/- 2.15 sterr of mean'}, xlabel='Correct label $y_i$', ylabel='CRPS($y_i$, $\\\\widehat{y}_i$)'>"
      ]
     },
     "execution_count": 400,
     "metadata": {},
     "output_type": "execute_result"
    },
    {
     "data": {
      "image/png": "[encoded data removed]",
      "text/plain": [
       "<Figure size 640x480 with 1 Axes>"
      ]
     },
     "metadata": {},
     "output_type": "display_data"
    }
   ],
   "source": [
    "from skpro.utils.plotting import plot_crossplot_loss\n",
    "\n",
    "crps_metric = CRPS()\n",
    "plot_crossplot_loss(y_test, y_pred_proba, crps_metric)"
   ]
  },
  {
   "cell_type": "markdown",
   "metadata": {},
   "source": [
    "### 1.4 `skpro` objects - `scikit-base` interface, searching for regressors and metrics"
   ]
  },
  {
   "cell_type": "markdown",
   "metadata": {},
   "source": [
    "### 1.4.1 primer on `skpro` object interface <a class=\"anchor\" id=\"section1_3_1\"></a>"
   ]
  },
  {
   "cell_type": "markdown",
   "metadata": {},
   "source": [
    "metrics and estimators are first-class citizens in `skpro`, with a `scikit-base` compatible interface"
   ]
  },
  {
   "cell_type": "code",
   "execution_count": 401,
   "metadata": {},
   "outputs": [],
   "source": [
    "# example object 1: CRPS metric\n",
    "from skpro.metrics import CRPS\n",
    "\n",
    "crps_metric = CRPS()\n",
    "\n",
    "# example object 2: ResidualDouble regressor\n",
    "from sklearn.ensemble import RandomForestRegressor\n",
    "from sklearn.linear_model import LinearRegression\n",
    "\n",
    "from skpro.regression.residual import ResidualDouble\n",
    "\n",
    "reg_mean = LinearRegression()\n",
    "reg_resid = RandomForestRegressor()\n",
    "reg_proba = ResidualDouble(reg_mean, reg_resid)"
   ]
  },
  {
   "cell_type": "markdown",
   "metadata": {},
   "source": [
    "e.g., all have `get_tags` interface"
   ]
  },
  {
   "cell_type": "code",
   "execution_count": 402,
   "metadata": {},
   "outputs": [
    {
     "data": {
      "text/plain": [
       "{'estimator_type': 'estimator',\n",
       " 'object_type': 'metric',\n",
       " 'reserved_params': ['multioutput', 'score_average'],\n",
       " 'scitype:y_pred': 'pred_proba',\n",
       " 'lower_is_better': True}"
      ]
     },
     "execution_count": 402,
     "metadata": {},
     "output_type": "execute_result"
    }
   ],
   "source": [
    "crps_metric.get_tags()"
   ]
  },
  {
   "cell_type": "code",
   "execution_count": 403,
   "metadata": {},
   "outputs": [
    {
     "data": {
      "text/plain": [
       "{'estimator_type': 'regressor_proba',\n",
       " 'object_type': 'regressor_proba',\n",
       " 'capability:multioutput': False,\n",
       " 'capability:missing': True}"
      ]
     },
     "execution_count": 403,
     "metadata": {},
     "output_type": "execute_result"
    }
   ],
   "source": [
    "reg_proba.get_tags()"
   ]
  },
  {
   "cell_type": "markdown",
   "metadata": {},
   "source": [
    "the tag `object_type` indicates the type of object, e.g., metric or proba regressor"
   ]
  },
  {
   "cell_type": "markdown",
   "metadata": {},
   "source": [
    "all objects also have the `get_params`/`set_params` interface known from `scikit-learn`\n",
    "\n",
    "= reading or setting hyper-parameters\n",
    "\n",
    "`get_params` returns `dict` `{paramname: paramvalue}`; `set_params` writes it"
   ]
  },
  {
   "cell_type": "code",
   "execution_count": 404,
   "metadata": {},
   "outputs": [
    {
     "data": {
      "text/plain": [
       "{'multioutput': 'uniform_average', 'multivariate': False}"
      ]
     },
     "execution_count": 404,
     "metadata": {},
     "output_type": "execute_result"
    }
   ],
   "source": [
    "crps_metric.get_params()"
   ]
  },
  {
   "cell_type": "markdown",
   "metadata": {},
   "source": [
    "composite objects have the nested param interface, keys `componentname__paramname`"
   ]
  },
  {
   "cell_type": "code",
   "execution_count": 405,
   "metadata": {},
   "outputs": [
    {
     "data": {
      "text/html": [
       "<style>#sk-817d3c18-6625-4f8e-9109-a304dc0a46b1 {color: black;background-color: white;}#sk-817d3c18-6625-4f8e-9109-a304dc0a46b1 pre{padding: 0;}#sk-817d3c18-6625-4f8e-9109-a304dc0a46b1 div.sk-toggleable {background-color: white;}#sk-817d3c18-6625-4f8e-9109-a304dc0a46b1 label.sk-toggleable__label {cursor: pointer;display: block;width: 100%;margin-bottom: 0;padding: 0.3em;box-sizing: border-box;text-align: center;}#sk-817d3c18-6625-4f8e-9109-a304dc0a46b1 label.sk-toggleable__label-arrow:before {content: \"▸\";float: left;margin-right: 0.25em;color: #696969;}#sk-817d3c18-6625-4f8e-9109-a304dc0a46b1 label.sk-toggleable__label-arrow:hover:before {color: black;}#sk-817d3c18-6625-4f8e-9109-a304dc0a46b1 div.sk-estimator:hover label.sk-toggleable__label-arrow:before {color: black;}#sk-817d3c18-6625-4f8e-9109-a304dc0a46b1 div.sk-toggleable__content {max-height: 0;max-width: 0;overflow: hidden;text-align: left;background-color: #f0f8ff;}#sk-817d3c18-6625-4f8e-9109-a304dc0a46b1 div.sk-toggleable__content pre {margin: 0.2em;color: black;border-radius: 0.25em;background-color: #f0f8ff;}#sk-817d3c18-6625-4f8e-9109-a304dc0a46b1 input.sk-toggleable__control:checked~div.sk-toggleable__content {max-height: 200px;max-width: 100%;overflow: auto;}#sk-817d3c18-6625-4f8e-9109-a304dc0a46b1 input.sk-toggleable__control:checked~label.sk-toggleable__label-arrow:before {content: \"▾\";}#sk-817d3c18-6625-4f8e-9109-a304dc0a46b1 div.sk-estimator input.sk-toggleable__control:checked~label.sk-toggleable__label {background-color: #d4ebff;}#sk-817d3c18-6625-4f8e-9109-a304dc0a46b1 div.sk-label input.sk-toggleable__control:checked~label.sk-toggleable__label {background-color: #d4ebff;}#sk-817d3c18-6625-4f8e-9109-a304dc0a46b1 input.sk-hidden--visually {border: 0;clip: rect(1px 1px 1px 1px);clip: rect(1px, 1px, 1px, 1px);height: 1px;margin: -1px;overflow: hidden;padding: 0;position: absolute;width: 1px;}#sk-817d3c18-6625-4f8e-9109-a304dc0a46b1 div.sk-estimator {font-family: monospace;background-color: #f0f8ff;border: 1px dotted black;border-radius: 0.25em;box-sizing: border-box;margin-bottom: 0.5em;}#sk-817d3c18-6625-4f8e-9109-a304dc0a46b1 div.sk-estimator:hover {background-color: #d4ebff;}#sk-817d3c18-6625-4f8e-9109-a304dc0a46b1 div.sk-parallel-item::after {content: \"\";width: 100%;border-bottom: 1px solid gray;flex-grow: 1;}#sk-817d3c18-6625-4f8e-9109-a304dc0a46b1 div.sk-label:hover label.sk-toggleable__label {background-color: #d4ebff;}#sk-817d3c18-6625-4f8e-9109-a304dc0a46b1 div.sk-serial::before {content: \"\";position: absolute;border-left: 1px solid gray;box-sizing: border-box;top: 2em;bottom: 0;left: 50%;}#sk-817d3c18-6625-4f8e-9109-a304dc0a46b1 div.sk-serial {display: flex;flex-direction: column;align-items: center;background-color: white;padding-right: 0.2em;padding-left: 0.2em;}#sk-817d3c18-6625-4f8e-9109-a304dc0a46b1 div.sk-item {z-index: 1;}#sk-817d3c18-6625-4f8e-9109-a304dc0a46b1 div.sk-parallel {display: flex;align-items: stretch;justify-content: center;background-color: white;}#sk-817d3c18-6625-4f8e-9109-a304dc0a46b1 div.sk-parallel::before {content: \"\";position: absolute;border-left: 1px solid gray;box-sizing: border-box;top: 2em;bottom: 0;left: 50%;}#sk-817d3c18-6625-4f8e-9109-a304dc0a46b1 div.sk-parallel-item {display: flex;flex-direction: column;position: relative;background-color: white;}#sk-817d3c18-6625-4f8e-9109-a304dc0a46b1 div.sk-parallel-item:first-child::after {align-self: flex-end;width: 50%;}#sk-817d3c18-6625-4f8e-9109-a304dc0a46b1 div.sk-parallel-item:last-child::after {align-self: flex-start;width: 50%;}#sk-817d3c18-6625-4f8e-9109-a304dc0a46b1 div.sk-parallel-item:only-child::after {width: 0;}#sk-817d3c18-6625-4f8e-9109-a304dc0a46b1 div.sk-dashed-wrapped {border: 1px dashed gray;margin: 0 0.4em 0.5em 0.4em;box-sizing: border-box;padding-bottom: 0.4em;background-color: white;position: relative;}#sk-817d3c18-6625-4f8e-9109-a304dc0a46b1 div.sk-label label {font-family: monospace;font-weight: bold;background-color: white;display: inline-block;line-height: 1.2em;}#sk-817d3c18-6625-4f8e-9109-a304dc0a46b1 div.sk-label-container {position: relative;z-index: 2;text-align: center;}#sk-817d3c18-6625-4f8e-9109-a304dc0a46b1 div.sk-container {/* jupyter's `normalize.less` sets `[hidden] { display: none; }` but bootstrap.min.css set `[hidden] { display: none !important; }` so we also need the `!important` here to be able to override the default hidden behavior on the sphinx rendered scikit-learn.org. See: https://github.com/scikit-learn/scikit-learn/issues/21755 */display: inline-block !important;position: relative;}#sk-817d3c18-6625-4f8e-9109-a304dc0a46b1 div.sk-text-repr-fallback {display: none;}</style><div id='sk-817d3c18-6625-4f8e-9109-a304dc0a46b1' class=\"sk-top-container\"><div class=\"sk-text-repr-fallback\"><pre>ResidualDouble(estimator=LinearRegression(),\n",
       "               estimator_resid=RandomForestRegressor())</pre><b>Please rerun this cell to show the HTML repr or trust the notebook.</b></div><div class=\"sk-container\" hidden><div class=\"sk-item sk-dashed-wrapped\"><div class='sk-label-container'><div class=\"sk-label sk-toggleable\"><input class=\"sk-toggleable__control sk-hidden--visually\" id=UUID('eb4083ff-ec8e-4967-88ef-b32d31c31347') type=\"checkbox\" ><label for=UUID('eb4083ff-ec8e-4967-88ef-b32d31c31347') class='sk-toggleable__label sk-toggleable__label-arrow'>ResidualDouble</label><div class=\"sk-toggleable__content\"><pre>ResidualDouble(estimator=LinearRegression(),\n",
       "               estimator_resid=RandomForestRegressor())</pre></div></div></div><div class=\"sk-parallel\"><div class=\"sk-parallel-item\"><div class=\"sk-item\"><div class=\"sk-serial\"><div class='sk-item'><div class=\"sk-estimator sk-toggleable\"><input class=\"sk-toggleable__control sk-hidden--visually\" id=UUID('2702a560-0ca0-4a86-bf1e-431cea25ac90') type=\"checkbox\" ><label for=UUID('2702a560-0ca0-4a86-bf1e-431cea25ac90') class='sk-toggleable__label sk-toggleable__label-arrow'>LinearRegression</label><div class=\"sk-toggleable__content\"><pre>LinearRegression()</pre></div></div></div></div></div></div><div class=\"sk-parallel-item\"><div class=\"sk-item\"><div class=\"sk-serial\"><div class='sk-item'><div class=\"sk-estimator sk-toggleable\"><input class=\"sk-toggleable__control sk-hidden--visually\" id=UUID('95782ec5-57b1-4b98-a4d4-66619f1ddb91') type=\"checkbox\" ><label for=UUID('95782ec5-57b1-4b98-a4d4-66619f1ddb91') class='sk-toggleable__label sk-toggleable__label-arrow'>RandomForestRegressor</label><div class=\"sk-toggleable__content\"><pre>RandomForestRegressor()</pre></div></div></div></div></div></div></div></div></div></div>"
      ],
      "text/plain": [
       "ResidualDouble(estimator=LinearRegression(),\n",
       "               estimator_resid=RandomForestRegressor())"
      ]
     },
     "execution_count": 405,
     "metadata": {},
     "output_type": "execute_result"
    }
   ],
   "source": [
    "# note that reg_proba has components LinearRegression and RandomForestaregressor\n",
    "# each with their own parameters\n",
    "reg_proba"
   ]
  },
  {
   "cell_type": "markdown",
   "metadata": {},
   "source": [
    "so `reg_proba` will have parameters coming from itself and either component:"
   ]
  },
  {
   "cell_type": "code",
   "execution_count": 406,
   "metadata": {},
   "outputs": [
    {
     "data": {
      "text/plain": [
       "{'cv': None,\n",
       " 'distr_loc_scale_name': None,\n",
       " 'distr_params': None,\n",
       " 'distr_type': 'Normal',\n",
       " 'estimator': LinearRegression(),\n",
       " 'estimator_resid': RandomForestRegressor(),\n",
       " 'min_scale': 1e-10,\n",
       " 'residual_trafo': 'absolute',\n",
       " 'use_y_pred': False,\n",
       " 'estimator__copy_X': True,\n",
       " 'estimator__fit_intercept': True,\n",
       " 'estimator__n_jobs': None,\n",
       " 'estimator__normalize': 'deprecated',\n",
       " 'estimator__positive': False,\n",
       " 'estimator_resid__bootstrap': True,\n",
       " 'estimator_resid__ccp_alpha': 0.0,\n",
       " 'estimator_resid__criterion': 'squared_error',\n",
       " 'estimator_resid__max_depth': None,\n",
       " 'estimator_resid__max_features': 1.0,\n",
       " 'estimator_resid__max_leaf_nodes': None,\n",
       " 'estimator_resid__max_samples': None,\n",
       " 'estimator_resid__min_impurity_decrease': 0.0,\n",
       " 'estimator_resid__min_samples_leaf': 1,\n",
       " 'estimator_resid__min_samples_split': 2,\n",
       " 'estimator_resid__min_weight_fraction_leaf': 0.0,\n",
       " 'estimator_resid__n_estimators': 100,\n",
       " 'estimator_resid__n_jobs': None,\n",
       " 'estimator_resid__oob_score': False,\n",
       " 'estimator_resid__random_state': None,\n",
       " 'estimator_resid__verbose': 0,\n",
       " 'estimator_resid__warm_start': False}"
      ]
     },
     "execution_count": 406,
     "metadata": {},
     "output_type": "execute_result"
    }
   ],
   "source": [
    "reg_proba.get_params()"
   ]
  },
  {
   "cell_type": "markdown",
   "metadata": {},
   "source": [
    "further common interface points are `get_config`, `set_config`, and `get_fitted_params` (only fittable estimators)"
   ]
  },
  {
   "cell_type": "markdown",
   "metadata": {},
   "source": [
    "### 1.4.2 searching for regressors and metrics <a class=\"anchor\" id=\"section1_3_2\"></a>"
   ]
  },
  {
   "cell_type": "markdown",
   "metadata": {},
   "source": [
    "as first-class citizens, all objects in `skpro` are indexed via the `registry` utility `all_objects`.\n",
    "\n",
    "To find probabilistic supervised regressors, use `all_objects` with the type `regressor_proba`:"
   ]
  },
  {
   "cell_type": "code",
   "execution_count": 407,
   "metadata": {},
   "outputs": [
    {
     "data": {
      "text/html": [
       "<div>\n",
       "<style scoped>\n",
       "    .dataframe tbody tr th:only-of-type {\n",
       "        vertical-align: middle;\n",
       "    }\n",
       "\n",
       "    .dataframe tbody tr th {\n",
       "        vertical-align: top;\n",
       "    }\n",
       "\n",
       "    .dataframe thead th {\n",
       "        text-align: right;\n",
       "    }\n",
       "</style>\n",
       "<table border=\"1\" class=\"dataframe\">\n",
       "  <thead>\n",
       "    <tr style=\"text-align: right;\">\n",
       "      <th></th>\n",
       "      <th>name</th>\n",
       "      <th>object</th>\n",
       "    </tr>\n",
       "  </thead>\n",
       "  <tbody>\n",
       "    <tr>\n",
       "      <th>0</th>\n",
       "      <td>BaggingRegressor</td>\n",
       "      <td>&lt;class 'skpro.regression.ensemble.BaggingRegre...</td>\n",
       "    </tr>\n",
       "    <tr>\n",
       "      <th>1</th>\n",
       "      <td>BootstrapRegressor</td>\n",
       "      <td>&lt;class 'skpro.regression.bootstrap.BootstrapRe...</td>\n",
       "    </tr>\n",
       "    <tr>\n",
       "      <th>2</th>\n",
       "      <td>GridSearchCV</td>\n",
       "      <td>&lt;class 'skpro.model_selection._tuning.GridSear...</td>\n",
       "    </tr>\n",
       "    <tr>\n",
       "      <th>3</th>\n",
       "      <td>Pipeline</td>\n",
       "      <td>&lt;class 'skpro.regression.compose._pipeline.Pip...</td>\n",
       "    </tr>\n",
       "    <tr>\n",
       "      <th>4</th>\n",
       "      <td>RandomizedSearchCV</td>\n",
       "      <td>&lt;class 'skpro.model_selection._tuning.Randomiz...</td>\n",
       "    </tr>\n",
       "  </tbody>\n",
       "</table>\n",
       "</div>"
      ],
      "text/plain": [
       "                 name                                             object\n",
       "0    BaggingRegressor  <class 'skpro.regression.ensemble.BaggingRegre...\n",
       "1  BootstrapRegressor  <class 'skpro.regression.bootstrap.BootstrapRe...\n",
       "2        GridSearchCV  <class 'skpro.model_selection._tuning.GridSear...\n",
       "3            Pipeline  <class 'skpro.regression.compose._pipeline.Pip...\n",
       "4  RandomizedSearchCV  <class 'skpro.model_selection._tuning.Randomiz..."
      ]
     },
     "execution_count": 407,
     "metadata": {},
     "output_type": "execute_result"
    }
   ],
   "source": [
    "from skpro.registry import all_objects\n",
    "\n",
    "all_objects(\"regressor_proba\", as_dataframe=True).head()"
   ]
  },
  {
   "cell_type": "markdown",
   "metadata": {},
   "source": [
    "a full list can also be found in the online API reference."
   ]
  },
  {
   "cell_type": "markdown",
   "metadata": {},
   "source": [
    "for metrics, as seen above:"
   ]
  },
  {
   "cell_type": "code",
   "execution_count": 408,
   "metadata": {},
   "outputs": [
    {
     "data": {
      "text/html": [
       "<div>\n",
       "<style scoped>\n",
       "    .dataframe tbody tr th:only-of-type {\n",
       "        vertical-align: middle;\n",
       "    }\n",
       "\n",
       "    .dataframe tbody tr th {\n",
       "        vertical-align: top;\n",
       "    }\n",
       "\n",
       "    .dataframe thead th {\n",
       "        text-align: right;\n",
       "    }\n",
       "</style>\n",
       "<table border=\"1\" class=\"dataframe\">\n",
       "  <thead>\n",
       "    <tr style=\"text-align: right;\">\n",
       "      <th></th>\n",
       "      <th>name</th>\n",
       "      <th>object</th>\n",
       "      <th>scitype:y_pred</th>\n",
       "    </tr>\n",
       "  </thead>\n",
       "  <tbody>\n",
       "    <tr>\n",
       "      <th>0</th>\n",
       "      <td>CRPS</td>\n",
       "      <td>&lt;class 'skpro.metrics._classes.CRPS'&gt;</td>\n",
       "      <td>pred_proba</td>\n",
       "    </tr>\n",
       "    <tr>\n",
       "      <th>1</th>\n",
       "      <td>ConstraintViolation</td>\n",
       "      <td>&lt;class 'skpro.metrics._classes.ConstraintViola...</td>\n",
       "      <td>pred_interval</td>\n",
       "    </tr>\n",
       "    <tr>\n",
       "      <th>2</th>\n",
       "      <td>EmpiricalCoverage</td>\n",
       "      <td>&lt;class 'skpro.metrics._classes.EmpiricalCovera...</td>\n",
       "      <td>pred_interval</td>\n",
       "    </tr>\n",
       "    <tr>\n",
       "      <th>3</th>\n",
       "      <td>LinearizedLogLoss</td>\n",
       "      <td>&lt;class 'skpro.metrics._classes.LinearizedLogLo...</td>\n",
       "      <td>pred_proba</td>\n",
       "    </tr>\n",
       "    <tr>\n",
       "      <th>4</th>\n",
       "      <td>LogLoss</td>\n",
       "      <td>&lt;class 'skpro.metrics._classes.LogLoss'&gt;</td>\n",
       "      <td>pred_proba</td>\n",
       "    </tr>\n",
       "    <tr>\n",
       "      <th>5</th>\n",
       "      <td>PinballLoss</td>\n",
       "      <td>&lt;class 'skpro.metrics._classes.PinballLoss'&gt;</td>\n",
       "      <td>pred_quantiles</td>\n",
       "    </tr>\n",
       "    <tr>\n",
       "      <th>6</th>\n",
       "      <td>SquaredDistrLoss</td>\n",
       "      <td>&lt;class 'skpro.metrics._classes.SquaredDistrLoss'&gt;</td>\n",
       "      <td>pred_proba</td>\n",
       "    </tr>\n",
       "  </tbody>\n",
       "</table>\n",
       "</div>"
      ],
      "text/plain": [
       "                  name                                             object  \\\n",
       "0                 CRPS              <class 'skpro.metrics._classes.CRPS'>   \n",
       "1  ConstraintViolation  <class 'skpro.metrics._classes.ConstraintViola...   \n",
       "2    EmpiricalCoverage  <class 'skpro.metrics._classes.EmpiricalCovera...   \n",
       "3    LinearizedLogLoss  <class 'skpro.metrics._classes.LinearizedLogLo...   \n",
       "4              LogLoss           <class 'skpro.metrics._classes.LogLoss'>   \n",
       "5          PinballLoss       <class 'skpro.metrics._classes.PinballLoss'>   \n",
       "6     SquaredDistrLoss  <class 'skpro.metrics._classes.SquaredDistrLoss'>   \n",
       "\n",
       "   scitype:y_pred  \n",
       "0      pred_proba  \n",
       "1   pred_interval  \n",
       "2   pred_interval  \n",
       "3      pred_proba  \n",
       "4      pred_proba  \n",
       "5  pred_quantiles  \n",
       "6      pred_proba  "
      ]
     },
     "execution_count": 408,
     "metadata": {},
     "output_type": "execute_result"
    }
   ],
   "source": [
    "from skpro.registry import all_objects\n",
    "\n",
    "all_objects(\"metric\", as_dataframe=True, return_tags=\"scitype:y_pred\")"
   ]
  },
  {
   "cell_type": "markdown",
   "metadata": {},
   "source": [
    "all tags can be printed by the `all_tags` utility:"
   ]
  },
  {
   "cell_type": "code",
   "execution_count": 409,
   "metadata": {},
   "outputs": [
    {
     "data": {
      "text/html": [
       "<div>\n",
       "<style scoped>\n",
       "    .dataframe tbody tr th:only-of-type {\n",
       "        vertical-align: middle;\n",
       "    }\n",
       "\n",
       "    .dataframe tbody tr th {\n",
       "        vertical-align: top;\n",
       "    }\n",
       "\n",
       "    .dataframe thead th {\n",
       "        text-align: right;\n",
       "    }\n",
       "</style>\n",
       "<table border=\"1\" class=\"dataframe\">\n",
       "  <thead>\n",
       "    <tr style=\"text-align: right;\">\n",
       "      <th></th>\n",
       "      <th>name</th>\n",
       "      <th>scitype</th>\n",
       "      <th>type</th>\n",
       "      <th>description</th>\n",
       "    </tr>\n",
       "  </thead>\n",
       "  <tbody>\n",
       "    <tr>\n",
       "      <th>0</th>\n",
       "      <td>lower_is_better</td>\n",
       "      <td>metric</td>\n",
       "      <td>bool</td>\n",
       "      <td>whether lower (True) or higher (False) is better</td>\n",
       "    </tr>\n",
       "    <tr>\n",
       "      <th>1</th>\n",
       "      <td>scitype:y_pred</td>\n",
       "      <td>metric</td>\n",
       "      <td>str</td>\n",
       "      <td>expected input type for y_pred in performance ...</td>\n",
       "    </tr>\n",
       "  </tbody>\n",
       "</table>\n",
       "</div>"
      ],
      "text/plain": [
       "              name scitype  type  \\\n",
       "0  lower_is_better  metric  bool   \n",
       "1   scitype:y_pred  metric   str   \n",
       "\n",
       "                                         description  \n",
       "0   whether lower (True) or higher (False) is better  \n",
       "1  expected input type for y_pred in performance ...  "
      ]
     },
     "execution_count": 409,
     "metadata": {},
     "output_type": "execute_result"
    }
   ],
   "source": [
    "# all tags applicable to metrics\n",
    "from skpro.registry import all_tags\n",
    "\n",
    "all_tags(\"metric\", as_dataframe=True)"
   ]
  },
  {
   "cell_type": "code",
   "execution_count": 410,
   "metadata": {},
   "outputs": [
    {
     "data": {
      "text/html": [
       "<div>\n",
       "<style scoped>\n",
       "    .dataframe tbody tr th:only-of-type {\n",
       "        vertical-align: middle;\n",
       "    }\n",
       "\n",
       "    .dataframe tbody tr th {\n",
       "        vertical-align: top;\n",
       "    }\n",
       "\n",
       "    .dataframe thead th {\n",
       "        text-align: right;\n",
       "    }\n",
       "</style>\n",
       "<table border=\"1\" class=\"dataframe\">\n",
       "  <thead>\n",
       "    <tr style=\"text-align: right;\">\n",
       "      <th></th>\n",
       "      <th>name</th>\n",
       "      <th>scitype</th>\n",
       "      <th>type</th>\n",
       "      <th>description</th>\n",
       "    </tr>\n",
       "  </thead>\n",
       "  <tbody>\n",
       "    <tr>\n",
       "      <th>0</th>\n",
       "      <td>capability:missing</td>\n",
       "      <td>regressor_proba</td>\n",
       "      <td>bool</td>\n",
       "      <td>whether estimator supports missing values</td>\n",
       "    </tr>\n",
       "    <tr>\n",
       "      <th>1</th>\n",
       "      <td>capability:multioutput</td>\n",
       "      <td>regressor_proba</td>\n",
       "      <td>bool</td>\n",
       "      <td>whether estimator supports multioutput regression</td>\n",
       "    </tr>\n",
       "  </tbody>\n",
       "</table>\n",
       "</div>"
      ],
      "text/plain": [
       "                     name          scitype  type  \\\n",
       "0      capability:missing  regressor_proba  bool   \n",
       "1  capability:multioutput  regressor_proba  bool   \n",
       "\n",
       "                                         description  \n",
       "0          whether estimator supports missing values  \n",
       "1  whether estimator supports multioutput regression  "
      ]
     },
     "execution_count": 410,
     "metadata": {},
     "output_type": "execute_result"
    }
   ],
   "source": [
    "# all tags applicable to probabilistic regressors\n",
    "from skpro.registry import all_tags\n",
    "\n",
    "all_tags(\"regressor_proba\", as_dataframe=True)"
   ]
  },
  {
   "cell_type": "markdown",
   "metadata": {},
   "source": [
    "filtering in search can be done with the `filter_tags` argument in `all_objects`, see docstring:"
   ]
  },
  {
   "cell_type": "code",
   "execution_count": 411,
   "metadata": {},
   "outputs": [
    {
     "data": {
      "text/html": [
       "<div>\n",
       "<style scoped>\n",
       "    .dataframe tbody tr th:only-of-type {\n",
       "        vertical-align: middle;\n",
       "    }\n",
       "\n",
       "    .dataframe tbody tr th {\n",
       "        vertical-align: top;\n",
       "    }\n",
       "\n",
       "    .dataframe thead th {\n",
       "        text-align: right;\n",
       "    }\n",
       "</style>\n",
       "<table border=\"1\" class=\"dataframe\">\n",
       "  <thead>\n",
       "    <tr style=\"text-align: right;\">\n",
       "      <th></th>\n",
       "      <th>name</th>\n",
       "      <th>object</th>\n",
       "    </tr>\n",
       "  </thead>\n",
       "  <tbody>\n",
       "    <tr>\n",
       "      <th>0</th>\n",
       "      <td>CRPS</td>\n",
       "      <td>&lt;class 'skpro.metrics._classes.CRPS'&gt;</td>\n",
       "    </tr>\n",
       "    <tr>\n",
       "      <th>1</th>\n",
       "      <td>LinearizedLogLoss</td>\n",
       "      <td>&lt;class 'skpro.metrics._classes.LinearizedLogLo...</td>\n",
       "    </tr>\n",
       "    <tr>\n",
       "      <th>2</th>\n",
       "      <td>LogLoss</td>\n",
       "      <td>&lt;class 'skpro.metrics._classes.LogLoss'&gt;</td>\n",
       "    </tr>\n",
       "    <tr>\n",
       "      <th>3</th>\n",
       "      <td>SquaredDistrLoss</td>\n",
       "      <td>&lt;class 'skpro.metrics._classes.SquaredDistrLoss'&gt;</td>\n",
       "    </tr>\n",
       "  </tbody>\n",
       "</table>\n",
       "</div>"
      ],
      "text/plain": [
       "                name                                             object\n",
       "0               CRPS              <class 'skpro.metrics._classes.CRPS'>\n",
       "1  LinearizedLogLoss  <class 'skpro.metrics._classes.LinearizedLogLo...\n",
       "2            LogLoss           <class 'skpro.metrics._classes.LogLoss'>\n",
       "3   SquaredDistrLoss  <class 'skpro.metrics._classes.SquaredDistrLoss'>"
      ]
     },
     "execution_count": 411,
     "metadata": {},
     "output_type": "execute_result"
    }
   ],
   "source": [
    "from skpro.registry import all_objects\n",
    "\n",
    "# \"retrieve all genuinely probabilistic loss functions\"\n",
    "all_objects(\"metric\", as_dataframe=True, filter_tags={\"scitype:y_pred\": \"pred_proba\"})"
   ]
  },
  {
   "cell_type": "markdown",
   "metadata": {},
   "source": [
    "## 2. Prediction types, metrics, benchmarking <a class=\"anchor\" id=\"chapter2\"></a>"
   ]
  },
  {
   "cell_type": "markdown",
   "metadata": {},
   "source": [
    "This section gives more details on:\n",
    "\n",
    "* different prediction types, including a methodological primer\n",
    "* the API of metrics to compare probabilistic predictions to non-probabilistic actuals\n",
    "* utilities for batch benchmarking of estimators and metrics"
   ]
  },
  {
   "cell_type": "markdown",
   "metadata": {},
   "source": [
    "### 2.1 Probabilistic predictions - methodological primer <a class=\"anchor\" id=\"section2_1\"></a>"
   ]
  },
  {
   "cell_type": "markdown",
   "metadata": {},
   "source": [
    "**readers familir with, or less interested in theory, may like to skip section 2.1**"
   ]
  },
  {
   "cell_type": "markdown",
   "metadata": {},
   "source": [
    "In supervised learning - probabilistic or not:\n",
    "\n",
    "* we fit estimator to i.i.d samples $(X_1, Y_1), \\dots, (X_N, Y_N) \\sim (X_*, Y_*)$\n",
    "* and want to predict $y$ given $x$ accurately, for $(x, y) \\sim (X_*, Y_*)$"
   ]
  },
  {
   "cell_type": "markdown",
   "metadata": {},
   "source": [
    "Let $y$ be the (true) value, for an observed feature $x$\n",
    "\n",
    "(we consider $y$ a random variable)\n",
    "\n",
    "| Name | param | prediction/estimate of | `skpro` |\n",
    "| ---- | ----- | ---------------------- | -------- |\n",
    "| point prediction | | conditional expectation $\\mathbb{E}[y\\|x]$ | `predict` |\n",
    "| variance prediction | | conditional variance $Var[y\\|x]$ | `predict_var` |\n",
    "| quantile prediction | $\\alpha\\in (0,1)$ | $\\alpha$-quantile of $y\\|x$ | `predict_quantiles` |\n",
    "| interval prediction | $c\\in (0,1)$| $[a,b]$ s.t. $P(a\\le y \\le b\\| x) = c$ | `predict_interval` |\n",
    "| distribution prediction | | the law/distribution of $y\\|x$ | `predict_proba` |"
   ]
  },
  {
   "cell_type": "markdown",
   "metadata": {},
   "source": [
    "##### More formal details & intuition:"
   ]
  },
  {
   "cell_type": "markdown",
   "metadata": {},
   "source": [
    "let's consider the toy example again"
   ]
  },
  {
   "cell_type": "code",
   "execution_count": 412,
   "metadata": {},
   "outputs": [],
   "source": [
    "from sklearn.datasets import load_diabetes\n",
    "from sklearn.model_selection import train_test_split\n",
    "\n",
    "X, y = load_diabetes(return_X_y=True, as_frame=True)\n",
    "X_train, X_new, y_train, _ = train_test_split(X, y)"
   ]
  },
  {
   "cell_type": "code",
   "execution_count": 413,
   "metadata": {},
   "outputs": [],
   "source": [
    "from sklearn.datasets import load_diabetes\n",
    "from sklearn.ensemble import RandomForestRegressor\n",
    "from sklearn.model_selection import train_test_split\n",
    "\n",
    "from skpro.regression.residual import ResidualDouble\n",
    "\n",
    "X, y = load_diabetes(return_X_y=True, as_frame=True)\n",
    "X_train, X_new, y_train, _ = train_test_split(X, y)\n",
    "\n",
    "\n",
    "reg_mean = RandomForestRegressor()\n",
    "reg_proba = ResidualDouble(reg_mean)\n",
    "\n",
    "reg_proba.fit(X_train, y_train)\n",
    "y_pred_proba = reg_proba.predict_proba(X_new)"
   ]
  },
  {
   "cell_type": "markdown",
   "metadata": {},
   "source": [
    "* a **\"point prediction\"** is a prediction/estimate of the conditional expectation $\\mathbb{E}[y|x]$.\\\n",
    " **Intuition**: \"out of many repetitions/worlds, this value is the arithmetic average of all observations\"."
   ]
  },
  {
   "cell_type": "code",
   "execution_count": 414,
   "metadata": {},
   "outputs": [
    {
     "data": {
      "text/html": [
       "<div>\n",
       "<style scoped>\n",
       "    .dataframe tbody tr th:only-of-type {\n",
       "        vertical-align: middle;\n",
       "    }\n",
       "\n",
       "    .dataframe tbody tr th {\n",
       "        vertical-align: top;\n",
       "    }\n",
       "\n",
       "    .dataframe thead th {\n",
       "        text-align: right;\n",
       "    }\n",
       "</style>\n",
       "<table border=\"1\" class=\"dataframe\">\n",
       "  <thead>\n",
       "    <tr style=\"text-align: right;\">\n",
       "      <th></th>\n",
       "      <th>target</th>\n",
       "    </tr>\n",
       "  </thead>\n",
       "  <tbody>\n",
       "    <tr>\n",
       "      <th>133</th>\n",
       "      <td>91.905342</td>\n",
       "    </tr>\n",
       "    <tr>\n",
       "      <th>57</th>\n",
       "      <td>67.205027</td>\n",
       "    </tr>\n",
       "    <tr>\n",
       "      <th>91</th>\n",
       "      <td>122.279554</td>\n",
       "    </tr>\n",
       "    <tr>\n",
       "      <th>375</th>\n",
       "      <td>184.718412</td>\n",
       "    </tr>\n",
       "    <tr>\n",
       "      <th>7</th>\n",
       "      <td>146.999302</td>\n",
       "    </tr>\n",
       "  </tbody>\n",
       "</table>\n",
       "</div>"
      ],
      "text/plain": [
       "         target\n",
       "133   91.905342\n",
       "57    67.205027\n",
       "91   122.279554\n",
       "375  184.718412\n",
       "7    146.999302"
      ]
     },
     "execution_count": 414,
     "metadata": {},
     "output_type": "execute_result"
    }
   ],
   "source": [
    "# if y_pred_proba were *true*, here's how many repetitions would look like:\n",
    "\n",
    "# repeating this line is \"one repetition\"\n",
    "y_pred_proba.sample().head()"
   ]
  },
  {
   "cell_type": "code",
   "execution_count": 415,
   "metadata": {},
   "outputs": [
    {
     "data": {
      "text/html": [
       "<div>\n",
       "<style scoped>\n",
       "    .dataframe tbody tr th:only-of-type {\n",
       "        vertical-align: middle;\n",
       "    }\n",
       "\n",
       "    .dataframe tbody tr th {\n",
       "        vertical-align: top;\n",
       "    }\n",
       "\n",
       "    .dataframe thead th {\n",
       "        text-align: right;\n",
       "    }\n",
       "</style>\n",
       "<table border=\"1\" class=\"dataframe\">\n",
       "  <thead>\n",
       "    <tr style=\"text-align: right;\">\n",
       "      <th></th>\n",
       "      <th></th>\n",
       "      <th>target</th>\n",
       "    </tr>\n",
       "  </thead>\n",
       "  <tbody>\n",
       "    <tr>\n",
       "      <th rowspan=\"5\" valign=\"top\">0</th>\n",
       "      <th>133</th>\n",
       "      <td>54.688044</td>\n",
       "    </tr>\n",
       "    <tr>\n",
       "      <th>57</th>\n",
       "      <td>67.210662</td>\n",
       "    </tr>\n",
       "    <tr>\n",
       "      <th>91</th>\n",
       "      <td>167.655307</td>\n",
       "    </tr>\n",
       "    <tr>\n",
       "      <th>375</th>\n",
       "      <td>202.846328</td>\n",
       "    </tr>\n",
       "    <tr>\n",
       "      <th>7</th>\n",
       "      <td>146.545102</td>\n",
       "    </tr>\n",
       "    <tr>\n",
       "      <th>...</th>\n",
       "      <th>...</th>\n",
       "      <td>...</td>\n",
       "    </tr>\n",
       "    <tr>\n",
       "      <th rowspan=\"5\" valign=\"top\">99</th>\n",
       "      <th>125</th>\n",
       "      <td>183.307056</td>\n",
       "    </tr>\n",
       "    <tr>\n",
       "      <th>30</th>\n",
       "      <td>147.197937</td>\n",
       "    </tr>\n",
       "    <tr>\n",
       "      <th>337</th>\n",
       "      <td>158.254164</td>\n",
       "    </tr>\n",
       "    <tr>\n",
       "      <th>182</th>\n",
       "      <td>163.295969</td>\n",
       "    </tr>\n",
       "    <tr>\n",
       "      <th>425</th>\n",
       "      <td>130.016437</td>\n",
       "    </tr>\n",
       "  </tbody>\n",
       "</table>\n",
       "<p>11100 rows × 1 columns</p>\n",
       "</div>"
      ],
      "text/plain": [
       "            target\n",
       "0  133   54.688044\n",
       "   57    67.210662\n",
       "   91   167.655307\n",
       "   375  202.846328\n",
       "   7    146.545102\n",
       "...            ...\n",
       "99 125  183.307056\n",
       "   30   147.197937\n",
       "   337  158.254164\n",
       "   182  163.295969\n",
       "   425  130.016437\n",
       "\n",
       "[11100 rows x 1 columns]"
      ]
     },
     "execution_count": 415,
     "metadata": {},
     "output_type": "execute_result"
    }
   ],
   "source": [
    "many_samples = y_pred_proba.sample(100)\n",
    "many_samples"
   ]
  },
  {
   "cell_type": "code",
   "execution_count": 416,
   "metadata": {},
   "outputs": [
    {
     "data": {
      "text/html": [
       "<div>\n",
       "<style scoped>\n",
       "    .dataframe tbody tr th:only-of-type {\n",
       "        vertical-align: middle;\n",
       "    }\n",
       "\n",
       "    .dataframe tbody tr th {\n",
       "        vertical-align: top;\n",
       "    }\n",
       "\n",
       "    .dataframe thead th {\n",
       "        text-align: right;\n",
       "    }\n",
       "</style>\n",
       "<table border=\"1\" class=\"dataframe\">\n",
       "  <thead>\n",
       "    <tr style=\"text-align: right;\">\n",
       "      <th></th>\n",
       "      <th>target</th>\n",
       "    </tr>\n",
       "  </thead>\n",
       "  <tbody>\n",
       "    <tr>\n",
       "      <th>133</th>\n",
       "      <td>71.103828</td>\n",
       "    </tr>\n",
       "    <tr>\n",
       "      <th>57</th>\n",
       "      <td>87.345658</td>\n",
       "    </tr>\n",
       "    <tr>\n",
       "      <th>91</th>\n",
       "      <td>142.814052</td>\n",
       "    </tr>\n",
       "    <tr>\n",
       "      <th>375</th>\n",
       "      <td>216.133121</td>\n",
       "    </tr>\n",
       "    <tr>\n",
       "      <th>7</th>\n",
       "      <td>154.786068</td>\n",
       "    </tr>\n",
       "  </tbody>\n",
       "</table>\n",
       "</div>"
      ],
      "text/plain": [
       "         target\n",
       "133   71.103828\n",
       "57    87.345658\n",
       "91   142.814052\n",
       "375  216.133121\n",
       "7    154.786068"
      ]
     },
     "execution_count": 416,
     "metadata": {},
     "output_type": "execute_result"
    }
   ],
   "source": [
    "# \"doing many times and taking the mean\" -> usual point prediction\n",
    "mean_prediction = many_samples.groupby(level=1, sort=False).mean()\n",
    "mean_prediction.head()"
   ]
  },
  {
   "cell_type": "code",
   "execution_count": 417,
   "metadata": {},
   "outputs": [
    {
     "data": {
      "text/html": [
       "<div>\n",
       "<style scoped>\n",
       "    .dataframe tbody tr th:only-of-type {\n",
       "        vertical-align: middle;\n",
       "    }\n",
       "\n",
       "    .dataframe tbody tr th {\n",
       "        vertical-align: top;\n",
       "    }\n",
       "\n",
       "    .dataframe thead th {\n",
       "        text-align: right;\n",
       "    }\n",
       "</style>\n",
       "<table border=\"1\" class=\"dataframe\">\n",
       "  <thead>\n",
       "    <tr style=\"text-align: right;\">\n",
       "      <th></th>\n",
       "      <th>target</th>\n",
       "    </tr>\n",
       "  </thead>\n",
       "  <tbody>\n",
       "    <tr>\n",
       "      <th>133</th>\n",
       "      <td>74.56</td>\n",
       "    </tr>\n",
       "    <tr>\n",
       "      <th>57</th>\n",
       "      <td>88.22</td>\n",
       "    </tr>\n",
       "    <tr>\n",
       "      <th>91</th>\n",
       "      <td>143.17</td>\n",
       "    </tr>\n",
       "    <tr>\n",
       "      <th>375</th>\n",
       "      <td>215.51</td>\n",
       "    </tr>\n",
       "    <tr>\n",
       "      <th>7</th>\n",
       "      <td>151.77</td>\n",
       "    </tr>\n",
       "  </tbody>\n",
       "</table>\n",
       "</div>"
      ],
      "text/plain": [
       "     target\n",
       "133   74.56\n",
       "57    88.22\n",
       "91   143.17\n",
       "375  215.51\n",
       "7    151.77"
      ]
     },
     "execution_count": 417,
     "metadata": {},
     "output_type": "execute_result"
    }
   ],
   "source": [
    "# if we would do this infinity times instead of 100:\n",
    "y_pred_proba.mean().head()"
   ]
  },
  {
   "cell_type": "markdown",
   "metadata": {},
   "source": [
    "* a **\"variance prediction\"** is a prediction/estimate of the conditional expectation $Var[y|x]$.\\\n",
    " **Intuition:** \"out of many repetitions/worlds, this value is the average squared distance of the observation to the perfect point prediction\".\n"
   ]
  },
  {
   "cell_type": "code",
   "execution_count": 418,
   "metadata": {},
   "outputs": [
    {
     "data": {
      "text/html": [
       "<div>\n",
       "<style scoped>\n",
       "    .dataframe tbody tr th:only-of-type {\n",
       "        vertical-align: middle;\n",
       "    }\n",
       "\n",
       "    .dataframe tbody tr th {\n",
       "        vertical-align: top;\n",
       "    }\n",
       "\n",
       "    .dataframe thead th {\n",
       "        text-align: right;\n",
       "    }\n",
       "</style>\n",
       "<table border=\"1\" class=\"dataframe\">\n",
       "  <thead>\n",
       "    <tr style=\"text-align: right;\">\n",
       "      <th></th>\n",
       "      <th>target</th>\n",
       "    </tr>\n",
       "  </thead>\n",
       "  <tbody>\n",
       "    <tr>\n",
       "      <th>133</th>\n",
       "      <td>331.861674</td>\n",
       "    </tr>\n",
       "    <tr>\n",
       "      <th>57</th>\n",
       "      <td>412.834852</td>\n",
       "    </tr>\n",
       "    <tr>\n",
       "      <th>91</th>\n",
       "      <td>315.535302</td>\n",
       "    </tr>\n",
       "    <tr>\n",
       "      <th>375</th>\n",
       "      <td>318.911284</td>\n",
       "    </tr>\n",
       "    <tr>\n",
       "      <th>7</th>\n",
       "      <td>382.310802</td>\n",
       "    </tr>\n",
       "  </tbody>\n",
       "</table>\n",
       "</div>"
      ],
      "text/plain": [
       "         target\n",
       "133  331.861674\n",
       "57   412.834852\n",
       "91   315.535302\n",
       "375  318.911284\n",
       "7    382.310802"
      ]
     },
     "execution_count": 418,
     "metadata": {},
     "output_type": "execute_result"
    }
   ],
   "source": [
    "# same as above - take many samples, and then compute element-wise statistics\n",
    "var_prediction = many_samples.groupby(level=1, sort=False).var()\n",
    "var_prediction.head()"
   ]
  },
  {
   "cell_type": "code",
   "execution_count": 419,
   "metadata": {},
   "outputs": [
    {
     "data": {
      "text/html": [
       "<div>\n",
       "<style scoped>\n",
       "    .dataframe tbody tr th:only-of-type {\n",
       "        vertical-align: middle;\n",
       "    }\n",
       "\n",
       "    .dataframe tbody tr th {\n",
       "        vertical-align: top;\n",
       "    }\n",
       "\n",
       "    .dataframe thead th {\n",
       "        text-align: right;\n",
       "    }\n",
       "</style>\n",
       "<table border=\"1\" class=\"dataframe\">\n",
       "  <thead>\n",
       "    <tr style=\"text-align: right;\">\n",
       "      <th></th>\n",
       "      <th>target</th>\n",
       "    </tr>\n",
       "  </thead>\n",
       "  <tbody>\n",
       "    <tr>\n",
       "      <th>133</th>\n",
       "      <td>333.999366</td>\n",
       "    </tr>\n",
       "    <tr>\n",
       "      <th>57</th>\n",
       "      <td>333.999366</td>\n",
       "    </tr>\n",
       "    <tr>\n",
       "      <th>91</th>\n",
       "      <td>333.999366</td>\n",
       "    </tr>\n",
       "    <tr>\n",
       "      <th>375</th>\n",
       "      <td>333.999366</td>\n",
       "    </tr>\n",
       "    <tr>\n",
       "      <th>7</th>\n",
       "      <td>333.999366</td>\n",
       "    </tr>\n",
       "  </tbody>\n",
       "</table>\n",
       "</div>"
      ],
      "text/plain": [
       "         target\n",
       "133  333.999366\n",
       "57   333.999366\n",
       "91   333.999366\n",
       "375  333.999366\n",
       "7    333.999366"
      ]
     },
     "execution_count": 419,
     "metadata": {},
     "output_type": "execute_result"
    }
   ],
   "source": [
    "# e.g., predict_var should give the same result as infinite large sample's variance\n",
    "y_pred_proba.var().head()"
   ]
  },
  {
   "cell_type": "markdown",
   "metadata": {},
   "source": [
    "* a **\"quantile prediction\"**, at quantile point $\\alpha\\in (0,1)$ is a prediction/estimate of the $\\alpha$-quantile of $y'|y$, i.e., of $F^{-1}_{y|x}(\\alpha)$, where $F^{-1}$ is the (generalized) inverse cdf = quantile function of the random variable y|x.\\\n",
    " **Intuition**: \"out of many repetitions/worlds, a fraction of exactly $\\alpha$ will have equal or smaller than this value.\"\n",
    "* an **\"interval prediction\"** or \"predictive interval\" with (symmetric) coverage $c\\in (0,1)$ is a prediction/estimate pair of lower bound $a$ and upper bound $b$ such that $P(a\\le y \\le b| x) = c$ and $P(y \\gneq b| x) = P(y \\lneq a| x) = (1 - c) /2$.\\\n",
    " **Intuition**: \"out of many repetitions/worlds, a fraction of exactly $c$ will be contained in the interval $[a,b]$, and being above is equally likely as being below\"."
   ]
  },
  {
   "cell_type": "markdown",
   "metadata": {},
   "source": [
    "(similar - exercise left to the reader)"
   ]
  },
  {
   "cell_type": "markdown",
   "metadata": {},
   "source": [
    "* a **\"distribution prediction\"** or \"full probabilistic prediction\" is a prediction/estimate of the distribution of $y|x$, e.g., \"it's a normal distribution with mean 42 and variance 1\".\\\n",
    "**Intuition**: exhaustive description of the generating mechanism of many repetitions/worlds."
   ]
  },
  {
   "cell_type": "markdown",
   "metadata": {},
   "source": [
    "note: the true distribution is unknown, and not accessible easily!\n",
    "\n",
    "`y_pred_proba` is a distribution, but in general not equal to the true one!"
   ]
  },
  {
   "cell_type": "markdown",
   "metadata": {},
   "source": [
    "that is, there are:\n",
    "\n",
    "* *true* distribution `y_pred_proba_true` - unknown and unknowable but estimable\n",
    "* `y_pred_proba` - our guess at `y_pred_proba_true`\n",
    "* the actual data `y_true` is *one* `y_pred_proba_true.sample()`\n"
   ]
  },
  {
   "cell_type": "markdown",
   "metadata": {},
   "source": [
    "* `predict` produces guess of `y_pred_proba_true.mean()`\n",
    "* `predict_var` produces guess of `y_pred_proba_true.var()`\n",
    "* `predict_quantiles([0.05, 0.5, 0.95])` produces guess of `y_pred_proba_true.quantiles([0.05, 0.5, 0.95])`\n",
    "* `predict_proba` produces guess of `y_pred_proba_true`\n",
    "\n",
    "the guesses are algorithm specific, and some algorithms are more accurate than others, given data"
   ]
  },
  {
   "cell_type": "markdown",
   "metadata": {},
   "source": [
    "### 2.2 probabilistic metrics - details <a class=\"anchor\" id=\"section2_2\"></a>"
   ]
  },
  {
   "cell_type": "markdown",
   "metadata": {},
   "source": [
    "General usage pattern same as for `sklearn` metrics:\n",
    "\n",
    "1. get some actuals and predictions\n",
    "2. specify the metric - similar to estimator specs\n",
    "3. plug the actuals and predictions into metric to get metric values\n",
    "\n",
    "*but*: need to use dedicated metric for probabilistic predictions\n",
    "\n",
    "* ground truth: `y_true` samples\n",
    "* prediction e.g., `y_predict_proba`, `y_predict_interval`\n",
    "* so, match metric with type of prediction! `metric(y_true, y_predict_proba)`"
   ]
  },
  {
   "cell_type": "markdown",
   "metadata": {},
   "source": [
    "Recall methods available for all probabilistic regressors:\n",
    "\n",
    "- `predict_interval` produces interval predictions.\n",
    "  Argument `coverage` (nominal interval coverage) must be provided.\n",
    "- `predict_quantiles` produces quantile predictions.\n",
    "  Argument `alpha` (quantile values) must be provided.\n",
    "- `predict_var` produces variance predictions. Same args as `predict`.\n",
    "- `predict_proba` produces full distributional predictions. Same args as `predict`."
   ]
  },
  {
   "cell_type": "markdown",
   "metadata": {},
   "source": [
    "| Name | param | prediction/estimate of | `skpro` |\n",
    "| ---- | ----- | ---------------------- | -------- |\n",
    "| point prediction | | conditional expectation $\\mathbb{E}[y\\|x]$ | `predict` |\n",
    "| variance prediction | | conditional variance $Var[y\\|x]$ | `predict_var` |\n",
    "| quantile prediction | $\\alpha\\in (0,1)$ | $\\alpha$-quantile of $y\\|x$ | `predict_quantiles` |\n",
    "| interval prediction | $c\\in (0,1)$| $[a,b]$ s.t. $P(a\\le y \\le b\\| x) = c$ | `predict_interval` |\n",
    "| distribution prediction | | the law/distribution of $y\\|x$ | `predict_proba` |"
   ]
  },
  {
   "cell_type": "markdown",
   "metadata": {},
   "source": [
    "let's produce some probabilistic predictions!"
   ]
  },
  {
   "cell_type": "code",
   "execution_count": 420,
   "metadata": {},
   "outputs": [],
   "source": [
    "# 1. get some actuals and predictions\n",
    "from sklearn.datasets import load_diabetes\n",
    "from sklearn.model_selection import train_test_split\n",
    "\n",
    "X, y = load_diabetes(return_X_y=True, as_frame=True)\n",
    "X_train, X_test, y_train, y_test = train_test_split(X, y)\n",
    "# actuals = y_test"
   ]
  },
  {
   "cell_type": "code",
   "execution_count": 421,
   "metadata": {},
   "outputs": [],
   "source": [
    "from sklearn.ensemble import RandomForestRegressor\n",
    "\n",
    "from skpro.regression.residual import ResidualDouble\n",
    "\n",
    "reg_mean = RandomForestRegressor()\n",
    "reg_proba = ResidualDouble(reg_mean)\n",
    "\n",
    "reg_proba.fit(X_train, y_train)\n",
    "\n",
    "# use any of the probabilistic methods, we have seen this\n",
    "y_pred_int = reg_proba.predict_interval(X_test, coverage=0.95)\n",
    "y_pred_q = reg_proba.predict_quantiles(X_test, alpha=[0.05, 0.95])\n",
    "y_pred_proba = reg_proba.predict_proba(X_test)"
   ]
  },
  {
   "cell_type": "markdown",
   "metadata": {},
   "source": [
    "recall, all have their own output format:"
   ]
  },
  {
   "cell_type": "code",
   "execution_count": 422,
   "metadata": {},
   "outputs": [
    {
     "data": {
      "text/html": [
       "<div>\n",
       "<style scoped>\n",
       "    .dataframe tbody tr th:only-of-type {\n",
       "        vertical-align: middle;\n",
       "    }\n",
       "\n",
       "    .dataframe tbody tr th {\n",
       "        vertical-align: top;\n",
       "    }\n",
       "\n",
       "    .dataframe thead tr th {\n",
       "        text-align: left;\n",
       "    }\n",
       "</style>\n",
       "<table border=\"1\" class=\"dataframe\">\n",
       "  <thead>\n",
       "    <tr>\n",
       "      <th></th>\n",
       "      <th colspan=\"2\" halign=\"left\">target</th>\n",
       "    </tr>\n",
       "    <tr>\n",
       "      <th></th>\n",
       "      <th colspan=\"2\" halign=\"left\">0.95</th>\n",
       "    </tr>\n",
       "    <tr>\n",
       "      <th></th>\n",
       "      <th>lower</th>\n",
       "      <th>upper</th>\n",
       "    </tr>\n",
       "  </thead>\n",
       "  <tbody>\n",
       "    <tr>\n",
       "      <th>159</th>\n",
       "      <td>195.47967</td>\n",
       "      <td>264.62033</td>\n",
       "    </tr>\n",
       "    <tr>\n",
       "      <th>415</th>\n",
       "      <td>116.60967</td>\n",
       "      <td>185.75033</td>\n",
       "    </tr>\n",
       "    <tr>\n",
       "      <th>52</th>\n",
       "      <td>87.98967</td>\n",
       "      <td>157.13033</td>\n",
       "    </tr>\n",
       "    <tr>\n",
       "      <th>208</th>\n",
       "      <td>196.30967</td>\n",
       "      <td>265.45033</td>\n",
       "    </tr>\n",
       "    <tr>\n",
       "      <th>288</th>\n",
       "      <td>51.64967</td>\n",
       "      <td>120.79033</td>\n",
       "    </tr>\n",
       "    <tr>\n",
       "      <th>...</th>\n",
       "      <td>...</td>\n",
       "      <td>...</td>\n",
       "    </tr>\n",
       "    <tr>\n",
       "      <th>333</th>\n",
       "      <td>153.33967</td>\n",
       "      <td>222.48033</td>\n",
       "    </tr>\n",
       "    <tr>\n",
       "      <th>364</th>\n",
       "      <td>123.07967</td>\n",
       "      <td>192.22033</td>\n",
       "    </tr>\n",
       "    <tr>\n",
       "      <th>243</th>\n",
       "      <td>46.64967</td>\n",
       "      <td>115.79033</td>\n",
       "    </tr>\n",
       "    <tr>\n",
       "      <th>30</th>\n",
       "      <td>90.61967</td>\n",
       "      <td>159.76033</td>\n",
       "    </tr>\n",
       "    <tr>\n",
       "      <th>276</th>\n",
       "      <td>173.61967</td>\n",
       "      <td>242.76033</td>\n",
       "    </tr>\n",
       "  </tbody>\n",
       "</table>\n",
       "<p>111 rows × 2 columns</p>\n",
       "</div>"
      ],
      "text/plain": [
       "        target           \n",
       "          0.95           \n",
       "         lower      upper\n",
       "159  195.47967  264.62033\n",
       "415  116.60967  185.75033\n",
       "52    87.98967  157.13033\n",
       "208  196.30967  265.45033\n",
       "288   51.64967  120.79033\n",
       "..         ...        ...\n",
       "333  153.33967  222.48033\n",
       "364  123.07967  192.22033\n",
       "243   46.64967  115.79033\n",
       "30    90.61967  159.76033\n",
       "276  173.61967  242.76033\n",
       "\n",
       "[111 rows x 2 columns]"
      ]
     },
     "execution_count": 422,
     "metadata": {},
     "output_type": "execute_result"
    }
   ],
   "source": [
    "y_pred_int  # lower/upper intervals"
   ]
  },
  {
   "cell_type": "code",
   "execution_count": 423,
   "metadata": {},
   "outputs": [
    {
     "data": {
      "text/html": [
       "<div>\n",
       "<style scoped>\n",
       "    .dataframe tbody tr th:only-of-type {\n",
       "        vertical-align: middle;\n",
       "    }\n",
       "\n",
       "    .dataframe tbody tr th {\n",
       "        vertical-align: top;\n",
       "    }\n",
       "\n",
       "    .dataframe thead tr th {\n",
       "        text-align: left;\n",
       "    }\n",
       "</style>\n",
       "<table border=\"1\" class=\"dataframe\">\n",
       "  <thead>\n",
       "    <tr>\n",
       "      <th></th>\n",
       "      <th colspan=\"2\" halign=\"left\">target</th>\n",
       "    </tr>\n",
       "    <tr>\n",
       "      <th></th>\n",
       "      <th>0.05</th>\n",
       "      <th>0.95</th>\n",
       "    </tr>\n",
       "  </thead>\n",
       "  <tbody>\n",
       "    <tr>\n",
       "      <th>159</th>\n",
       "      <td>201.037664</td>\n",
       "      <td>259.062336</td>\n",
       "    </tr>\n",
       "    <tr>\n",
       "      <th>415</th>\n",
       "      <td>122.167664</td>\n",
       "      <td>180.192336</td>\n",
       "    </tr>\n",
       "    <tr>\n",
       "      <th>52</th>\n",
       "      <td>93.547664</td>\n",
       "      <td>151.572336</td>\n",
       "    </tr>\n",
       "    <tr>\n",
       "      <th>208</th>\n",
       "      <td>201.867664</td>\n",
       "      <td>259.892336</td>\n",
       "    </tr>\n",
       "    <tr>\n",
       "      <th>288</th>\n",
       "      <td>57.207664</td>\n",
       "      <td>115.232336</td>\n",
       "    </tr>\n",
       "    <tr>\n",
       "      <th>...</th>\n",
       "      <td>...</td>\n",
       "      <td>...</td>\n",
       "    </tr>\n",
       "    <tr>\n",
       "      <th>333</th>\n",
       "      <td>158.897664</td>\n",
       "      <td>216.922336</td>\n",
       "    </tr>\n",
       "    <tr>\n",
       "      <th>364</th>\n",
       "      <td>128.637664</td>\n",
       "      <td>186.662336</td>\n",
       "    </tr>\n",
       "    <tr>\n",
       "      <th>243</th>\n",
       "      <td>52.207664</td>\n",
       "      <td>110.232336</td>\n",
       "    </tr>\n",
       "    <tr>\n",
       "      <th>30</th>\n",
       "      <td>96.177664</td>\n",
       "      <td>154.202336</td>\n",
       "    </tr>\n",
       "    <tr>\n",
       "      <th>276</th>\n",
       "      <td>179.177664</td>\n",
       "      <td>237.202336</td>\n",
       "    </tr>\n",
       "  </tbody>\n",
       "</table>\n",
       "<p>111 rows × 2 columns</p>\n",
       "</div>"
      ],
      "text/plain": [
       "         target            \n",
       "           0.05        0.95\n",
       "159  201.037664  259.062336\n",
       "415  122.167664  180.192336\n",
       "52    93.547664  151.572336\n",
       "208  201.867664  259.892336\n",
       "288   57.207664  115.232336\n",
       "..          ...         ...\n",
       "333  158.897664  216.922336\n",
       "364  128.637664  186.662336\n",
       "243   52.207664  110.232336\n",
       "30    96.177664  154.202336\n",
       "276  179.177664  237.202336\n",
       "\n",
       "[111 rows x 2 columns]"
      ]
     },
     "execution_count": 423,
     "metadata": {},
     "output_type": "execute_result"
    }
   ],
   "source": [
    "y_pred_q  # quantiles"
   ]
  },
  {
   "cell_type": "code",
   "execution_count": 424,
   "metadata": {},
   "outputs": [
    {
     "data": {
      "text/html": [
       "<style>#sk-9ddc79ab-4d3c-4b21-9b8c-51707b029713 {color: black;background-color: white;}#sk-9ddc79ab-4d3c-4b21-9b8c-51707b029713 pre{padding: 0;}#sk-9ddc79ab-4d3c-4b21-9b8c-51707b029713 div.sk-toggleable {background-color: white;}#sk-9ddc79ab-4d3c-4b21-9b8c-51707b029713 label.sk-toggleable__label {cursor: pointer;display: block;width: 100%;margin-bottom: 0;padding: 0.3em;box-sizing: border-box;text-align: center;}#sk-9ddc79ab-4d3c-4b21-9b8c-51707b029713 label.sk-toggleable__label-arrow:before {content: \"▸\";float: left;margin-right: 0.25em;color: #696969;}#sk-9ddc79ab-4d3c-4b21-9b8c-51707b029713 label.sk-toggleable__label-arrow:hover:before {color: black;}#sk-9ddc79ab-4d3c-4b21-9b8c-51707b029713 div.sk-estimator:hover label.sk-toggleable__label-arrow:before {color: black;}#sk-9ddc79ab-4d3c-4b21-9b8c-51707b029713 div.sk-toggleable__content {max-height: 0;max-width: 0;overflow: hidden;text-align: left;background-color: #f0f8ff;}#sk-9ddc79ab-4d3c-4b21-9b8c-51707b029713 div.sk-toggleable__content pre {margin: 0.2em;color: black;border-radius: 0.25em;background-color: #f0f8ff;}#sk-9ddc79ab-4d3c-4b21-9b8c-51707b029713 input.sk-toggleable__control:checked~div.sk-toggleable__content {max-height: 200px;max-width: 100%;overflow: auto;}#sk-9ddc79ab-4d3c-4b21-9b8c-51707b029713 input.sk-toggleable__control:checked~label.sk-toggleable__label-arrow:before {content: \"▾\";}#sk-9ddc79ab-4d3c-4b21-9b8c-51707b029713 div.sk-estimator input.sk-toggleable__control:checked~label.sk-toggleable__label {background-color: #d4ebff;}#sk-9ddc79ab-4d3c-4b21-9b8c-51707b029713 div.sk-label input.sk-toggleable__control:checked~label.sk-toggleable__label {background-color: #d4ebff;}#sk-9ddc79ab-4d3c-4b21-9b8c-51707b029713 input.sk-hidden--visually {border: 0;clip: rect(1px 1px 1px 1px);clip: rect(1px, 1px, 1px, 1px);height: 1px;margin: -1px;overflow: hidden;padding: 0;position: absolute;width: 1px;}#sk-9ddc79ab-4d3c-4b21-9b8c-51707b029713 div.sk-estimator {font-family: monospace;background-color: #f0f8ff;border: 1px dotted black;border-radius: 0.25em;box-sizing: border-box;margin-bottom: 0.5em;}#sk-9ddc79ab-4d3c-4b21-9b8c-51707b029713 div.sk-estimator:hover {background-color: #d4ebff;}#sk-9ddc79ab-4d3c-4b21-9b8c-51707b029713 div.sk-parallel-item::after {content: \"\";width: 100%;border-bottom: 1px solid gray;flex-grow: 1;}#sk-9ddc79ab-4d3c-4b21-9b8c-51707b029713 div.sk-label:hover label.sk-toggleable__label {background-color: #d4ebff;}#sk-9ddc79ab-4d3c-4b21-9b8c-51707b029713 div.sk-serial::before {content: \"\";position: absolute;border-left: 1px solid gray;box-sizing: border-box;top: 2em;bottom: 0;left: 50%;}#sk-9ddc79ab-4d3c-4b21-9b8c-51707b029713 div.sk-serial {display: flex;flex-direction: column;align-items: center;background-color: white;padding-right: 0.2em;padding-left: 0.2em;}#sk-9ddc79ab-4d3c-4b21-9b8c-51707b029713 div.sk-item {z-index: 1;}#sk-9ddc79ab-4d3c-4b21-9b8c-51707b029713 div.sk-parallel {display: flex;align-items: stretch;justify-content: center;background-color: white;}#sk-9ddc79ab-4d3c-4b21-9b8c-51707b029713 div.sk-parallel::before {content: \"\";position: absolute;border-left: 1px solid gray;box-sizing: border-box;top: 2em;bottom: 0;left: 50%;}#sk-9ddc79ab-4d3c-4b21-9b8c-51707b029713 div.sk-parallel-item {display: flex;flex-direction: column;position: relative;background-color: white;}#sk-9ddc79ab-4d3c-4b21-9b8c-51707b029713 div.sk-parallel-item:first-child::after {align-self: flex-end;width: 50%;}#sk-9ddc79ab-4d3c-4b21-9b8c-51707b029713 div.sk-parallel-item:last-child::after {align-self: flex-start;width: 50%;}#sk-9ddc79ab-4d3c-4b21-9b8c-51707b029713 div.sk-parallel-item:only-child::after {width: 0;}#sk-9ddc79ab-4d3c-4b21-9b8c-51707b029713 div.sk-dashed-wrapped {border: 1px dashed gray;margin: 0 0.4em 0.5em 0.4em;box-sizing: border-box;padding-bottom: 0.4em;background-color: white;position: relative;}#sk-9ddc79ab-4d3c-4b21-9b8c-51707b029713 div.sk-label label {font-family: monospace;font-weight: bold;background-color: white;display: inline-block;line-height: 1.2em;}#sk-9ddc79ab-4d3c-4b21-9b8c-51707b029713 div.sk-label-container {position: relative;z-index: 2;text-align: center;}#sk-9ddc79ab-4d3c-4b21-9b8c-51707b029713 div.sk-container {/* jupyter's `normalize.less` sets `[hidden] { display: none; }` but bootstrap.min.css set `[hidden] { display: none !important; }` so we also need the `!important` here to be able to override the default hidden behavior on the sphinx rendered scikit-learn.org. See: https://github.com/scikit-learn/scikit-learn/issues/21755 */display: inline-block !important;position: relative;}#sk-9ddc79ab-4d3c-4b21-9b8c-51707b029713 div.sk-text-repr-fallback {display: none;}</style><div id='sk-9ddc79ab-4d3c-4b21-9b8c-51707b029713' class=\"sk-top-container\"><div class=\"sk-text-repr-fallback\"><pre>Normal(columns=Index([&#x27;target&#x27;], dtype=&#x27;object&#x27;),\n",
       "       index=Index([159, 415,  52, 208, 288, 169, 317, 120, 255, 185,\n",
       "       ...\n",
       "       314, 100,  53, 347,  14, 333, 364, 243,  30, 276],\n",
       "      dtype=&#x27;int64&#x27;, length=111),\n",
       "       mu=array([[230.05],\n",
       "       [151.18],\n",
       "       [122.56],\n",
       "       [230.88],\n",
       "       [ 86.22],\n",
       "       [197.11],\n",
       "       [188.6 ],\n",
       "       [ 87.68],\n",
       "       [115.46],\n",
       "       [175.73],\n",
       "       [171.8 ],\n",
       "       [235.42],\n",
       "       [ 98.86],\n",
       "       [152.19],\n",
       "       [102.24],\n",
       "       [110.7 ],\n",
       "       [ 85.01],\n",
       "       [199.19],\n",
       "       [241.82],\n",
       "       [138.44],...\n",
       "       [17.63824773],\n",
       "       [17.63824773],\n",
       "       [17.63824773],\n",
       "       [17.63824773],\n",
       "       [17.63824773],\n",
       "       [17.63824773],\n",
       "       [17.63824773],\n",
       "       [17.63824773],\n",
       "       [17.63824773],\n",
       "       [17.63824773],\n",
       "       [17.63824773],\n",
       "       [17.63824773],\n",
       "       [17.63824773],\n",
       "       [17.63824773],\n",
       "       [17.63824773],\n",
       "       [17.63824773],\n",
       "       [17.63824773],\n",
       "       [17.63824773],\n",
       "       [17.63824773],\n",
       "       [17.63824773],\n",
       "       [17.63824773],\n",
       "       [17.63824773],\n",
       "       [17.63824773],\n",
       "       [17.63824773],\n",
       "       [17.63824773]]))</pre><b>Please rerun this cell to show the HTML repr or trust the notebook.</b></div><div class=\"sk-container\" hidden><div class='sk-item'><div class=\"sk-estimator sk-toggleable\"><input class=\"sk-toggleable__control sk-hidden--visually\" id=UUID('1fb4ec37-0119-4119-9115-d4a662abf602') type=\"checkbox\" checked><label for=UUID('1fb4ec37-0119-4119-9115-d4a662abf602') class='sk-toggleable__label sk-toggleable__label-arrow'>Normal</label><div class=\"sk-toggleable__content\"><pre>Normal(columns=Index([&#x27;target&#x27;], dtype=&#x27;object&#x27;),\n",
       "       index=Index([159, 415,  52, 208, 288, 169, 317, 120, 255, 185,\n",
       "       ...\n",
       "       314, 100,  53, 347,  14, 333, 364, 243,  30, 276],\n",
       "      dtype=&#x27;int64&#x27;, length=111),\n",
       "       mu=array([[230.05],\n",
       "       [151.18],\n",
       "       [122.56],\n",
       "       [230.88],\n",
       "       [ 86.22],\n",
       "       [197.11],\n",
       "       [188.6 ],\n",
       "       [ 87.68],\n",
       "       [115.46],\n",
       "       [175.73],\n",
       "       [171.8 ],\n",
       "       [235.42],\n",
       "       [ 98.86],\n",
       "       [152.19],\n",
       "       [102.24],\n",
       "       [110.7 ],\n",
       "       [ 85.01],\n",
       "       [199.19],\n",
       "       [241.82],\n",
       "       [138.44],...\n",
       "       [17.63824773],\n",
       "       [17.63824773],\n",
       "       [17.63824773],\n",
       "       [17.63824773],\n",
       "       [17.63824773],\n",
       "       [17.63824773],\n",
       "       [17.63824773],\n",
       "       [17.63824773],\n",
       "       [17.63824773],\n",
       "       [17.63824773],\n",
       "       [17.63824773],\n",
       "       [17.63824773],\n",
       "       [17.63824773],\n",
       "       [17.63824773],\n",
       "       [17.63824773],\n",
       "       [17.63824773],\n",
       "       [17.63824773],\n",
       "       [17.63824773],\n",
       "       [17.63824773],\n",
       "       [17.63824773],\n",
       "       [17.63824773],\n",
       "       [17.63824773],\n",
       "       [17.63824773],\n",
       "       [17.63824773],\n",
       "       [17.63824773]]))</pre></div></div></div></div></div>"
      ],
      "text/plain": [
       "Normal(columns=Index(['target'], dtype='object'),\n",
       "       index=Index([159, 415,  52, 208, 288, 169, 317, 120, 255, 185,\n",
       "       ...\n",
       "       314, 100,  53, 347,  14, 333, 364, 243,  30, 276],\n",
       "      dtype='int64', length=111),\n",
       "       mu=array([[230.05],\n",
       "       [151.18],\n",
       "       [122.56],\n",
       "       [230.88],\n",
       "       [ 86.22],\n",
       "       [197.11],\n",
       "       [188.6 ],\n",
       "       [ 87.68],\n",
       "       [115.46],\n",
       "       [175.73],\n",
       "       [171.8 ],\n",
       "       [235.42],\n",
       "       [ 98.86],\n",
       "       [152.19],\n",
       "       [102.24],\n",
       "       [110.7 ],\n",
       "       [ 85.01],\n",
       "       [199.19],\n",
       "       [241.82],\n",
       "       [138.44],...\n",
       "       [17.63824773],\n",
       "       [17.63824773],\n",
       "       [17.63824773],\n",
       "       [17.63824773],\n",
       "       [17.63824773],\n",
       "       [17.63824773],\n",
       "       [17.63824773],\n",
       "       [17.63824773],\n",
       "       [17.63824773],\n",
       "       [17.63824773],\n",
       "       [17.63824773],\n",
       "       [17.63824773],\n",
       "       [17.63824773],\n",
       "       [17.63824773],\n",
       "       [17.63824773],\n",
       "       [17.63824773],\n",
       "       [17.63824773],\n",
       "       [17.63824773],\n",
       "       [17.63824773],\n",
       "       [17.63824773],\n",
       "       [17.63824773],\n",
       "       [17.63824773],\n",
       "       [17.63824773],\n",
       "       [17.63824773],\n",
       "       [17.63824773]]))"
      ]
     },
     "execution_count": 424,
     "metadata": {},
     "output_type": "execute_result"
    }
   ],
   "source": [
    "y_pred_proba  # sktime/skpro BaseDistribution"
   ]
  },
  {
   "cell_type": "markdown",
   "metadata": {},
   "source": [
    "we now need to apply a suitable metric, `metric(y_test, y_pred)`\n",
    "\n",
    "IMPORTANT: sequence matters, `y_test` first; `y_pred` has very different type!"
   ]
  },
  {
   "cell_type": "code",
   "execution_count": 425,
   "metadata": {},
   "outputs": [
    {
     "data": {
      "text/plain": [
       "37.18286973138769"
      ]
     },
     "execution_count": 425,
     "metadata": {},
     "output_type": "execute_result"
    }
   ],
   "source": [
    "# 2. specify metric\n",
    "# CRPS = continuous ranked probability score, for distribution predictions\n",
    "from skpro.metrics import CRPS\n",
    "\n",
    "crps = CRPS()\n",
    "\n",
    "# 3. evaluate metric\n",
    "crps(y_test, y_pred_proba)"
   ]
  },
  {
   "cell_type": "markdown",
   "metadata": {},
   "source": [
    "how do we find a metric that fits the prediction type?"
   ]
  },
  {
   "cell_type": "markdown",
   "metadata": {},
   "source": [
    "answer: metrics are tagged\n",
    "\n",
    "important tag: `scitype:y_pred`\n",
    "\n",
    "* `\"pred_proba\"` - distributional, can applied to distributions, `predict_proba` output\n",
    "* `\"pred_quantiles\"` - quantile forecast metric, can be applied to quantile predictions, interval predictions, distributional predictions\n",
    "    * applicable to `predict_quantiles`, `predict_interval`, `predict_proba` outputs\n",
    "* `\"pred_interval\"` - interval forecast metric, can be applied to interval predictions, distributional predictions\n",
    "    * applicable to `predict_interval`, `predict_proba` outputs"
   ]
  },
  {
   "cell_type": "code",
   "execution_count": 426,
   "metadata": {},
   "outputs": [
    {
     "data": {
      "text/plain": [
       "{'estimator_type': 'estimator',\n",
       " 'object_type': 'metric',\n",
       " 'reserved_params': ['multioutput', 'score_average'],\n",
       " 'scitype:y_pred': 'pred_proba',\n",
       " 'lower_is_better': True}"
      ]
     },
     "execution_count": 426,
     "metadata": {},
     "output_type": "execute_result"
    }
   ],
   "source": [
    "crps.get_tags()"
   ]
  },
  {
   "cell_type": "markdown",
   "metadata": {},
   "source": [
    "listing metrics with the tag, filtering for probabilistic tags:\n",
    "\n",
    "(let's try to find a quantile prediction metric!)"
   ]
  },
  {
   "cell_type": "code",
   "execution_count": 427,
   "metadata": {},
   "outputs": [
    {
     "data": {
      "text/html": [
       "<div>\n",
       "<style scoped>\n",
       "    .dataframe tbody tr th:only-of-type {\n",
       "        vertical-align: middle;\n",
       "    }\n",
       "\n",
       "    .dataframe tbody tr th {\n",
       "        vertical-align: top;\n",
       "    }\n",
       "\n",
       "    .dataframe thead th {\n",
       "        text-align: right;\n",
       "    }\n",
       "</style>\n",
       "<table border=\"1\" class=\"dataframe\">\n",
       "  <thead>\n",
       "    <tr style=\"text-align: right;\">\n",
       "      <th></th>\n",
       "      <th>name</th>\n",
       "      <th>object</th>\n",
       "      <th>scitype:y_pred</th>\n",
       "    </tr>\n",
       "  </thead>\n",
       "  <tbody>\n",
       "    <tr>\n",
       "      <th>0</th>\n",
       "      <td>CRPS</td>\n",
       "      <td>&lt;class 'skpro.metrics._classes.CRPS'&gt;</td>\n",
       "      <td>pred_proba</td>\n",
       "    </tr>\n",
       "    <tr>\n",
       "      <th>1</th>\n",
       "      <td>ConstraintViolation</td>\n",
       "      <td>&lt;class 'skpro.metrics._classes.ConstraintViola...</td>\n",
       "      <td>pred_interval</td>\n",
       "    </tr>\n",
       "    <tr>\n",
       "      <th>2</th>\n",
       "      <td>EmpiricalCoverage</td>\n",
       "      <td>&lt;class 'skpro.metrics._classes.EmpiricalCovera...</td>\n",
       "      <td>pred_interval</td>\n",
       "    </tr>\n",
       "    <tr>\n",
       "      <th>3</th>\n",
       "      <td>LinearizedLogLoss</td>\n",
       "      <td>&lt;class 'skpro.metrics._classes.LinearizedLogLo...</td>\n",
       "      <td>pred_proba</td>\n",
       "    </tr>\n",
       "    <tr>\n",
       "      <th>4</th>\n",
       "      <td>LogLoss</td>\n",
       "      <td>&lt;class 'skpro.metrics._classes.LogLoss'&gt;</td>\n",
       "      <td>pred_proba</td>\n",
       "    </tr>\n",
       "    <tr>\n",
       "      <th>5</th>\n",
       "      <td>PinballLoss</td>\n",
       "      <td>&lt;class 'skpro.metrics._classes.PinballLoss'&gt;</td>\n",
       "      <td>pred_quantiles</td>\n",
       "    </tr>\n",
       "    <tr>\n",
       "      <th>6</th>\n",
       "      <td>SquaredDistrLoss</td>\n",
       "      <td>&lt;class 'skpro.metrics._classes.SquaredDistrLoss'&gt;</td>\n",
       "      <td>pred_proba</td>\n",
       "    </tr>\n",
       "  </tbody>\n",
       "</table>\n",
       "</div>"
      ],
      "text/plain": [
       "                  name                                             object  \\\n",
       "0                 CRPS              <class 'skpro.metrics._classes.CRPS'>   \n",
       "1  ConstraintViolation  <class 'skpro.metrics._classes.ConstraintViola...   \n",
       "2    EmpiricalCoverage  <class 'skpro.metrics._classes.EmpiricalCovera...   \n",
       "3    LinearizedLogLoss  <class 'skpro.metrics._classes.LinearizedLogLo...   \n",
       "4              LogLoss           <class 'skpro.metrics._classes.LogLoss'>   \n",
       "5          PinballLoss       <class 'skpro.metrics._classes.PinballLoss'>   \n",
       "6     SquaredDistrLoss  <class 'skpro.metrics._classes.SquaredDistrLoss'>   \n",
       "\n",
       "   scitype:y_pred  \n",
       "0      pred_proba  \n",
       "1   pred_interval  \n",
       "2   pred_interval  \n",
       "3      pred_proba  \n",
       "4      pred_proba  \n",
       "5  pred_quantiles  \n",
       "6      pred_proba  "
      ]
     },
     "execution_count": 427,
     "metadata": {},
     "output_type": "execute_result"
    }
   ],
   "source": [
    "from skpro.registry import all_objects\n",
    "\n",
    "all_objects(\n",
    "    \"metric\",\n",
    "    as_dataframe=True,\n",
    "    return_tags=\"scitype:y_pred\",\n",
    ")"
   ]
  },
  {
   "cell_type": "markdown",
   "metadata": {},
   "source": [
    "`PinballLoss` is a quantile forecast metric:"
   ]
  },
  {
   "cell_type": "code",
   "execution_count": 428,
   "metadata": {},
   "outputs": [
    {
     "data": {
      "text/plain": [
       "12.509697147993997"
      ]
     },
     "execution_count": 428,
     "metadata": {},
     "output_type": "execute_result"
    }
   ],
   "source": [
    "from skpro.metrics import PinballLoss\n",
    "\n",
    "pinball_loss = PinballLoss()\n",
    "\n",
    "pinball_loss(y_test, y_pred_q)"
   ]
  },
  {
   "cell_type": "markdown",
   "metadata": {},
   "source": [
    "... this is by default an average (grand average, float)\n",
    "\n",
    "* averages over samples in `y_pred` / `y_test` (rows)\n",
    "* averages over variables (columns)"
   ]
  },
  {
   "cell_type": "markdown",
   "metadata": {},
   "source": [
    "what if we don't want these averages?"
   ]
  },
  {
   "cell_type": "markdown",
   "metadata": {},
   "source": [
    "* variable (column) averaging is controlled by the `multioutput` arg.\n",
    "    * `\"raw_values\"` prevents averaging, `\"uniform_average\"` computes arithmetic mean.\n",
    "* evaluation by row via the `evaluate_by_index` method\n",
    "    * can be useful for diagnostics or statistical tests"
   ]
  },
  {
   "cell_type": "code",
   "execution_count": 429,
   "metadata": {},
   "outputs": [
    {
     "data": {
      "text/html": [
       "<div>\n",
       "<style scoped>\n",
       "    .dataframe tbody tr th:only-of-type {\n",
       "        vertical-align: middle;\n",
       "    }\n",
       "\n",
       "    .dataframe tbody tr th {\n",
       "        vertical-align: top;\n",
       "    }\n",
       "\n",
       "    .dataframe thead th {\n",
       "        text-align: right;\n",
       "    }\n",
       "</style>\n",
       "<table border=\"1\" class=\"dataframe\">\n",
       "  <thead>\n",
       "    <tr style=\"text-align: right;\">\n",
       "      <th></th>\n",
       "      <th>target</th>\n",
       "    </tr>\n",
       "  </thead>\n",
       "  <tbody>\n",
       "    <tr>\n",
       "      <th>159</th>\n",
       "      <td>25.408671</td>\n",
       "    </tr>\n",
       "    <tr>\n",
       "      <th>415</th>\n",
       "      <td>14.496111</td>\n",
       "    </tr>\n",
       "    <tr>\n",
       "      <th>52</th>\n",
       "      <td>53.610044</td>\n",
       "    </tr>\n",
       "    <tr>\n",
       "      <th>208</th>\n",
       "      <td>65.928748</td>\n",
       "    </tr>\n",
       "    <tr>\n",
       "      <th>288</th>\n",
       "      <td>4.988068</td>\n",
       "    </tr>\n",
       "    <tr>\n",
       "      <th>...</th>\n",
       "      <td>...</td>\n",
       "    </tr>\n",
       "    <tr>\n",
       "      <th>333</th>\n",
       "      <td>15.384082</td>\n",
       "    </tr>\n",
       "    <tr>\n",
       "      <th>364</th>\n",
       "      <td>94.398684</td>\n",
       "    </tr>\n",
       "    <tr>\n",
       "      <th>243</th>\n",
       "      <td>24.619834</td>\n",
       "    </tr>\n",
       "    <tr>\n",
       "      <th>30</th>\n",
       "      <td>4.449025</td>\n",
       "    </tr>\n",
       "    <tr>\n",
       "      <th>276</th>\n",
       "      <td>64.858769</td>\n",
       "    </tr>\n",
       "  </tbody>\n",
       "</table>\n",
       "<p>111 rows × 1 columns</p>\n",
       "</div>"
      ],
      "text/plain": [
       "        target\n",
       "159  25.408671\n",
       "415  14.496111\n",
       "52   53.610044\n",
       "208  65.928748\n",
       "288   4.988068\n",
       "..         ...\n",
       "333  15.384082\n",
       "364  94.398684\n",
       "243  24.619834\n",
       "30    4.449025\n",
       "276  64.858769\n",
       "\n",
       "[111 rows x 1 columns]"
      ]
     },
     "execution_count": 429,
     "metadata": {},
     "output_type": "execute_result"
    }
   ],
   "source": [
    "crps.evaluate_by_index(y_test, y_pred_proba)"
   ]
  },
  {
   "cell_type": "markdown",
   "metadata": {},
   "source": [
    "Caveat: not every metric is an average over time points, e.g., RMSE\n",
    "\n",
    "In this case, `evaluate_by_index` computes jackknife pseudo-samples\n",
    "\n",
    "(for mean statistics, jackknife pseudo-samples are equal to individual samples)"
   ]
  },
  {
   "cell_type": "markdown",
   "metadata": {},
   "source": [
    "### 2.3 Benchmark evaluation of probabilistic regressors <a class=\"anchor\" id=\"section2_3\"></a>"
   ]
  },
  {
   "cell_type": "markdown",
   "metadata": {},
   "source": [
    "for quick evaluation and benchmarking,\n",
    "\n",
    "the `benchmarking.evaluate` utility can be used:"
   ]
  },
  {
   "cell_type": "code",
   "execution_count": 430,
   "metadata": {},
   "outputs": [
    {
     "data": {
      "text/html": [
       "<div>\n",
       "<style scoped>\n",
       "    .dataframe tbody tr th:only-of-type {\n",
       "        vertical-align: middle;\n",
       "    }\n",
       "\n",
       "    .dataframe tbody tr th {\n",
       "        vertical-align: top;\n",
       "    }\n",
       "\n",
       "    .dataframe thead th {\n",
       "        text-align: right;\n",
       "    }\n",
       "</style>\n",
       "<table border=\"1\" class=\"dataframe\">\n",
       "  <thead>\n",
       "    <tr style=\"text-align: right;\">\n",
       "      <th></th>\n",
       "      <th>test_CRPS</th>\n",
       "      <th>fit_time</th>\n",
       "      <th>pred_time</th>\n",
       "      <th>len_y_train</th>\n",
       "    </tr>\n",
       "  </thead>\n",
       "  <tbody>\n",
       "    <tr>\n",
       "      <th>0</th>\n",
       "      <td>31.783451</td>\n",
       "      <td>0.002865</td>\n",
       "      <td>0.000991</td>\n",
       "      <td>294</td>\n",
       "    </tr>\n",
       "    <tr>\n",
       "      <th>1</th>\n",
       "      <td>33.574329</td>\n",
       "      <td>0.002674</td>\n",
       "      <td>0.000906</td>\n",
       "      <td>295</td>\n",
       "    </tr>\n",
       "    <tr>\n",
       "      <th>2</th>\n",
       "      <td>29.909655</td>\n",
       "      <td>0.002784</td>\n",
       "      <td>0.000877</td>\n",
       "      <td>295</td>\n",
       "    </tr>\n",
       "  </tbody>\n",
       "</table>\n",
       "</div>"
      ],
      "text/plain": [
       "   test_CRPS  fit_time  pred_time  len_y_train\n",
       "0  31.783451  0.002865   0.000991          294\n",
       "1  33.574329  0.002674   0.000906          295\n",
       "2  29.909655  0.002784   0.000877          295"
      ]
     },
     "execution_count": 430,
     "metadata": {},
     "output_type": "execute_result"
    }
   ],
   "source": [
    "from sklearn.datasets import load_diabetes\n",
    "from sklearn.linear_model import LinearRegression\n",
    "from sklearn.model_selection import KFold\n",
    "\n",
    "from skpro.benchmarking.evaluate import evaluate\n",
    "from skpro.metrics import CRPS\n",
    "from skpro.regression.residual import ResidualDouble\n",
    "\n",
    "# 1. specify dataset\n",
    "X, y = load_diabetes(return_X_y=True, as_frame=True)\n",
    "\n",
    "# 2. specify estimator\n",
    "estimator = ResidualDouble(LinearRegression())\n",
    "\n",
    "# 3. specify cross-validation schema\n",
    "cv = KFold(n_splits=3)\n",
    "\n",
    "# 4. specify evaluation metric\n",
    "crps = CRPS()\n",
    "\n",
    "# 5. evaluate - run the benchmark\n",
    "results = evaluate(estimator=estimator, X=X, y=y, cv=cv, scoring=crps)\n",
    "\n",
    "# results are pd.DataFrame\n",
    "# each row is one repetition of the cross-validation on one fold fit/predict/evaluate\n",
    "# columns report performance, runtime, and other optional information (see docstring)\n",
    "results"
   ]
  },
  {
   "cell_type": "markdown",
   "metadata": {},
   "source": [
    "## 3. Advanced composition patterns <a class=\"anchor\" id=\"chapter3\"></a>"
   ]
  },
  {
   "cell_type": "markdown",
   "metadata": {},
   "source": [
    "we introduce a number of composition patterns available in `skpro`:\n",
    "\n",
    "* reducer-wrappers that turn `sklearn` regressors into probabilistic ones\n",
    "* pipelines of `sklearn` transformers with `skpro` regressors\n",
    "* tuning `skpro` probabilistic regressors via grid/random search, minimizing a probabilistic metric\n",
    "* ensembling multiple `skpro` probabilistic regressors"
   ]
  },
  {
   "cell_type": "markdown",
   "metadata": {},
   "source": [
    "data used in this section:"
   ]
  },
  {
   "cell_type": "code",
   "execution_count": 431,
   "metadata": {},
   "outputs": [],
   "source": [
    "from sklearn.datasets import load_diabetes\n",
    "from sklearn.model_selection import train_test_split\n",
    "\n",
    "X, y = load_diabetes(return_X_y=True, as_frame=True)\n",
    "X_train, X_test, y_train, y_test = train_test_split(X, y)"
   ]
  },
  {
   "cell_type": "markdown",
   "metadata": {},
   "source": [
    "evaluation metric used in this section:"
   ]
  },
  {
   "cell_type": "code",
   "execution_count": 432,
   "metadata": {},
   "outputs": [],
   "source": [
    "crps = CRPS()"
   ]
  },
  {
   "cell_type": "markdown",
   "metadata": {},
   "source": [
    "### 3.1 Reducers to turn `sklearn` regressors probabilistic <a class=\"anchor\" id=\"section3_1\"></a>"
   ]
  },
  {
   "cell_type": "markdown",
   "metadata": {},
   "source": [
    "there are many common algorithms that turn a non-probabilistic tabular regressor probabilistic\n",
    "\n",
    "formally, this is a type of \"reduction\" - of probabilistic supervised tabular to non-probabilistic supervised tabular\n",
    "\n",
    "Examples:\n",
    "\n",
    "* predicting variance equal to training residual variance - `ResidualDouble` with standard settings\n",
    "    * or other unconditional distribution estimate for residuals\n",
    "* \"squaring the residual\" two-step prediction - `ResidualDouble`\n",
    "* boostrap prediction intervals - `BootstrapRegressor`\n",
    "* conformal prediction intervals - contributions appreciated :-)\n",
    "* natural gradient boosting aka NGBoost - contributions appreciated :-)"
   ]
  },
  {
   "cell_type": "markdown",
   "metadata": {},
   "source": [
    "### 3.1.1 constant variance prediction <a class=\"anchor\" id=\"section3_1_1\"></a>"
   ]
  },
  {
   "cell_type": "code",
   "execution_count": 433,
   "metadata": {},
   "outputs": [
    {
     "data": {
      "text/plain": [
       "34.33448243898826"
      ]
     },
     "execution_count": 433,
     "metadata": {},
     "output_type": "execute_result"
    }
   ],
   "source": [
    "from sklearn.ensemble import RandomForestRegressor\n",
    "from sklearn.model_selection import KFold\n",
    "\n",
    "# estimator specification - use any sklearn regressor for reg_mean\n",
    "reg_mean = RandomForestRegressor()\n",
    "reg_proba = ResidualDouble(reg_mean, cv=KFold(5))\n",
    "# cv is used to estimate out-of-sample residual variance via 5-fold CV\n",
    "# note - in-sample predictions will usually underestimate the variance!\n",
    "\n",
    "# fit and predict\n",
    "reg_proba.fit(X_train, y_train)\n",
    "y_pred_proba = reg_proba.predict_proba(X_test)\n",
    "\n",
    "# evaluate\n",
    "crps(y_test, y_pred_proba)"
   ]
  },
  {
   "cell_type": "code",
   "execution_count": 434,
   "metadata": {},
   "outputs": [
    {
     "data": {
      "text/plain": [
       "<Axes: xlabel='Correct label $y_i$', ylabel='Prediction interval $\\\\widehat{y}_i$'>"
      ]
     },
     "execution_count": 434,
     "metadata": {},
     "output_type": "execute_result"
    },
    {
     "ename": "KeyboardInterrupt",
     "evalue": "",
     "output_type": "error",
     "traceback": [
      "\u001b[1;31m---------------------------------------------------------------------------\u001b[0m",
      "\u001b[1;31mKeyboardInterrupt\u001b[0m                         Traceback (most recent call last)",
      "File \u001b[1;32mc:\\ProgramData\\Anaconda3\\envs\\skpro-skbase-311\\Lib\\site-packages\\matplotlib\\pyplot.py:120\u001b[0m, in \u001b[0;36m_draw_all_if_interactive\u001b[1;34m()\u001b[0m\n\u001b[0;32m    118\u001b[0m \u001b[39mdef\u001b[39;00m \u001b[39m_draw_all_if_interactive\u001b[39m():\n\u001b[0;32m    119\u001b[0m     \u001b[39mif\u001b[39;00m matplotlib\u001b[39m.\u001b[39mis_interactive():\n\u001b[1;32m--> 120\u001b[0m         draw_all()\n",
      "File \u001b[1;32mc:\\ProgramData\\Anaconda3\\envs\\skpro-skbase-311\\Lib\\site-packages\\matplotlib\\_pylab_helpers.py:132\u001b[0m, in \u001b[0;36mGcf.draw_all\u001b[1;34m(cls, force)\u001b[0m\n\u001b[0;32m    130\u001b[0m \u001b[39mfor\u001b[39;00m manager \u001b[39min\u001b[39;00m \u001b[39mcls\u001b[39m\u001b[39m.\u001b[39mget_all_fig_managers():\n\u001b[0;32m    131\u001b[0m     \u001b[39mif\u001b[39;00m force \u001b[39mor\u001b[39;00m manager\u001b[39m.\u001b[39mcanvas\u001b[39m.\u001b[39mfigure\u001b[39m.\u001b[39mstale:\n\u001b[1;32m--> 132\u001b[0m         manager\u001b[39m.\u001b[39;49mcanvas\u001b[39m.\u001b[39;49mdraw_idle()\n",
      "File \u001b[1;32mc:\\ProgramData\\Anaconda3\\envs\\skpro-skbase-311\\Lib\\site-packages\\matplotlib\\backend_bases.py:2082\u001b[0m, in \u001b[0;36mFigureCanvasBase.draw_idle\u001b[1;34m(self, *args, **kwargs)\u001b[0m\n\u001b[0;32m   2080\u001b[0m \u001b[39mif\u001b[39;00m \u001b[39mnot\u001b[39;00m \u001b[39mself\u001b[39m\u001b[39m.\u001b[39m_is_idle_drawing:\n\u001b[0;32m   2081\u001b[0m     \u001b[39mwith\u001b[39;00m \u001b[39mself\u001b[39m\u001b[39m.\u001b[39m_idle_draw_cntx():\n\u001b[1;32m-> 2082\u001b[0m         \u001b[39mself\u001b[39;49m\u001b[39m.\u001b[39;49mdraw(\u001b[39m*\u001b[39;49margs, \u001b[39m*\u001b[39;49m\u001b[39m*\u001b[39;49mkwargs)\n",
      "File \u001b[1;32mc:\\ProgramData\\Anaconda3\\envs\\skpro-skbase-311\\Lib\\site-packages\\matplotlib\\backends\\backend_agg.py:400\u001b[0m, in \u001b[0;36mFigureCanvasAgg.draw\u001b[1;34m(self)\u001b[0m\n\u001b[0;32m    396\u001b[0m \u001b[39m# Acquire a lock on the shared font cache.\u001b[39;00m\n\u001b[0;32m    397\u001b[0m \u001b[39mwith\u001b[39;00m RendererAgg\u001b[39m.\u001b[39mlock, \\\n\u001b[0;32m    398\u001b[0m      (\u001b[39mself\u001b[39m\u001b[39m.\u001b[39mtoolbar\u001b[39m.\u001b[39m_wait_cursor_for_draw_cm() \u001b[39mif\u001b[39;00m \u001b[39mself\u001b[39m\u001b[39m.\u001b[39mtoolbar\n\u001b[0;32m    399\u001b[0m       \u001b[39melse\u001b[39;00m nullcontext()):\n\u001b[1;32m--> 400\u001b[0m     \u001b[39mself\u001b[39;49m\u001b[39m.\u001b[39;49mfigure\u001b[39m.\u001b[39;49mdraw(\u001b[39mself\u001b[39;49m\u001b[39m.\u001b[39;49mrenderer)\n\u001b[0;32m    401\u001b[0m     \u001b[39m# A GUI class may be need to update a window using this draw, so\u001b[39;00m\n\u001b[0;32m    402\u001b[0m     \u001b[39m# don't forget to call the superclass.\u001b[39;00m\n\u001b[0;32m    403\u001b[0m     \u001b[39msuper\u001b[39m()\u001b[39m.\u001b[39mdraw()\n",
      "File \u001b[1;32mc:\\ProgramData\\Anaconda3\\envs\\skpro-skbase-311\\Lib\\site-packages\\matplotlib\\artist.py:95\u001b[0m, in \u001b[0;36m_finalize_rasterization.<locals>.draw_wrapper\u001b[1;34m(artist, renderer, *args, **kwargs)\u001b[0m\n\u001b[0;32m     93\u001b[0m \u001b[39m@wraps\u001b[39m(draw)\n\u001b[0;32m     94\u001b[0m \u001b[39mdef\u001b[39;00m \u001b[39mdraw_wrapper\u001b[39m(artist, renderer, \u001b[39m*\u001b[39margs, \u001b[39m*\u001b[39m\u001b[39m*\u001b[39mkwargs):\n\u001b[1;32m---> 95\u001b[0m     result \u001b[39m=\u001b[39m draw(artist, renderer, \u001b[39m*\u001b[39;49margs, \u001b[39m*\u001b[39;49m\u001b[39m*\u001b[39;49mkwargs)\n\u001b[0;32m     96\u001b[0m     \u001b[39mif\u001b[39;00m renderer\u001b[39m.\u001b[39m_rasterizing:\n\u001b[0;32m     97\u001b[0m         renderer\u001b[39m.\u001b[39mstop_rasterizing()\n",
      "File \u001b[1;32mc:\\ProgramData\\Anaconda3\\envs\\skpro-skbase-311\\Lib\\site-packages\\matplotlib\\artist.py:72\u001b[0m, in \u001b[0;36mallow_rasterization.<locals>.draw_wrapper\u001b[1;34m(artist, renderer)\u001b[0m\n\u001b[0;32m     69\u001b[0m     \u001b[39mif\u001b[39;00m artist\u001b[39m.\u001b[39mget_agg_filter() \u001b[39mis\u001b[39;00m \u001b[39mnot\u001b[39;00m \u001b[39mNone\u001b[39;00m:\n\u001b[0;32m     70\u001b[0m         renderer\u001b[39m.\u001b[39mstart_filter()\n\u001b[1;32m---> 72\u001b[0m     \u001b[39mreturn\u001b[39;00m draw(artist, renderer)\n\u001b[0;32m     73\u001b[0m \u001b[39mfinally\u001b[39;00m:\n\u001b[0;32m     74\u001b[0m     \u001b[39mif\u001b[39;00m artist\u001b[39m.\u001b[39mget_agg_filter() \u001b[39mis\u001b[39;00m \u001b[39mnot\u001b[39;00m \u001b[39mNone\u001b[39;00m:\n",
      "File \u001b[1;32mc:\\ProgramData\\Anaconda3\\envs\\skpro-skbase-311\\Lib\\site-packages\\matplotlib\\figure.py:3175\u001b[0m, in \u001b[0;36mFigure.draw\u001b[1;34m(self, renderer)\u001b[0m\n\u001b[0;32m   3172\u001b[0m         \u001b[39m# ValueError can occur when resizing a window.\u001b[39;00m\n\u001b[0;32m   3174\u001b[0m \u001b[39mself\u001b[39m\u001b[39m.\u001b[39mpatch\u001b[39m.\u001b[39mdraw(renderer)\n\u001b[1;32m-> 3175\u001b[0m mimage\u001b[39m.\u001b[39;49m_draw_list_compositing_images(\n\u001b[0;32m   3176\u001b[0m     renderer, \u001b[39mself\u001b[39;49m, artists, \u001b[39mself\u001b[39;49m\u001b[39m.\u001b[39;49msuppressComposite)\n\u001b[0;32m   3178\u001b[0m \u001b[39mfor\u001b[39;00m sfig \u001b[39min\u001b[39;00m \u001b[39mself\u001b[39m\u001b[39m.\u001b[39msubfigs:\n\u001b[0;32m   3179\u001b[0m     sfig\u001b[39m.\u001b[39mdraw(renderer)\n",
      "File \u001b[1;32mc:\\ProgramData\\Anaconda3\\envs\\skpro-skbase-311\\Lib\\site-packages\\matplotlib\\image.py:131\u001b[0m, in \u001b[0;36m_draw_list_compositing_images\u001b[1;34m(renderer, parent, artists, suppress_composite)\u001b[0m\n\u001b[0;32m    129\u001b[0m \u001b[39mif\u001b[39;00m not_composite \u001b[39mor\u001b[39;00m \u001b[39mnot\u001b[39;00m has_images:\n\u001b[0;32m    130\u001b[0m     \u001b[39mfor\u001b[39;00m a \u001b[39min\u001b[39;00m artists:\n\u001b[1;32m--> 131\u001b[0m         a\u001b[39m.\u001b[39;49mdraw(renderer)\n\u001b[0;32m    132\u001b[0m \u001b[39melse\u001b[39;00m:\n\u001b[0;32m    133\u001b[0m     \u001b[39m# Composite any adjacent images together\u001b[39;00m\n\u001b[0;32m    134\u001b[0m     image_group \u001b[39m=\u001b[39m []\n",
      "File \u001b[1;32mc:\\ProgramData\\Anaconda3\\envs\\skpro-skbase-311\\Lib\\site-packages\\matplotlib\\artist.py:72\u001b[0m, in \u001b[0;36mallow_rasterization.<locals>.draw_wrapper\u001b[1;34m(artist, renderer)\u001b[0m\n\u001b[0;32m     69\u001b[0m     \u001b[39mif\u001b[39;00m artist\u001b[39m.\u001b[39mget_agg_filter() \u001b[39mis\u001b[39;00m \u001b[39mnot\u001b[39;00m \u001b[39mNone\u001b[39;00m:\n\u001b[0;32m     70\u001b[0m         renderer\u001b[39m.\u001b[39mstart_filter()\n\u001b[1;32m---> 72\u001b[0m     \u001b[39mreturn\u001b[39;00m draw(artist, renderer)\n\u001b[0;32m     73\u001b[0m \u001b[39mfinally\u001b[39;00m:\n\u001b[0;32m     74\u001b[0m     \u001b[39mif\u001b[39;00m artist\u001b[39m.\u001b[39mget_agg_filter() \u001b[39mis\u001b[39;00m \u001b[39mnot\u001b[39;00m \u001b[39mNone\u001b[39;00m:\n",
      "File \u001b[1;32mc:\\ProgramData\\Anaconda3\\envs\\skpro-skbase-311\\Lib\\site-packages\\matplotlib\\axes\\_base.py:3064\u001b[0m, in \u001b[0;36m_AxesBase.draw\u001b[1;34m(self, renderer)\u001b[0m\n\u001b[0;32m   3061\u001b[0m \u001b[39mif\u001b[39;00m artists_rasterized:\n\u001b[0;32m   3062\u001b[0m     _draw_rasterized(\u001b[39mself\u001b[39m\u001b[39m.\u001b[39mfigure, artists_rasterized, renderer)\n\u001b[1;32m-> 3064\u001b[0m mimage\u001b[39m.\u001b[39;49m_draw_list_compositing_images(\n\u001b[0;32m   3065\u001b[0m     renderer, \u001b[39mself\u001b[39;49m, artists, \u001b[39mself\u001b[39;49m\u001b[39m.\u001b[39;49mfigure\u001b[39m.\u001b[39;49msuppressComposite)\n\u001b[0;32m   3067\u001b[0m renderer\u001b[39m.\u001b[39mclose_group(\u001b[39m'\u001b[39m\u001b[39maxes\u001b[39m\u001b[39m'\u001b[39m)\n\u001b[0;32m   3068\u001b[0m \u001b[39mself\u001b[39m\u001b[39m.\u001b[39mstale \u001b[39m=\u001b[39m \u001b[39mFalse\u001b[39;00m\n",
      "File \u001b[1;32mc:\\ProgramData\\Anaconda3\\envs\\skpro-skbase-311\\Lib\\site-packages\\matplotlib\\image.py:131\u001b[0m, in \u001b[0;36m_draw_list_compositing_images\u001b[1;34m(renderer, parent, artists, suppress_composite)\u001b[0m\n\u001b[0;32m    129\u001b[0m \u001b[39mif\u001b[39;00m not_composite \u001b[39mor\u001b[39;00m \u001b[39mnot\u001b[39;00m has_images:\n\u001b[0;32m    130\u001b[0m     \u001b[39mfor\u001b[39;00m a \u001b[39min\u001b[39;00m artists:\n\u001b[1;32m--> 131\u001b[0m         a\u001b[39m.\u001b[39;49mdraw(renderer)\n\u001b[0;32m    132\u001b[0m \u001b[39melse\u001b[39;00m:\n\u001b[0;32m    133\u001b[0m     \u001b[39m# Composite any adjacent images together\u001b[39;00m\n\u001b[0;32m    134\u001b[0m     image_group \u001b[39m=\u001b[39m []\n",
      "File \u001b[1;32mc:\\ProgramData\\Anaconda3\\envs\\skpro-skbase-311\\Lib\\site-packages\\matplotlib\\artist.py:72\u001b[0m, in \u001b[0;36mallow_rasterization.<locals>.draw_wrapper\u001b[1;34m(artist, renderer)\u001b[0m\n\u001b[0;32m     69\u001b[0m     \u001b[39mif\u001b[39;00m artist\u001b[39m.\u001b[39mget_agg_filter() \u001b[39mis\u001b[39;00m \u001b[39mnot\u001b[39;00m \u001b[39mNone\u001b[39;00m:\n\u001b[0;32m     70\u001b[0m         renderer\u001b[39m.\u001b[39mstart_filter()\n\u001b[1;32m---> 72\u001b[0m     \u001b[39mreturn\u001b[39;00m draw(artist, renderer)\n\u001b[0;32m     73\u001b[0m \u001b[39mfinally\u001b[39;00m:\n\u001b[0;32m     74\u001b[0m     \u001b[39mif\u001b[39;00m artist\u001b[39m.\u001b[39mget_agg_filter() \u001b[39mis\u001b[39;00m \u001b[39mnot\u001b[39;00m \u001b[39mNone\u001b[39;00m:\n",
      "File \u001b[1;32mc:\\ProgramData\\Anaconda3\\envs\\skpro-skbase-311\\Lib\\site-packages\\matplotlib\\lines.py:837\u001b[0m, in \u001b[0;36mLine2D.draw\u001b[1;34m(self, renderer)\u001b[0m\n\u001b[0;32m    833\u001b[0m         tpath, affine \u001b[39m=\u001b[39m (\u001b[39mself\u001b[39m\u001b[39m.\u001b[39m_get_transformed_path()\n\u001b[0;32m    834\u001b[0m                          \u001b[39m.\u001b[39mget_transformed_points_and_affine())\n\u001b[0;32m    835\u001b[0m \u001b[39melse\u001b[39;00m:\n\u001b[0;32m    836\u001b[0m     tpath, affine \u001b[39m=\u001b[39m (\u001b[39mself\u001b[39;49m\u001b[39m.\u001b[39;49m_get_transformed_path()\n\u001b[1;32m--> 837\u001b[0m                      \u001b[39m.\u001b[39;49mget_transformed_points_and_affine())\n\u001b[0;32m    839\u001b[0m \u001b[39mif\u001b[39;00m \u001b[39mlen\u001b[39m(tpath\u001b[39m.\u001b[39mvertices):\n\u001b[0;32m    840\u001b[0m     \u001b[39m# subsample the markers if markevery is not None\u001b[39;00m\n\u001b[0;32m    841\u001b[0m     markevery \u001b[39m=\u001b[39m \u001b[39mself\u001b[39m\u001b[39m.\u001b[39mget_markevery()\n",
      "File \u001b[1;32mc:\\ProgramData\\Anaconda3\\envs\\skpro-skbase-311\\Lib\\site-packages\\matplotlib\\transforms.py:2781\u001b[0m, in \u001b[0;36mTransformedPath.get_transformed_points_and_affine\u001b[1;34m(self)\u001b[0m\n\u001b[0;32m   2773\u001b[0m \u001b[39m\u001b[39m\u001b[39m\"\"\"\u001b[39;00m\n\u001b[0;32m   2774\u001b[0m \u001b[39mReturn a copy of the child path, with the non-affine part of\u001b[39;00m\n\u001b[0;32m   2775\u001b[0m \u001b[39mthe transform already applied, along with the affine part of\u001b[39;00m\n\u001b[1;32m   (...)\u001b[0m\n\u001b[0;32m   2778\u001b[0m \u001b[39mbe performed.\u001b[39;00m\n\u001b[0;32m   2779\u001b[0m \u001b[39m\"\"\"\u001b[39;00m\n\u001b[0;32m   2780\u001b[0m \u001b[39mself\u001b[39m\u001b[39m.\u001b[39m_revalidate()\n\u001b[1;32m-> 2781\u001b[0m \u001b[39mreturn\u001b[39;00m \u001b[39mself\u001b[39m\u001b[39m.\u001b[39m_transformed_points, \u001b[39mself\u001b[39;49m\u001b[39m.\u001b[39;49mget_affine()\n",
      "File \u001b[1;32mc:\\ProgramData\\Anaconda3\\envs\\skpro-skbase-311\\Lib\\site-packages\\matplotlib\\transforms.py:2800\u001b[0m, in \u001b[0;36mTransformedPath.get_affine\u001b[1;34m(self)\u001b[0m\n\u001b[0;32m   2799\u001b[0m \u001b[39mdef\u001b[39;00m \u001b[39mget_affine\u001b[39m(\u001b[39mself\u001b[39m):\n\u001b[1;32m-> 2800\u001b[0m     \u001b[39mreturn\u001b[39;00m \u001b[39mself\u001b[39;49m\u001b[39m.\u001b[39;49m_transform\u001b[39m.\u001b[39;49mget_affine()\n",
      "File \u001b[1;32mc:\\ProgramData\\Anaconda3\\envs\\skpro-skbase-311\\Lib\\site-packages\\matplotlib\\transforms.py:2449\u001b[0m, in \u001b[0;36mCompositeGenericTransform.get_affine\u001b[1;34m(self)\u001b[0m\n\u001b[0;32m   2447\u001b[0m     \u001b[39mreturn\u001b[39;00m \u001b[39mself\u001b[39m\u001b[39m.\u001b[39m_b\u001b[39m.\u001b[39mget_affine()\n\u001b[0;32m   2448\u001b[0m \u001b[39melse\u001b[39;00m:\n\u001b[1;32m-> 2449\u001b[0m     \u001b[39mreturn\u001b[39;00m Affine2D(np\u001b[39m.\u001b[39;49mdot(\u001b[39mself\u001b[39;49m\u001b[39m.\u001b[39;49m_b\u001b[39m.\u001b[39;49mget_affine()\u001b[39m.\u001b[39;49mget_matrix(),\n\u001b[0;32m   2450\u001b[0m                            \u001b[39mself\u001b[39;49m\u001b[39m.\u001b[39;49m_a\u001b[39m.\u001b[39;49mget_affine()\u001b[39m.\u001b[39;49mget_matrix()))\n",
      "File \u001b[1;32m<__array_function__ internals>:200\u001b[0m, in \u001b[0;36mdot\u001b[1;34m(*args, **kwargs)\u001b[0m\n",
      "\u001b[1;31mKeyboardInterrupt\u001b[0m: "
     ]
    },
    {
     "data": {
      "image/png": "[encoded data removed]",
      "text/plain": [
       "<Figure size 640x480 with 1 Axes>"
      ]
     },
     "metadata": {},
     "output_type": "display_data"
    }
   ],
   "source": [
    "from skpro.utils.plotting import plot_crossplot_interval\n",
    "\n",
    "plot_crossplot_interval(y_test, y_pred_proba, coverage=0.9)"
   ]
  },
  {
   "cell_type": "markdown",
   "metadata": {},
   "source": [
    "### 3.1.2 two-step residual prediction <a class=\"anchor\" id=\"section3_1_2\"></a>"
   ]
  },
  {
   "cell_type": "code",
   "execution_count": null,
   "metadata": {},
   "outputs": [],
   "source": [
    "from sklearn.ensemble import RandomForestRegressor\n",
    "from sklearn.model_selection import KFold\n",
    "\n",
    "# estimator specification - use any sklearn regressor for reg_mean and reg_resid\n",
    "reg_mean = RandomForestRegressor()\n",
    "reg_resid = RandomForestRegressor()\n",
    "reg_proba = ResidualDouble(reg_mean, estimator_resid=reg_resid, cv=KFold(5))\n",
    "# cv is used to estimate out-of-sample residual variance via 5-fold CV\n",
    "\n",
    "# fit and predict\n",
    "reg_proba.fit(X_train, y_train)\n",
    "y_pred_proba = reg_proba.predict_proba(X_test)\n",
    "\n",
    "# evaluate\n",
    "crps(y_test, y_pred_proba)"
   ]
  },
  {
   "cell_type": "code",
   "execution_count": null,
   "metadata": {},
   "outputs": [],
   "source": [
    "from skpro.utils.plotting import plot_crossplot_interval\n",
    "\n",
    "plot_crossplot_interval(y_test, y_pred_proba, coverage=0.9)"
   ]
  },
  {
   "cell_type": "markdown",
   "metadata": {},
   "source": [
    "### 3.1.3 bootstrap prediction intervals <a class=\"anchor\" id=\"section3_1_3\"></a>"
   ]
  },
  {
   "cell_type": "code",
   "execution_count": null,
   "metadata": {},
   "outputs": [],
   "source": [
    "from sklearn.linear_model import LinearRegression\n",
    "\n",
    "from skpro.regression.bootstrap import BootstrapRegressor\n",
    "\n",
    "# estimator specification - use any sklearn regressor for reg_mean\n",
    "reg_mean = LinearRegression()\n",
    "reg_proba = BootstrapRegressor(reg_mean, n_bootstrap_samples=100)\n",
    "\n",
    "# fit and predict\n",
    "reg_proba.fit(X_train, y_train)\n",
    "y_pred_proba = reg_proba.predict_proba(X_test)\n",
    "\n",
    "# evaluate\n",
    "crps(y_test, y_pred_proba)"
   ]
  },
  {
   "cell_type": "code",
   "execution_count": null,
   "metadata": {},
   "outputs": [],
   "source": [
    "from skpro.utils.plotting import plot_crossplot_interval\n",
    "\n",
    "plot_crossplot_interval(y_test, y_pred_proba, coverage=0.9)"
   ]
  },
  {
   "cell_type": "markdown",
   "metadata": {},
   "source": [
    "### 3.2 Pipelines of `skpro` regressor and `sklearn` transformers <a class=\"anchor\" id=\"section3_2\"></a>"
   ]
  },
  {
   "cell_type": "markdown",
   "metadata": {},
   "source": [
    "`skpro` regressors can be pipelined with `sklearn` transformers, using the `skpro` pipeline.\n",
    "\n",
    "This ensure presence of `predict_proba` etc in the pipeline object.\n",
    "\n",
    "The syntax is exactly the same as for `sklearn`'s pipeline."
   ]
  },
  {
   "cell_type": "code",
   "execution_count": null,
   "metadata": {},
   "outputs": [],
   "source": [
    "from sklearn.datasets import load_diabetes\n",
    "from sklearn.model_selection import train_test_split\n",
    "\n",
    "X, y = load_diabetes(return_X_y=True, as_frame=True)\n",
    "X_train, X_test, y_train, y_test = train_test_split(X, y)"
   ]
  },
  {
   "cell_type": "code",
   "execution_count": null,
   "metadata": {},
   "outputs": [],
   "source": [
    "from sklearn.impute import SimpleImputer as Imputer\n",
    "from sklearn.linear_model import LinearRegression\n",
    "from sklearn.preprocessing import MinMaxScaler\n",
    "\n",
    "from skpro.regression.compose import Pipeline\n",
    "from skpro.regression.residual import ResidualDouble\n",
    "\n",
    "# estimator specification\n",
    "reg_mean = LinearRegression()\n",
    "reg_proba = ResidualDouble(reg_mean)\n",
    "\n",
    "# pipeline is specified as a list of tuples (name, estimator)\n",
    "pipe = Pipeline(\n",
    "    steps=[\n",
    "        (\"imputer\", Imputer()),  # an sklearn transformer\n",
    "        (\"scaler\", MinMaxScaler()),  # an sklearn transformer\n",
    "        (\"regressor\", reg_proba),  # an skpro regressor\n",
    "    ]\n",
    ")"
   ]
  },
  {
   "cell_type": "code",
   "execution_count": null,
   "metadata": {},
   "outputs": [],
   "source": [
    "pipe"
   ]
  },
  {
   "cell_type": "code",
   "execution_count": null,
   "metadata": {},
   "outputs": [],
   "source": [
    "# the pipeline behaves as any skpro regressor\n",
    "pipe.fit(X_train, y_train)\n",
    "y_pred = pipe.predict(X=X_test)\n",
    "y_pred_proba = pipe.predict_proba(X=X_test)"
   ]
  },
  {
   "cell_type": "markdown",
   "metadata": {},
   "source": [
    "the pipeline provides the familiar nested `get_params`, `set_params` interface:\n",
    "\n",
    "nested parameters are keyed `componentname__parametername`"
   ]
  },
  {
   "cell_type": "code",
   "execution_count": null,
   "metadata": {},
   "outputs": [],
   "source": [
    "pipe.get_params()"
   ]
  },
  {
   "cell_type": "markdown",
   "metadata": {},
   "source": [
    "pipelines can also be created via simple lists of estimators,\n",
    "\n",
    "in this case names are generated automatically:"
   ]
  },
  {
   "cell_type": "code",
   "execution_count": null,
   "metadata": {},
   "outputs": [],
   "source": [
    "# pipeline is specified as a list of tuples (name, estimator)\n",
    "pipe = Pipeline(\n",
    "    steps=[\n",
    "        Imputer(),  # an sklearn transformer\n",
    "        MinMaxScaler(),  # an sklearn transformer\n",
    "        reg_proba,  # an skpro regressor\n",
    "    ]\n",
    ")"
   ]
  },
  {
   "cell_type": "markdown",
   "metadata": {},
   "source": [
    "### 3.3 Tuning of `skpro` regressors via grid and random search <a class=\"anchor\" id=\"section3_3\"></a>"
   ]
  },
  {
   "cell_type": "markdown",
   "metadata": {},
   "source": [
    "`skpro` provides grid and random search tuners to tune arbitrary probabilistic regressors,\n",
    "\n",
    "using probabilistic metrics. Besides this, they function as the `sklearn` tuners do."
   ]
  },
  {
   "cell_type": "code",
   "execution_count": null,
   "metadata": {},
   "outputs": [],
   "source": [
    "from sklearn.datasets import load_diabetes\n",
    "from sklearn.model_selection import train_test_split\n",
    "\n",
    "X, y = load_diabetes(return_X_y=True, as_frame=True)\n",
    "X_train, X_test, y_train, y_test = train_test_split(X, y)"
   ]
  },
  {
   "cell_type": "code",
   "execution_count": null,
   "metadata": {},
   "outputs": [],
   "source": [
    "from sklearn.linear_model import LinearRegression\n",
    "from sklearn.model_selection import KFold\n",
    "\n",
    "from skpro.metrics import CRPS\n",
    "from skpro.model_selection import GridSearchCV\n",
    "from skpro.regression.residual import ResidualDouble\n",
    "\n",
    "# cross-validation specification for tuner\n",
    "cv = KFold(n_splits=3)\n",
    "\n",
    "# estimator to be tuned\n",
    "estimator = ResidualDouble(LinearRegression())\n",
    "\n",
    "# tuning grid - do we fit an intercept in the linear regression?\n",
    "param_grid = {\"estimator__fit_intercept\": [True, False]}\n",
    "\n",
    "# metric to be optimized\n",
    "crps_metric = CRPS()\n",
    "\n",
    "# specification of the grid search tuner\n",
    "gscv = GridSearchCV(\n",
    "    estimator=estimator,\n",
    "    param_grid=param_grid,\n",
    "    cv=cv,\n",
    "    scoring=crps_metric,\n",
    ")"
   ]
  },
  {
   "cell_type": "code",
   "execution_count": null,
   "metadata": {},
   "outputs": [],
   "source": [
    "gscv"
   ]
  },
  {
   "cell_type": "markdown",
   "metadata": {},
   "source": [
    "the grid search tuner behaves like any `skpro` probabilistic regressor:"
   ]
  },
  {
   "cell_type": "code",
   "execution_count": null,
   "metadata": {},
   "outputs": [],
   "source": [
    "gscv.fit(X_train, y_train)\n",
    "y_pred = gscv.predict(X_test)\n",
    "y_pred_proba = gscv.predict_proba(X_test)"
   ]
  },
  {
   "cell_type": "markdown",
   "metadata": {},
   "source": [
    "random search is similar, except that instead of a grid a parameter sampler should be specified:"
   ]
  },
  {
   "cell_type": "code",
   "execution_count": null,
   "metadata": {},
   "outputs": [],
   "source": [
    "from skpro.model_selection import RandomizedSearchCV\n",
    "\n",
    "# only difference to GridSearchCV is the param_distributions argument\n",
    "\n",
    "# specification of the random search parameter sampler\n",
    "param_distributions = {\"estimator__fit_intercept\": [True, False]}\n",
    "\n",
    "# specification of the random search tuner\n",
    "rscv = RandomizedSearchCV(\n",
    "    estimator=estimator,\n",
    "    param_distributions=param_distributions,\n",
    "    cv=cv,\n",
    "    scoring=crps_metric,\n",
    ")"
   ]
  },
  {
   "cell_type": "markdown",
   "metadata": {},
   "source": [
    "### 3.4 Bagging/mixture ensemble of probabilistic regressors <a class=\"anchor\" id=\"section3_3\"></a>"
   ]
  },
  {
   "cell_type": "markdown",
   "metadata": {},
   "source": [
    "Classical bagging does the following, for a wrapped estimator:\n",
    "\n",
    "In `fit`:\n",
    "\n",
    "1. subsample rows and/or columns of `X`, `y` to `X_subs`, `y_subs`\n",
    "2. fit clone of wrapped estimator to `X_subs`, `y_subs`\n",
    "3. Repeat 1-2 `n_estimators` times, store that many fitted clones.\n",
    "\n",
    "In `predict`, for `X_test`:\n",
    "\n",
    "1. for all fitted clones, obtain predictions on `X_test` - these are distributions\n",
    "2. return the uniform mixture of these distributions, per test sample"
   ]
  },
  {
   "cell_type": "code",
   "execution_count": null,
   "metadata": {},
   "outputs": [],
   "source": [
    "from sklearn.datasets import load_diabetes\n",
    "from sklearn.model_selection import train_test_split\n",
    "\n",
    "X, y = load_diabetes(return_X_y=True, as_frame=True)\n",
    "X_train, X_test, y_train, y_test = train_test_split(X, y)"
   ]
  },
  {
   "cell_type": "code",
   "execution_count": null,
   "metadata": {},
   "outputs": [],
   "source": [
    "from sklearn.linear_model import LinearRegression\n",
    "\n",
    "from skpro.regression.ensemble import BaggingRegressor\n",
    "from skpro.regression.residual import ResidualDouble\n",
    "\n",
    "reg_mean = LinearRegression()\n",
    "reg_proba = ResidualDouble(reg_mean)\n",
    "\n",
    "ens = BaggingRegressor(reg_proba, n_estimators=10)\n",
    "ens.fit(X_train, y_train)\n",
    "\n",
    "y_pred = ens.predict_proba(X_test)"
   ]
  },
  {
   "cell_type": "code",
   "execution_count": null,
   "metadata": {},
   "outputs": [],
   "source": [
    "# y_pred is a mixture distribution!\n",
    "str(y_pred)"
   ]
  },
  {
   "cell_type": "code",
   "execution_count": null,
   "metadata": {},
   "outputs": [],
   "source": [
    "[type(x) for x in y_pred.distributions]"
   ]
  },
  {
   "cell_type": "markdown",
   "metadata": {},
   "source": [
    "## 4. Extension guide - implementing your own probabilistic regressor <a class=\"anchor\" id=\"chapter4\"></a>"
   ]
  },
  {
   "cell_type": "markdown",
   "metadata": {},
   "source": [
    "\n",
    "`skpro` is meant to be easily extensible, for direct contribution to `skpro` as well as for local/private extension with custom methods.\n",
    "\n",
    "To get started:\n",
    "\n",
    "* Follow the [\"implementing estimator\" developer guide](https://skpro.readthedocs.io/en/stable/developer_guide/add_estimators.html)\n",
    "* Use the [probabilistic regressor template](https://github.com/sktime/skpro/blob/main/extension_templates/regression.py) to get started\n",
    "\n",
    "1. Read through the [probabilistic regression extension template](https://github.com/sktime/skpro/blob/main/extension_templates/regression.py) - this is a `python` file with `todo` blocks that mark the places in which changes need to be added.\n",
    "2. Copy the proba regressor extension template to a local folder in your own repository (local/private extension), or to a suitable location in your clone of the `skpro` or affiliated repository (if contributed extension), inside `skpro.regression`; rename the file and update the file docstring appropriately.\n",
    "3. Address the \"todo\" parts. Usually, this means: changing the name of the class, setting the tag values, specifying hyper-parameters, filling in `__init__`, `_fit`, and at least one of the probabilistic prediction methods, preferably `_predict_proba` (for details see the extension template). You can add private methods as long as they do not override the default public interface. For more details, see the extension template.\n",
    "4. To test your estimator manually: import your estimator and run it in the worfklows in Section 1; then use it in the compositors in Section 3.\n",
    "5. To test your estimator automatically: call `skpro.utils.check_estimator` on your estimator. You can call this on a class or object instance. Ensure you have specified test parameters in the `get_test_params` method, according to the extension template.\n",
    "\n",
    "In case of direct contribution to `skpro` or one of its affiliated packages, additionally:\n",
    "\n",
    "* Add yourself as an author to the code, and to the `CODEOWNERS` for the new estimator file(s).\n",
    "* Create a pull request that contains only the new estimators (and their inheritance tree, if it's not just one class), as well as the automated tests as described above.\n",
    "* In the pull request, describe the estimator and optimally provide a publication or other technical reference for the strategy it implements.\n",
    "* Before making the pull request, ensure that you have all necessary permissions to contribute the code to a permissive license (BSD-3) open source project."
   ]
  },
  {
   "cell_type": "markdown",
   "metadata": {},
   "source": [
    "## 5. Summary<a class=\"anchor\" id=\"chapter5\"></a>\n",
    "\n",
    "* `skpro` is a unified interface toolbox for probabilistic supervised regression, that is, for prediction intervals, quantiles, fully distributional predictions, in a tabular regression setting. The interface is fully interoperable with `scikit-learn` and `scikit-base` interface specifications.\n",
    "\n",
    "* `skpro` comes with rich composition functionality that allows to build complex pipelines easily, and connect easily with other parts of the open source ecosystem, such as `scikit-learn` and individual algorithm libraries.\n",
    "\n",
    "* `skpro` is easy to extend, and comes with user friendly tools to facilitate implementing and testing your own probabilistic regressors and composition principles."
   ]
  },
  {
   "cell_type": "markdown",
   "metadata": {},
   "source": [
    "---\n",
    "\n",
    "### Credits:\n",
    "\n",
    "noteook creation: fkiraly\n",
    "\n",
    "skpro: https://github.com/sktime/skpro/blob/main/CONTRIBUTORS.md"
   ]
  }
 ],
 "metadata": {
  "kernelspec": {
   "display_name": "skpro",
   "language": "python",
   "name": "python3"
  },
  "language_info": {
   "codemirror_mode": {
    "name": "ipython",
    "version": 3
   },
   "file_extension": ".py",
   "mimetype": "text/x-python",
   "name": "python",
   "nbconvert_exporter": "python",
   "pygments_lexer": "ipython3",
   "version": "3.11.4"
  },
  "orig_nbformat": 4,
  "vscode": {
   "interpreter": {
    "hash": "3e631b8a076cc106144e9b132b7d31cae2f1e2660b47e5f9fcb0397caae5fbd5"
   }
  }
 },
 "nbformat": 4,
 "nbformat_minor": 2
}
