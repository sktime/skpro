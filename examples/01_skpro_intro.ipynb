{
 "cells": [
  {
   "attachments": {},
   "cell_type": "markdown",
   "metadata": {},
   "source": [
    "## skpro introduction notebook"
   ]
  },
  {
   "cell_type": "markdown",
   "metadata": {},
   "source": [
    "**Set-up instructions:** On binder, this should run out-of-the-box.\n",
    "\n",
    "To run this notebook as intended, ensure that `skpro` with basic dependency requirements is installed in your python environment."
   ]
  },
  {
   "cell_type": "markdown",
   "metadata": {},
   "source": [
    "`skpro` provides `scikit-learn`-like, `scikit-base` compatible interfaces to:\n",
    "\n",
    "* tabular **supervised regressors with probabilistic prediction modes** - interval, quantile and distribution predictions\n",
    "* **performance metrics to evaluate probabilistic predictions**, e.g., pinball loss, empirical coverage, CRPS\n",
    "* **reductions** to turn non-probabilistic, `scikit-learn` regressors into probabilistic `skpro` regressors, such as bootstrap or conformal\n",
    "* tools for building **pipelines and composite machine learning models**, including tuning via probabilistic performance metrics\n",
    "* symbolic an lazy **probability distributions** with a value domain of `pandas.DataFrame`-s and a `pandas`-like interface\n",
    "\n",
    "**Section 1** provides an overview of common **probabilistic supervised regression workflows** supported by `skpro`.\n",
    "\n",
    "**Section 2** gives an introduction to the different **prediction modes, performance metrics, and benchmarking tools**.\n",
    "\n",
    "**Section 3** discusses **advanced composition patterns**, including various ways to add probabilistic capability to any `sklearn` regressor, pipeline building, tuning, ensembling.\n",
    "\n",
    "**Section 4** gives an introduction to how to write **custom estimators** compliant with the `skpro` interface."
   ]
  },
  {
   "cell_type": "code",
   "execution_count": null,
   "metadata": {},
   "outputs": [],
   "source": [
    "import warnings\n",
    "\n",
    "# import numpy as np\n",
    "# import pandas as pd\n",
    "\n",
    "# hide warnings\n",
    "warnings.filterwarnings(\"ignore\")"
   ]
  },
  {
   "attachments": {},
   "cell_type": "markdown",
   "metadata": {},
   "source": [
    "## 1. Basic probabilistic supervised regression workflows <a class=\"anchor\" id=\"chapter1\"></a>"
   ]
  },
  {
   "cell_type": "markdown",
   "metadata": {},
   "source": [
    "`skpro` revolves around supervised probabilistic regressors:\n",
    "\n",
    "* `fit(X, y)` with tabular features `X`, labels `y`, same rows, both `pd.DataFrame`\n",
    "* `predict_interval(X_test)` for interval predictions of labels\n",
    "* `predict_quantiles(X_test)` for quantile predictions of labels\n",
    "* `predict_var(X_test)` for variance predictions of labels\n",
    "* `predict(X_test)` for mean predictions\n",
    "* `predict_proba(X_test)` for distributional prediction"
   ]
  },
  {
   "attachments": {},
   "cell_type": "markdown",
   "metadata": {},
   "source": [
    "### 1.1 basic deployment workflow"
   ]
  },
  {
   "cell_type": "markdown",
   "metadata": {},
   "source": [
    "`skpro` regressors are used via `fit` then `predict_proba` etc.\n",
    "\n",
    "Same as `sklearn` regressors - `X` and `y` should be `pd.DataFrame` (`numpy` is also ok but not recommended)"
   ]
  },
  {
   "cell_type": "code",
   "execution_count": null,
   "metadata": {},
   "outputs": [],
   "source": [
    "\n",
    "from sklearn.datasets import load_diabetes\n",
    "from sklearn.ensemble import RandomForestRegressor\n",
    "from sklearn.linear_model import LinearRegression\n",
    "from sklearn.model_selection import train_test_split\n",
    "\n",
    "from skpro.regression.residual import ResidualDouble\n",
    "\n",
    "# step 1: data specification\n",
    "X, y = load_diabetes(return_X_y=True, as_frame=True)\n",
    "X_train, X_new, y_train, _ = train_test_split(X, y)\n",
    "\n",
    "# step 2: specifying the regressor\n",
    "# example - random forest for mean prediction\n",
    "# linear regression for variance prediction\n",
    "reg_mean = RandomForestRegressor()\n",
    "reg_resid = LinearRegression()\n",
    "reg_proba = ResidualDouble(reg_mean, reg_resid)\n",
    "\n",
    "# step 3: fitting the model to training data\n",
    "reg_proba.fit(X_train, y_train)\n",
    "\n",
    "# step 4: predicting labels on new data\n",
    "\n",
    "# probabilistic prediction modes - pick any or multiple\n",
    "# we show the return types in detail below\n",
    "\n",
    "# full distribution prediction\n",
    "y_pred_proba = reg_proba.predict_proba(X_new)\n",
    "\n",
    "# interval prediction\n",
    "y_pred_interval = reg_proba.predict_interval(X_new, coverage=0.9)\n",
    "\n",
    "# quantile prediction\n",
    "y_pred_quantiles = reg_proba.predict_quantiles(X_new, alpha=[0.05, 0.5, 0.95])\n",
    "\n",
    "# variance prediction\n",
    "y_pred_var = reg_proba.predict_var(X_new)\n",
    "\n",
    "# mean prediction is same as \"classical\" sklearn predict, also available\n",
    "y_pred_mean = reg_proba.predict(X_new)"
   ]
  },
  {
   "cell_type": "markdown",
   "metadata": {},
   "source": [
    "### 1.1.1 distribution predictions"
   ]
  },
  {
   "cell_type": "markdown",
   "metadata": {},
   "source": [
    "`y_pred_proba` is an `skpro` distribution - it has index and columns like `pd.DataFrame`\n",
    "\n",
    "\"we predict that true labels are distributed according to `y_pred_proba`\"\n",
    "\n",
    "(here: distribution marginal by row/columns)"
   ]
  },
  {
   "cell_type": "code",
   "execution_count": null,
   "metadata": {},
   "outputs": [],
   "source": [
    "y_pred_proba = reg_proba.predict_proba(X_new)\n",
    "y_pred_proba"
   ]
  },
  {
   "cell_type": "markdown",
   "metadata": {},
   "source": [
    "`skpro` distribution objects are pandas-like"
   ]
  },
  {
   "cell_type": "code",
   "execution_count": null,
   "metadata": {},
   "outputs": [],
   "source": [
    "y_pred_proba.shape"
   ]
  },
  {
   "cell_type": "code",
   "execution_count": null,
   "metadata": {},
   "outputs": [],
   "source": [
    "y_pred_proba.index  # same index as X_new"
   ]
  },
  {
   "cell_type": "code",
   "execution_count": 6,
   "metadata": {},
   "outputs": [
    {
     "data": {
      "text/plain": [
       "Index(['target'], dtype='object')"
      ]
     },
     "execution_count": 6,
     "metadata": {},
     "output_type": "execute_result"
    }
   ],
   "source": [
    "y_pred_proba.columns  # same columns as X_new"
   ]
  },
  {
   "cell_type": "markdown",
   "metadata": {},
   "source": [
    "distribution objects have `sample` and methods such as `mean`, `var`:"
   ]
  },
  {
   "cell_type": "code",
   "execution_count": 7,
   "metadata": {},
   "outputs": [
    {
     "data": {
      "text/html": [
       "<div>\n",
       "<style scoped>\n",
       "    .dataframe tbody tr th:only-of-type {\n",
       "        vertical-align: middle;\n",
       "    }\n",
       "\n",
       "    .dataframe tbody tr th {\n",
       "        vertical-align: top;\n",
       "    }\n",
       "\n",
       "    .dataframe thead th {\n",
       "        text-align: right;\n",
       "    }\n",
       "</style>\n",
       "<table border=\"1\" class=\"dataframe\">\n",
       "  <thead>\n",
       "    <tr style=\"text-align: right;\">\n",
       "      <th></th>\n",
       "      <th>target</th>\n",
       "    </tr>\n",
       "  </thead>\n",
       "  <tbody>\n",
       "    <tr>\n",
       "      <th>36</th>\n",
       "      <td>226.800503</td>\n",
       "    </tr>\n",
       "    <tr>\n",
       "      <th>220</th>\n",
       "      <td>107.150519</td>\n",
       "    </tr>\n",
       "    <tr>\n",
       "      <th>420</th>\n",
       "      <td>91.429409</td>\n",
       "    </tr>\n",
       "    <tr>\n",
       "      <th>350</th>\n",
       "      <td>275.793488</td>\n",
       "    </tr>\n",
       "    <tr>\n",
       "      <th>112</th>\n",
       "      <td>164.841224</td>\n",
       "    </tr>\n",
       "  </tbody>\n",
       "</table>\n",
       "</div>"
      ],
      "text/plain": [
       "         target\n",
       "36   226.800503\n",
       "220  107.150519\n",
       "420   91.429409\n",
       "350  275.793488\n",
       "112  164.841224"
      ]
     },
     "execution_count": 7,
     "metadata": {},
     "output_type": "execute_result"
    }
   ],
   "source": [
    "y_pred_proba.sample().head()"
   ]
  },
  {
   "cell_type": "code",
   "execution_count": 8,
   "metadata": {},
   "outputs": [
    {
     "data": {
      "text/html": [
       "<div>\n",
       "<style scoped>\n",
       "    .dataframe tbody tr th:only-of-type {\n",
       "        vertical-align: middle;\n",
       "    }\n",
       "\n",
       "    .dataframe tbody tr th {\n",
       "        vertical-align: top;\n",
       "    }\n",
       "\n",
       "    .dataframe thead th {\n",
       "        text-align: right;\n",
       "    }\n",
       "</style>\n",
       "<table border=\"1\" class=\"dataframe\">\n",
       "  <thead>\n",
       "    <tr style=\"text-align: right;\">\n",
       "      <th></th>\n",
       "      <th>target</th>\n",
       "    </tr>\n",
       "  </thead>\n",
       "  <tbody>\n",
       "    <tr>\n",
       "      <th>36</th>\n",
       "      <td>215.73</td>\n",
       "    </tr>\n",
       "    <tr>\n",
       "      <th>220</th>\n",
       "      <td>95.61</td>\n",
       "    </tr>\n",
       "    <tr>\n",
       "      <th>420</th>\n",
       "      <td>101.67</td>\n",
       "    </tr>\n",
       "    <tr>\n",
       "      <th>350</th>\n",
       "      <td>252.81</td>\n",
       "    </tr>\n",
       "    <tr>\n",
       "      <th>112</th>\n",
       "      <td>154.53</td>\n",
       "    </tr>\n",
       "  </tbody>\n",
       "</table>\n",
       "</div>"
      ],
      "text/plain": [
       "     target\n",
       "36   215.73\n",
       "220   95.61\n",
       "420  101.67\n",
       "350  252.81\n",
       "112  154.53"
      ]
     },
     "execution_count": 8,
     "metadata": {},
     "output_type": "execute_result"
    }
   ],
   "source": [
    "y_pred_proba.mean().head()"
   ]
  },
  {
   "cell_type": "code",
   "execution_count": 9,
   "metadata": {},
   "outputs": [
    {
     "data": {
      "text/html": [
       "<div>\n",
       "<style scoped>\n",
       "    .dataframe tbody tr th:only-of-type {\n",
       "        vertical-align: middle;\n",
       "    }\n",
       "\n",
       "    .dataframe tbody tr th {\n",
       "        vertical-align: top;\n",
       "    }\n",
       "\n",
       "    .dataframe thead th {\n",
       "        text-align: right;\n",
       "    }\n",
       "</style>\n",
       "<table border=\"1\" class=\"dataframe\">\n",
       "  <thead>\n",
       "    <tr style=\"text-align: right;\">\n",
       "      <th></th>\n",
       "      <th>target</th>\n",
       "    </tr>\n",
       "  </thead>\n",
       "  <tbody>\n",
       "    <tr>\n",
       "      <th>36</th>\n",
       "      <td>315.951596</td>\n",
       "    </tr>\n",
       "    <tr>\n",
       "      <th>220</th>\n",
       "      <td>237.688334</td>\n",
       "    </tr>\n",
       "    <tr>\n",
       "      <th>420</th>\n",
       "      <td>593.345288</td>\n",
       "    </tr>\n",
       "    <tr>\n",
       "      <th>350</th>\n",
       "      <td>331.345406</td>\n",
       "    </tr>\n",
       "    <tr>\n",
       "      <th>112</th>\n",
       "      <td>347.472328</td>\n",
       "    </tr>\n",
       "  </tbody>\n",
       "</table>\n",
       "</div>"
      ],
      "text/plain": [
       "         target\n",
       "36   315.951596\n",
       "220  237.688334\n",
       "420  593.345288\n",
       "350  331.345406\n",
       "112  347.472328"
      ]
     },
     "execution_count": 9,
     "metadata": {},
     "output_type": "execute_result"
    }
   ],
   "source": [
    "y_pred_proba.var().head()"
   ]
  },
  {
   "cell_type": "markdown",
   "metadata": {},
   "source": [
    "### 1.1.2 interval predictions"
   ]
  },
  {
   "cell_type": "markdown",
   "metadata": {},
   "source": [
    "interval prediction `y_pred_interval` is a `pd.DataFrame`:\n",
    "\n",
    "* rows are the same as `X_new`\n",
    "* columns indicate variables, nominal coverage, and bottom/upper bound\n",
    "\n",
    "\"we predict that value in row falls between bottom/upper with 90% chance\""
   ]
  },
  {
   "cell_type": "code",
   "execution_count": 10,
   "metadata": {},
   "outputs": [
    {
     "data": {
      "text/html": [
       "<div>\n",
       "<style scoped>\n",
       "    .dataframe tbody tr th:only-of-type {\n",
       "        vertical-align: middle;\n",
       "    }\n",
       "\n",
       "    .dataframe tbody tr th {\n",
       "        vertical-align: top;\n",
       "    }\n",
       "\n",
       "    .dataframe thead tr th {\n",
       "        text-align: left;\n",
       "    }\n",
       "</style>\n",
       "<table border=\"1\" class=\"dataframe\">\n",
       "  <thead>\n",
       "    <tr>\n",
       "      <th></th>\n",
       "      <th colspan=\"2\" halign=\"left\">target</th>\n",
       "    </tr>\n",
       "    <tr>\n",
       "      <th></th>\n",
       "      <th colspan=\"2\" halign=\"left\">0.9</th>\n",
       "    </tr>\n",
       "    <tr>\n",
       "      <th></th>\n",
       "      <th>lower</th>\n",
       "      <th>upper</th>\n",
       "    </tr>\n",
       "  </thead>\n",
       "  <tbody>\n",
       "    <tr>\n",
       "      <th>36</th>\n",
       "      <td>186.492682</td>\n",
       "      <td>244.967318</td>\n",
       "    </tr>\n",
       "    <tr>\n",
       "      <th>220</th>\n",
       "      <td>70.251055</td>\n",
       "      <td>120.968945</td>\n",
       "    </tr>\n",
       "    <tr>\n",
       "      <th>420</th>\n",
       "      <td>61.603537</td>\n",
       "      <td>141.736463</td>\n",
       "    </tr>\n",
       "    <tr>\n",
       "      <th>350</th>\n",
       "      <td>222.868901</td>\n",
       "      <td>282.751099</td>\n",
       "    </tr>\n",
       "    <tr>\n",
       "      <th>112</th>\n",
       "      <td>123.868926</td>\n",
       "      <td>185.191074</td>\n",
       "    </tr>\n",
       "  </tbody>\n",
       "</table>\n",
       "</div>"
      ],
      "text/plain": [
       "         target            \n",
       "            0.9            \n",
       "          lower       upper\n",
       "36   186.492682  244.967318\n",
       "220   70.251055  120.968945\n",
       "420   61.603537  141.736463\n",
       "350  222.868901  282.751099\n",
       "112  123.868926  185.191074"
      ]
     },
     "execution_count": 10,
     "metadata": {},
     "output_type": "execute_result"
    }
   ],
   "source": [
    "y_pred_interval = reg_proba.predict_interval(X_new, coverage=0.9)\n",
    "y_pred_interval.head()"
   ]
  },
  {
   "cell_type": "markdown",
   "metadata": {},
   "source": [
    "### 1.1.3 quantile predictions"
   ]
  },
  {
   "cell_type": "markdown",
   "metadata": {},
   "source": [
    "quantile prediction `y_pred_quantiles` is a `pd.DataFrame`:\n",
    "\n",
    "* rows are the same as `X_new`\n",
    "* columns indicate variables, quantile points\n",
    "\n",
    "\"we predict the 5%, 50%, 95% quantile points for the row to be here\""
   ]
  },
  {
   "cell_type": "code",
   "execution_count": 11,
   "metadata": {},
   "outputs": [
    {
     "data": {
      "text/html": [
       "<div>\n",
       "<style scoped>\n",
       "    .dataframe tbody tr th:only-of-type {\n",
       "        vertical-align: middle;\n",
       "    }\n",
       "\n",
       "    .dataframe tbody tr th {\n",
       "        vertical-align: top;\n",
       "    }\n",
       "\n",
       "    .dataframe thead tr th {\n",
       "        text-align: left;\n",
       "    }\n",
       "</style>\n",
       "<table border=\"1\" class=\"dataframe\">\n",
       "  <thead>\n",
       "    <tr>\n",
       "      <th></th>\n",
       "      <th colspan=\"3\" halign=\"left\">target</th>\n",
       "    </tr>\n",
       "    <tr>\n",
       "      <th></th>\n",
       "      <th>0.05</th>\n",
       "      <th>0.50</th>\n",
       "      <th>0.95</th>\n",
       "    </tr>\n",
       "  </thead>\n",
       "  <tbody>\n",
       "    <tr>\n",
       "      <th>36</th>\n",
       "      <td>186.492682</td>\n",
       "      <td>215.73</td>\n",
       "      <td>244.967318</td>\n",
       "    </tr>\n",
       "    <tr>\n",
       "      <th>220</th>\n",
       "      <td>70.251055</td>\n",
       "      <td>95.61</td>\n",
       "      <td>120.968945</td>\n",
       "    </tr>\n",
       "    <tr>\n",
       "      <th>420</th>\n",
       "      <td>61.603537</td>\n",
       "      <td>101.67</td>\n",
       "      <td>141.736463</td>\n",
       "    </tr>\n",
       "    <tr>\n",
       "      <th>350</th>\n",
       "      <td>222.868901</td>\n",
       "      <td>252.81</td>\n",
       "      <td>282.751099</td>\n",
       "    </tr>\n",
       "    <tr>\n",
       "      <th>112</th>\n",
       "      <td>123.868926</td>\n",
       "      <td>154.53</td>\n",
       "      <td>185.191074</td>\n",
       "    </tr>\n",
       "  </tbody>\n",
       "</table>\n",
       "</div>"
      ],
      "text/plain": [
       "         target                    \n",
       "           0.05    0.50        0.95\n",
       "36   186.492682  215.73  244.967318\n",
       "220   70.251055   95.61  120.968945\n",
       "420   61.603537  101.67  141.736463\n",
       "350  222.868901  252.81  282.751099\n",
       "112  123.868926  154.53  185.191074"
      ]
     },
     "execution_count": 11,
     "metadata": {},
     "output_type": "execute_result"
    }
   ],
   "source": [
    "y_pred_quantiles = reg_proba.predict_quantiles(X_new, alpha=[0.05, 0.5, 0.95])\n",
    "y_pred_quantiles.head()"
   ]
  },
  {
   "cell_type": "markdown",
   "metadata": {},
   "source": [
    "### 1.1.4 mean and variance predictions"
   ]
  },
  {
   "cell_type": "markdown",
   "metadata": {},
   "source": [
    "mean and variance predictions `y_pred_mean`, `y_pred_var` are `pd.DataFrame`-s:\n",
    "\n",
    "* rows are the same as `X_new`\n",
    "* columns are the same as `X_new`\n",
    "\n",
    "entries are predictive mean and variance in row/column"
   ]
  },
  {
   "cell_type": "code",
   "execution_count": 12,
   "metadata": {},
   "outputs": [],
   "source": [
    "y_pred_mean = reg_proba.predict(X_new)\n",
    "y_pred_var = reg_proba.predict_var(X_new)"
   ]
  },
  {
   "cell_type": "code",
   "execution_count": 13,
   "metadata": {},
   "outputs": [
    {
     "data": {
      "text/html": [
       "<div>\n",
       "<style scoped>\n",
       "    .dataframe tbody tr th:only-of-type {\n",
       "        vertical-align: middle;\n",
       "    }\n",
       "\n",
       "    .dataframe tbody tr th {\n",
       "        vertical-align: top;\n",
       "    }\n",
       "\n",
       "    .dataframe thead th {\n",
       "        text-align: right;\n",
       "    }\n",
       "</style>\n",
       "<table border=\"1\" class=\"dataframe\">\n",
       "  <thead>\n",
       "    <tr style=\"text-align: right;\">\n",
       "      <th></th>\n",
       "      <th>target</th>\n",
       "    </tr>\n",
       "  </thead>\n",
       "  <tbody>\n",
       "    <tr>\n",
       "      <th>36</th>\n",
       "      <td>215.73</td>\n",
       "    </tr>\n",
       "    <tr>\n",
       "      <th>220</th>\n",
       "      <td>95.61</td>\n",
       "    </tr>\n",
       "    <tr>\n",
       "      <th>420</th>\n",
       "      <td>101.67</td>\n",
       "    </tr>\n",
       "    <tr>\n",
       "      <th>350</th>\n",
       "      <td>252.81</td>\n",
       "    </tr>\n",
       "    <tr>\n",
       "      <th>112</th>\n",
       "      <td>154.53</td>\n",
       "    </tr>\n",
       "  </tbody>\n",
       "</table>\n",
       "</div>"
      ],
      "text/plain": [
       "     target\n",
       "36   215.73\n",
       "220   95.61\n",
       "420  101.67\n",
       "350  252.81\n",
       "112  154.53"
      ]
     },
     "execution_count": 13,
     "metadata": {},
     "output_type": "execute_result"
    }
   ],
   "source": [
    "y_pred_mean.head()"
   ]
  },
  {
   "cell_type": "code",
   "execution_count": 14,
   "metadata": {},
   "outputs": [
    {
     "data": {
      "text/html": [
       "<div>\n",
       "<style scoped>\n",
       "    .dataframe tbody tr th:only-of-type {\n",
       "        vertical-align: middle;\n",
       "    }\n",
       "\n",
       "    .dataframe tbody tr th {\n",
       "        vertical-align: top;\n",
       "    }\n",
       "\n",
       "    .dataframe thead th {\n",
       "        text-align: right;\n",
       "    }\n",
       "</style>\n",
       "<table border=\"1\" class=\"dataframe\">\n",
       "  <thead>\n",
       "    <tr style=\"text-align: right;\">\n",
       "      <th></th>\n",
       "      <th>target</th>\n",
       "    </tr>\n",
       "  </thead>\n",
       "  <tbody>\n",
       "    <tr>\n",
       "      <th>36</th>\n",
       "      <td>315.951596</td>\n",
       "    </tr>\n",
       "    <tr>\n",
       "      <th>220</th>\n",
       "      <td>237.688334</td>\n",
       "    </tr>\n",
       "    <tr>\n",
       "      <th>420</th>\n",
       "      <td>593.345288</td>\n",
       "    </tr>\n",
       "    <tr>\n",
       "      <th>350</th>\n",
       "      <td>331.345406</td>\n",
       "    </tr>\n",
       "    <tr>\n",
       "      <th>112</th>\n",
       "      <td>347.472328</td>\n",
       "    </tr>\n",
       "  </tbody>\n",
       "</table>\n",
       "</div>"
      ],
      "text/plain": [
       "         target\n",
       "36   315.951596\n",
       "220  237.688334\n",
       "420  593.345288\n",
       "350  331.345406\n",
       "112  347.472328"
      ]
     },
     "execution_count": 14,
     "metadata": {},
     "output_type": "execute_result"
    }
   ],
   "source": [
    "y_pred_var.head()"
   ]
  },
  {
   "cell_type": "markdown",
   "metadata": {},
   "source": [
    "this is the same as taking the distribution prediction and taking mean/variance\n",
    "\n",
    "(for distribution objects that estimate these precisely)"
   ]
  },
  {
   "cell_type": "code",
   "execution_count": 15,
   "metadata": {},
   "outputs": [
    {
     "data": {
      "text/html": [
       "<div>\n",
       "<style scoped>\n",
       "    .dataframe tbody tr th:only-of-type {\n",
       "        vertical-align: middle;\n",
       "    }\n",
       "\n",
       "    .dataframe tbody tr th {\n",
       "        vertical-align: top;\n",
       "    }\n",
       "\n",
       "    .dataframe thead th {\n",
       "        text-align: right;\n",
       "    }\n",
       "</style>\n",
       "<table border=\"1\" class=\"dataframe\">\n",
       "  <thead>\n",
       "    <tr style=\"text-align: right;\">\n",
       "      <th></th>\n",
       "      <th>target</th>\n",
       "    </tr>\n",
       "  </thead>\n",
       "  <tbody>\n",
       "    <tr>\n",
       "      <th>36</th>\n",
       "      <td>215.73</td>\n",
       "    </tr>\n",
       "    <tr>\n",
       "      <th>220</th>\n",
       "      <td>95.61</td>\n",
       "    </tr>\n",
       "    <tr>\n",
       "      <th>420</th>\n",
       "      <td>101.67</td>\n",
       "    </tr>\n",
       "    <tr>\n",
       "      <th>350</th>\n",
       "      <td>252.81</td>\n",
       "    </tr>\n",
       "    <tr>\n",
       "      <th>112</th>\n",
       "      <td>154.53</td>\n",
       "    </tr>\n",
       "  </tbody>\n",
       "</table>\n",
       "</div>"
      ],
      "text/plain": [
       "     target\n",
       "36   215.73\n",
       "220   95.61\n",
       "420  101.67\n",
       "350  252.81\n",
       "112  154.53"
      ]
     },
     "execution_count": 15,
     "metadata": {},
     "output_type": "execute_result"
    }
   ],
   "source": [
    "y_pred_proba.mean().head()"
   ]
  },
  {
   "cell_type": "code",
   "execution_count": 16,
   "metadata": {},
   "outputs": [
    {
     "data": {
      "text/html": [
       "<div>\n",
       "<style scoped>\n",
       "    .dataframe tbody tr th:only-of-type {\n",
       "        vertical-align: middle;\n",
       "    }\n",
       "\n",
       "    .dataframe tbody tr th {\n",
       "        vertical-align: top;\n",
       "    }\n",
       "\n",
       "    .dataframe thead th {\n",
       "        text-align: right;\n",
       "    }\n",
       "</style>\n",
       "<table border=\"1\" class=\"dataframe\">\n",
       "  <thead>\n",
       "    <tr style=\"text-align: right;\">\n",
       "      <th></th>\n",
       "      <th>target</th>\n",
       "    </tr>\n",
       "  </thead>\n",
       "  <tbody>\n",
       "    <tr>\n",
       "      <th>36</th>\n",
       "      <td>315.951596</td>\n",
       "    </tr>\n",
       "    <tr>\n",
       "      <th>220</th>\n",
       "      <td>237.688334</td>\n",
       "    </tr>\n",
       "    <tr>\n",
       "      <th>420</th>\n",
       "      <td>593.345288</td>\n",
       "    </tr>\n",
       "    <tr>\n",
       "      <th>350</th>\n",
       "      <td>331.345406</td>\n",
       "    </tr>\n",
       "    <tr>\n",
       "      <th>112</th>\n",
       "      <td>347.472328</td>\n",
       "    </tr>\n",
       "  </tbody>\n",
       "</table>\n",
       "</div>"
      ],
      "text/plain": [
       "         target\n",
       "36   315.951596\n",
       "220  237.688334\n",
       "420  593.345288\n",
       "350  331.345406\n",
       "112  347.472328"
      ]
     },
     "execution_count": 16,
     "metadata": {},
     "output_type": "execute_result"
    }
   ],
   "source": [
    "y_pred_proba.var().head()"
   ]
  },
  {
   "attachments": {},
   "cell_type": "markdown",
   "metadata": {},
   "source": [
    "### 1.2 simple evaluation workflow for probabilistic predictions"
   ]
  },
  {
   "cell_type": "markdown",
   "metadata": {},
   "source": [
    "for simple evaluation:\n",
    "\n",
    "1. split the data into train/test set\n",
    "2. make predictions of either type for test features\n",
    "3. compute metric on test set, comparing test predictions to hend out test labels\n",
    "\n",
    "Note:\n",
    "\n",
    "* metrics will compare tabular ground truth to probabilistic prediction\n",
    "* the metric will needs to be of a compatible type, e.g., for proba predictions"
   ]
  },
  {
   "cell_type": "code",
   "execution_count": 17,
   "metadata": {},
   "outputs": [
    {
     "data": {
      "text/plain": [
       "31.32745662219804"
      ]
     },
     "execution_count": 17,
     "metadata": {},
     "output_type": "execute_result"
    }
   ],
   "source": [
    "from sklearn.datasets import load_diabetes\n",
    "from sklearn.ensemble import RandomForestRegressor\n",
    "from sklearn.linear_model import LinearRegression\n",
    "from sklearn.model_selection import train_test_split\n",
    "\n",
    "from skpro.metrics import CRPS\n",
    "from skpro.regression.residual import ResidualDouble\n",
    "\n",
    "# step 1: data specification\n",
    "X, y = load_diabetes(return_X_y=True, as_frame=True)\n",
    "X_train, X_test, y_train, y_test = train_test_split(X, y)\n",
    "\n",
    "# step 2: specifying the regressor\n",
    "# example - linear regression for mean prediction\n",
    "# random forest for variance prediction\n",
    "reg_mean = LinearRegression()\n",
    "reg_resid = RandomForestRegressor()\n",
    "reg_proba = ResidualDouble(reg_mean, reg_resid)\n",
    "\n",
    "# step 3: fitting the model to training data\n",
    "reg_proba.fit(X_train, y_train)\n",
    "\n",
    "# step 4: predicting labels on new data\n",
    "y_pred_proba = reg_proba.predict_proba(X_test)\n",
    "\n",
    "# step 5: specifying evaluation metric\n",
    "metric = CRPS()\n",
    "\n",
    "# step 6: evaluat metric, compare predictions to actuals\n",
    "metric(y_test, y_pred_proba)"
   ]
  },
  {
   "cell_type": "markdown",
   "metadata": {},
   "source": [
    "how do we know that metric is of right type? Via `scitype:y_pred` tag"
   ]
  },
  {
   "cell_type": "code",
   "execution_count": 18,
   "metadata": {},
   "outputs": [
    {
     "data": {
      "text/plain": [
       "{'estimator_type': 'estimator',\n",
       " 'object_type': 'metric',\n",
       " 'reserved_params': ['multioutput', 'score_average'],\n",
       " 'scitype:y_pred': 'pred_proba',\n",
       " 'lower_is_better': True}"
      ]
     },
     "execution_count": 18,
     "metadata": {},
     "output_type": "execute_result"
    }
   ],
   "source": [
    "metric.get_tags()\n",
    "# scitype:y_pred is pred_proba - for proba predictions"
   ]
  },
  {
   "cell_type": "markdown",
   "metadata": {},
   "source": [
    "how do we find metrics for a prediction type?"
   ]
  },
  {
   "cell_type": "code",
   "execution_count": 19,
   "metadata": {},
   "outputs": [
    {
     "data": {
      "text/html": [
       "<div>\n",
       "<style scoped>\n",
       "    .dataframe tbody tr th:only-of-type {\n",
       "        vertical-align: middle;\n",
       "    }\n",
       "\n",
       "    .dataframe tbody tr th {\n",
       "        vertical-align: top;\n",
       "    }\n",
       "\n",
       "    .dataframe thead th {\n",
       "        text-align: right;\n",
       "    }\n",
       "</style>\n",
       "<table border=\"1\" class=\"dataframe\">\n",
       "  <thead>\n",
       "    <tr style=\"text-align: right;\">\n",
       "      <th></th>\n",
       "      <th>name</th>\n",
       "      <th>object</th>\n",
       "      <th>scitype:y_pred</th>\n",
       "    </tr>\n",
       "  </thead>\n",
       "  <tbody>\n",
       "    <tr>\n",
       "      <th>0</th>\n",
       "      <td>CRPS</td>\n",
       "      <td>&lt;class 'skpro.metrics._classes.CRPS'&gt;</td>\n",
       "      <td>pred_proba</td>\n",
       "    </tr>\n",
       "    <tr>\n",
       "      <th>1</th>\n",
       "      <td>ConstraintViolation</td>\n",
       "      <td>&lt;class 'skpro.metrics._classes.ConstraintViola...</td>\n",
       "      <td>pred_interval</td>\n",
       "    </tr>\n",
       "    <tr>\n",
       "      <th>2</th>\n",
       "      <td>EmpiricalCoverage</td>\n",
       "      <td>&lt;class 'skpro.metrics._classes.EmpiricalCovera...</td>\n",
       "      <td>pred_interval</td>\n",
       "    </tr>\n",
       "    <tr>\n",
       "      <th>3</th>\n",
       "      <td>LogLoss</td>\n",
       "      <td>&lt;class 'skpro.metrics._classes.LogLoss'&gt;</td>\n",
       "      <td>pred_proba</td>\n",
       "    </tr>\n",
       "    <tr>\n",
       "      <th>4</th>\n",
       "      <td>PinballLoss</td>\n",
       "      <td>&lt;class 'skpro.metrics._classes.PinballLoss'&gt;</td>\n",
       "      <td>pred_quantiles</td>\n",
       "    </tr>\n",
       "    <tr>\n",
       "      <th>5</th>\n",
       "      <td>SquaredDistrLoss</td>\n",
       "      <td>&lt;class 'skpro.metrics._classes.SquaredDistrLoss'&gt;</td>\n",
       "      <td>pred_proba</td>\n",
       "    </tr>\n",
       "  </tbody>\n",
       "</table>\n",
       "</div>"
      ],
      "text/plain": [
       "                  name                                             object  \\\n",
       "0                 CRPS              <class 'skpro.metrics._classes.CRPS'>   \n",
       "1  ConstraintViolation  <class 'skpro.metrics._classes.ConstraintViola...   \n",
       "2    EmpiricalCoverage  <class 'skpro.metrics._classes.EmpiricalCovera...   \n",
       "3              LogLoss           <class 'skpro.metrics._classes.LogLoss'>   \n",
       "4          PinballLoss       <class 'skpro.metrics._classes.PinballLoss'>   \n",
       "5     SquaredDistrLoss  <class 'skpro.metrics._classes.SquaredDistrLoss'>   \n",
       "\n",
       "   scitype:y_pred  \n",
       "0      pred_proba  \n",
       "1   pred_interval  \n",
       "2   pred_interval  \n",
       "3      pred_proba  \n",
       "4  pred_quantiles  \n",
       "5      pred_proba  "
      ]
     },
     "execution_count": 19,
     "metadata": {},
     "output_type": "execute_result"
    }
   ],
   "source": [
    "from skpro.registry import all_objects\n",
    "\n",
    "all_objects(\"metric\", as_dataframe=True, return_tags=\"scitype:y_pred\")"
   ]
  },
  {
   "cell_type": "markdown",
   "metadata": {},
   "source": [
    "extra note: quantile metrics can be applied to interval predictions as well\n",
    "\n",
    "more details on metrics below"
   ]
  },
  {
   "cell_type": "markdown",
   "metadata": {},
   "source": [
    "### 1.2.1 diagnostic visualisations"
   ]
  },
  {
   "cell_type": "markdown",
   "metadata": {},
   "source": [
    "some useful diagnostic visualisations: variants of crossplots for probabilistic predictions"
   ]
  },
  {
   "cell_type": "markdown",
   "metadata": {},
   "source": [
    "A. crossplot ground truth vs prediction intervals.\n",
    "\n",
    "Works with both proba and interval predictions.\n",
    "\n",
    "What to look for: intervals shouhld cut through the x = y line (green points)"
   ]
  },
  {
   "cell_type": "code",
   "execution_count": 20,
   "metadata": {},
   "outputs": [
    {
     "data": {
      "text/plain": [
       "<Axes: xlabel='Correct label $y_i$', ylabel='Prediction interval $\\\\widehat{y}_i$'>"
      ]
     },
     "execution_count": 20,
     "metadata": {},
     "output_type": "execute_result"
    },
    {
     "data": {
      "image/png": "[encoded data removed]",
      "text/plain": [
       "<Figure size 640x480 with 1 Axes>"
      ]
     },
     "metadata": {},
     "output_type": "display_data"
    }
   ],
   "source": [
    "from skpro.utils.plotting import plot_crossplot_interval\n",
    "\n",
    "plot_crossplot_interval(y_test, y_pred_proba, coverage=0.9)"
   ]
  },
  {
   "cell_type": "code",
   "execution_count": 21,
   "metadata": {},
   "outputs": [
    {
     "data": {
      "text/plain": [
       "<Axes: xlabel='Correct label $y_i$', ylabel='Prediction interval $\\\\widehat{y}_i$'>"
      ]
     },
     "execution_count": 21,
     "metadata": {},
     "output_type": "execute_result"
    },
    {
     "data": {
      "image/png": "[encoded data removed]",
      "text/plain": [
       "<Figure size 640x480 with 1 Axes>"
      ]
     },
     "metadata": {},
     "output_type": "display_data"
    }
   ],
   "source": [
    "from skpro.utils.plotting import plot_crossplot_interval\n",
    "\n",
    "y_pred_interval = reg_proba.predict_interval(X_test, coverage=0.9)\n",
    "plot_crossplot_interval(y_test, y_pred_interval)"
   ]
  },
  {
   "cell_type": "markdown",
   "metadata": {},
   "source": [
    "B. crossplot residuals vs predictive standard deviation\n",
    "\n",
    "Works with both proba and variance predictions.\n",
    "\n",
    "What to look for: should be close to a line, high linear correlation"
   ]
  },
  {
   "cell_type": "code",
   "execution_count": null,
   "metadata": {},
   "outputs": [
    {
     "data": {
      "text/plain": [
       "<Axes: xlabel='Absolute errors $|y_i - \\\\widehat{y}_i|$', ylabel='Predictive standard deviation of $\\\\widehat{y}_i$'>"
      ]
     },
     "execution_count": 22,
     "metadata": {},
     "output_type": "execute_result"
    },
    {
     "data": {
      "image/png": "[encoded data removed]",
      "text/plain": [
       "<Figure size 640x480 with 1 Axes>"
      ]
     },
     "metadata": {},
     "output_type": "display_data"
    }
   ],
   "source": [
    "from skpro.utils.plotting import plot_crossplot_std\n",
    "\n",
    "plot_crossplot_std(y_test, y_pred_proba)"
   ]
  },
  {
   "cell_type": "code",
   "execution_count": null,
   "metadata": {},
   "outputs": [],
   "source": [
    "from skpro.utils.plotting import plot_crossplot_std\n",
    "\n",
    "y_pred_var = reg_proba.predict_var(X_test)\n",
    "plot_crossplot_std(y_test, y_pred_var)"
   ]
  },
  {
   "cell_type": "markdown",
   "metadata": {},
   "source": [
    "C. crossplot ground truth vs loss values\n",
    "\n",
    "Loss and prediction type should agree.\n",
    "\n",
    "What to look for: association between accuracy and ground truth value\n",
    "\n",
    "Diagnostic of which values we can predict more accurately,\n",
    "\n",
    "e.g., to inform modelling or identify unusual outliers"
   ]
  },
  {
   "cell_type": "code",
   "execution_count": null,
   "metadata": {},
   "outputs": [],
   "source": [
    "from skpro.utils.plotting import plot_crossplot_loss\n",
    "\n",
    "crps_metric = CRPS()\n",
    "plot_crossplot_loss(y_test, y_pred_proba, crps_metric)"
   ]
  },
  {
   "cell_type": "markdown",
   "metadata": {},
   "source": [
    "### 1.3 searching for probabilistic regressors and metrics"
   ]
  },
  {
   "cell_type": "markdown",
   "metadata": {},
   "source": [
    "all objects in `skpro` are indexed via the `registry` utility `all_objects`.\n",
    "\n",
    "To find probabilistic supervised regressors, use `all_objects` with the type `regressor_proba`:"
   ]
  },
  {
   "cell_type": "code",
   "execution_count": null,
   "metadata": {},
   "outputs": [],
   "source": [
    "from skpro.registry import all_objects\n",
    "\n",
    "all_objects(\"regressor_proba\", as_dataframe=True).head()"
   ]
  },
  {
   "cell_type": "markdown",
   "metadata": {},
   "source": [
    "a full list can also be found in the online API reference."
   ]
  },
  {
   "cell_type": "markdown",
   "metadata": {},
   "source": [
    "## 3. Advanced composition patterns <a class=\"anchor\" id=\"chapter3\"></a>"
   ]
  },
  {
   "cell_type": "markdown",
   "metadata": {},
   "source": [
    "we introduce a number of composition patterns available in `skpro`:\n",
    "\n",
    "* reducer-wrappers that turn `sklearn` regressors into probabilistic ones\n",
    "* pipelines of `sklearn` transformers with `skpro` regressors\n",
    "* tuning `skpro` probabilistic regressors via grid/random search, minimizing a probabilistic metric\n",
    "* ensembling multiple `skpro` probabilistic regressors"
   ]
  },
  {
   "cell_type": "markdown",
   "metadata": {},
   "source": [
    "data used in this section:"
   ]
  },
  {
   "cell_type": "code",
   "execution_count": null,
   "metadata": {},
   "outputs": [],
   "source": [
    "from sklearn.datasets import load_diabetes\n",
    "from sklearn.model_selection import train_test_split\n",
    "\n",
    "X, y = load_diabetes(return_X_y=True, as_frame=True)\n",
    "X_train, X_test, y_train, y_test = train_test_split(X, y)"
   ]
  },
  {
   "cell_type": "markdown",
   "metadata": {},
   "source": [
    "evaluation metric used in this section:"
   ]
  },
  {
   "cell_type": "code",
   "execution_count": null,
   "metadata": {},
   "outputs": [],
   "source": [
    "crps = CRPS()"
   ]
  },
  {
   "cell_type": "markdown",
   "metadata": {},
   "source": [
    "### 3.1 Reducers to turn `sklearn` regressors probabilistic <a class=\"anchor\" id=\"section3_1\"></a>"
   ]
  },
  {
   "cell_type": "markdown",
   "metadata": {},
   "source": [
    "there are many common algorithms that turn a non-probabilistic tabular regressor probabilistic\n",
    "\n",
    "formally, this is a type of \"reduction\" - of probabilistic supervised tabular to non-probabilistic supervised tabular\n",
    "\n",
    "Examples:\n",
    "\n",
    "* predicting variance equal to training residual variance - `ResidualDouble` with standard settings\n",
    "    * or other unconditional distribution estimate for residuals\n",
    "* \"squaring the residual\" two-step prediction - `ResidualDouble`\n",
    "* boostrap prediction intervals - `BootstrapRegressor`\n",
    "* conformal prediction intervals - contributions appreciated :-)\n",
    "* natural gradient boosting aka NGBoost - contributions appreciated :-)"
   ]
  },
  {
   "cell_type": "markdown",
   "metadata": {},
   "source": [
    "### 3.1.1 constant variance prediction <a class=\"anchor\" id=\"section3_1_1\"></a>"
   ]
  },
  {
   "cell_type": "code",
   "execution_count": null,
   "metadata": {},
   "outputs": [],
   "source": [
    "from sklearn.ensemble import RandomForestRegressor\n",
    "from sklearn.model_selection import KFold\n",
    "\n",
    "# estimator specification - use any sklearn regressor for reg_mean\n",
    "reg_mean = RandomForestRegressor()\n",
    "reg_proba = ResidualDouble(reg_mean, cv=KFold(5))\n",
    "# cv is used to estimate out-of-sample residual variance via 5-fold CV\n",
    "# note - in-sample predictions will usually underestimate the variance!\n",
    "\n",
    "# fit and predict\n",
    "reg_proba.fit(X_train, y_train)\n",
    "y_pred_proba = reg_proba.predict_proba(X_test)\n",
    "\n",
    "# evaluate\n",
    "crps(y_test, y_pred_proba)"
   ]
  },
  {
   "cell_type": "code",
   "execution_count": null,
   "metadata": {},
   "outputs": [],
   "source": [
    "from skpro.utils.plotting import plot_crossplot_interval\n",
    "\n",
    "plot_crossplot_interval(y_test, y_pred_proba, coverage=0.9)"
   ]
  },
  {
   "cell_type": "markdown",
   "metadata": {},
   "source": [
    "### 3.1.2 two-step residual prediction <a class=\"anchor\" id=\"section3_1_2\"></a>"
   ]
  },
  {
   "cell_type": "code",
   "execution_count": null,
   "metadata": {},
   "outputs": [],
   "source": [
    "from sklearn.ensemble import RandomForestRegressor\n",
    "from sklearn.model_selection import KFold\n",
    "\n",
    "# estimator specification - use any sklearn regressor for reg_mean and reg_resid\n",
    "reg_mean = RandomForestRegressor()\n",
    "reg_resid = RandomForestRegressor()\n",
    "reg_proba = ResidualDouble(reg_mean, estimator_resid=reg_resid, cv=KFold(5))\n",
    "# cv is used to estimate out-of-sample residual variance via 5-fold CV\n",
    "\n",
    "# fit and predict\n",
    "reg_proba.fit(X_train, y_train)\n",
    "y_pred_proba = reg_proba.predict_proba(X_test)\n",
    "\n",
    "# evaluate\n",
    "crps(y_test, y_pred_proba)"
   ]
  },
  {
   "cell_type": "code",
   "execution_count": null,
   "metadata": {},
   "outputs": [],
   "source": [
    "from skpro.utils.plotting import plot_crossplot_interval\n",
    "\n",
    "plot_crossplot_interval(y_test, y_pred_proba, coverage=0.9)"
   ]
  },
  {
   "cell_type": "markdown",
   "metadata": {},
   "source": [
    "### 3.1.3 bootstrap prediction intervals <a class=\"anchor\" id=\"section3_1_3\"></a>"
   ]
  },
  {
   "cell_type": "code",
   "execution_count": null,
   "metadata": {},
   "outputs": [],
   "source": [
    "from sklearn.linear_model import LinearRegression\n",
    "\n",
    "from skpro.regression.bootstrap import BootstrapRegressor\n",
    "\n",
    "# estimator specification - use any sklearn regressor for reg_mean\n",
    "reg_mean = LinearRegression()\n",
    "reg_proba = BootstrapRegressor(reg_mean, n_bootstrap_samples=100)\n",
    "\n",
    "# fit and predict\n",
    "reg_proba.fit(X_train, y_train)\n",
    "y_pred_proba = reg_proba.predict_proba(X_test)\n",
    "\n",
    "# evaluate\n",
    "crps(y_test, y_pred_proba)"
   ]
  },
  {
   "cell_type": "code",
   "execution_count": null,
   "metadata": {},
   "outputs": [],
   "source": [
    "from skpro.utils.plotting import plot_crossplot_interval\n",
    "\n",
    "plot_crossplot_interval(y_test, y_pred_proba, coverage=0.9)"
   ]
  }
 ],
 "metadata": {
  "kernelspec": {
   "display_name": "skpro",
   "language": "python",
   "name": "python3"
  },
  "language_info": {
   "codemirror_mode": {
    "name": "ipython",
    "version": 3
   },
   "file_extension": ".py",
   "mimetype": "text/x-python",
   "name": "python",
   "nbconvert_exporter": "python",
   "pygments_lexer": "ipython3",
   "version": "3.11.4"
  },
  "orig_nbformat": 4,
  "vscode": {
   "interpreter": {
    "hash": "3e631b8a076cc106144e9b132b7d31cae2f1e2660b47e5f9fcb0397caae5fbd5"
   }
  }
 },
 "nbformat": 4,
 "nbformat_minor": 2
}
