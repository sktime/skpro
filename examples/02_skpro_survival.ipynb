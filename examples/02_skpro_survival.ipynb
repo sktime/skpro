{
 "cells": [
  {
   "attachments": {},
   "cell_type": "markdown",
   "metadata": {},
   "source": [
    "## time-to-event modelling and survival prediction"
   ]
  },
  {
   "cell_type": "markdown",
   "metadata": {},
   "source": [
    "**Set-up instructions:** On binder, this should run out-of-the-box.\n",
    "\n",
    "To run locally instead, ensure that `skpro` with basic dependency requirements is installed in your python environment."
   ]
  },
  {
   "cell_type": "markdown",
   "metadata": {},
   "source": [
    "---"
   ]
  },
  {
   "cell_type": "markdown",
   "metadata": {},
   "source": [
    "`skpro` provides a unified interface to time-to-event prediction models, also known as survival prediction models.\n",
    "\n",
    "**Time-to-event prediction** is a form of probabilistic regression where **labels can be \"censored\"**, i.e., of the form \"time is t or later\" instead of exact observations.\n",
    "\n",
    "**Section 1** provides an overview of the basic **time-to-event prediction workflows** supported by `skpro`.\n",
    "\n",
    "**Section 2** showcases **performance metrics and benchmarking** for time-to-event prediction with censored data.\n",
    "\n",
    "**Section 3** discusses **advanced composition patterns**, including various ways to leverage `sklearn` regressors for time-to-event prediction with censored data.\n",
    "\n",
    "**Section 4** gives an introduction to how to write **custom estimators** compliant with the `skpro` interface."
   ]
  },
  {
   "cell_type": "code",
   "execution_count": 50,
   "metadata": {},
   "outputs": [],
   "source": [
    "# hide warnings\n",
    "import warnings\n",
    "\n",
    "warnings.filterwarnings(\"ignore\")"
   ]
  },
  {
   "attachments": {},
   "cell_type": "markdown",
   "metadata": {},
   "source": [
    "## 1. Basic survival prediction interface <a class=\"anchor\" id=\"chapter1\"></a>"
   ]
  },
  {
   "cell_type": "markdown",
   "metadata": {},
   "source": [
    "In this section:\n",
    "\n",
    "* explanation of censored time-to-event data\n",
    "* `skpro` time-to-event/survival prediction interface\n",
    "* metrics, evaluation"
   ]
  },
  {
   "cell_type": "markdown",
   "metadata": {},
   "source": [
    "### 1.1 data representation, censoring"
   ]
  },
  {
   "cell_type": "markdown",
   "metadata": {},
   "source": [
    "Survival prediction or time-to-event prediction can be seen a generalization of probabilistic supervised learning."
   ]
  },
  {
   "cell_type": "markdown",
   "metadata": {},
   "source": [
    "\n",
    "Each sample consists of:\n",
    "\n",
    "* a feature vector, row of a data frame\n",
    "* a label, which can be an exact time of occurrence, or a statement about \"time was t or later\""
   ]
  },
  {
   "cell_type": "code",
   "execution_count": 51,
   "metadata": {},
   "outputs": [],
   "source": [
    "# simulated toy dataset, lung cancer survival times\n",
    "import numpy as np\n",
    "\n",
    "# demographics - age and smoker yes/no\n",
    "age = np.random.uniform(low=20, high=100, size=50)\n",
    "smoker = np.random.binomial(1, 0.3, size=50)\n",
    "\n",
    "# actual survival time\n",
    "scale = 200 / (0.5 * age + 30 * smoker)\n",
    "survival = scale * np.random.weibull(1, size=50)\n",
    "\n",
    "# patients are observed only for 5 years\n",
    "# if they surviva 5 years, we know they survived 5 years, but not exact time of death\n",
    "censored = survival > 5\n",
    "observation = np.minimum(survival, 5)"
   ]
  },
  {
   "cell_type": "markdown",
   "metadata": {},
   "source": [
    "`skpro` represents this information in an `sklearn`-like interface:"
   ]
  },
  {
   "cell_type": "code",
   "execution_count": 52,
   "metadata": {},
   "outputs": [],
   "source": [
    "import pandas as pd\n",
    "\n",
    "# features\n",
    "X = pd.DataFrame({\"age\": age, \"smoker\": smoker})\n",
    "\n",
    "# time of survival or censoring\n",
    "y = pd.DataFrame({\"time\": observation})\n",
    "\n",
    "# indicator whether event was observed or censored\n",
    "# censored = 1/True, observed = 0/False\n",
    "# variable names should be the same as for y\n",
    "C = pd.DataFrame({\"time\": censored})"
   ]
  },
  {
   "cell_type": "code",
   "execution_count": 53,
   "metadata": {},
   "outputs": [
    {
     "data": {
      "text/html": [
       "<div>\n",
       "<style scoped>\n",
       "    .dataframe tbody tr th:only-of-type {\n",
       "        vertical-align: middle;\n",
       "    }\n",
       "\n",
       "    .dataframe tbody tr th {\n",
       "        vertical-align: top;\n",
       "    }\n",
       "\n",
       "    .dataframe thead th {\n",
       "        text-align: right;\n",
       "    }\n",
       "</style>\n",
       "<table border=\"1\" class=\"dataframe\">\n",
       "  <thead>\n",
       "    <tr style=\"text-align: right;\">\n",
       "      <th></th>\n",
       "      <th>age</th>\n",
       "      <th>smoker</th>\n",
       "    </tr>\n",
       "  </thead>\n",
       "  <tbody>\n",
       "    <tr>\n",
       "      <th>0</th>\n",
       "      <td>64.492963</td>\n",
       "      <td>0</td>\n",
       "    </tr>\n",
       "    <tr>\n",
       "      <th>1</th>\n",
       "      <td>37.484283</td>\n",
       "      <td>0</td>\n",
       "    </tr>\n",
       "    <tr>\n",
       "      <th>2</th>\n",
       "      <td>98.567493</td>\n",
       "      <td>0</td>\n",
       "    </tr>\n",
       "    <tr>\n",
       "      <th>3</th>\n",
       "      <td>32.863923</td>\n",
       "      <td>1</td>\n",
       "    </tr>\n",
       "    <tr>\n",
       "      <th>4</th>\n",
       "      <td>83.944665</td>\n",
       "      <td>0</td>\n",
       "    </tr>\n",
       "  </tbody>\n",
       "</table>\n",
       "</div>"
      ],
      "text/plain": [
       "         age  smoker\n",
       "0  64.492963       0\n",
       "1  37.484283       0\n",
       "2  98.567493       0\n",
       "3  32.863923       1\n",
       "4  83.944665       0"
      ]
     },
     "execution_count": 53,
     "metadata": {},
     "output_type": "execute_result"
    }
   ],
   "source": [
    "X.head()"
   ]
  },
  {
   "cell_type": "code",
   "execution_count": 54,
   "metadata": {},
   "outputs": [
    {
     "data": {
      "text/html": [
       "<div>\n",
       "<style scoped>\n",
       "    .dataframe tbody tr th:only-of-type {\n",
       "        vertical-align: middle;\n",
       "    }\n",
       "\n",
       "    .dataframe tbody tr th {\n",
       "        vertical-align: top;\n",
       "    }\n",
       "\n",
       "    .dataframe thead th {\n",
       "        text-align: right;\n",
       "    }\n",
       "</style>\n",
       "<table border=\"1\" class=\"dataframe\">\n",
       "  <thead>\n",
       "    <tr style=\"text-align: right;\">\n",
       "      <th></th>\n",
       "      <th>time</th>\n",
       "    </tr>\n",
       "  </thead>\n",
       "  <tbody>\n",
       "    <tr>\n",
       "      <th>0</th>\n",
       "      <td>1.121047</td>\n",
       "    </tr>\n",
       "    <tr>\n",
       "      <th>1</th>\n",
       "      <td>5.000000</td>\n",
       "    </tr>\n",
       "    <tr>\n",
       "      <th>2</th>\n",
       "      <td>4.435677</td>\n",
       "    </tr>\n",
       "    <tr>\n",
       "      <th>3</th>\n",
       "      <td>5.000000</td>\n",
       "    </tr>\n",
       "    <tr>\n",
       "      <th>4</th>\n",
       "      <td>4.049751</td>\n",
       "    </tr>\n",
       "  </tbody>\n",
       "</table>\n",
       "</div>"
      ],
      "text/plain": [
       "       time\n",
       "0  1.121047\n",
       "1  5.000000\n",
       "2  4.435677\n",
       "3  5.000000\n",
       "4  4.049751"
      ]
     },
     "execution_count": 54,
     "metadata": {},
     "output_type": "execute_result"
    }
   ],
   "source": [
    "y.head()"
   ]
  },
  {
   "cell_type": "code",
   "execution_count": 55,
   "metadata": {},
   "outputs": [
    {
     "data": {
      "text/html": [
       "<div>\n",
       "<style scoped>\n",
       "    .dataframe tbody tr th:only-of-type {\n",
       "        vertical-align: middle;\n",
       "    }\n",
       "\n",
       "    .dataframe tbody tr th {\n",
       "        vertical-align: top;\n",
       "    }\n",
       "\n",
       "    .dataframe thead th {\n",
       "        text-align: right;\n",
       "    }\n",
       "</style>\n",
       "<table border=\"1\" class=\"dataframe\">\n",
       "  <thead>\n",
       "    <tr style=\"text-align: right;\">\n",
       "      <th></th>\n",
       "      <th>time</th>\n",
       "    </tr>\n",
       "  </thead>\n",
       "  <tbody>\n",
       "    <tr>\n",
       "      <th>0</th>\n",
       "      <td>False</td>\n",
       "    </tr>\n",
       "    <tr>\n",
       "      <th>1</th>\n",
       "      <td>True</td>\n",
       "    </tr>\n",
       "    <tr>\n",
       "      <th>2</th>\n",
       "      <td>False</td>\n",
       "    </tr>\n",
       "    <tr>\n",
       "      <th>3</th>\n",
       "      <td>True</td>\n",
       "    </tr>\n",
       "    <tr>\n",
       "      <th>4</th>\n",
       "      <td>False</td>\n",
       "    </tr>\n",
       "  </tbody>\n",
       "</table>\n",
       "</div>"
      ],
      "text/plain": [
       "    time\n",
       "0  False\n",
       "1   True\n",
       "2  False\n",
       "3   True\n",
       "4  False"
      ]
     },
     "execution_count": 55,
     "metadata": {},
     "output_type": "execute_result"
    }
   ],
   "source": [
    "C.head()"
   ]
  },
  {
   "cell_type": "markdown",
   "metadata": {},
   "source": [
    "### 1.2 basic survival prediction workflow"
   ]
  },
  {
   "cell_type": "markdown",
   "metadata": {},
   "source": [
    "survival prediction is the task:\n",
    "\n",
    "* given censored time-to-event labels and features, `X`, `y`, `C`\n",
    "* learn a model that can predict `y` if it were uncensored, i.e., the true event time\n",
    "* the prediction should take the form of a survival function or probability distribution"
   ]
  },
  {
   "cell_type": "markdown",
   "metadata": {},
   "source": [
    "`skpro` survival predictors extend the interface of probabilistic regressors:\n",
    "\n",
    "* `fit(X, y, C=None)`, with `X`, `y`, `C` as above; if `C=None`, all observations are uncensored\n",
    "* `predict(X_test)` for mean survival time predictions\n",
    "* `predict_proba(X_test)` for distributional predictions\n",
    "\n",
    "Other prediction methods - `predict_interval`, `predict_quantiles`, `predict_var` - also generalize the same way."
   ]
  },
  {
   "cell_type": "markdown",
   "metadata": {},
   "source": [
    "Because `C` is optional, and means \"uncensored\" if not passed, all survival prediction models can be used as supervised probabilistic regressors.\n",
    "\n",
    "Using probabilistic regressors as survival models is similarly possible, to be revisited later."
   ]
  },
  {
   "cell_type": "markdown",
   "metadata": {},
   "source": [
    "Basic deployment workflow:"
   ]
  },
  {
   "cell_type": "code",
   "execution_count": 56,
   "metadata": {},
   "outputs": [],
   "source": [
    "from sklearn.model_selection import train_test_split\n",
    "\n",
    "from skpro.survival.coxph import CoxPH\n",
    "\n",
    "# step 1: data specification\n",
    "# X, y, C, as above\n",
    "X_train, X_new, y_train, _, C_train, _ = train_test_split(X, y, C)\n",
    "\n",
    "# step 2: specifying the regressor\n",
    "# example - Cox proportional hazards model from statsmodels\n",
    "surv_model_cox = CoxPH()\n",
    "\n",
    "# step 3: fitting the model to training data\n",
    "surv_model_cox.fit(X_train, y_train, C_train)\n",
    "\n",
    "# step 4: predicting labels on new data\n",
    "\n",
    "# full distribution prediction\n",
    "y_pred_proba_cox = surv_model_cox.predict_proba(X_new)"
   ]
  },
  {
   "cell_type": "code",
   "execution_count": 57,
   "metadata": {},
   "outputs": [
    {
     "data": {
      "text/html": [
       "<div>\n",
       "<style scoped>\n",
       "    .dataframe tbody tr th:only-of-type {\n",
       "        vertical-align: middle;\n",
       "    }\n",
       "\n",
       "    .dataframe tbody tr th {\n",
       "        vertical-align: top;\n",
       "    }\n",
       "\n",
       "    .dataframe thead th {\n",
       "        text-align: right;\n",
       "    }\n",
       "</style>\n",
       "<table border=\"1\" class=\"dataframe\">\n",
       "  <thead>\n",
       "    <tr style=\"text-align: right;\">\n",
       "      <th></th>\n",
       "      <th>time</th>\n",
       "    </tr>\n",
       "  </thead>\n",
       "  <tbody>\n",
       "    <tr>\n",
       "      <th>30</th>\n",
       "      <td>3.133901</td>\n",
       "    </tr>\n",
       "    <tr>\n",
       "      <th>44</th>\n",
       "      <td>3.350896</td>\n",
       "    </tr>\n",
       "    <tr>\n",
       "      <th>16</th>\n",
       "      <td>3.095789</td>\n",
       "    </tr>\n",
       "    <tr>\n",
       "      <th>15</th>\n",
       "      <td>2.985662</td>\n",
       "    </tr>\n",
       "    <tr>\n",
       "      <th>2</th>\n",
       "      <td>2.079542</td>\n",
       "    </tr>\n",
       "  </tbody>\n",
       "</table>\n",
       "</div>"
      ],
      "text/plain": [
       "        time\n",
       "30  3.133901\n",
       "44  3.350896\n",
       "16  3.095789\n",
       "15  2.985662\n",
       "2   2.079542"
      ]
     },
     "execution_count": 57,
     "metadata": {},
     "output_type": "execute_result"
    }
   ],
   "source": [
    "# mean predicted survival time\n",
    "y_pred_proba_cox.mean().head()"
   ]
  },
  {
   "cell_type": "code",
   "execution_count": 58,
   "metadata": {},
   "outputs": [
    {
     "data": {
      "text/plain": [
       "(<Figure size 640x480 with 5 Axes>,\n",
       " array([<Axes: title={'center': 'time'}, ylabel='30'>, <Axes: ylabel='44'>,\n",
       "        <Axes: ylabel='16'>, <Axes: ylabel='15'>, <Axes: ylabel='2'>],\n",
       "       dtype=object))"
      ]
     },
     "execution_count": 58,
     "metadata": {},
     "output_type": "execute_result"
    },
    {
     "data": {
      "image/png": "[encoded data removed]",
      "text/plain": [
       "<Figure size 640x480 with 5 Axes>"
      ]
     },
     "metadata": {},
     "output_type": "display_data"
    }
   ],
   "source": [
    "# plot of survival functions\n",
    "y_pred_proba_cox.iloc[range(5)].plot(\"surv\")"
   ]
  },
  {
   "cell_type": "code",
   "execution_count": 59,
   "metadata": {},
   "outputs": [
    {
     "data": {
      "image/png": "[encoded data removed]",
      "text/plain": [
       "<Figure size 640x480 with 1 Axes>"
      ]
     },
     "metadata": {},
     "output_type": "display_data"
    }
   ],
   "source": [
    "# plotting survival functions in one figure, smokers in red\n",
    "from matplotlib.pyplot import subplots\n",
    "\n",
    "_, ax = subplots()\n",
    "\n",
    "for i in range(len(y_pred_proba_cox)):\n",
    "    ax = y_pred_proba_cox.iat[i, 0].plot(\"surv\", ax=ax, color=[\"b\", \"r\"][smoker[i]])"
   ]
  },
  {
   "cell_type": "markdown",
   "metadata": {},
   "source": [
    "### 1.3 survival prediction with parametric predictive distribution"
   ]
  },
  {
   "cell_type": "markdown",
   "metadata": {},
   "source": [
    "example: using an accelerated failure time model with Weibull hazard\n",
    "\n",
    "same workflow, only using different model:"
   ]
  },
  {
   "cell_type": "code",
   "execution_count": 60,
   "metadata": {},
   "outputs": [],
   "source": [
    "from sklearn.model_selection import train_test_split\n",
    "\n",
    "from skpro.survival.aft import AFTWeibull\n",
    "\n",
    "# step 1: data specification\n",
    "# X, y, C, as above\n",
    "X_train, X_new, y_train, _, C_train, _ = train_test_split(X, y, C)\n",
    "\n",
    "# step 2: specifying the regressor\n",
    "# example - Cox proportional hazards model from statsmodels\n",
    "surv_model_aft = AFTWeibull()\n",
    "\n",
    "# step 3: fitting the model to training data\n",
    "surv_model_aft.fit(X_train, y_train, C_train)\n",
    "\n",
    "# step 4: predicting labels on new data\n",
    "\n",
    "# full distribution prediction\n",
    "y_pred_proba_aft = surv_model_aft.predict_proba(X_new)"
   ]
  },
  {
   "cell_type": "code",
   "execution_count": 61,
   "metadata": {},
   "outputs": [
    {
     "data": {
      "image/png": "[encoded data removed]",
      "text/plain": [
       "<Figure size 640x480 with 1 Axes>"
      ]
     },
     "metadata": {},
     "output_type": "display_data"
    }
   ],
   "source": [
    "# plotting survival functions in one figure, smokers in red\n",
    "from matplotlib.pyplot import subplots\n",
    "\n",
    "_, ax = subplots()\n",
    "\n",
    "for i in range(len(y_pred_proba_cox)):\n",
    "    ax = y_pred_proba_aft.iat[i, 0].plot(\n",
    "        \"surv\", ax=ax, color=[\"b\", \"r\"][smoker[i]], x_bounds=[0, 5]\n",
    "    )"
   ]
  },
  {
   "cell_type": "markdown",
   "metadata": {},
   "source": [
    "hazard functions can be plotted the same way:"
   ]
  },
  {
   "cell_type": "code",
   "execution_count": 62,
   "metadata": {},
   "outputs": [
    {
     "data": {
      "text/plain": [
       "(<Figure size 640x480 with 5 Axes>,\n",
       " array([<Axes: title={'center': 'time'}, ylabel='22'>, <Axes: ylabel='1'>,\n",
       "        <Axes: ylabel='42'>, <Axes: ylabel='19'>, <Axes: ylabel='32'>],\n",
       "       dtype=object))"
      ]
     },
     "execution_count": 62,
     "metadata": {},
     "output_type": "execute_result"
    },
    {
     "data": {
      "image/png": "[encoded data removed]",
      "text/plain": [
       "<Figure size 640x480 with 5 Axes>"
      ]
     },
     "metadata": {},
     "output_type": "display_data"
    }
   ],
   "source": [
    "# plot of hazard functions\n",
    "y_pred_proba_aft.iloc[range(5)].plot(\"haz\", x_bounds=[0, 5])"
   ]
  },
  {
   "cell_type": "code",
   "execution_count": 63,
   "metadata": {},
   "outputs": [
    {
     "data": {
      "image/png": "[encoded data removed]",
      "text/plain": [
       "<Figure size 640x480 with 1 Axes>"
      ]
     },
     "metadata": {},
     "output_type": "display_data"
    }
   ],
   "source": [
    "# plotting survival functions in one figure, smokers in red\n",
    "from matplotlib.pyplot import subplots\n",
    "\n",
    "_, ax = subplots()\n",
    "\n",
    "for i in range(len(y_pred_proba_aft)):\n",
    "    ax = y_pred_proba_aft.iat[i, 0].plot(\n",
    "        \"haz\", ax=ax, color=[\"b\", \"r\"][smoker[i]], x_bounds=[0, 5]\n",
    "    )"
   ]
  },
  {
   "cell_type": "code",
   "execution_count": 64,
   "metadata": {},
   "outputs": [
    {
     "data": {
      "text/html": [
       "<div>\n",
       "<style scoped>\n",
       "    .dataframe tbody tr th:only-of-type {\n",
       "        vertical-align: middle;\n",
       "    }\n",
       "\n",
       "    .dataframe tbody tr th {\n",
       "        vertical-align: top;\n",
       "    }\n",
       "\n",
       "    .dataframe thead tr th {\n",
       "        text-align: left;\n",
       "    }\n",
       "</style>\n",
       "<table border=\"1\" class=\"dataframe\">\n",
       "  <thead>\n",
       "    <tr>\n",
       "      <th></th>\n",
       "      <th colspan=\"2\" halign=\"left\">time</th>\n",
       "    </tr>\n",
       "    <tr>\n",
       "      <th></th>\n",
       "      <th>k</th>\n",
       "      <th>scale</th>\n",
       "    </tr>\n",
       "  </thead>\n",
       "  <tbody>\n",
       "    <tr>\n",
       "      <th>22</th>\n",
       "      <td>1.317596</td>\n",
       "      <td>4.537601</td>\n",
       "    </tr>\n",
       "    <tr>\n",
       "      <th>1</th>\n",
       "      <td>1.317596</td>\n",
       "      <td>9.504837</td>\n",
       "    </tr>\n",
       "    <tr>\n",
       "      <th>42</th>\n",
       "      <td>1.317596</td>\n",
       "      <td>9.621927</td>\n",
       "    </tr>\n",
       "    <tr>\n",
       "      <th>19</th>\n",
       "      <td>1.317596</td>\n",
       "      <td>4.642179</td>\n",
       "    </tr>\n",
       "    <tr>\n",
       "      <th>32</th>\n",
       "      <td>1.317596</td>\n",
       "      <td>6.921167</td>\n",
       "    </tr>\n",
       "  </tbody>\n",
       "</table>\n",
       "</div>"
      ],
      "text/plain": [
       "        time          \n",
       "           k     scale\n",
       "22  1.317596  4.537601\n",
       "1   1.317596  9.504837\n",
       "42  1.317596  9.621927\n",
       "19  1.317596  4.642179\n",
       "32  1.317596  6.921167"
      ]
     },
     "execution_count": 64,
     "metadata": {},
     "output_type": "execute_result"
    }
   ],
   "source": [
    "# estimated scale parameter\n",
    "y_pred_proba_aft.to_df().head()"
   ]
  },
  {
   "cell_type": "code",
   "execution_count": 65,
   "metadata": {},
   "outputs": [
    {
     "data": {
      "text/plain": [
       "array([ 6.20222709, 10.67113911,  4.05813303,  4.30737777,  4.76504376])"
      ]
     },
     "execution_count": 65,
     "metadata": {},
     "output_type": "execute_result"
    }
   ],
   "source": [
    "# actual Weibull scale parameter to compare\n",
    "# unknown in a real scenario, but we know since we simulated the data\n",
    "scale[0:5]"
   ]
  },
  {
   "cell_type": "markdown",
   "metadata": {},
   "source": [
    "### 1.4 finding time-to-event prediction models"
   ]
  },
  {
   "cell_type": "markdown",
   "metadata": {},
   "source": [
    "Time-to-event (aka survival) prediction models are probabilistic regressors.\n",
    "\n",
    "I.e., the type is `regressor_proba`, as for probabilistic regressors.\n",
    "\n",
    "All probabilistic regressors can be used with for survival prediction as above.\n",
    "\n",
    "But, only models with the `\"capability:survival\"` tag set to `True` use the censoring information in `C`.\n",
    "\n",
    "Other models ignore `C`, which will lead to biased predictions (see section 3 on addressing this).\n",
    "\n",
    "The `all_objects` utility can be used to retrieve time-to-event prediction models:"
   ]
  },
  {
   "cell_type": "code",
   "execution_count": 66,
   "metadata": {},
   "outputs": [
    {
     "data": {
      "text/html": [
       "<div>\n",
       "<style scoped>\n",
       "    .dataframe tbody tr th:only-of-type {\n",
       "        vertical-align: middle;\n",
       "    }\n",
       "\n",
       "    .dataframe tbody tr th {\n",
       "        vertical-align: top;\n",
       "    }\n",
       "\n",
       "    .dataframe thead th {\n",
       "        text-align: right;\n",
       "    }\n",
       "</style>\n",
       "<table border=\"1\" class=\"dataframe\">\n",
       "  <thead>\n",
       "    <tr style=\"text-align: right;\">\n",
       "      <th></th>\n",
       "      <th>name</th>\n",
       "      <th>object</th>\n",
       "    </tr>\n",
       "  </thead>\n",
       "  <tbody>\n",
       "    <tr>\n",
       "      <th>0</th>\n",
       "      <td>AFTFisk</td>\n",
       "      <td>&lt;class 'skpro.survival.aft._aft_lifelines_fisk...</td>\n",
       "    </tr>\n",
       "    <tr>\n",
       "      <th>1</th>\n",
       "      <td>AFTLogNormal</td>\n",
       "      <td>&lt;class 'skpro.survival.aft._aft_lifelines_logn...</td>\n",
       "    </tr>\n",
       "    <tr>\n",
       "      <th>2</th>\n",
       "      <td>AFTWeibull</td>\n",
       "      <td>&lt;class 'skpro.survival.aft._aft_lifelines_weib...</td>\n",
       "    </tr>\n",
       "    <tr>\n",
       "      <th>3</th>\n",
       "      <td>AalenAdditive</td>\n",
       "      <td>&lt;class 'skpro.survival.additive._aalen_lifelin...</td>\n",
       "    </tr>\n",
       "    <tr>\n",
       "      <th>4</th>\n",
       "      <td>BaggingRegressor</td>\n",
       "      <td>&lt;class 'skpro.regression.ensemble._bagging.Bag...</td>\n",
       "    </tr>\n",
       "  </tbody>\n",
       "</table>\n",
       "</div>"
      ],
      "text/plain": [
       "               name                                             object\n",
       "0           AFTFisk  <class 'skpro.survival.aft._aft_lifelines_fisk...\n",
       "1      AFTLogNormal  <class 'skpro.survival.aft._aft_lifelines_logn...\n",
       "2        AFTWeibull  <class 'skpro.survival.aft._aft_lifelines_weib...\n",
       "3     AalenAdditive  <class 'skpro.survival.additive._aalen_lifelin...\n",
       "4  BaggingRegressor  <class 'skpro.regression.ensemble._bagging.Bag..."
      ]
     },
     "execution_count": 66,
     "metadata": {},
     "output_type": "execute_result"
    }
   ],
   "source": [
    "from skpro.registry import all_objects\n",
    "\n",
    "# time-to-event predictors have \"regressor_proba\" type, i.e., probabilistic regressors\n",
    "# the tag \"capability:survival\" = True indicates models that make use of C\n",
    "all_objects(\n",
    "    \"regressor_proba\", as_dataframe=True, filter_tags={\"capability:survival\": True}\n",
    ").head()"
   ]
  },
  {
   "attachments": {},
   "cell_type": "markdown",
   "metadata": {},
   "source": [
    "### 1.5 simple evaluation workflow for time-to-event predictions"
   ]
  },
  {
   "cell_type": "markdown",
   "metadata": {},
   "source": [
    "for simple evaluation:\n",
    "\n",
    "1. split the data into train/test set - including the censoring variable\n",
    "2. make predictions of either type for test features\n",
    "3. compute metric on test set, comparing test predictions to held out test observations,\n",
    "  including censoring indicsator\n",
    "\n",
    "Note:\n",
    "\n",
    "* metrics will compare probabilistic prediction to tabular ground truth and\n",
    "  censoring indicator\n",
    "* the metric needs to be of a compatible type, e.g., for distribution predictions\n",
    "* special survival metrics are available to take into account censoring;\n",
    "  if a non-survival metric is used, the censoring indicator will be ignored"
   ]
  },
  {
   "cell_type": "code",
   "execution_count": 67,
   "metadata": {},
   "outputs": [
    {
     "data": {
      "text/plain": [
       "0.6491228070175438"
      ]
     },
     "execution_count": 67,
     "metadata": {},
     "output_type": "execute_result"
    }
   ],
   "source": [
    "from sklearn.model_selection import train_test_split\n",
    "\n",
    "from skpro.metrics import ConcordanceHarrell\n",
    "from skpro.survival.coxph import CoxPH\n",
    "\n",
    "# step 1: data specification\n",
    "X_train, X_test, y_train, y_test, C_train, C_test = train_test_split(X, y, C)\n",
    "\n",
    "# step 2: specifying the regressor\n",
    "# example - Cox proportional hazards model from statsmodels\n",
    "surv_model = CoxPH()\n",
    "\n",
    "# step 3: fitting the model to training data\n",
    "surv_model.fit(X_train, y_train, C_train)\n",
    "\n",
    "# step 4: predicting labels on new data\n",
    "y_pred_proba = surv_model.predict_proba(X_test)\n",
    "\n",
    "# step 5: specifying evaluation metric\n",
    "metric = ConcordanceHarrell()\n",
    "\n",
    "# step 6: evaluate metric, compare predictions to actuals\n",
    "metric(y_test, y_pred_proba, C_true=C_test)"
   ]
  },
  {
   "cell_type": "markdown",
   "metadata": {},
   "source": [
    "how do we know that metric is a genuine survival metric?\n",
    "\n",
    "Via the `capability:survival` tag:"
   ]
  },
  {
   "cell_type": "code",
   "execution_count": 68,
   "metadata": {},
   "outputs": [
    {
     "data": {
      "text/plain": [
       "{'estimator_type': 'estimator',\n",
       " 'authors': 'fkiraly',\n",
       " 'maintainers': 'skpro developers',\n",
       " 'object_type': ['metric', 'metric_distr'],\n",
       " 'reserved_params': ['multioutput', 'score_average'],\n",
       " 'scitype:y_pred': 'pred_proba',\n",
       " 'lower_is_better': False,\n",
       " 'capability:survival': True}"
      ]
     },
     "execution_count": 68,
     "metadata": {},
     "output_type": "execute_result"
    }
   ],
   "source": [
    "metric.get_tags()\n",
    "# capability:survival is True"
   ]
  },
  {
   "cell_type": "markdown",
   "metadata": {},
   "source": [
    "how do we find specialized survival metrics?"
   ]
  },
  {
   "cell_type": "code",
   "execution_count": 69,
   "metadata": {},
   "outputs": [
    {
     "data": {
      "text/html": [
       "<div>\n",
       "<style scoped>\n",
       "    .dataframe tbody tr th:only-of-type {\n",
       "        vertical-align: middle;\n",
       "    }\n",
       "\n",
       "    .dataframe tbody tr th {\n",
       "        vertical-align: top;\n",
       "    }\n",
       "\n",
       "    .dataframe thead th {\n",
       "        text-align: right;\n",
       "    }\n",
       "</style>\n",
       "<table border=\"1\" class=\"dataframe\">\n",
       "  <thead>\n",
       "    <tr style=\"text-align: right;\">\n",
       "      <th></th>\n",
       "      <th>name</th>\n",
       "      <th>object</th>\n",
       "    </tr>\n",
       "  </thead>\n",
       "  <tbody>\n",
       "    <tr>\n",
       "      <th>0</th>\n",
       "      <td>ConcordanceHarrell</td>\n",
       "      <td>&lt;class 'skpro.metrics.survival._c_harrell.Conc...</td>\n",
       "    </tr>\n",
       "    <tr>\n",
       "      <th>1</th>\n",
       "      <td>SPLL</td>\n",
       "      <td>&lt;class 'skpro.metrics.survival._spll.SPLL'&gt;</td>\n",
       "    </tr>\n",
       "  </tbody>\n",
       "</table>\n",
       "</div>"
      ],
      "text/plain": [
       "                 name                                             object\n",
       "0  ConcordanceHarrell  <class 'skpro.metrics.survival._c_harrell.Conc...\n",
       "1                SPLL        <class 'skpro.metrics.survival._spll.SPLL'>"
      ]
     },
     "execution_count": 69,
     "metadata": {},
     "output_type": "execute_result"
    }
   ],
   "source": [
    "from skpro.registry import all_objects\n",
    "\n",
    "all_objects(\"metric\", as_dataframe=True, filter_tags={\"capability:survival\": True})"
   ]
  },
  {
   "cell_type": "markdown",
   "metadata": {},
   "source": [
    "All metrics can be applied to censored data:\n",
    "\n",
    "metrics with the tag being `False` will ignore the censoring variable.\n",
    "\n",
    "This will lead to bias in general, but can be justified if there is a low amount of censoring."
   ]
  },
  {
   "cell_type": "markdown",
   "metadata": {},
   "source": [
    "## 2. Benchmarking time-to-event models <a class=\"anchor\" id=\"chapter2\"></a>"
   ]
  },
  {
   "cell_type": "markdown",
   "metadata": {},
   "source": [
    "The `benchmarking.evaluate` utility can be used for time-to-event models as well:"
   ]
  },
  {
   "cell_type": "code",
   "execution_count": 70,
   "metadata": {},
   "outputs": [
    {
     "data": {
      "text/html": [
       "<div>\n",
       "<style scoped>\n",
       "    .dataframe tbody tr th:only-of-type {\n",
       "        vertical-align: middle;\n",
       "    }\n",
       "\n",
       "    .dataframe tbody tr th {\n",
       "        vertical-align: top;\n",
       "    }\n",
       "\n",
       "    .dataframe thead th {\n",
       "        text-align: right;\n",
       "    }\n",
       "</style>\n",
       "<table border=\"1\" class=\"dataframe\">\n",
       "  <thead>\n",
       "    <tr style=\"text-align: right;\">\n",
       "      <th></th>\n",
       "      <th>test_ConcordanceHarrell</th>\n",
       "      <th>fit_time</th>\n",
       "      <th>pred_proba_time</th>\n",
       "      <th>len_y_train</th>\n",
       "    </tr>\n",
       "  </thead>\n",
       "  <tbody>\n",
       "    <tr>\n",
       "      <th>0</th>\n",
       "      <td>0.620370</td>\n",
       "      <td>0.015508</td>\n",
       "      <td>0.019106</td>\n",
       "      <td>33</td>\n",
       "    </tr>\n",
       "    <tr>\n",
       "      <th>1</th>\n",
       "      <td>0.608696</td>\n",
       "      <td>0.007775</td>\n",
       "      <td>0.009308</td>\n",
       "      <td>33</td>\n",
       "    </tr>\n",
       "    <tr>\n",
       "      <th>2</th>\n",
       "      <td>0.608696</td>\n",
       "      <td>0.007695</td>\n",
       "      <td>0.008064</td>\n",
       "      <td>34</td>\n",
       "    </tr>\n",
       "  </tbody>\n",
       "</table>\n",
       "</div>"
      ],
      "text/plain": [
       "   test_ConcordanceHarrell  fit_time  pred_proba_time  len_y_train\n",
       "0                 0.620370  0.015508         0.019106           33\n",
       "1                 0.608696  0.007775         0.009308           33\n",
       "2                 0.608696  0.007695         0.008064           34"
      ]
     },
     "execution_count": 70,
     "metadata": {},
     "output_type": "execute_result"
    }
   ],
   "source": [
    "from sklearn.model_selection import KFold\n",
    "\n",
    "from skpro.benchmarking.evaluate import evaluate\n",
    "from skpro.metrics import ConcordanceHarrell\n",
    "from skpro.survival.coxph import CoxPH\n",
    "\n",
    "# 1. specify dataset\n",
    "# X, y, C are as above\n",
    "\n",
    "# 2. specify estimator\n",
    "estimator = CoxPH()\n",
    "\n",
    "# 3. specify cross-validation schema\n",
    "cv = KFold(n_splits=3)\n",
    "\n",
    "# 4. specify evaluation metric\n",
    "c_index = ConcordanceHarrell()\n",
    "\n",
    "# 5. evaluate - run the benchmark\n",
    "# C needs to be passed here\n",
    "# this will automatically pass it on the test set to the metric\n",
    "results = evaluate(estimator=estimator, X=X, y=y, C=C, cv=cv, scoring=c_index)\n",
    "\n",
    "# results are pd.DataFrame\n",
    "# each row is one repetition of the cross-validation on one fold fit/predict/evaluate\n",
    "# columns report performance, runtime, and other optional information (see docstring)\n",
    "results"
   ]
  },
  {
   "cell_type": "markdown",
   "metadata": {},
   "source": [
    "## 3. Advanced composition patterns <a class=\"anchor\" id=\"chapter3\"></a>"
   ]
  },
  {
   "cell_type": "markdown",
   "metadata": {},
   "source": [
    "we introduce a number of composition patterns available in `skpro`:\n",
    "\n",
    "* reducer-wrappers that turn `sklearn` regressors into survival regressors\n",
    "* pipelines of `sklearn` transformers with `skpro` survival regressors\n",
    "* tuning `skpro` survival regressors via grid/random search, minimizing a probabilistic metric"
   ]
  },
  {
   "cell_type": "markdown",
   "metadata": {},
   "source": [
    "data used in this section:"
   ]
  },
  {
   "cell_type": "code",
   "execution_count": 71,
   "metadata": {},
   "outputs": [],
   "source": [
    "from sklearn.model_selection import train_test_split\n",
    "\n",
    "X_train, X_test, y_train, y_test, C_train, C_test = train_test_split(X, y, C)"
   ]
  },
  {
   "cell_type": "markdown",
   "metadata": {},
   "source": [
    "evaluation metric used in this section:"
   ]
  },
  {
   "cell_type": "code",
   "execution_count": 72,
   "metadata": {},
   "outputs": [],
   "source": [
    "from skpro.metrics import ConcordanceHarrell\n",
    "\n",
    "c_harrell = ConcordanceHarrell()"
   ]
  },
  {
   "cell_type": "markdown",
   "metadata": {},
   "source": [
    "### 3.1 Reducers to create survival regressors <a class=\"anchor\" id=\"section3_1\"></a>"
   ]
  },
  {
   "cell_type": "markdown",
   "metadata": {},
   "source": [
    "the three main reduction strategies to create survival regressors:\n",
    "\n",
    "1. adding the capability to handle censoring information to a probabilistic supervised regressor\n",
    "2. the above, combined with any strategy to create a probabilistic regressor from an `sklearn` (non-probabilistic) regressors\n",
    "3. strategies that directly create a survival regressor from a tabular `sklearn` regressor"
   ]
  },
  {
   "cell_type": "markdown",
   "metadata": {},
   "source": [
    "This section shows examples for all the above."
   ]
  },
  {
   "cell_type": "markdown",
   "metadata": {},
   "source": [
    "### 3.1.1 adding survival capability to a probabilistic regressor <a class=\"anchor\" id=\"section3_1_1\"></a>"
   ]
  },
  {
   "cell_type": "markdown",
   "metadata": {},
   "source": [
    "this type of reduction strategy takes a probabilistic regressor and adds treatment for censored data.\n",
    "\n",
    "Examples:\n",
    "\n",
    "* native use - every probabilistic regressor can be used as a survival regressor, ignoring `C`\n",
    "* `FitUncensored` - fits the model on the uncensored data only\n",
    "* `ConditionUncensored` - uses `C` as a feature in fitting, and sets it to `C=0` in `Predict`\n",
    "\n",
    "The first two strategies introduce bias into the model, and should only be applied when the censoring fraction is low.\n",
    "\n",
    "Example with `ConditionUncensored`:"
   ]
  },
  {
   "cell_type": "code",
   "execution_count": 73,
   "metadata": {},
   "outputs": [
    {
     "data": {
      "text/plain": [
       "0.3492063492063492"
      ]
     },
     "execution_count": 73,
     "metadata": {},
     "output_type": "execute_result"
    }
   ],
   "source": [
    "from skpro.regression.linear import GLMRegressor\n",
    "from skpro.survival.compose import ConditionUncensored\n",
    "\n",
    "# estimator specification - use any skpro regressor, including composites\n",
    "reg_proba = GLMRegressor()\n",
    "\n",
    "# turning the regressor into a survival predictor\n",
    "surv_model = ConditionUncensored(reg_proba)\n",
    "\n",
    "# fit and predict\n",
    "surv_model.fit(X_train, y_train, C_train)\n",
    "y_pred_proba = surv_model.predict_proba(X_test)\n",
    "\n",
    "# evaluate\n",
    "c_harrell(y_test, y_pred_proba, C_true=C_test)"
   ]
  },
  {
   "cell_type": "markdown",
   "metadata": {},
   "source": [
    "### 3.1.2 adding probabilistic then survival capability to `sklearn` regressor <a class=\"anchor\" id=\"section3_1_2\"></a>"
   ]
  },
  {
   "cell_type": "code",
   "execution_count": 74,
   "metadata": {},
   "outputs": [
    {
     "data": {
      "text/plain": [
       "0.5158730158730159"
      ]
     },
     "execution_count": 74,
     "metadata": {},
     "output_type": "execute_result"
    }
   ],
   "source": [
    "from sklearn.ensemble import RandomForestRegressor\n",
    "\n",
    "from skpro.regression.residual import ResidualDouble\n",
    "from skpro.survival.compose import ConditionUncensored\n",
    "\n",
    "# estimator specification - use any skpro regressor, including composites\n",
    "reg_mean = RandomForestRegressor()\n",
    "reg_resid = RandomForestRegressor()\n",
    "reg_proba = ResidualDouble(reg_mean, reg_resid)\n",
    "\n",
    "# turning the regressor into a survival predictor\n",
    "surv_model = ConditionUncensored(reg_proba)\n",
    "\n",
    "# fit and predict\n",
    "surv_model.fit(X_train, y_train, C_train)\n",
    "y_pred_proba = surv_model.predict_proba(X_test)\n",
    "\n",
    "# evaluate\n",
    "c_harrell(y_test, y_pred_proba, C_true=C_test)"
   ]
  },
  {
   "cell_type": "markdown",
   "metadata": {},
   "source": [
    "### 3.1.3 bootstrap prediction intervals <a class=\"anchor\" id=\"section3_1_3\"></a>"
   ]
  },
  {
   "cell_type": "code",
   "execution_count": 75,
   "metadata": {},
   "outputs": [
    {
     "data": {
      "text/plain": [
       "0.5384615384615384"
      ]
     },
     "execution_count": 75,
     "metadata": {},
     "output_type": "execute_result"
    }
   ],
   "source": [
    "from sklearn.linear_model import LinearRegression\n",
    "\n",
    "from skpro.regression.bootstrap import BootstrapRegressor\n",
    "\n",
    "# estimator specification - use any sklearn regressor for reg_mean\n",
    "reg_mean = LinearRegression()\n",
    "reg_proba = BootstrapRegressor(reg_mean, n_bootstrap_samples=100)\n",
    "\n",
    "# fit and predict\n",
    "reg_proba.fit(X_train, y_train)\n",
    "y_pred_proba = reg_proba.predict_proba(X_test)\n",
    "\n",
    "# evaluate\n",
    "c_harrell(y_test, y_pred_proba)"
   ]
  },
  {
   "cell_type": "markdown",
   "metadata": {},
   "source": [
    "### 3.2 Pipelines of `skpro` survival regressors and `sklearn` transformers <a class=\"anchor\" id=\"section3_2\"></a>"
   ]
  },
  {
   "cell_type": "markdown",
   "metadata": {},
   "source": [
    "`skpro` survival regressors can be pipelined with `sklearn` transformers, using the `skpro` pipeline.\n",
    "\n",
    "This ensure presence of `predict_proba` etc in the pipeline object.\n",
    "\n",
    "The syntax is exactly the same as for `sklearn`'s pipeline,\n",
    "or the `skpro` pipeline with non-survival regressors"
   ]
  },
  {
   "cell_type": "code",
   "execution_count": 76,
   "metadata": {},
   "outputs": [],
   "source": [
    "from sklearn.impute import SimpleImputer as Imputer\n",
    "from sklearn.preprocessing import MinMaxScaler\n",
    "\n",
    "from skpro.regression.compose import Pipeline\n",
    "from skpro.survival.coxph import CoxPH\n",
    "\n",
    "# estimator specification\n",
    "surv_model = CoxPH()\n",
    "\n",
    "# pipeline is specified as a list of tuples (name, estimator)\n",
    "pipe = Pipeline(\n",
    "    steps=[\n",
    "        (\"imputer\", Imputer()),  # an sklearn transformer\n",
    "        (\"scaler\", MinMaxScaler()),  # an sklearn transformer\n",
    "        (\"regressor\", surv_model),  # an skpro regressor\n",
    "    ]\n",
    ")"
   ]
  },
  {
   "cell_type": "code",
   "execution_count": 77,
   "metadata": {},
   "outputs": [
    {
     "data": {
      "text/html": [
       "<style>#sk-ebaff2c7-b0a0-4df7-b5ec-7956dd0a307f {color: black;background-color: white;}#sk-ebaff2c7-b0a0-4df7-b5ec-7956dd0a307f pre{padding: 0;}#sk-ebaff2c7-b0a0-4df7-b5ec-7956dd0a307f div.sk-toggleable {background-color: white;}#sk-ebaff2c7-b0a0-4df7-b5ec-7956dd0a307f label.sk-toggleable__label {cursor: pointer;display: block;width: 100%;margin-bottom: 0;padding: 0.3em;box-sizing: border-box;text-align: center;}#sk-ebaff2c7-b0a0-4df7-b5ec-7956dd0a307f label.sk-toggleable__label-arrow:before {content: \"▸\";float: left;margin-right: 0.25em;color: #696969;}#sk-ebaff2c7-b0a0-4df7-b5ec-7956dd0a307f label.sk-toggleable__label-arrow:hover:before {color: black;}#sk-ebaff2c7-b0a0-4df7-b5ec-7956dd0a307f div.sk-estimator:hover label.sk-toggleable__label-arrow:before {color: black;}#sk-ebaff2c7-b0a0-4df7-b5ec-7956dd0a307f div.sk-toggleable__content {max-height: 0;max-width: 0;overflow: hidden;text-align: left;background-color: #f0f8ff;}#sk-ebaff2c7-b0a0-4df7-b5ec-7956dd0a307f div.sk-toggleable__content pre {margin: 0.2em;color: black;border-radius: 0.25em;background-color: #f0f8ff;}#sk-ebaff2c7-b0a0-4df7-b5ec-7956dd0a307f input.sk-toggleable__control:checked~div.sk-toggleable__content {max-height: 200px;max-width: 100%;overflow: auto;}#sk-ebaff2c7-b0a0-4df7-b5ec-7956dd0a307f input.sk-toggleable__control:checked~label.sk-toggleable__label-arrow:before {content: \"▾\";}#sk-ebaff2c7-b0a0-4df7-b5ec-7956dd0a307f div.sk-estimator input.sk-toggleable__control:checked~label.sk-toggleable__label {background-color: #d4ebff;}#sk-ebaff2c7-b0a0-4df7-b5ec-7956dd0a307f div.sk-label input.sk-toggleable__control:checked~label.sk-toggleable__label {background-color: #d4ebff;}#sk-ebaff2c7-b0a0-4df7-b5ec-7956dd0a307f input.sk-hidden--visually {border: 0;clip: rect(1px 1px 1px 1px);clip: rect(1px, 1px, 1px, 1px);height: 1px;margin: -1px;overflow: hidden;padding: 0;position: absolute;width: 1px;}#sk-ebaff2c7-b0a0-4df7-b5ec-7956dd0a307f div.sk-estimator {font-family: monospace;background-color: #f0f8ff;border: 1px dotted black;border-radius: 0.25em;box-sizing: border-box;margin-bottom: 0.5em;}#sk-ebaff2c7-b0a0-4df7-b5ec-7956dd0a307f div.sk-estimator:hover {background-color: #d4ebff;}#sk-ebaff2c7-b0a0-4df7-b5ec-7956dd0a307f div.sk-parallel-item::after {content: \"\";width: 100%;border-bottom: 1px solid gray;flex-grow: 1;}#sk-ebaff2c7-b0a0-4df7-b5ec-7956dd0a307f div.sk-label:hover label.sk-toggleable__label {background-color: #d4ebff;}#sk-ebaff2c7-b0a0-4df7-b5ec-7956dd0a307f div.sk-serial::before {content: \"\";position: absolute;border-left: 1px solid gray;box-sizing: border-box;top: 2em;bottom: 0;left: 50%;}#sk-ebaff2c7-b0a0-4df7-b5ec-7956dd0a307f div.sk-serial {display: flex;flex-direction: column;align-items: center;background-color: white;padding-right: 0.2em;padding-left: 0.2em;}#sk-ebaff2c7-b0a0-4df7-b5ec-7956dd0a307f div.sk-item {z-index: 1;}#sk-ebaff2c7-b0a0-4df7-b5ec-7956dd0a307f div.sk-parallel {display: flex;align-items: stretch;justify-content: center;background-color: white;}#sk-ebaff2c7-b0a0-4df7-b5ec-7956dd0a307f div.sk-parallel::before {content: \"\";position: absolute;border-left: 1px solid gray;box-sizing: border-box;top: 2em;bottom: 0;left: 50%;}#sk-ebaff2c7-b0a0-4df7-b5ec-7956dd0a307f div.sk-parallel-item {display: flex;flex-direction: column;position: relative;background-color: white;}#sk-ebaff2c7-b0a0-4df7-b5ec-7956dd0a307f div.sk-parallel-item:first-child::after {align-self: flex-end;width: 50%;}#sk-ebaff2c7-b0a0-4df7-b5ec-7956dd0a307f div.sk-parallel-item:last-child::after {align-self: flex-start;width: 50%;}#sk-ebaff2c7-b0a0-4df7-b5ec-7956dd0a307f div.sk-parallel-item:only-child::after {width: 0;}#sk-ebaff2c7-b0a0-4df7-b5ec-7956dd0a307f div.sk-dashed-wrapped {border: 1px dashed gray;margin: 0 0.4em 0.5em 0.4em;box-sizing: border-box;padding-bottom: 0.4em;background-color: white;position: relative;}#sk-ebaff2c7-b0a0-4df7-b5ec-7956dd0a307f div.sk-label label {font-family: monospace;font-weight: bold;background-color: white;display: inline-block;line-height: 1.2em;}#sk-ebaff2c7-b0a0-4df7-b5ec-7956dd0a307f div.sk-label-container {position: relative;z-index: 2;text-align: center;}#sk-ebaff2c7-b0a0-4df7-b5ec-7956dd0a307f div.sk-container {/* jupyter's `normalize.less` sets `[hidden] { display: none; }` but bootstrap.min.css set `[hidden] { display: none !important; }` so we also need the `!important` here to be able to override the default hidden behavior on the sphinx rendered scikit-learn.org. See: https://github.com/scikit-learn/scikit-learn/issues/21755 */display: inline-block !important;position: relative;}#sk-ebaff2c7-b0a0-4df7-b5ec-7956dd0a307f div.sk-text-repr-fallback {display: none;}</style><div id='sk-ebaff2c7-b0a0-4df7-b5ec-7956dd0a307f' class=\"sk-top-container\"><div class=\"sk-text-repr-fallback\"><pre>Pipeline(steps=[(&#x27;imputer&#x27;, SimpleImputer()), (&#x27;scaler&#x27;, MinMaxScaler()),\n",
       "                (&#x27;regressor&#x27;, CoxPH())])</pre><b>Please rerun this cell to show the HTML repr or trust the notebook.</b></div><div class=\"sk-container\" hidden><div class=\"sk-item sk-dashed-wrapped\"><div class='sk-label-container'><div class=\"sk-label sk-toggleable\"><input class=\"sk-toggleable__control sk-hidden--visually\" id=UUID('836f9903-e576-401a-9ef2-7b5005606ffb') type=\"checkbox\" ><label for=UUID('836f9903-e576-401a-9ef2-7b5005606ffb') class='sk-toggleable__label sk-toggleable__label-arrow'>Pipeline</label><div class=\"sk-toggleable__content\"><pre>Pipeline(steps=[(&#x27;imputer&#x27;, SimpleImputer()), (&#x27;scaler&#x27;, MinMaxScaler()),\n",
       "                (&#x27;regressor&#x27;, CoxPH())])</pre></div></div></div><div class=\"sk-serial\"><div class='sk-item'><div class=\"sk-estimator sk-toggleable\"><input class=\"sk-toggleable__control sk-hidden--visually\" id=UUID('62746793-60ad-43af-b665-11937b83d9b8') type=\"checkbox\" ><label for=UUID('62746793-60ad-43af-b665-11937b83d9b8') class='sk-toggleable__label sk-toggleable__label-arrow'>SimpleImputer</label><div class=\"sk-toggleable__content\"><pre>SimpleImputer()</pre></div></div></div><div class='sk-item'><div class=\"sk-estimator sk-toggleable\"><input class=\"sk-toggleable__control sk-hidden--visually\" id=UUID('ca256cca-cb25-4178-8396-1939fd74363a') type=\"checkbox\" ><label for=UUID('ca256cca-cb25-4178-8396-1939fd74363a') class='sk-toggleable__label sk-toggleable__label-arrow'>MinMaxScaler</label><div class=\"sk-toggleable__content\"><pre>MinMaxScaler()</pre></div></div></div><div class='sk-item'><div class=\"sk-estimator sk-toggleable\"><input class=\"sk-toggleable__control sk-hidden--visually\" id=UUID('6845a684-1501-4479-ac4a-f9586d72ae5f') type=\"checkbox\" ><label for=UUID('6845a684-1501-4479-ac4a-f9586d72ae5f') class='sk-toggleable__label sk-toggleable__label-arrow'>CoxPH</label><div class=\"sk-toggleable__content\"><pre>CoxPH()</pre></div></div></div></div></div></div></div>"
      ],
      "text/plain": [
       "Pipeline(steps=[('imputer', SimpleImputer()), ('scaler', MinMaxScaler()),\n",
       "                ('regressor', CoxPH())])"
      ]
     },
     "execution_count": 77,
     "metadata": {},
     "output_type": "execute_result"
    }
   ],
   "source": [
    "pipe"
   ]
  },
  {
   "cell_type": "code",
   "execution_count": 78,
   "metadata": {},
   "outputs": [],
   "source": [
    "# the pipeline behaves as any skpro regressor\n",
    "pipe.fit(X_train, y_train, C_train)\n",
    "y_pred = pipe.predict(X=X_test)\n",
    "y_pred_proba = pipe.predict_proba(X=X_test)"
   ]
  },
  {
   "cell_type": "markdown",
   "metadata": {},
   "source": [
    "the pipeline provides the familiar nested `get_params`, `set_params` interface:\n",
    "\n",
    "nested parameters are keyed `componentname__parametername`"
   ]
  },
  {
   "cell_type": "code",
   "execution_count": 79,
   "metadata": {},
   "outputs": [
    {
     "data": {
      "text/plain": [
       "{'steps': [('imputer', SimpleImputer()),\n",
       "  ('scaler', MinMaxScaler()),\n",
       "  ('regressor', CoxPH())],\n",
       " 'imputer': SimpleImputer(),\n",
       " 'scaler': MinMaxScaler(),\n",
       " 'regressor': CoxPH(),\n",
       " 'imputer__add_indicator': False,\n",
       " 'imputer__copy': True,\n",
       " 'imputer__fill_value': None,\n",
       " 'imputer__keep_empty_features': False,\n",
       " 'imputer__missing_values': nan,\n",
       " 'imputer__strategy': 'mean',\n",
       " 'scaler__clip': False,\n",
       " 'scaler__copy': True,\n",
       " 'scaler__feature_range': (0, 1),\n",
       " 'regressor__alpha': 0.0,\n",
       " 'regressor__method': 'lpl',\n",
       " 'regressor__missing': 'drop',\n",
       " 'regressor__strata': None,\n",
       " 'regressor__ties': 'breslow'}"
      ]
     },
     "execution_count": 79,
     "metadata": {},
     "output_type": "execute_result"
    }
   ],
   "source": [
    "pipe.get_params()"
   ]
  },
  {
   "cell_type": "markdown",
   "metadata": {},
   "source": [
    "pipelines can also be created via simple lists of estimators,\n",
    "\n",
    "in this case names are generated automatically:"
   ]
  },
  {
   "cell_type": "code",
   "execution_count": 80,
   "metadata": {},
   "outputs": [],
   "source": [
    "# pipeline is specified as a list of tuples (name, estimator)\n",
    "pipe = Pipeline(\n",
    "    steps=[\n",
    "        Imputer(),  # an sklearn transformer\n",
    "        MinMaxScaler(),  # an sklearn transformer\n",
    "        surv_model,  # an skpro regressor\n",
    "    ]\n",
    ")"
   ]
  },
  {
   "cell_type": "markdown",
   "metadata": {},
   "source": [
    "### 3.3 Tuning of `skpro` regressors via grid and random search <a class=\"anchor\" id=\"section3_3\"></a>"
   ]
  },
  {
   "cell_type": "markdown",
   "metadata": {},
   "source": [
    "`skpro` provides grid and random search tuners to tune arbitrary probabilistic regressors,\n",
    "\n",
    "using probabilistic metrics.\n",
    "\n",
    "Survival metrics can be used to tune survival regressors, same as non-survival regressors."
   ]
  },
  {
   "cell_type": "code",
   "execution_count": 81,
   "metadata": {},
   "outputs": [],
   "source": [
    "from sklearn.model_selection import KFold\n",
    "\n",
    "from skpro.metrics import ConcordanceHarrell\n",
    "from skpro.model_selection import GridSearchCV\n",
    "from skpro.survival.coxph import CoxPH\n",
    "\n",
    "# cross-validation specification for tuner\n",
    "cv = KFold(n_splits=3)\n",
    "\n",
    "# estimator to be tuned\n",
    "estimator = CoxPH()\n",
    "\n",
    "# tuning grid - partial likelihood or elastic net penalty?\n",
    "param_grid = {\"method\": [\"lpl\", \"elastic_net\"]}\n",
    "\n",
    "# metric to be optimized\n",
    "c_harrell = ConcordanceHarrell()\n",
    "\n",
    "# specification of the grid search tuner\n",
    "gscv = GridSearchCV(\n",
    "    estimator=estimator,\n",
    "    param_grid=param_grid,\n",
    "    cv=cv,\n",
    "    scoring=c_harrell,\n",
    ")"
   ]
  },
  {
   "cell_type": "code",
   "execution_count": 82,
   "metadata": {},
   "outputs": [
    {
     "data": {
      "text/html": [
       "<style>#sk-412566cd-360e-4a14-8f8c-0f1e249ba6f7 {color: black;background-color: white;}#sk-412566cd-360e-4a14-8f8c-0f1e249ba6f7 pre{padding: 0;}#sk-412566cd-360e-4a14-8f8c-0f1e249ba6f7 div.sk-toggleable {background-color: white;}#sk-412566cd-360e-4a14-8f8c-0f1e249ba6f7 label.sk-toggleable__label {cursor: pointer;display: block;width: 100%;margin-bottom: 0;padding: 0.3em;box-sizing: border-box;text-align: center;}#sk-412566cd-360e-4a14-8f8c-0f1e249ba6f7 label.sk-toggleable__label-arrow:before {content: \"▸\";float: left;margin-right: 0.25em;color: #696969;}#sk-412566cd-360e-4a14-8f8c-0f1e249ba6f7 label.sk-toggleable__label-arrow:hover:before {color: black;}#sk-412566cd-360e-4a14-8f8c-0f1e249ba6f7 div.sk-estimator:hover label.sk-toggleable__label-arrow:before {color: black;}#sk-412566cd-360e-4a14-8f8c-0f1e249ba6f7 div.sk-toggleable__content {max-height: 0;max-width: 0;overflow: hidden;text-align: left;background-color: #f0f8ff;}#sk-412566cd-360e-4a14-8f8c-0f1e249ba6f7 div.sk-toggleable__content pre {margin: 0.2em;color: black;border-radius: 0.25em;background-color: #f0f8ff;}#sk-412566cd-360e-4a14-8f8c-0f1e249ba6f7 input.sk-toggleable__control:checked~div.sk-toggleable__content {max-height: 200px;max-width: 100%;overflow: auto;}#sk-412566cd-360e-4a14-8f8c-0f1e249ba6f7 input.sk-toggleable__control:checked~label.sk-toggleable__label-arrow:before {content: \"▾\";}#sk-412566cd-360e-4a14-8f8c-0f1e249ba6f7 div.sk-estimator input.sk-toggleable__control:checked~label.sk-toggleable__label {background-color: #d4ebff;}#sk-412566cd-360e-4a14-8f8c-0f1e249ba6f7 div.sk-label input.sk-toggleable__control:checked~label.sk-toggleable__label {background-color: #d4ebff;}#sk-412566cd-360e-4a14-8f8c-0f1e249ba6f7 input.sk-hidden--visually {border: 0;clip: rect(1px 1px 1px 1px);clip: rect(1px, 1px, 1px, 1px);height: 1px;margin: -1px;overflow: hidden;padding: 0;position: absolute;width: 1px;}#sk-412566cd-360e-4a14-8f8c-0f1e249ba6f7 div.sk-estimator {font-family: monospace;background-color: #f0f8ff;border: 1px dotted black;border-radius: 0.25em;box-sizing: border-box;margin-bottom: 0.5em;}#sk-412566cd-360e-4a14-8f8c-0f1e249ba6f7 div.sk-estimator:hover {background-color: #d4ebff;}#sk-412566cd-360e-4a14-8f8c-0f1e249ba6f7 div.sk-parallel-item::after {content: \"\";width: 100%;border-bottom: 1px solid gray;flex-grow: 1;}#sk-412566cd-360e-4a14-8f8c-0f1e249ba6f7 div.sk-label:hover label.sk-toggleable__label {background-color: #d4ebff;}#sk-412566cd-360e-4a14-8f8c-0f1e249ba6f7 div.sk-serial::before {content: \"\";position: absolute;border-left: 1px solid gray;box-sizing: border-box;top: 2em;bottom: 0;left: 50%;}#sk-412566cd-360e-4a14-8f8c-0f1e249ba6f7 div.sk-serial {display: flex;flex-direction: column;align-items: center;background-color: white;padding-right: 0.2em;padding-left: 0.2em;}#sk-412566cd-360e-4a14-8f8c-0f1e249ba6f7 div.sk-item {z-index: 1;}#sk-412566cd-360e-4a14-8f8c-0f1e249ba6f7 div.sk-parallel {display: flex;align-items: stretch;justify-content: center;background-color: white;}#sk-412566cd-360e-4a14-8f8c-0f1e249ba6f7 div.sk-parallel::before {content: \"\";position: absolute;border-left: 1px solid gray;box-sizing: border-box;top: 2em;bottom: 0;left: 50%;}#sk-412566cd-360e-4a14-8f8c-0f1e249ba6f7 div.sk-parallel-item {display: flex;flex-direction: column;position: relative;background-color: white;}#sk-412566cd-360e-4a14-8f8c-0f1e249ba6f7 div.sk-parallel-item:first-child::after {align-self: flex-end;width: 50%;}#sk-412566cd-360e-4a14-8f8c-0f1e249ba6f7 div.sk-parallel-item:last-child::after {align-self: flex-start;width: 50%;}#sk-412566cd-360e-4a14-8f8c-0f1e249ba6f7 div.sk-parallel-item:only-child::after {width: 0;}#sk-412566cd-360e-4a14-8f8c-0f1e249ba6f7 div.sk-dashed-wrapped {border: 1px dashed gray;margin: 0 0.4em 0.5em 0.4em;box-sizing: border-box;padding-bottom: 0.4em;background-color: white;position: relative;}#sk-412566cd-360e-4a14-8f8c-0f1e249ba6f7 div.sk-label label {font-family: monospace;font-weight: bold;background-color: white;display: inline-block;line-height: 1.2em;}#sk-412566cd-360e-4a14-8f8c-0f1e249ba6f7 div.sk-label-container {position: relative;z-index: 2;text-align: center;}#sk-412566cd-360e-4a14-8f8c-0f1e249ba6f7 div.sk-container {/* jupyter's `normalize.less` sets `[hidden] { display: none; }` but bootstrap.min.css set `[hidden] { display: none !important; }` so we also need the `!important` here to be able to override the default hidden behavior on the sphinx rendered scikit-learn.org. See: https://github.com/scikit-learn/scikit-learn/issues/21755 */display: inline-block !important;position: relative;}#sk-412566cd-360e-4a14-8f8c-0f1e249ba6f7 div.sk-text-repr-fallback {display: none;}</style><div id='sk-412566cd-360e-4a14-8f8c-0f1e249ba6f7' class=\"sk-top-container\"><div class=\"sk-text-repr-fallback\"><pre>GridSearchCV(cv=KFold(n_splits=3, random_state=None, shuffle=False),\n",
       "             estimator=CoxPH(), param_grid={&#x27;method&#x27;: [&#x27;lpl&#x27;, &#x27;elastic_net&#x27;]},\n",
       "             scoring=ConcordanceHarrell())</pre><b>Please rerun this cell to show the HTML repr or trust the notebook.</b></div><div class=\"sk-container\" hidden><div class=\"sk-item sk-dashed-wrapped\"><div class='sk-label-container'><div class=\"sk-label sk-toggleable\"><input class=\"sk-toggleable__control sk-hidden--visually\" id=UUID('77deac80-408b-4ae8-85e9-f390da84dd4b') type=\"checkbox\" ><label for=UUID('77deac80-408b-4ae8-85e9-f390da84dd4b') class='sk-toggleable__label sk-toggleable__label-arrow'>GridSearchCV</label><div class=\"sk-toggleable__content\"><pre>GridSearchCV(cv=KFold(n_splits=3, random_state=None, shuffle=False),\n",
       "             estimator=CoxPH(), param_grid={&#x27;method&#x27;: [&#x27;lpl&#x27;, &#x27;elastic_net&#x27;]},\n",
       "             scoring=ConcordanceHarrell())</pre></div></div></div><div class=\"sk-parallel\"><div class=\"sk-parallel-item\"><div class=\"sk-item\"><div class=\"sk-serial\"><div class='sk-item'><div class=\"sk-estimator sk-toggleable\"><input class=\"sk-toggleable__control sk-hidden--visually\" id=UUID('20540a25-0699-4c1c-8f46-b68630cdb085') type=\"checkbox\" ><label for=UUID('20540a25-0699-4c1c-8f46-b68630cdb085') class='sk-toggleable__label sk-toggleable__label-arrow'>CoxPH</label><div class=\"sk-toggleable__content\"><pre>CoxPH()</pre></div></div></div></div></div></div><div class=\"sk-parallel-item\"><div class=\"sk-item\"><div class=\"sk-serial\"><div class='sk-item'><div class=\"sk-estimator sk-toggleable\"><input class=\"sk-toggleable__control sk-hidden--visually\" id=UUID('8a9b4c45-cd6c-414e-bddc-b67ada63bd7f') type=\"checkbox\" ><label for=UUID('8a9b4c45-cd6c-414e-bddc-b67ada63bd7f') class='sk-toggleable__label sk-toggleable__label-arrow'>ConcordanceHarrell</label><div class=\"sk-toggleable__content\"><pre>ConcordanceHarrell()</pre></div></div></div></div></div></div></div></div></div></div>"
      ],
      "text/plain": [
       "GridSearchCV(cv=KFold(n_splits=3, random_state=None, shuffle=False),\n",
       "             estimator=CoxPH(), param_grid={'method': ['lpl', 'elastic_net']},\n",
       "             scoring=ConcordanceHarrell())"
      ]
     },
     "execution_count": 82,
     "metadata": {},
     "output_type": "execute_result"
    }
   ],
   "source": [
    "gscv"
   ]
  },
  {
   "cell_type": "markdown",
   "metadata": {},
   "source": [
    "the grid search tuner behaves like any `skpro` survival regressor:"
   ]
  },
  {
   "cell_type": "code",
   "execution_count": 83,
   "metadata": {},
   "outputs": [],
   "source": [
    "gscv.fit(X_train, y_train, C_train)\n",
    "y_pred = gscv.predict(X_test)\n",
    "y_pred_proba = gscv.predict_proba(X_test)"
   ]
  },
  {
   "cell_type": "markdown",
   "metadata": {},
   "source": [
    "random search is similar, except that instead of a grid a parameter sampler should be specified:"
   ]
  },
  {
   "cell_type": "code",
   "execution_count": 84,
   "metadata": {},
   "outputs": [],
   "source": [
    "from skpro.model_selection import RandomizedSearchCV\n",
    "\n",
    "# only difference to GridSearchCV is the param_distributions argument\n",
    "\n",
    "# specification of the random search parameter sampler\n",
    "param_distributions = {\"method\": [\"lpl\", \"elastic_net\"]}\n",
    "\n",
    "# specification of the random search tuner\n",
    "rscv = RandomizedSearchCV(\n",
    "    estimator=estimator,\n",
    "    param_distributions=param_distributions,\n",
    "    cv=cv,\n",
    "    scoring=c_harrell,\n",
    ")"
   ]
  },
  {
   "cell_type": "markdown",
   "metadata": {},
   "source": [
    "## 4. Extension guide - implementing your own time-to-event regressor <a class=\"anchor\" id=\"chapter4\"></a>"
   ]
  },
  {
   "cell_type": "markdown",
   "metadata": {},
   "source": [
    "\n",
    "`skpro` is meant to be easily extensible, for direct contribution to `skpro` as well as for local/private extension with custom methods.\n",
    "\n",
    "To get started:\n",
    "\n",
    "* Follow the [\"implementing estimator\" developer guide](https://skpro.readthedocs.io/en/stable/developer_guide/add_estimators.html)\n",
    "* Use the [survival regressor template](https://github.com/sktime/skpro/blob/main/extension_templates/survival.py) to get started\n",
    "\n",
    "1. Read through the [survival regression extension template](https://github.com/sktime/skpro/blob/main/extension_templates/survival.py) - this is a `python` file with `todo` blocks that mark the places in which changes need to be added.\n",
    "2. Copy the proba regressor extension template to a local folder in your own repository (local/private extension), or to a suitable location in your clone of the `skpro` or affiliated repository (if contributed extension), inside `skpro.survival`; rename the file and update the file docstring appropriately.\n",
    "3. Address the \"todo\" parts. Usually, this means: changing the name of the class, setting the tag values, specifying hyper-parameters, filling in `__init__`, `_fit`, and at least one of the probabilistic prediction methods, preferably `_predict_proba` (for details see the extension template). You can add private methods as long as they do not override the default public interface. For more details, see the extension template.\n",
    "4. To test your estimator manually: import your estimator and run it in the workflows in Section 1; then use it in the compositors in Section 3.\n",
    "5. To test your estimator automatically: call `skpro.utils.check_estimator` on your estimator. You can call this on a class or object instance. Ensure you have specified test parameters in the `get_test_params` method, according to the extension template.\n",
    "\n",
    "In case of direct contribution to `skpro` or one of its affiliated packages, additionally:\n",
    "\n",
    "* Add yourself as an author and/or a maintainer for the new estimator file(s), via `\"authors\"` and `\"maintainers\"` tag.\n",
    "* Create a pull request that contains only the new estimators (and their inheritance tree, if it's not just one class), as well as the automated tests as described above.\n",
    "* In the pull request, describe the estimator and optimally provide a publication or other technical reference for the strategy it implements.\n",
    "* Before making the pull request, ensure that you have all necessary permissions to contribute the code to a permissive license (BSD-3) open source project."
   ]
  },
  {
   "cell_type": "markdown",
   "metadata": {},
   "source": [
    "## 5. Summary<a class=\"anchor\" id=\"chapter5\"></a>\n",
    "\n",
    "* `skpro` is a unified interface toolbox for probabilistic supervised regression, that is, for prediction intervals, quantiles, fully distributional predictions, in a tabular regression setting. The interface is fully interoperable with `scikit-learn` and `scikit-base` interface specifications.\n",
    "\n",
    "* `skpro` comes with rich composition functionality that allows to build complex pipelines easily, and connect easily with other parts of the open source ecosystem, such as `scikit-learn` and individual algorithm libraries.\n",
    "\n",
    "* `skpro` is easy to extend, and comes with user friendly tools to facilitate implementing and testing your own probabilistic regressors and composition principles."
   ]
  },
  {
   "cell_type": "markdown",
   "metadata": {},
   "source": [
    "---\n",
    "\n",
    "### Credits:\n",
    "\n",
    "noteook creation: fkiraly\n",
    "\n",
    "skpro: https://github.com/sktime/skpro/blob/main/CONTRIBUTORS.md"
   ]
  }
 ],
 "metadata": {
  "kernelspec": {
   "display_name": "skpro",
   "language": "python",
   "name": "python3"
  },
  "language_info": {
   "codemirror_mode": {
    "name": "ipython",
    "version": 3
   },
   "file_extension": ".py",
   "mimetype": "text/x-python",
   "name": "python",
   "nbconvert_exporter": "python",
   "pygments_lexer": "ipython3",
   "version": "3.11.5"
  },
  "orig_nbformat": 4,
  "vscode": {
   "interpreter": {
    "hash": "3e631b8a076cc106144e9b132b7d31cae2f1e2660b47e5f9fcb0397caae5fbd5"
   }
  }
 },
 "nbformat": 4,
 "nbformat_minor": 2
}
