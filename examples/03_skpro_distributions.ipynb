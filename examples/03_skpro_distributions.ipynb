{
 "cells": [
  {
   "attachments": {},
   "cell_type": "markdown",
   "metadata": {},
   "source": [
    "## skpro probability distributions"
   ]
  },
  {
   "cell_type": "markdown",
   "metadata": {},
   "source": [
    "**Set-up instructions:** On binder, this should run out-of-the-box.\n",
    "\n",
    "To run locally instead, ensure that `skpro` with basic dependency requirements is installed in your python environment."
   ]
  },
  {
   "cell_type": "markdown",
   "metadata": {},
   "source": [
    "`skpro` provides a unified interface to probability distributions, with an API that:\n",
    "\n",
    "* is `scikit-learn` and `scikit-base` compliant, parametric objects with `get_params`, `set_params`\n",
    "* allows to represent data frame and 2D arrays of distributions easily, as return objects in `predict_proba`\n",
    "* is `pandas` copmliant, with `index`, `columns`, indexing and subsetting via `iloc`, `loc`\n",
    "* provides easy access to informative and didactic vicualizations via `matplotlib`\n",
    "\n",
    "**Section 1** provides an **overview of core API elements**\n",
    "\n",
    "**Section 2** gives an overview of **distribution object methods**, relevant tags and configs\n",
    "\n",
    "**Section 3** introduces **composite distributions** and related APIs\n",
    "\n",
    "**Section 4** gives an introduction to writing API compliant **custom probability distributions**"
   ]
  },
  {
   "cell_type": "code",
   "execution_count": null,
   "metadata": {},
   "outputs": [],
   "source": [
    "# hide warnings\n",
    "import warnings\n",
    "\n",
    "warnings.filterwarnings(\"ignore\")"
   ]
  },
  {
   "attachments": {},
   "cell_type": "markdown",
   "metadata": {},
   "source": [
    "## 1. `skpro` probability distributions <a class=\"anchor\" id=\"chapter1\"></a>"
   ]
  },
  {
   "attachments": {},
   "cell_type": "markdown",
   "metadata": {},
   "source": [
    "### 1.1 probability distributions base interface"
   ]
  },
  {
   "cell_type": "markdown",
   "metadata": {},
   "source": [
    "`skpro` distributions are parametric objects:"
   ]
  },
  {
   "cell_type": "code",
   "execution_count": null,
   "metadata": {},
   "outputs": [],
   "source": [
    "from skpro.distributions import Normal\n",
    "\n",
    "# defining a normal distribution with mean 1 and std 2\n",
    "n = Normal(mu=1, sigma=2)\n",
    "\n",
    "n"
   ]
  },
  {
   "cell_type": "markdown",
   "metadata": {},
   "source": [
    "The object `n` is a symbolic representation of a normal distribution.\n",
    "\n",
    "The object provides various useful methods:\n",
    "\n",
    "* properties and functions such as `pdf`, `cdf`, `mean`, `var`\n",
    "* a method to sample from the distribution, `sample`\n",
    "* a method to visualize the distribution, `plot`"
   ]
  },
  {
   "cell_type": "code",
   "execution_count": null,
   "metadata": {},
   "outputs": [],
   "source": [
    "n.plot(\"pdf\")"
   ]
  },
  {
   "cell_type": "code",
   "execution_count": null,
   "metadata": {},
   "outputs": [],
   "source": [
    "# evaluate the pdf, compare the figure\n",
    "n.pdf(2)"
   ]
  },
  {
   "cell_type": "code",
   "execution_count": null,
   "metadata": {},
   "outputs": [],
   "source": [
    "# mean/expectation of the distribution\n",
    "# same as mu, for normal\n",
    "n.mean()"
   ]
  },
  {
   "cell_type": "code",
   "execution_count": null,
   "metadata": {},
   "outputs": [],
   "source": [
    "# variance of the distribution\n",
    "# same as sigma-squared, for normal\n",
    "n.var()"
   ]
  },
  {
   "cell_type": "code",
   "execution_count": null,
   "metadata": {},
   "outputs": [],
   "source": [
    "# plot the cdf\n",
    "n.plot(\"cdf\")"
   ]
  },
  {
   "cell_type": "code",
   "execution_count": null,
   "metadata": {},
   "outputs": [],
   "source": [
    "n.cdf(1)"
   ]
  },
  {
   "cell_type": "markdown",
   "metadata": {},
   "source": [
    "the `sample` method can be used to produce a single independent sample, or multiple:"
   ]
  },
  {
   "cell_type": "code",
   "execution_count": null,
   "metadata": {},
   "outputs": [],
   "source": [
    "# produce single sample\n",
    "n.sample()"
   ]
  },
  {
   "cell_type": "code",
   "execution_count": null,
   "metadata": {},
   "outputs": [],
   "source": [
    "# produce an i.i.d. sample of size 10\n",
    "n.sample(10)\n",
    "# returned as a pd.DataFrame"
   ]
  },
  {
   "cell_type": "markdown",
   "metadata": {},
   "source": [
    "parameters can be set and accessed via `get_params`, `set_params` - like in `scikit-learn`"
   ]
  },
  {
   "cell_type": "code",
   "execution_count": null,
   "metadata": {},
   "outputs": [],
   "source": [
    "n.get_params()"
   ]
  },
  {
   "cell_type": "markdown",
   "metadata": {},
   "source": [
    "### 1.2 DataFrame-like distributions, array distributions"
   ]
  },
  {
   "cell_type": "markdown",
   "metadata": {},
   "source": [
    "`skpro` distributions are designed to easily represent DataFrame-like distributions,\n",
    "\n",
    "i.e., array distributions with row (instance) index and column (variable) index\n",
    "\n",
    "all distributions can be constructed as a DataFrame-like distribution:"
   ]
  },
  {
   "cell_type": "code",
   "execution_count": null,
   "metadata": {},
   "outputs": [],
   "source": [
    "from skpro.distributions import Normal\n",
    "\n",
    "instance_names = [1, 2, 3]\n",
    "variable_names = [\"foo\", \"bar\"]\n",
    "\n",
    "# the syntax is similar to pandas:\n",
    "# parameters passed as arrays\n",
    "# index, columns passed\n",
    "\n",
    "mus = [[1, 2], [2, 3], [3, 4]]\n",
    "sigmas = [[1, 1], [2, 1], [1, 2]]\n",
    "n = Normal(mu=mus, sigma=sigmas, index=instance_names, columns=variable_names)"
   ]
  },
  {
   "cell_type": "markdown",
   "metadata": {},
   "source": [
    "`n` represents a joint distribution of independent normals in an array, with row and column index\n",
    "\n",
    "(most) methods behave as applying array input to marginals\n",
    "\n",
    "e.g., visualisation:"
   ]
  },
  {
   "cell_type": "code",
   "execution_count": null,
   "metadata": {},
   "outputs": [],
   "source": [
    "n.plot(\"cdf\")"
   ]
  },
  {
   "cell_type": "code",
   "execution_count": null,
   "metadata": {},
   "outputs": [],
   "source": [
    "n.plot(\"pdf\")"
   ]
  },
  {
   "cell_type": "code",
   "execution_count": null,
   "metadata": {},
   "outputs": [],
   "source": [
    "# sampling produces DataFrame with same index, columns\n",
    "n.sample()"
   ]
  },
  {
   "cell_type": "code",
   "execution_count": null,
   "metadata": {},
   "outputs": [],
   "source": [
    "# same for mean\n",
    "n.mean()"
   ]
  },
  {
   "cell_type": "code",
   "execution_count": null,
   "metadata": {},
   "outputs": [],
   "source": [
    "# variance\n",
    "n.var()"
   ]
  },
  {
   "cell_type": "markdown",
   "metadata": {},
   "source": [
    "methods with arguments broadcast to 2D"
   ]
  },
  {
   "cell_type": "code",
   "execution_count": null,
   "metadata": {},
   "outputs": [],
   "source": [
    "# methods with arguments broadcast\n",
    "n.pdf(1)"
   ]
  },
  {
   "cell_type": "code",
   "execution_count": null,
   "metadata": {},
   "outputs": [],
   "source": [
    "# 1D is considered as a row when broadcasting\n",
    "n.pdf([1, 100])"
   ]
  },
  {
   "cell_type": "code",
   "execution_count": null,
   "metadata": {},
   "outputs": [],
   "source": [
    "# to broadcast column-wise, use 2D column vector\n",
    "n.pdf([[1], [2], [100]])"
   ]
  },
  {
   "cell_type": "code",
   "execution_count": null,
   "metadata": {},
   "outputs": [],
   "source": [
    "# 2D is evaluated entry-wise\n",
    "n.pdf([[1, 2], [3, 5], [5, 7]])"
   ]
  },
  {
   "cell_type": "markdown",
   "metadata": {},
   "source": [
    "`skpro` distribution objects are pandas-like!"
   ]
  },
  {
   "cell_type": "code",
   "execution_count": null,
   "metadata": {},
   "outputs": [],
   "source": [
    "n.shape"
   ]
  },
  {
   "cell_type": "markdown",
   "metadata": {},
   "source": [
    "`index` and `columns` are coerced to `pandas.Index` subtypes"
   ]
  },
  {
   "cell_type": "code",
   "execution_count": null,
   "metadata": {},
   "outputs": [],
   "source": [
    "n.index"
   ]
  },
  {
   "cell_type": "code",
   "execution_count": null,
   "metadata": {},
   "outputs": [],
   "source": [
    "n.columns  # same columns as X_new"
   ]
  },
  {
   "cell_type": "markdown",
   "metadata": {},
   "source": [
    "subsetting with `iloc` (integer location) and `loc` works as in `pandas`:\n",
    "\n",
    "* `iloc[rows, cols]` and `loc[rows, cols]` subset to an array distribution\n",
    "* `iat[row, col]` and `at[row, col]` subset to a scalar distribution"
   ]
  },
  {
   "cell_type": "code",
   "execution_count": null,
   "metadata": {},
   "outputs": [],
   "source": [
    "# we wubset to two rows and one column\n",
    "n_subset = n.iloc[[0, 2], [1]]\n",
    "# n_subset.shape = (2, 1)\n",
    "n_subset.plot()"
   ]
  },
  {
   "cell_type": "code",
   "execution_count": null,
   "metadata": {},
   "outputs": [],
   "source": [
    "# same rows, cols, but with loc indexing\n",
    "n_subset = n.loc[[1, 3], [\"bar\"]]\n",
    "# n_subset.shape = (2, 1)\n",
    "n_subset.plot()"
   ]
  },
  {
   "cell_type": "code",
   "execution_count": null,
   "metadata": {},
   "outputs": [],
   "source": [
    "# subsetting to a scalar distribution\n",
    "n.at[1, \"bar\"]\n",
    "# this behaves the same as the distribution in the previous section"
   ]
  },
  {
   "cell_type": "markdown",
   "metadata": {},
   "source": [
    "### 1.3 DataFrame-like distributions - broadcasting"
   ]
  },
  {
   "cell_type": "markdown",
   "metadata": {},
   "source": [
    "at construction, all (simple) probabilty distributions broadcast parameters:\n",
    "\n",
    "* if `index` or `columns` are passed, always broadcasts to 2D\n",
    "* 1D iterables are interpreted as row vectors, i.e., of shape (1, n)\n",
    "* if `index` and `columns` are absent, and the result is 2D, uses `RangeIndex` (integers starting at 0)\n",
    "* the result is a scalar distribution only if `index`, `columns` are not passed, and all parameters are zero-D (scalar)"
   ]
  },
  {
   "cell_type": "code",
   "execution_count": null,
   "metadata": {},
   "outputs": [],
   "source": [
    "# broadcasting example: index is passed\n",
    "from skpro.distributions import Normal\n",
    "\n",
    "n = Normal(mu=1, sigma=2, index=[1, 2, 3])\n",
    "# results in a shape (3, 1) distribution, with all mu, sigma being 1, 2\n",
    "n.shape"
   ]
  },
  {
   "cell_type": "code",
   "execution_count": null,
   "metadata": {},
   "outputs": [],
   "source": [
    "n.mean()"
   ]
  },
  {
   "cell_type": "code",
   "execution_count": null,
   "metadata": {},
   "outputs": [],
   "source": [
    "n.var()"
   ]
  },
  {
   "cell_type": "code",
   "execution_count": null,
   "metadata": {},
   "outputs": [],
   "source": [
    "# broadcasting example: a parameter is non-scalar\n",
    "from skpro.distributions import Normal\n",
    "\n",
    "n = Normal(mu=[[1, 2], [2, 3]], sigma=2)\n",
    "# results in a shape (2, 2) distribution\n",
    "# sigma is broadcast ot the shape of mu\n",
    "# index, columns are RangeIndex, i.e., [0, 1]\n",
    "n.shape"
   ]
  },
  {
   "cell_type": "code",
   "execution_count": null,
   "metadata": {},
   "outputs": [],
   "source": [
    "n.mean()"
   ]
  },
  {
   "cell_type": "code",
   "execution_count": null,
   "metadata": {},
   "outputs": [],
   "source": [
    "# broadcasting example: 1D parameter is broadcast as a row\n",
    "from skpro.distributions import Normal\n",
    "\n",
    "n = Normal(mu=[1, 2, 3], sigma=2)\n",
    "# results in a shape (1, 3) distribution\n",
    "# mu is interpreted as (1, 3) row vector\n",
    "# sigma is broadcast ot the shape of mu\n",
    "# index, columns are RangeIndex, i.e., index=[0] and columns=[0, 1, 2]\n",
    "n.shape"
   ]
  },
  {
   "cell_type": "code",
   "execution_count": null,
   "metadata": {},
   "outputs": [],
   "source": [
    "n.mean()"
   ]
  },
  {
   "cell_type": "markdown",
   "metadata": {},
   "source": [
    "### 1.4 searching for probability distributions"
   ]
  },
  {
   "cell_type": "markdown",
   "metadata": {},
   "source": [
    "as first-class citizens, all objects in `skpro` are indexed via the `registry` utility `all_objects`.\n",
    "\n",
    "To find probabilisty distirbutions, use `all_objects` with the type `distribution`:"
   ]
  },
  {
   "cell_type": "code",
   "execution_count": null,
   "metadata": {},
   "outputs": [],
   "source": [
    "from skpro.registry import all_objects\n",
    "\n",
    "all_objects(\"distribution\", as_dataframe=True).head()"
   ]
  },
  {
   "cell_type": "markdown",
   "metadata": {},
   "source": [
    "a full list can also be found in the online API reference."
   ]
  },
  {
   "cell_type": "markdown",
   "metadata": {},
   "source": [
    "all tags can be printed by the `all_tags` utility:"
   ]
  },
  {
   "cell_type": "code",
   "execution_count": null,
   "metadata": {},
   "outputs": [],
   "source": [
    "# all tags applicable to probability distribution\n",
    "from skpro.registry import all_tags\n",
    "\n",
    "all_tags(\"distribution\", as_dataframe=True)"
   ]
  },
  {
   "cell_type": "markdown",
   "metadata": {},
   "source": [
    "filtering in search can be done with the `filter_tags` argument in `all_objects`, see docstring:"
   ]
  },
  {
   "cell_type": "code",
   "execution_count": null,
   "metadata": {},
   "outputs": [],
   "source": [
    "from skpro.registry import all_objects\n",
    "\n",
    "# \"retrieve all absolutely continuous distributions on the reals\"\n",
    "all_objects(\n",
    "    \"distribution\", as_dataframe=True, filter_tags={\"distr:measuretype\": \"continuous\"}\n",
    ")"
   ]
  },
  {
   "cell_type": "markdown",
   "metadata": {},
   "source": [
    "## 2. probability distributions - methods <a class=\"anchor\" id=\"chapter2\"></a>"
   ]
  },
  {
   "cell_type": "markdown",
   "metadata": {},
   "source": [
    "This section presents an overview of methods of probability distributions, with mathematical references.\n",
    "\n",
    "The section is separated into:\n",
    "\n",
    "* common properties and distribution defining functions, such as `pdf`, `cdf`\n",
    "* overview of tags, approximation configs\n",
    "* uncommon and exotic properties and functions"
   ]
  },
  {
   "cell_type": "markdown",
   "metadata": {},
   "source": [
    "For simplicity, the methods are presented only "
   ]
  },
  {
   "cell_type": "markdown",
   "metadata": {},
   "source": [
    "### 2.1 common distribution methods"
   ]
  },
  {
   "cell_type": "markdown",
   "metadata": {},
   "source": [
    "Let $X$ be a random variable supported on the reals, with distribution represented by a (scalar) `skpro` distribution `d`."
   ]
  },
  {
   "cell_type": "code",
   "execution_count": null,
   "metadata": {},
   "outputs": [],
   "source": [
    "from skpro.distributions import Normal\n",
    "\n",
    "d = Normal(mu=1, sigma=2)"
   ]
  },
  {
   "cell_type": "markdown",
   "metadata": {},
   "source": [
    "The following table lists common distribution methods with their meaning:"
   ]
  },
  {
   "cell_type": "markdown",
   "metadata": {},
   "source": [
    "| Method   | English | Mathematical  | Arguments |\n",
    "|----------|---|:-------------:|------|\n",
    "| `mean` | expectation | $\\mathbb{E}[X]$ | none |\n",
    "| `var` | variance | $\\mathbb{V}[X]$ | none |\n",
    "| `cdf` | cumulative distribution function | $F_X(x) = P(X\\le x)$ | `x`, for $x\\in \\mathbb{R}$ |\n",
    "| `ppf` | percent point function or inverse cdf | $F_X^{-1}(p)$ | `p`, for $p\\in [0, 1]$ |\n",
    "| `pdf` | probability density function | $p_X(x) = (dp/dx) (x)$ | `x`, for $x\\in \\mathbb{R}$ |\n",
    "| `pmf` | probability mass function | $m_X(x) = P(X = x)$ | `x`, for $x\\in \\mathbb{R}$ |"
   ]
  },
  {
   "cell_type": "markdown",
   "metadata": {},
   "source": [
    "`skpro` can represent (absolutely) continuous, discrete, and mixed distributions over the reals (without singular part). All distributions possess `pmf`, and `pdf`, as the uniquely defined discrete resp continuous parts of the measure."
   ]
  },
  {
   "cell_type": "markdown",
   "metadata": {},
   "source": [
    "`mean` and `var` compute mean and variance, without arguments:"
   ]
  },
  {
   "cell_type": "code",
   "execution_count": null,
   "metadata": {},
   "outputs": [],
   "source": [
    "(d.mean(), d.var())"
   ]
  },
  {
   "cell_type": "markdown",
   "metadata": {},
   "source": [
    "`ppf` takes arguments in the range of $[0,1]$:"
   ]
  },
  {
   "cell_type": "code",
   "execution_count": null,
   "metadata": {},
   "outputs": [],
   "source": [
    "d.ppf(0.7)"
   ]
  },
  {
   "cell_type": "markdown",
   "metadata": {},
   "source": [
    "`cdf`, `pdf`, `pmf` take arguments on the domain of $X$, i.e., real numbers:"
   ]
  },
  {
   "cell_type": "code",
   "execution_count": null,
   "metadata": {},
   "outputs": [],
   "source": [
    "(d.cdf(1), d.pdf(2), d.pmf(3))"
   ]
  },
  {
   "cell_type": "markdown",
   "metadata": {},
   "source": [
    "Note: as the normal distribution is absolutely continuous, it has no discrete part, and `pmf` will always return 0."
   ]
  },
  {
   "cell_type": "markdown",
   "metadata": {},
   "source": [
    "All methods can be displayed via `plot`:"
   ]
  },
  {
   "cell_type": "code",
   "execution_count": null,
   "metadata": {},
   "outputs": [],
   "source": [
    "from matplotlib.pyplot import subplots\n",
    "fig, ax = subplots(2, 2)\n",
    "\n",
    "d.plot(\"cdf\", ax=ax[0, 0])\n",
    "d.plot(\"pmf\", ax=ax[0, 1])\n",
    "d.plot(\"pdf\", ax=ax[1, 0])\n",
    "d.plot(\"ppf\", ax=ax[1, 1])"
   ]
  },
  {
   "cell_type": "markdown",
   "metadata": {},
   "source": [
    "As explained in section 1, all methods generalize to dataframe-like distributions and broadcast arguments, see there. For instance:"
   ]
  },
  {
   "cell_type": "code",
   "execution_count": null,
   "metadata": {},
   "outputs": [],
   "source": [
    "from skpro.distributions import Normal\n",
    "\n",
    "d_frame = Normal(mu=[[1, 2], [2, 3], [3, 4]], sigma=2)\n",
    "\n",
    "d_frame.cdf(2)"
   ]
  },
  {
   "cell_type": "markdown",
   "metadata": {},
   "source": [
    "### 2.2 distribution tags and approximation configs"
   ]
  },
  {
   "cell_type": "markdown",
   "metadata": {},
   "source": [
    "properties of distributions are also availbale as tags.\n",
    "\n",
    "For instance, the tag `\"distr:measuretype\"` indicates whether the distribution is absolutely continuous, discrete, or mixed:"
   ]
  },
  {
   "cell_type": "code",
   "execution_count": null,
   "metadata": {},
   "outputs": [],
   "source": [
    "from skpro.distributions import Normal\n",
    "\n",
    "d = Normal(mu=1, sigma=2)\n",
    "d.get_tags()[\"distr:measuretype\"]"
   ]
  },
  {
   "cell_type": "markdown",
   "metadata": {},
   "source": [
    "the tags `capabilities:exact` and `capabilities:approx` indicate which methods are numerically exact, or approximative.\n",
    "\n",
    "An approximative method may not be numerically exact, typically has lower accuracy or higher runtime.\n",
    "\n",
    "For instance, the method may be computed using Monte Carlo estimates, or numerical integration."
   ]
  },
  {
   "cell_type": "code",
   "execution_count": null,
   "metadata": {},
   "outputs": [],
   "source": [
    "d.get_tags()[\"capabilities:exact\"]"
   ]
  },
  {
   "cell_type": "code",
   "execution_count": null,
   "metadata": {},
   "outputs": [],
   "source": [
    "d.get_tags()[\"capabilities:approx\"]"
   ]
  },
  {
   "cell_type": "markdown",
   "metadata": {},
   "source": [
    "### 2.3 uncommon distribution methods"
   ]
  },
  {
   "cell_type": "markdown",
   "metadata": {},
   "source": [
    "This section lists further, uncommon distribution methods.\n",
    "\n",
    "Let $X$ be a random variable supported on the reals, with distribution represented by a (scalar) `skpro` distribution `d`.\n",
    "Let $Y$ be an i.i.d. copy of $X$."
   ]
  },
  {
   "cell_type": "markdown",
   "metadata": {},
   "source": [
    "| Method   | English | Mathematical  | Arguments |\n",
    "|----------|---|:-------------:|------|\n",
    "| `log_pdf` | logarithmic pdf | $\\log p_X(x)$ | `x`, for $x\\in \\mathbb{R}$ |\n",
    "| `log_pmf` | logarithmic pmf | $\\log m_X(x)$ | `x`, for $x\\in \\mathbb{R}$ |\n",
    "| `energy` | energy function | $\\mathbb{E}[\\|X - Y\\|]$ | none |\n",
    "| `energy` | energy function | $\\mathbb{E}[\\|X - x\\|]$ | `x`, for $x\\in \\mathbb{R}$ |\n",
    "| `pdfnorm` | `pdf` integral | $\\int p_X(x)^a \\; dx$ | `a`, for $a\\in \\mathbb{R}^+$ |"
   ]
  },
  {
   "cell_type": "markdown",
   "metadata": {},
   "source": [
    "`log_pdf`, `log_pmf` are logarithmic versions of `pdf`, `pmf`, with natural logarithm.\n",
    "\n",
    "These may be more accurate than taking logarithm of `pdf`, `pmf`."
   ]
  },
  {
   "cell_type": "markdown",
   "metadata": {},
   "source": [
    "`energy` are energy expressions used for instance in computation of CRPS.\n",
    "\n",
    "If no argument is passed, the self-term is computed; if `x` is passed, the cross-term is computed."
   ]
  },
  {
   "cell_type": "markdown",
   "metadata": {},
   "source": [
    "All the above behave similarly, all are plottable and available for array distributions.\n",
    "\n",
    "`energy` always returns a single column data frame in case of array distributions."
   ]
  },
  {
   "cell_type": "code",
   "execution_count": null,
   "metadata": {},
   "outputs": [],
   "source": [
    "# Example:\n",
    "\n",
    "d.log_pdf(5)"
   ]
  },
  {
   "cell_type": "code",
   "execution_count": null,
   "metadata": {},
   "outputs": [],
   "source": [
    "d.plot(\"log_pdf\")"
   ]
  },
  {
   "cell_type": "markdown",
   "metadata": {},
   "source": [
    "## 3. composite probability distributions <a class=\"anchor\" id=\"chapter3\"></a>"
   ]
  },
  {
   "cell_type": "markdown",
   "metadata": {},
   "source": [
    "work in progress"
   ]
  },
  {
   "cell_type": "markdown",
   "metadata": {},
   "source": [
    "## 4. Extension guide - implementing your own probabilisty distribution <a class=\"anchor\" id=\"chapter4\"></a>"
   ]
  },
  {
   "cell_type": "markdown",
   "metadata": {},
   "source": [
    "\n",
    "`skpro` is meant to be easily extensible, for direct contribution to `skpro` as well as for local/private extension with custom methods.\n",
    "\n",
    "To get started:\n",
    "\n",
    "* Follow the [\"implementing estimator\" developer guide](https://skpro.readthedocs.io/en/stable/developer_guide/add_estimators.html)\n",
    "* Use the [probabilistic regressor template](https://github.com/sktime/skpro/blob/main/extension_templates/regression.py) to get started\n",
    "\n",
    "1. Read through the [probability distibution extension template](https://github.com/sktime/skpro/blob/main/extension_templates/distributions.py) - this is a `python` file with `todo` blocks that mark the places in which changes need to be added.\n",
    "2. Copy the distribution extension template to a local folder in your own repository (local/private extension), or to a suitable location in your clone of the `skpro` or affiliated repository (if contributed extension), inside `skpro.distributions`; rename the file and update the file docstring appropriately.\n",
    "3. Address the \"todo\" parts. Usually, this means: changing the name of the class, setting the tag values, specifying hyper-parameters, filling in `__init__`, and as many methods as possible, most importantly `_ppf`, and possibly other common methods such as `_pdf` or `_pmf`, `_cdf`. You can add private methods as long as they do not override the default public interface. For more details, see the extension template.\n",
    "4. To test your estimator manually: import your estimator and run it in the worfklows in Section 1; then use it in the compositors in Section 3.\n",
    "5. To test your estimator automatically: call `skpro.utils.check_estimator` on your estimator. You can call this on a class or object instance. Ensure you have specified test parameters in the `get_test_params` method, according to the extension template.\n",
    "\n",
    "In case of direct contribution to `skpro` or one of its affiliated packages, additionally:\n",
    "\n",
    "* Add yourself as an author to the code, and to the `CODEOWNERS` for the new estimator file(s).\n",
    "* Create a pull request that contains only the new estimators (and their inheritance tree, if it's not just one class), as well as the automated tests as described above.\n",
    "* In the pull request, describe the estimator and optimally provide a publication or other technical reference for the strategy it implements.\n",
    "* Before making the pull request, ensure that you have all necessary permissions to contribute the code to a permissive license (BSD-3) open source project."
   ]
  },
  {
   "cell_type": "markdown",
   "metadata": {},
   "source": [
    "## 5. Summary<a class=\"anchor\" id=\"chapter5\"></a>\n",
    "\n",
    "* `skpro` provides a unified interface for probability distributions, with an interface inspired by `scikit-learn` and `pandas`\n",
    "\n",
    "* `skpro` distributions are parametric first class objects. They are symbolic representations of probability distibution, and come with methods such as `pdf`, `cdf`, `sample`, `plot`, etc\n",
    "\n",
    "* `skpro` distributions can be scalar-valued, or data frame valued. The latter broadcast parameters and arguments of methods to 2D, and are returned by `skpro` probabilistic regressors or survival regressors `predict_proba`\n",
    "\n",
    "* `skpro` is easy to extend, and comes with user friendly tools to facilitate implementing and testing your own probability distributions."
   ]
  },
  {
   "cell_type": "markdown",
   "metadata": {},
   "source": [
    "---\n",
    "\n",
    "### Credits:\n",
    "\n",
    "noteook creation: fkiraly\n",
    "\n",
    "skpro: https://github.com/sktime/skpro/blob/main/CONTRIBUTORS.md"
   ]
  }
 ],
 "metadata": {
  "kernelspec": {
   "display_name": "skpro",
   "language": "python",
   "name": "python3"
  },
  "language_info": {
   "codemirror_mode": {
    "name": "ipython",
    "version": 3
   },
   "file_extension": ".py",
   "mimetype": "text/x-python",
   "name": "python",
   "nbconvert_exporter": "python",
   "pygments_lexer": "ipython3",
   "version": "3.11.5"
  },
  "orig_nbformat": 4,
  "vscode": {
   "interpreter": {
    "hash": "3e631b8a076cc106144e9b132b7d31cae2f1e2660b47e5f9fcb0397caae5fbd5"
   }
  }
 },
 "nbformat": 4,
 "nbformat_minor": 2
}
